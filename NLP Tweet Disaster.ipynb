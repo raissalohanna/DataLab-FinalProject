{
 "cells": [
  {
   "cell_type": "markdown",
   "metadata": {},
   "source": [
    "# Natural Language Processing: Kaggle's Tweet Disaster competition"
   ]
  },
  {
   "cell_type": "markdown",
   "metadata": {},
   "source": [
    " "
   ]
  },
  {
   "cell_type": "markdown",
   "metadata": {},
   "source": [
    "This project is part of a Kaggle's competition and aims to develop abilities in Natural Language Processing (NLP) problems. Here, the objecive is to predict the occurance of real disasters through the words found in tweets from several places. Available data includes a train set (more detailed information bellow), and a test set. The full submission and final score can be checked at my personal page in Kaggle (to be updated here).\n",
    "\n",
    "This notebook is inspired in some previous work published in Kaggle.\n",
    "\n",
    "*References:*\n",
    "\n",
    "- FeatureExtraction+RandomForestClassifier: https://www.kaggle.com/code/abdulaziz04/featureextraction-randomforestclassifier\n",
    "- EDA+Preprocessing+Emedding+Model: https://www.kaggle.com/code/rakeshku1993/eda-preprocessing-emedding-model"
   ]
  },
  {
   "cell_type": "markdown",
   "metadata": {},
   "source": [
    " "
   ]
  },
  {
   "cell_type": "markdown",
   "metadata": {},
   "source": [
    "### Importing the data and querying the first infomations"
   ]
  },
  {
   "cell_type": "markdown",
   "metadata": {},
   "source": [
    "- **id** - a unique identifier for each tweet\n",
    "- **text** - the text of the tweet\n",
    "- **location** - the location the tweet was sent from (may be blank)\n",
    "- **keyword** - a particular keyword from the tweet (may be blank)\n",
    "- **target** - in train.csv only, this denotes whether a tweet is about a real disaster (1) or not (0)"
   ]
  },
  {
   "cell_type": "code",
   "execution_count": 1,
   "metadata": {},
   "outputs": [],
   "source": [
    "#Basic package\n",
    "import pandas as pd\n",
    "\n",
    "# Math and plot packages\n",
    "import numpy as np\n",
    "import seaborn as sns\n",
    "import matplotlib.pyplot as plt\n",
    "from wordcloud import STOPWORDS, WordCloud\n",
    "\n",
    "# Text analysis packages\n",
    "import re\n",
    "import string\n",
    "from nltk.corpus import words\n",
    "from nltk.corpus import stopwords\n",
    "from collections import defaultdict\n",
    "from spellchecker import SpellChecker\n",
    "\n",
    "# Encoders, tokenizers\n",
    "import gensim\n",
    "import nltk\n",
    "from nltk.stem import WordNetLemmatizer\n",
    "from nltk.tokenize import word_tokenize\n",
    "from gensim.models import Word2Vec\n",
    "from category_encoders import BinaryEncoder"
   ]
  },
  {
   "cell_type": "code",
   "execution_count": 2,
   "metadata": {},
   "outputs": [],
   "source": [
    "train_data = pd.read_csv('train.csv')\n",
    "test_data =  pd.read_csv('test.csv')"
   ]
  },
  {
   "cell_type": "code",
   "execution_count": 3,
   "metadata": {},
   "outputs": [
    {
     "data": {
      "text/html": [
       "<div>\n",
       "<style scoped>\n",
       "    .dataframe tbody tr th:only-of-type {\n",
       "        vertical-align: middle;\n",
       "    }\n",
       "\n",
       "    .dataframe tbody tr th {\n",
       "        vertical-align: top;\n",
       "    }\n",
       "\n",
       "    .dataframe thead th {\n",
       "        text-align: right;\n",
       "    }\n",
       "</style>\n",
       "<table border=\"1\" class=\"dataframe\">\n",
       "  <thead>\n",
       "    <tr style=\"text-align: right;\">\n",
       "      <th></th>\n",
       "      <th>id</th>\n",
       "      <th>keyword</th>\n",
       "      <th>location</th>\n",
       "      <th>text</th>\n",
       "      <th>target</th>\n",
       "    </tr>\n",
       "  </thead>\n",
       "  <tbody>\n",
       "    <tr>\n",
       "      <th>0</th>\n",
       "      <td>1</td>\n",
       "      <td>NaN</td>\n",
       "      <td>NaN</td>\n",
       "      <td>Our Deeds are the Reason of this #earthquake M...</td>\n",
       "      <td>1</td>\n",
       "    </tr>\n",
       "    <tr>\n",
       "      <th>1</th>\n",
       "      <td>4</td>\n",
       "      <td>NaN</td>\n",
       "      <td>NaN</td>\n",
       "      <td>Forest fire near La Ronge Sask. Canada</td>\n",
       "      <td>1</td>\n",
       "    </tr>\n",
       "    <tr>\n",
       "      <th>2</th>\n",
       "      <td>5</td>\n",
       "      <td>NaN</td>\n",
       "      <td>NaN</td>\n",
       "      <td>All residents asked to 'shelter in place' are ...</td>\n",
       "      <td>1</td>\n",
       "    </tr>\n",
       "    <tr>\n",
       "      <th>3</th>\n",
       "      <td>6</td>\n",
       "      <td>NaN</td>\n",
       "      <td>NaN</td>\n",
       "      <td>13,000 people receive #wildfires evacuation or...</td>\n",
       "      <td>1</td>\n",
       "    </tr>\n",
       "    <tr>\n",
       "      <th>4</th>\n",
       "      <td>7</td>\n",
       "      <td>NaN</td>\n",
       "      <td>NaN</td>\n",
       "      <td>Just got sent this photo from Ruby #Alaska as ...</td>\n",
       "      <td>1</td>\n",
       "    </tr>\n",
       "  </tbody>\n",
       "</table>\n",
       "</div>"
      ],
      "text/plain": [
       "   id keyword location                                               text  \\\n",
       "0   1     NaN      NaN  Our Deeds are the Reason of this #earthquake M...   \n",
       "1   4     NaN      NaN             Forest fire near La Ronge Sask. Canada   \n",
       "2   5     NaN      NaN  All residents asked to 'shelter in place' are ...   \n",
       "3   6     NaN      NaN  13,000 people receive #wildfires evacuation or...   \n",
       "4   7     NaN      NaN  Just got sent this photo from Ruby #Alaska as ...   \n",
       "\n",
       "   target  \n",
       "0       1  \n",
       "1       1  \n",
       "2       1  \n",
       "3       1  \n",
       "4       1  "
      ]
     },
     "execution_count": 3,
     "metadata": {},
     "output_type": "execute_result"
    }
   ],
   "source": [
    "train_data.head()"
   ]
  },
  {
   "cell_type": "code",
   "execution_count": 4,
   "metadata": {},
   "outputs": [
    {
     "data": {
      "text/html": [
       "<div>\n",
       "<style scoped>\n",
       "    .dataframe tbody tr th:only-of-type {\n",
       "        vertical-align: middle;\n",
       "    }\n",
       "\n",
       "    .dataframe tbody tr th {\n",
       "        vertical-align: top;\n",
       "    }\n",
       "\n",
       "    .dataframe thead th {\n",
       "        text-align: right;\n",
       "    }\n",
       "</style>\n",
       "<table border=\"1\" class=\"dataframe\">\n",
       "  <thead>\n",
       "    <tr style=\"text-align: right;\">\n",
       "      <th></th>\n",
       "      <th>id</th>\n",
       "      <th>keyword</th>\n",
       "      <th>location</th>\n",
       "      <th>text</th>\n",
       "    </tr>\n",
       "  </thead>\n",
       "  <tbody>\n",
       "    <tr>\n",
       "      <th>0</th>\n",
       "      <td>0</td>\n",
       "      <td>NaN</td>\n",
       "      <td>NaN</td>\n",
       "      <td>Just happened a terrible car crash</td>\n",
       "    </tr>\n",
       "    <tr>\n",
       "      <th>1</th>\n",
       "      <td>2</td>\n",
       "      <td>NaN</td>\n",
       "      <td>NaN</td>\n",
       "      <td>Heard about #earthquake is different cities, s...</td>\n",
       "    </tr>\n",
       "    <tr>\n",
       "      <th>2</th>\n",
       "      <td>3</td>\n",
       "      <td>NaN</td>\n",
       "      <td>NaN</td>\n",
       "      <td>there is a forest fire at spot pond, geese are...</td>\n",
       "    </tr>\n",
       "    <tr>\n",
       "      <th>3</th>\n",
       "      <td>9</td>\n",
       "      <td>NaN</td>\n",
       "      <td>NaN</td>\n",
       "      <td>Apocalypse lighting. #Spokane #wildfires</td>\n",
       "    </tr>\n",
       "    <tr>\n",
       "      <th>4</th>\n",
       "      <td>11</td>\n",
       "      <td>NaN</td>\n",
       "      <td>NaN</td>\n",
       "      <td>Typhoon Soudelor kills 28 in China and Taiwan</td>\n",
       "    </tr>\n",
       "  </tbody>\n",
       "</table>\n",
       "</div>"
      ],
      "text/plain": [
       "   id keyword location                                               text\n",
       "0   0     NaN      NaN                 Just happened a terrible car crash\n",
       "1   2     NaN      NaN  Heard about #earthquake is different cities, s...\n",
       "2   3     NaN      NaN  there is a forest fire at spot pond, geese are...\n",
       "3   9     NaN      NaN           Apocalypse lighting. #Spokane #wildfires\n",
       "4  11     NaN      NaN      Typhoon Soudelor kills 28 in China and Taiwan"
      ]
     },
     "execution_count": 4,
     "metadata": {},
     "output_type": "execute_result"
    }
   ],
   "source": [
    "test_data.head()"
   ]
  },
  {
   "cell_type": "code",
   "execution_count": 5,
   "metadata": {},
   "outputs": [
    {
     "data": {
      "text/plain": [
       "Text(0.5, 1.0, 'Test set')"
      ]
     },
     "execution_count": 5,
     "metadata": {},
     "output_type": "execute_result"
    },
    {
     "data": {
      "image/png": "[encoded data removed]",
      "text/plain": [
       "<Figure size 864x288 with 2 Axes>"
      ]
     },
     "metadata": {
      "needs_background": "light"
     },
     "output_type": "display_data"
    }
   ],
   "source": [
    "# Checking the amount of null information\n",
    "trainNull = train_data.isnull().sum()\n",
    "trainNull_percent = round(trainNull/train_data.shape[0], 3)\n",
    "\n",
    "testNull = test_data.isnull().sum()\n",
    "testNull_percent = round(testNull/test_data.shape[0], 3)\n",
    "\n",
    "labels_train = trainNull.index\n",
    "labels_test = testNull.index\n",
    "width = 0.5\n",
    "\n",
    "# Bar plot\n",
    "fig,(ax1, ax2) = plt.subplots(1,2, figsize=(12,4))\n",
    "fig.suptitle('Normalized null data', y=1.1, weight='bold', size='large')\n",
    "plt.style.use('seaborn-pastel')\n",
    "\n",
    "ax1.bar(labels_train, trainNull_percent, width, color='yellow')\n",
    "ax1.set_title('Train set')\n",
    "ax2.bar(labels_test, testNull_percent, width, color='lightblue')\n",
    "ax2.set_title('Test set')"
   ]
  },
  {
   "cell_type": "code",
   "execution_count": 6,
   "metadata": {},
   "outputs": [
    {
     "data": {
      "text/plain": [
       "<AxesSubplot:>"
      ]
     },
     "execution_count": 6,
     "metadata": {},
     "output_type": "execute_result"
    },
    {
     "data": {
      "image/png": "[encoded data removed]",
      "text/plain": [
       "<Figure size 432x288 with 1 Axes>"
      ]
     },
     "metadata": {
      "needs_background": "light"
     },
     "output_type": "display_data"
    }
   ],
   "source": [
    "#Checking the balance between target classes\n",
    "#(1 = real disaster, 0 = no disaster)\n",
    "\n",
    "train_data['target'].value_counts(normalize=True).plot.barh(color='black')"
   ]
  },
  {
   "cell_type": "code",
   "execution_count": 7,
   "metadata": {},
   "outputs": [
    {
     "data": {
      "text/plain": [
       "Text(0.5, 1.0, 'Test set')"
      ]
     },
     "execution_count": 7,
     "metadata": {},
     "output_type": "execute_result"
    },
    {
     "data": {
      "image/png": "[encoded data removed]",
      "text/plain": [
       "<Figure size 864x288 with 2 Axes>"
      ]
     },
     "metadata": {
      "needs_background": "light"
     },
     "output_type": "display_data"
    }
   ],
   "source": [
    "fig2,(ax1, ax2) = plt.subplots(1,2, figsize=(12,4))\n",
    "fig2.suptitle('TOP 15 locations', y=1.1, weight='bold', size='large')\n",
    "plt.style.use('seaborn-pastel')\n",
    "\n",
    "ax1 = train_data['location'].value_counts()[:15].plot.bar(ax=ax1, color='lightcoral')\n",
    "ax1.set_title('Train set')\n",
    "ax2 = test_data['location'].value_counts()[:15].plot.bar(ax=ax2)\n",
    "ax2.set_title('Test set')"
   ]
  },
  {
   "cell_type": "code",
   "execution_count": 8,
   "metadata": {},
   "outputs": [
    {
     "data": {
      "text/plain": [
       "USA                   104\n",
       "New York               71\n",
       "United States          50\n",
       "London                 45\n",
       "Canada                 29\n",
       "                     ... \n",
       "dorito land             1\n",
       "England                 1\n",
       "Essex/Brighton          1\n",
       "Fiore, Lamia Scale      1\n",
       "The Triskelion          1\n",
       "Name: location, Length: 3341, dtype: int64"
      ]
     },
     "execution_count": 8,
     "metadata": {},
     "output_type": "execute_result"
    }
   ],
   "source": [
    "train_data.location.value_counts()"
   ]
  },
  {
   "cell_type": "code",
   "execution_count": 9,
   "metadata": {},
   "outputs": [
    {
     "data": {
      "image/png": "[encoded data removed]",
      "text/plain": [
       "<Figure size 360x504 with 2 Axes>"
      ]
     },
     "metadata": {
      "needs_background": "light"
     },
     "output_type": "display_data"
    }
   ],
   "source": [
    "fig2,(ax1, ax2) = plt.subplots(2,1, figsize=(5,7))\n",
    "fig2.tight_layout()\n",
    "fig2.suptitle('TOP 15 Keywords', y=1.05, weight='bold', size='large')\n",
    "plt.style.use('seaborn-pastel')\n",
    "\n",
    "\n",
    "ax1 = train_data['keyword'].value_counts(normalize=True)[:15].sort_values().plot(kind=\"barh\",\n",
    "                                                                                 color='lightcoral',\n",
    "                                                                                 fontsize=10,\n",
    "                                                                                 title='Train set',\n",
    "                                                                                 ax=ax1)\n",
    "\n",
    "ax2 = test_data['keyword'].value_counts(normalize=True)[:15].sort_values().plot(kind=\"barh\",\n",
    "                                                                                 fontsize=10,\n",
    "                                                                                 title='Test set',\n",
    "                                                                                 ax=ax2)"
   ]
  },
  {
   "cell_type": "code",
   "execution_count": 10,
   "metadata": {},
   "outputs": [
    {
     "data": {
      "text/plain": [
       "<matplotlib.legend.Legend at 0x7f59eb389e50>"
      ]
     },
     "execution_count": 10,
     "metadata": {},
     "output_type": "execute_result"
    },
    {
     "data": {
      "image/png": "[encoded data removed]",
      "text/plain": [
       "<Figure size 432x288 with 1 Axes>"
      ]
     },
     "metadata": {
      "needs_background": "light"
     },
     "output_type": "display_data"
    }
   ],
   "source": [
    "fig3,ax = plt.subplots() \n",
    "fig3.figsize=(12,4)\n",
    "fig3.suptitle('Tweets length', y=1, weight='bold', size='large')\n",
    "\n",
    "ax = train_data.query(\"target==1\")[\"text\"].str.len().plot(kind=\"hist\",\n",
    "                                                           color=\"orange\",\n",
    "                                                           ax=ax)\n",
    "\n",
    "ax = train_data.query(\"target==0\")[\"text\"].str.len().plot(kind=\"hist\",\n",
    "                                                           color=\"gray\",\n",
    "                                                           alpha=0.5,\n",
    "                                                           ax=ax)\n",
    "ax.set_yscale('log')\n",
    "ax.legend(['Disaster', 'Non-disaster'])"
   ]
  },
  {
   "cell_type": "code",
   "execution_count": 11,
   "metadata": {},
   "outputs": [
    {
     "data": {
      "text/plain": [
       "<matplotlib.legend.Legend at 0x7f59eb3f1910>"
      ]
     },
     "execution_count": 11,
     "metadata": {},
     "output_type": "execute_result"
    },
    {
     "data": {
      "image/png": "[encoded data removed]",
      "text/plain": [
       "<Figure size 432x288 with 1 Axes>"
      ]
     },
     "metadata": {
      "needs_background": "light"
     },
     "output_type": "display_data"
    }
   ],
   "source": [
    "fig4,ax = plt.subplots()\n",
    "fig4.figsize=(12,4)\n",
    "fig4.suptitle('Number of Words in each tweet', y=1, weight='bold', size='large')\n",
    "ax.set_title('Train Data', y=1, weight='light', size='large')\n",
    "\n",
    "ax = train_data.query(\"target==1\").text.map(lambda x: len(x.split())).plot(kind=\"kde\",\n",
    "                                                                            color=\"orange\",\n",
    "                                                                            ax=ax)\n",
    "\n",
    "ax = train_data.query(\"target==0\").text.map(lambda x: len(x.split())).plot(kind=\"kde\",\n",
    "                                                                            color=\"gray\",\n",
    "                                                                            ax=ax)\n",
    "ax.legend(['Disaster', 'Non-disaster'])"
   ]
  },
  {
   "cell_type": "code",
   "execution_count": 12,
   "metadata": {},
   "outputs": [
    {
     "data": {
      "text/plain": [
       "<matplotlib.legend.Legend at 0x7f59eb23f970>"
      ]
     },
     "execution_count": 12,
     "metadata": {},
     "output_type": "execute_result"
    },
    {
     "data": {
      "image/png": "[encoded data removed]",
      "text/plain": [
       "<Figure size 432x288 with 1 Axes>"
      ]
     },
     "metadata": {
      "needs_background": "light"
     },
     "output_type": "display_data"
    }
   ],
   "source": [
    "fig5, ax = plt.subplots()\n",
    "fig5.figsize=(12,5)\n",
    "fig5.suptitle('Average word length in each tweet', weight='bold')\n",
    "\n",
    "each_words_len = train_data.query(\"target==1\").text.str.split().map(lambda x: [len(i) for i in x])\n",
    "sns.histplot(each_words_len.map(lambda x: np.mean(x)), kde=True, ax=ax, color=\"orange\", label='Disaster');\n",
    "\n",
    "each_words_len = train_data.query(\"target==0\").text.str.split().map(lambda x: [len(i) for i in x])\n",
    "sns.histplot(each_words_len.map(lambda x: np.mean(x)), kde=True, ax=ax, color='gray', alpha=0.3,  label='Non-disaster');\n",
    "fig5.legend(loc='center right')"
   ]
  },
  {
   "cell_type": "code",
   "execution_count": 13,
   "metadata": {},
   "outputs": [
    {
     "data": {
      "text/plain": [
       "'!\"#$%&\\'()*+,-./:;<=>?@[\\\\]^_`{|}~'"
      ]
     },
     "execution_count": 13,
     "metadata": {},
     "output_type": "execute_result"
    }
   ],
   "source": [
    "string.punctuation"
   ]
  },
  {
   "cell_type": "code",
   "execution_count": 14,
   "metadata": {},
   "outputs": [],
   "source": [
    "def plot_punctuations(df, target):\n",
    "    \n",
    "    punctations_dict = defaultdict(int)\n",
    "    \n",
    "    for idx, text in df[df[\"target\"]==target].text.iteritems():\n",
    "        for token in text.split():\n",
    "            if token in string.punctuation:\n",
    "                punctations_dict[token] +=1   \n",
    "\n",
    "    return dict(sorted(punctations_dict.items(), key=lambda x: x[1], reverse=True))\n",
    "\n",
    "\n",
    "dt_punctuations = plot_punctuations(train_data, target=1)\n",
    "ndt_punctuations = plot_punctuations(train_data, target=0)"
   ]
  },
  {
   "cell_type": "code",
   "execution_count": 15,
   "metadata": {},
   "outputs": [
    {
     "data": {
      "image/png": "[encoded data removed]",
      "text/plain": [
       "<Figure size 432x288 with 1 Axes>"
      ]
     },
     "metadata": {
      "needs_background": "light"
     },
     "output_type": "display_data"
    }
   ],
   "source": [
    "fig6, ax = plt.subplots()\n",
    "fig6.figsize=(12,5)\n",
    "fig6.suptitle('Punctuation items distribution', weight='bold')\n",
    "\n",
    "x1, y1 = zip(*dt_punctuations.items())\n",
    "ax.bar(x1, y1, color=\"orange\", alpha=0.9, label=\"Disaster tweets\")\n",
    "\n",
    "x2, y2 = zip(*ndt_punctuations.items())\n",
    "ax.bar(x2, y2, color=\"gray\", alpha=0.4, label=\"Non-Disaster tweets\")\n",
    "ax.legend()\n",
    "ax.set_yscale('log')"
   ]
  },
  {
   "cell_type": "code",
   "execution_count": 16,
   "metadata": {},
   "outputs": [],
   "source": [
    "stop_words= set(stopwords.words(\"english\"))\n",
    "\n",
    "# updating the stopwords considering the following list\n",
    "stop_words.update(['https', 'http', 'amp', 'CO', 't', 'u', 'new', \"I'm\", \"would\"])\n",
    "\n",
    "wc = WordCloud(width=800,\n",
    "               height=400,\n",
    "               max_words=200,\n",
    "               stopwords=stop_words,\n",
    "               background_color= \"black\", \n",
    "               colormap=\"Paired\",\n",
    "               max_font_size=150)"
   ]
  },
  {
   "cell_type": "markdown",
   "metadata": {},
   "source": [
    "In order to plot de the word cloud, we will use the method **plt.imshow**. According to matplotlib documentation: *Display data as an image, i.e., on a 2D regular raster. The input may either be actual RGB(A) data, or 2D scalar data, which will be rendered as a pseudocolor image.*"
   ]
  },
  {
   "cell_type": "code",
   "execution_count": 17,
   "metadata": {},
   "outputs": [
    {
     "name": "stdout",
     "output_type": "stream",
     "text": [
      "\u001b[1m\n",
      "Word Cloud for Disaster Tweets\u001b[0m\n"
     ]
    },
    {
     "data": {
      "image/png": "[encoded data removed]",
      "text/plain": [
       "<Figure size 864x360 with 1 Axes>"
      ]
     },
     "metadata": {
      "needs_background": "light"
     },
     "output_type": "display_data"
    },
    {
     "name": "stdout",
     "output_type": "stream",
     "text": [
      "\u001b[1m\n",
      "Word Cloud for Non-Disaster Tweets\u001b[0m\n"
     ]
    },
    {
     "data": {
      "image/png": "[encoded data removed]",
      "text/plain": [
       "<Figure size 864x360 with 1 Axes>"
      ]
     },
     "metadata": {
      "needs_background": "light"
     },
     "output_type": "display_data"
    }
   ],
   "source": [
    "disaster_tweets = (train_data.query(\"target==1\").text).str.cat(sep=\" \")  # str.cat -- string concatenation\n",
    "\n",
    "non_disaster_tweets = (train_data.query(\"target==0\").text).str.cat(sep=\" \")\n",
    "\n",
    "print('\\033[1m'\"\\nWord Cloud for Disaster Tweets\"'\\033[0m')\n",
    "wc.generate(disaster_tweets)\n",
    "plt.figure(figsize=(12, 5))\n",
    "plt.imshow(wc, interpolation='bilinear')\n",
    "plt.axis('off')\n",
    "plt.show()\n",
    "\n",
    "print('\\033[1m'\"\\nWord Cloud for Non-Disaster Tweets\"'\\033[0m')\n",
    "wc.generate(non_disaster_tweets)\n",
    "plt.figure(figsize=(12, 5))\n",
    "plt.imshow(wc, interpolation='bilinear')\n",
    "plt.axis('off')\n",
    "plt.show()"
   ]
  },
  {
   "cell_type": "markdown",
   "metadata": {},
   "source": [
    " "
   ]
  },
  {
   "cell_type": "markdown",
   "metadata": {},
   "source": [
    "### Feature Engineering"
   ]
  },
  {
   "cell_type": "markdown",
   "metadata": {},
   "source": [
    "**TASK 1:** tweet length (in number of chars)"
   ]
  },
  {
   "cell_type": "code",
   "execution_count": 18,
   "metadata": {},
   "outputs": [],
   "source": [
    "train_data['num chars'] = train_data[\"text\"].str.len().values\n",
    "test_data['num chars']  = test_data[\"text\"].str.len().values"
   ]
  },
  {
   "cell_type": "code",
   "execution_count": 19,
   "metadata": {},
   "outputs": [
    {
     "data": {
      "text/html": [
       "<div>\n",
       "<style scoped>\n",
       "    .dataframe tbody tr th:only-of-type {\n",
       "        vertical-align: middle;\n",
       "    }\n",
       "\n",
       "    .dataframe tbody tr th {\n",
       "        vertical-align: top;\n",
       "    }\n",
       "\n",
       "    .dataframe thead th {\n",
       "        text-align: right;\n",
       "    }\n",
       "</style>\n",
       "<table border=\"1\" class=\"dataframe\">\n",
       "  <thead>\n",
       "    <tr style=\"text-align: right;\">\n",
       "      <th></th>\n",
       "      <th>id</th>\n",
       "      <th>keyword</th>\n",
       "      <th>location</th>\n",
       "      <th>text</th>\n",
       "      <th>target</th>\n",
       "      <th>num chars</th>\n",
       "    </tr>\n",
       "  </thead>\n",
       "  <tbody>\n",
       "    <tr>\n",
       "      <th>0</th>\n",
       "      <td>1</td>\n",
       "      <td>NaN</td>\n",
       "      <td>NaN</td>\n",
       "      <td>Our Deeds are the Reason of this #earthquake M...</td>\n",
       "      <td>1</td>\n",
       "      <td>69</td>\n",
       "    </tr>\n",
       "    <tr>\n",
       "      <th>1</th>\n",
       "      <td>4</td>\n",
       "      <td>NaN</td>\n",
       "      <td>NaN</td>\n",
       "      <td>Forest fire near La Ronge Sask. Canada</td>\n",
       "      <td>1</td>\n",
       "      <td>38</td>\n",
       "    </tr>\n",
       "  </tbody>\n",
       "</table>\n",
       "</div>"
      ],
      "text/plain": [
       "   id keyword location                                               text  \\\n",
       "0   1     NaN      NaN  Our Deeds are the Reason of this #earthquake M...   \n",
       "1   4     NaN      NaN             Forest fire near La Ronge Sask. Canada   \n",
       "\n",
       "   target  num chars  \n",
       "0       1         69  \n",
       "1       1         38  "
      ]
     },
     "execution_count": 19,
     "metadata": {},
     "output_type": "execute_result"
    }
   ],
   "source": [
    "train_data.head(2)"
   ]
  },
  {
   "cell_type": "code",
   "execution_count": 20,
   "metadata": {},
   "outputs": [
    {
     "data": {
      "text/html": [
       "<div>\n",
       "<style scoped>\n",
       "    .dataframe tbody tr th:only-of-type {\n",
       "        vertical-align: middle;\n",
       "    }\n",
       "\n",
       "    .dataframe tbody tr th {\n",
       "        vertical-align: top;\n",
       "    }\n",
       "\n",
       "    .dataframe thead th {\n",
       "        text-align: right;\n",
       "    }\n",
       "</style>\n",
       "<table border=\"1\" class=\"dataframe\">\n",
       "  <thead>\n",
       "    <tr style=\"text-align: right;\">\n",
       "      <th></th>\n",
       "      <th>id</th>\n",
       "      <th>keyword</th>\n",
       "      <th>location</th>\n",
       "      <th>text</th>\n",
       "      <th>num chars</th>\n",
       "    </tr>\n",
       "  </thead>\n",
       "  <tbody>\n",
       "    <tr>\n",
       "      <th>0</th>\n",
       "      <td>0</td>\n",
       "      <td>NaN</td>\n",
       "      <td>NaN</td>\n",
       "      <td>Just happened a terrible car crash</td>\n",
       "      <td>34</td>\n",
       "    </tr>\n",
       "    <tr>\n",
       "      <th>1</th>\n",
       "      <td>2</td>\n",
       "      <td>NaN</td>\n",
       "      <td>NaN</td>\n",
       "      <td>Heard about #earthquake is different cities, s...</td>\n",
       "      <td>64</td>\n",
       "    </tr>\n",
       "  </tbody>\n",
       "</table>\n",
       "</div>"
      ],
      "text/plain": [
       "   id keyword location                                               text  \\\n",
       "0   0     NaN      NaN                 Just happened a terrible car crash   \n",
       "1   2     NaN      NaN  Heard about #earthquake is different cities, s...   \n",
       "\n",
       "   num chars  \n",
       "0         34  \n",
       "1         64  "
      ]
     },
     "execution_count": 20,
     "metadata": {},
     "output_type": "execute_result"
    }
   ],
   "source": [
    "test_data.head(2)"
   ]
  },
  {
   "cell_type": "markdown",
   "metadata": {},
   "source": [
    " "
   ]
  },
  {
   "cell_type": "markdown",
   "metadata": {},
   "source": [
    "**TASK 2:** number of special chars"
   ]
  },
  {
   "cell_type": "code",
   "execution_count": 21,
   "metadata": {},
   "outputs": [],
   "source": [
    "def count_special_chars(df):\n",
    "    \n",
    "    '''\n",
    "    Uses regex to identify special chars in text. \n",
    "    [^a-zA-Z0-9\\s] means: anything in the interval [] that is NOT (^): [a-z] or [A-Z] or [0-9] or \\s (space)\n",
    "    \n",
    "    Parameters:\n",
    "        df: Dataset\n",
    "    Returns: \n",
    "        A list with the amount of special chars for each example of the dataset\n",
    "    \n",
    "    '''\n",
    "    special_chars=[]\n",
    "    \n",
    "    for text in df['text']:\n",
    "        special_chars.append(len(re.findall(r'[^a-zA-Z0-9\\s]', text)))\n",
    "    \n",
    "    return special_chars"
   ]
  },
  {
   "cell_type": "code",
   "execution_count": 22,
   "metadata": {},
   "outputs": [],
   "source": [
    "train_data['num special chars'] = count_special_chars(train_data)\n",
    "test_data['num special chars']  =  count_special_chars(test_data)"
   ]
  },
  {
   "cell_type": "code",
   "execution_count": 23,
   "metadata": {},
   "outputs": [
    {
     "data": {
      "text/html": [
       "<div>\n",
       "<style scoped>\n",
       "    .dataframe tbody tr th:only-of-type {\n",
       "        vertical-align: middle;\n",
       "    }\n",
       "\n",
       "    .dataframe tbody tr th {\n",
       "        vertical-align: top;\n",
       "    }\n",
       "\n",
       "    .dataframe thead th {\n",
       "        text-align: right;\n",
       "    }\n",
       "</style>\n",
       "<table border=\"1\" class=\"dataframe\">\n",
       "  <thead>\n",
       "    <tr style=\"text-align: right;\">\n",
       "      <th></th>\n",
       "      <th>id</th>\n",
       "      <th>keyword</th>\n",
       "      <th>location</th>\n",
       "      <th>text</th>\n",
       "      <th>target</th>\n",
       "      <th>num chars</th>\n",
       "      <th>num special chars</th>\n",
       "    </tr>\n",
       "  </thead>\n",
       "  <tbody>\n",
       "    <tr>\n",
       "      <th>0</th>\n",
       "      <td>1</td>\n",
       "      <td>NaN</td>\n",
       "      <td>NaN</td>\n",
       "      <td>Our Deeds are the Reason of this #earthquake M...</td>\n",
       "      <td>1</td>\n",
       "      <td>69</td>\n",
       "      <td>1</td>\n",
       "    </tr>\n",
       "    <tr>\n",
       "      <th>1</th>\n",
       "      <td>4</td>\n",
       "      <td>NaN</td>\n",
       "      <td>NaN</td>\n",
       "      <td>Forest fire near La Ronge Sask. Canada</td>\n",
       "      <td>1</td>\n",
       "      <td>38</td>\n",
       "      <td>1</td>\n",
       "    </tr>\n",
       "    <tr>\n",
       "      <th>2</th>\n",
       "      <td>5</td>\n",
       "      <td>NaN</td>\n",
       "      <td>NaN</td>\n",
       "      <td>All residents asked to 'shelter in place' are ...</td>\n",
       "      <td>1</td>\n",
       "      <td>133</td>\n",
       "      <td>3</td>\n",
       "    </tr>\n",
       "  </tbody>\n",
       "</table>\n",
       "</div>"
      ],
      "text/plain": [
       "   id keyword location                                               text  \\\n",
       "0   1     NaN      NaN  Our Deeds are the Reason of this #earthquake M...   \n",
       "1   4     NaN      NaN             Forest fire near La Ronge Sask. Canada   \n",
       "2   5     NaN      NaN  All residents asked to 'shelter in place' are ...   \n",
       "\n",
       "   target  num chars  num special chars  \n",
       "0       1         69                  1  \n",
       "1       1         38                  1  \n",
       "2       1        133                  3  "
      ]
     },
     "execution_count": 23,
     "metadata": {},
     "output_type": "execute_result"
    }
   ],
   "source": [
    "train_data.head(3)"
   ]
  },
  {
   "cell_type": "code",
   "execution_count": 24,
   "metadata": {},
   "outputs": [
    {
     "data": {
      "text/html": [
       "<div>\n",
       "<style scoped>\n",
       "    .dataframe tbody tr th:only-of-type {\n",
       "        vertical-align: middle;\n",
       "    }\n",
       "\n",
       "    .dataframe tbody tr th {\n",
       "        vertical-align: top;\n",
       "    }\n",
       "\n",
       "    .dataframe thead th {\n",
       "        text-align: right;\n",
       "    }\n",
       "</style>\n",
       "<table border=\"1\" class=\"dataframe\">\n",
       "  <thead>\n",
       "    <tr style=\"text-align: right;\">\n",
       "      <th></th>\n",
       "      <th>id</th>\n",
       "      <th>keyword</th>\n",
       "      <th>location</th>\n",
       "      <th>text</th>\n",
       "      <th>num chars</th>\n",
       "      <th>num special chars</th>\n",
       "    </tr>\n",
       "  </thead>\n",
       "  <tbody>\n",
       "    <tr>\n",
       "      <th>0</th>\n",
       "      <td>0</td>\n",
       "      <td>NaN</td>\n",
       "      <td>NaN</td>\n",
       "      <td>Just happened a terrible car crash</td>\n",
       "      <td>34</td>\n",
       "      <td>0</td>\n",
       "    </tr>\n",
       "    <tr>\n",
       "      <th>1</th>\n",
       "      <td>2</td>\n",
       "      <td>NaN</td>\n",
       "      <td>NaN</td>\n",
       "      <td>Heard about #earthquake is different cities, s...</td>\n",
       "      <td>64</td>\n",
       "      <td>3</td>\n",
       "    </tr>\n",
       "    <tr>\n",
       "      <th>2</th>\n",
       "      <td>3</td>\n",
       "      <td>NaN</td>\n",
       "      <td>NaN</td>\n",
       "      <td>there is a forest fire at spot pond, geese are...</td>\n",
       "      <td>96</td>\n",
       "      <td>2</td>\n",
       "    </tr>\n",
       "  </tbody>\n",
       "</table>\n",
       "</div>"
      ],
      "text/plain": [
       "   id keyword location                                               text  \\\n",
       "0   0     NaN      NaN                 Just happened a terrible car crash   \n",
       "1   2     NaN      NaN  Heard about #earthquake is different cities, s...   \n",
       "2   3     NaN      NaN  there is a forest fire at spot pond, geese are...   \n",
       "\n",
       "   num chars  num special chars  \n",
       "0         34                  0  \n",
       "1         64                  3  \n",
       "2         96                  2  "
      ]
     },
     "execution_count": 24,
     "metadata": {},
     "output_type": "execute_result"
    }
   ],
   "source": [
    "test_data.head(3)"
   ]
  },
  {
   "cell_type": "markdown",
   "metadata": {},
   "source": [
    " "
   ]
  },
  {
   "cell_type": "markdown",
   "metadata": {},
   "source": [
    "**TASK 3:** standardize location representations"
   ]
  },
  {
   "cell_type": "code",
   "execution_count": 25,
   "metadata": {},
   "outputs": [],
   "source": [
    "def split_location_countries(df):\n",
    "    \n",
    "    countries=[]\n",
    "    location=[]\n",
    "    \n",
    "    for item in df['location'].astype(str).values:\n",
    "        countries.append(item.split(',')[-1])\n",
    "        location.append(item.split(',')[0])\n",
    "        \n",
    "    df['country']  = countries\n",
    "    df['location'] = location\n",
    "    \n",
    "    assert len(countries)==df.shape[0]\n",
    "    assert len(countries)==df.shape[0]\n",
    "        \n",
    "    return df"
   ]
  },
  {
   "cell_type": "code",
   "execution_count": 26,
   "metadata": {},
   "outputs": [],
   "source": [
    "train_data = split_location_countries(train_data)\n",
    "test_data  = split_location_countries(test_data)"
   ]
  },
  {
   "cell_type": "code",
   "execution_count": 27,
   "metadata": {},
   "outputs": [],
   "source": [
    "def remove_special_chars(text):\n",
    "    \n",
    "    '''\n",
    "    The function removes any char that is not a word character (uppercase or lowercase) and replaces it for\n",
    "    a simple blank space.\n",
    "    The regular expression [^a-zA-Z] matches any char that is NOT(^) a word (like special chars, space or\n",
    "    numbers).\n",
    "    '''\n",
    "    \n",
    "    return re.sub(r\"[^a-zA-Z]\", \" \", text)"
   ]
  },
  {
   "cell_type": "code",
   "execution_count": 28,
   "metadata": {},
   "outputs": [],
   "source": [
    "train_data['location'] = train_data.location.apply(lambda x: remove_special_chars(x))\n",
    "test_data['location']  = test_data.location.apply(lambda x: remove_special_chars(x))\n",
    "train_data['country'] = train_data.location.apply(lambda x: remove_special_chars(x))\n",
    "test_data['country']  = test_data.location.apply(lambda x: remove_special_chars(x))"
   ]
  },
  {
   "cell_type": "code",
   "execution_count": 29,
   "metadata": {},
   "outputs": [
    {
     "data": {
      "text/plain": [
       "nan                      2533\n",
       "USA                       108\n",
       "New York                   95\n",
       "London                     70\n",
       "United States              50\n",
       "                         ... \n",
       "Balikesir   Eskisehir       1\n",
       "I rap to burn shame         1\n",
       "louisville                  1\n",
       "Near Warrington             1\n",
       "    SL                      1\n",
       "Name: country, Length: 2863, dtype: int64"
      ]
     },
     "execution_count": 29,
     "metadata": {},
     "output_type": "execute_result"
    }
   ],
   "source": [
    "train_data.country.value_counts()"
   ]
  },
  {
   "cell_type": "code",
   "execution_count": 30,
   "metadata": {},
   "outputs": [
    {
     "data": {
      "text/plain": [
       "nan                      2533\n",
       "USA                       108\n",
       "New York                   95\n",
       "London                     70\n",
       "United States              50\n",
       "                         ... \n",
       "Balikesir   Eskisehir       1\n",
       "I rap to burn shame         1\n",
       "louisville                  1\n",
       "Near Warrington             1\n",
       "    SL                      1\n",
       "Name: location, Length: 2863, dtype: int64"
      ]
     },
     "execution_count": 30,
     "metadata": {},
     "output_type": "execute_result"
    }
   ],
   "source": [
    "train_data.location.value_counts()"
   ]
  },
  {
   "cell_type": "markdown",
   "metadata": {},
   "source": [
    " "
   ]
  },
  {
   "cell_type": "markdown",
   "metadata": {},
   "source": [
    "Importing a table with most important cities in the world to standardize the countries notation"
   ]
  },
  {
   "cell_type": "code",
   "execution_count": 31,
   "metadata": {},
   "outputs": [
    {
     "data": {
      "text/html": [
       "<div>\n",
       "<style scoped>\n",
       "    .dataframe tbody tr th:only-of-type {\n",
       "        vertical-align: middle;\n",
       "    }\n",
       "\n",
       "    .dataframe tbody tr th {\n",
       "        vertical-align: top;\n",
       "    }\n",
       "\n",
       "    .dataframe thead th {\n",
       "        text-align: right;\n",
       "    }\n",
       "</style>\n",
       "<table border=\"1\" class=\"dataframe\">\n",
       "  <thead>\n",
       "    <tr style=\"text-align: right;\">\n",
       "      <th></th>\n",
       "      <th>city</th>\n",
       "      <th>city_ascii</th>\n",
       "      <th>lat</th>\n",
       "      <th>lng</th>\n",
       "      <th>country</th>\n",
       "      <th>iso2</th>\n",
       "      <th>iso3</th>\n",
       "      <th>admin_name</th>\n",
       "      <th>capital</th>\n",
       "      <th>population</th>\n",
       "      <th>id</th>\n",
       "    </tr>\n",
       "  </thead>\n",
       "  <tbody>\n",
       "    <tr>\n",
       "      <th>0</th>\n",
       "      <td>Tokyo</td>\n",
       "      <td>tokyo</td>\n",
       "      <td>35.6839</td>\n",
       "      <td>139.7744</td>\n",
       "      <td>Japan</td>\n",
       "      <td>JP</td>\n",
       "      <td>JPN</td>\n",
       "      <td>Tōkyō</td>\n",
       "      <td>primary</td>\n",
       "      <td>39105000.0</td>\n",
       "      <td>1392685764</td>\n",
       "    </tr>\n",
       "    <tr>\n",
       "      <th>1</th>\n",
       "      <td>Jakarta</td>\n",
       "      <td>jakarta</td>\n",
       "      <td>-6.2146</td>\n",
       "      <td>106.8451</td>\n",
       "      <td>Indonesia</td>\n",
       "      <td>ID</td>\n",
       "      <td>IDN</td>\n",
       "      <td>Jakarta</td>\n",
       "      <td>primary</td>\n",
       "      <td>35362000.0</td>\n",
       "      <td>1360771077</td>\n",
       "    </tr>\n",
       "    <tr>\n",
       "      <th>2</th>\n",
       "      <td>Delhi</td>\n",
       "      <td>delhi</td>\n",
       "      <td>28.6667</td>\n",
       "      <td>77.2167</td>\n",
       "      <td>India</td>\n",
       "      <td>IN</td>\n",
       "      <td>IND</td>\n",
       "      <td>Delhi</td>\n",
       "      <td>admin</td>\n",
       "      <td>31870000.0</td>\n",
       "      <td>1356872604</td>\n",
       "    </tr>\n",
       "  </tbody>\n",
       "</table>\n",
       "</div>"
      ],
      "text/plain": [
       "      city city_ascii      lat       lng    country iso2 iso3 admin_name  \\\n",
       "0    Tokyo      tokyo  35.6839  139.7744      Japan   JP  JPN      Tōkyō   \n",
       "1  Jakarta    jakarta  -6.2146  106.8451  Indonesia   ID  IDN    Jakarta   \n",
       "2    Delhi      delhi  28.6667   77.2167      India   IN  IND      Delhi   \n",
       "\n",
       "   capital  population          id  \n",
       "0  primary  39105000.0  1392685764  \n",
       "1  primary  35362000.0  1360771077  \n",
       "2    admin  31870000.0  1356872604  "
      ]
     },
     "execution_count": 31,
     "metadata": {},
     "output_type": "execute_result"
    }
   ],
   "source": [
    "cities = pd.read_csv('worldcities.csv')\n",
    "cities['city_ascii'] = cities['city_ascii'].str.lower()\n",
    "cities.head(3)"
   ]
  },
  {
   "cell_type": "code",
   "execution_count": 32,
   "metadata": {},
   "outputs": [],
   "source": [
    "columns = ['location', 'country']\n",
    "for column in columns:\n",
    "    train_data[column] = train_data[column].str.lower()\n",
    "    test_data[column]  = test_data[column].str.lower()"
   ]
  },
  {
   "cell_type": "code",
   "execution_count": 33,
   "metadata": {},
   "outputs": [],
   "source": [
    "def discover_country_from_city(df, column, cities_df):\n",
    "    \n",
    "    '''\n",
    "    Splits the location field and searches for the name of cities to find their respective country\n",
    "    '''\n",
    "     \n",
    "    index=0\n",
    "    for item in df[column]:\n",
    "        \n",
    "        for new_item in item.split():\n",
    "            if (new_item != 'nan') and (new_item in cities_df['city_ascii'].values):\n",
    "                df.loc[index, 'country'] = cities_df[cities_df['city_ascii']==new_item].iso2.values[0]\n",
    "        else:\n",
    "            pass\n",
    "        \n",
    "        index+=1\n",
    "    \n",
    "    return df"
   ]
  },
  {
   "cell_type": "code",
   "execution_count": 34,
   "metadata": {},
   "outputs": [],
   "source": [
    "for colum in columns:\n",
    "    train_data = discover_country_from_city(train_data, column, cities)\n",
    "    test_data  = discover_country_from_city(test_data, column, cities)"
   ]
  },
  {
   "cell_type": "code",
   "execution_count": 35,
   "metadata": {},
   "outputs": [
    {
     "data": {
      "text/plain": [
       "nan                       2533\n",
       "US                        1349\n",
       "GB                         287\n",
       "JP                         152\n",
       "CA                         134\n",
       "                          ... \n",
       "own planet                   1\n",
       "predjama                     1\n",
       "leaving bikini bottom        1\n",
       "khanna                       1\n",
       "    of the blam squad        1\n",
       "Name: country, Length: 1567, dtype: int64"
      ]
     },
     "execution_count": 35,
     "metadata": {},
     "output_type": "execute_result"
    }
   ],
   "source": [
    "train_data.country.value_counts()"
   ]
  },
  {
   "cell_type": "code",
   "execution_count": 36,
   "metadata": {},
   "outputs": [
    {
     "data": {
      "text/html": [
       "<div>\n",
       "<style scoped>\n",
       "    .dataframe tbody tr th:only-of-type {\n",
       "        vertical-align: middle;\n",
       "    }\n",
       "\n",
       "    .dataframe tbody tr th {\n",
       "        vertical-align: top;\n",
       "    }\n",
       "\n",
       "    .dataframe thead th {\n",
       "        text-align: right;\n",
       "    }\n",
       "</style>\n",
       "<table border=\"1\" class=\"dataframe\">\n",
       "  <thead>\n",
       "    <tr style=\"text-align: right;\">\n",
       "      <th></th>\n",
       "      <th>id</th>\n",
       "      <th>keyword</th>\n",
       "      <th>location</th>\n",
       "      <th>text</th>\n",
       "      <th>target</th>\n",
       "      <th>num chars</th>\n",
       "      <th>num special chars</th>\n",
       "      <th>country</th>\n",
       "    </tr>\n",
       "  </thead>\n",
       "  <tbody>\n",
       "    <tr>\n",
       "      <th>500</th>\n",
       "      <td>725</td>\n",
       "      <td>attacked</td>\n",
       "      <td>lealman</td>\n",
       "      <td>Christian Attacked by Muslims at the Temple Mo...</td>\n",
       "      <td>1</td>\n",
       "      <td>122</td>\n",
       "      <td>9</td>\n",
       "      <td>US</td>\n",
       "    </tr>\n",
       "    <tr>\n",
       "      <th>501</th>\n",
       "      <td>726</td>\n",
       "      <td>attacked</td>\n",
       "      <td>los angeles</td>\n",
       "      <td>@envw98 @NickCoCoFree @JulieDiCaro @jdabe80 Wh...</td>\n",
       "      <td>0</td>\n",
       "      <td>136</td>\n",
       "      <td>7</td>\n",
       "      <td>los angeles</td>\n",
       "    </tr>\n",
       "    <tr>\n",
       "      <th>502</th>\n",
       "      <td>727</td>\n",
       "      <td>attacked</td>\n",
       "      <td>san francisco</td>\n",
       "      <td>Kelly Osbourne attacked for racist Donald Trum...</td>\n",
       "      <td>1</td>\n",
       "      <td>103</td>\n",
       "      <td>5</td>\n",
       "      <td>ML</td>\n",
       "    </tr>\n",
       "    <tr>\n",
       "      <th>503</th>\n",
       "      <td>728</td>\n",
       "      <td>attacked</td>\n",
       "      <td>gdjb  asot</td>\n",
       "      <td>@eunice_njoki aiii she needs to chill and answ...</td>\n",
       "      <td>0</td>\n",
       "      <td>89</td>\n",
       "      <td>3</td>\n",
       "      <td>gdjb  asot</td>\n",
       "    </tr>\n",
       "  </tbody>\n",
       "</table>\n",
       "</div>"
      ],
      "text/plain": [
       "      id   keyword       location  \\\n",
       "500  725  attacked        lealman   \n",
       "501  726  attacked    los angeles   \n",
       "502  727  attacked  san francisco   \n",
       "503  728  attacked     gdjb  asot   \n",
       "\n",
       "                                                  text  target  num chars  \\\n",
       "500  Christian Attacked by Muslims at the Temple Mo...       1        122   \n",
       "501  @envw98 @NickCoCoFree @JulieDiCaro @jdabe80 Wh...       0        136   \n",
       "502  Kelly Osbourne attacked for racist Donald Trum...       1        103   \n",
       "503  @eunice_njoki aiii she needs to chill and answ...       0         89   \n",
       "\n",
       "     num special chars      country  \n",
       "500                  9           US  \n",
       "501                  7  los angeles  \n",
       "502                  5           ML  \n",
       "503                  3   gdjb  asot  "
      ]
     },
     "execution_count": 36,
     "metadata": {},
     "output_type": "execute_result"
    }
   ],
   "source": [
    "train_data[500:504]"
   ]
  },
  {
   "cell_type": "markdown",
   "metadata": {},
   "source": [
    "Cities with double names are affected when we split the location field. To solve it, let's search for the full name of the cities"
   ]
  },
  {
   "cell_type": "code",
   "execution_count": 37,
   "metadata": {},
   "outputs": [],
   "source": [
    "def discover_country_from_city_v2(df, column, cities_df):\n",
    "    \n",
    "    '''\n",
    "    Uses the location field **with no splitting** and searches for the name of cities to find their \n",
    "    respective country\n",
    "    '''\n",
    "     \n",
    "    index=0\n",
    "    \n",
    "    for item in df[column]:\n",
    "        \n",
    "        if (item != 'nan') and (item in cities_df['city_ascii'].values):\n",
    "                df.loc[index, 'country'] = cities_df[cities_df['city_ascii']==item].iso2.values[0]\n",
    "        else:\n",
    "            pass\n",
    "        \n",
    "        index+=1\n",
    "    \n",
    "    return df"
   ]
  },
  {
   "cell_type": "code",
   "execution_count": 38,
   "metadata": {},
   "outputs": [],
   "source": [
    "for column in columns:\n",
    "    train_data = discover_country_from_city_v2(train_data, column, cities)\n",
    "    test_data  = discover_country_from_city_v2(test_data, column, cities)"
   ]
  },
  {
   "cell_type": "code",
   "execution_count": 39,
   "metadata": {},
   "outputs": [
    {
     "data": {
      "text/plain": [
       "nan                       2533\n",
       "US                        1540\n",
       "GB                         290\n",
       "JP                         152\n",
       "CA                         135\n",
       "                          ... \n",
       "predjama                     1\n",
       "leaving bikini bottom        1\n",
       "khanna                       1\n",
       "pg chillin                   1\n",
       "    of the blam squad        1\n",
       "Name: country, Length: 1503, dtype: int64"
      ]
     },
     "execution_count": 39,
     "metadata": {},
     "output_type": "execute_result"
    }
   ],
   "source": [
    "train_data.country.value_counts()"
   ]
  },
  {
   "cell_type": "code",
   "execution_count": 40,
   "metadata": {},
   "outputs": [
    {
     "data": {
      "text/html": [
       "<div>\n",
       "<style scoped>\n",
       "    .dataframe tbody tr th:only-of-type {\n",
       "        vertical-align: middle;\n",
       "    }\n",
       "\n",
       "    .dataframe tbody tr th {\n",
       "        vertical-align: top;\n",
       "    }\n",
       "\n",
       "    .dataframe thead th {\n",
       "        text-align: right;\n",
       "    }\n",
       "</style>\n",
       "<table border=\"1\" class=\"dataframe\">\n",
       "  <thead>\n",
       "    <tr style=\"text-align: right;\">\n",
       "      <th></th>\n",
       "      <th>id</th>\n",
       "      <th>keyword</th>\n",
       "      <th>location</th>\n",
       "      <th>text</th>\n",
       "      <th>target</th>\n",
       "      <th>num chars</th>\n",
       "      <th>num special chars</th>\n",
       "      <th>country</th>\n",
       "    </tr>\n",
       "  </thead>\n",
       "  <tbody>\n",
       "    <tr>\n",
       "      <th>500</th>\n",
       "      <td>725</td>\n",
       "      <td>attacked</td>\n",
       "      <td>lealman</td>\n",
       "      <td>Christian Attacked by Muslims at the Temple Mo...</td>\n",
       "      <td>1</td>\n",
       "      <td>122</td>\n",
       "      <td>9</td>\n",
       "      <td>US</td>\n",
       "    </tr>\n",
       "    <tr>\n",
       "      <th>501</th>\n",
       "      <td>726</td>\n",
       "      <td>attacked</td>\n",
       "      <td>los angeles</td>\n",
       "      <td>@envw98 @NickCoCoFree @JulieDiCaro @jdabe80 Wh...</td>\n",
       "      <td>0</td>\n",
       "      <td>136</td>\n",
       "      <td>7</td>\n",
       "      <td>US</td>\n",
       "    </tr>\n",
       "    <tr>\n",
       "      <th>502</th>\n",
       "      <td>727</td>\n",
       "      <td>attacked</td>\n",
       "      <td>san francisco</td>\n",
       "      <td>Kelly Osbourne attacked for racist Donald Trum...</td>\n",
       "      <td>1</td>\n",
       "      <td>103</td>\n",
       "      <td>5</td>\n",
       "      <td>US</td>\n",
       "    </tr>\n",
       "    <tr>\n",
       "      <th>503</th>\n",
       "      <td>728</td>\n",
       "      <td>attacked</td>\n",
       "      <td>gdjb  asot</td>\n",
       "      <td>@eunice_njoki aiii she needs to chill and answ...</td>\n",
       "      <td>0</td>\n",
       "      <td>89</td>\n",
       "      <td>3</td>\n",
       "      <td>gdjb  asot</td>\n",
       "    </tr>\n",
       "  </tbody>\n",
       "</table>\n",
       "</div>"
      ],
      "text/plain": [
       "      id   keyword       location  \\\n",
       "500  725  attacked        lealman   \n",
       "501  726  attacked    los angeles   \n",
       "502  727  attacked  san francisco   \n",
       "503  728  attacked     gdjb  asot   \n",
       "\n",
       "                                                  text  target  num chars  \\\n",
       "500  Christian Attacked by Muslims at the Temple Mo...       1        122   \n",
       "501  @envw98 @NickCoCoFree @JulieDiCaro @jdabe80 Wh...       0        136   \n",
       "502  Kelly Osbourne attacked for racist Donald Trum...       1        103   \n",
       "503  @eunice_njoki aiii she needs to chill and answ...       0         89   \n",
       "\n",
       "     num special chars      country  \n",
       "500                  9           US  \n",
       "501                  7           US  \n",
       "502                  5           US  \n",
       "503                  3   gdjb  asot  "
      ]
     },
     "execution_count": 40,
     "metadata": {},
     "output_type": "execute_result"
    }
   ],
   "source": [
    "train_data[500:504]"
   ]
  },
  {
   "cell_type": "markdown",
   "metadata": {},
   "source": [
    " "
   ]
  },
  {
   "cell_type": "markdown",
   "metadata": {},
   "source": [
    "As we have a huge presence of US locations, let us import a USA database with states and main cities"
   ]
  },
  {
   "cell_type": "code",
   "execution_count": 41,
   "metadata": {},
   "outputs": [],
   "source": [
    "usa_data = pd.read_csv('USAData.csv')"
   ]
  },
  {
   "cell_type": "code",
   "execution_count": 42,
   "metadata": {},
   "outputs": [
    {
     "data": {
      "text/html": [
       "<div>\n",
       "<style scoped>\n",
       "    .dataframe tbody tr th:only-of-type {\n",
       "        vertical-align: middle;\n",
       "    }\n",
       "\n",
       "    .dataframe tbody tr th {\n",
       "        vertical-align: top;\n",
       "    }\n",
       "\n",
       "    .dataframe thead th {\n",
       "        text-align: right;\n",
       "    }\n",
       "</style>\n",
       "<table border=\"1\" class=\"dataframe\">\n",
       "  <thead>\n",
       "    <tr style=\"text-align: right;\">\n",
       "      <th></th>\n",
       "      <th>rank</th>\n",
       "      <th>name</th>\n",
       "      <th>usps</th>\n",
       "      <th>pop2022</th>\n",
       "      <th>pop2010</th>\n",
       "      <th>growth</th>\n",
       "      <th>density</th>\n",
       "      <th>aland_sqmi</th>\n",
       "      <th>State</th>\n",
       "    </tr>\n",
       "  </thead>\n",
       "  <tbody>\n",
       "    <tr>\n",
       "      <th>0</th>\n",
       "      <td>1</td>\n",
       "      <td>new york city</td>\n",
       "      <td>ny</td>\n",
       "      <td>8930002</td>\n",
       "      <td>8175133</td>\n",
       "      <td>0.0923</td>\n",
       "      <td>29729</td>\n",
       "      <td>300.381</td>\n",
       "      <td>new york</td>\n",
       "    </tr>\n",
       "    <tr>\n",
       "      <th>1</th>\n",
       "      <td>2</td>\n",
       "      <td>los angeles</td>\n",
       "      <td>ca</td>\n",
       "      <td>3919973</td>\n",
       "      <td>3792621</td>\n",
       "      <td>0.0336</td>\n",
       "      <td>8359</td>\n",
       "      <td>468.956</td>\n",
       "      <td>california</td>\n",
       "    </tr>\n",
       "    <tr>\n",
       "      <th>2</th>\n",
       "      <td>3</td>\n",
       "      <td>chicago</td>\n",
       "      <td>il</td>\n",
       "      <td>2756546</td>\n",
       "      <td>2695598</td>\n",
       "      <td>0.0226</td>\n",
       "      <td>12124</td>\n",
       "      <td>227.369</td>\n",
       "      <td>illinois</td>\n",
       "    </tr>\n",
       "    <tr>\n",
       "      <th>3</th>\n",
       "      <td>4</td>\n",
       "      <td>houston</td>\n",
       "      <td>tx</td>\n",
       "      <td>2345606</td>\n",
       "      <td>2099451</td>\n",
       "      <td>0.1172</td>\n",
       "      <td>3664</td>\n",
       "      <td>640.194</td>\n",
       "      <td>texas</td>\n",
       "    </tr>\n",
       "    <tr>\n",
       "      <th>4</th>\n",
       "      <td>5</td>\n",
       "      <td>phoenix</td>\n",
       "      <td>az</td>\n",
       "      <td>1640641</td>\n",
       "      <td>1445632</td>\n",
       "      <td>0.1349</td>\n",
       "      <td>3169</td>\n",
       "      <td>517.673</td>\n",
       "      <td>arizona</td>\n",
       "    </tr>\n",
       "  </tbody>\n",
       "</table>\n",
       "</div>"
      ],
      "text/plain": [
       "   rank           name usps  pop2022  pop2010  growth  density  aland_sqmi  \\\n",
       "0     1  new york city   ny  8930002  8175133  0.0923    29729     300.381   \n",
       "1     2    los angeles   ca  3919973  3792621  0.0336     8359     468.956   \n",
       "2     3        chicago   il  2756546  2695598  0.0226    12124     227.369   \n",
       "3     4        houston   tx  2345606  2099451  0.1172     3664     640.194   \n",
       "4     5        phoenix   az  1640641  1445632  0.1349     3169     517.673   \n",
       "\n",
       "        State  \n",
       "0    new york  \n",
       "1  california  \n",
       "2    illinois  \n",
       "3       texas  \n",
       "4     arizona  "
      ]
     },
     "execution_count": 42,
     "metadata": {},
     "output_type": "execute_result"
    }
   ],
   "source": [
    "usa_columns = ['name', 'usps', 'State']\n",
    "for column in usa_columns:\n",
    "    usa_data[column] = usa_data[column].str.lower()\n",
    "\n",
    "usa_data.head()"
   ]
  },
  {
   "cell_type": "code",
   "execution_count": 43,
   "metadata": {},
   "outputs": [],
   "source": [
    "def find_USA_locations(df, column, cities_df):\n",
    "    \n",
    "    '''\n",
    "    Finds USA locations and replace them by 'US' name in country field\n",
    "    '''\n",
    "    \n",
    "    index=0\n",
    "    usa_columns = ['State', 'usps', 'name']\n",
    "    \n",
    "    for item in df[column]:\n",
    "        \n",
    "        if item in ['new york', 'united states']:\n",
    "            df.loc[index, 'country'] = 'US'\n",
    "        \n",
    "        else:\n",
    "            for usa_column in usa_columns:\n",
    "                if item in cities_df[usa_column].values:\n",
    "                    df.loc[index, 'country'] = 'US'\n",
    "                    df.loc[index, 'location']= item\n",
    "                \n",
    "                else:\n",
    "                    pass\n",
    "        \n",
    "        index+=1\n",
    "    \n",
    "    return df"
   ]
  },
  {
   "cell_type": "code",
   "execution_count": 44,
   "metadata": {},
   "outputs": [],
   "source": [
    "for column in columns:\n",
    "    train_data = find_USA_locations(train_data, column, usa_data)\n",
    "    test_data  = find_USA_locations(test_data, column, usa_data)"
   ]
  },
  {
   "cell_type": "code",
   "execution_count": 45,
   "metadata": {},
   "outputs": [
    {
     "data": {
      "text/plain": [
       "nan                       2533\n",
       "US                        1833\n",
       "GB                         281\n",
       "JP                         152\n",
       "CA                         122\n",
       "                          ... \n",
       "my deli                      1\n",
       "ducked off                   1\n",
       "  high   come down           1\n",
       "swag francisco               1\n",
       "    of the blam squad        1\n",
       "Name: country, Length: 1456, dtype: int64"
      ]
     },
     "execution_count": 45,
     "metadata": {},
     "output_type": "execute_result"
    }
   ],
   "source": [
    "train_data.country.value_counts()"
   ]
  },
  {
   "cell_type": "code",
   "execution_count": 46,
   "metadata": {},
   "outputs": [],
   "source": [
    "def find_USA_locations_v2(df, column, cities_df):\n",
    "    \n",
    "    '''\n",
    "    Splits the entries to find US locations\n",
    "    '''\n",
    "     \n",
    "    index=0\n",
    "    usa_columns = ['State', 'usps', 'name']\n",
    "    for item in df[column]:\n",
    "        \n",
    "        for new_item in item.split():\n",
    "            for usa_column in usa_columns:\n",
    "                if new_item in cities_df[usa_column].values:\n",
    "                    df.loc[index, 'country'] = 'US'\n",
    "        else:\n",
    "            pass\n",
    "        \n",
    "        index+=1\n",
    "    \n",
    "    return df"
   ]
  },
  {
   "cell_type": "code",
   "execution_count": 47,
   "metadata": {},
   "outputs": [],
   "source": [
    "for column in columns:\n",
    "    train_data = find_USA_locations_v2(train_data, column, usa_data)\n",
    "    test_data  = find_USA_locations_v2(test_data, column, usa_data)"
   ]
  },
  {
   "cell_type": "code",
   "execution_count": 48,
   "metadata": {},
   "outputs": [
    {
     "data": {
      "text/plain": [
       "nan                               2533\n",
       "US                                2048\n",
       "GB                                 272\n",
       "JP                                 138\n",
       "CA                                 112\n",
       "                                  ... \n",
       "stowmarket                           1\n",
       "ktx                                  1\n",
       "uruguay   westeros   gallifrey       1\n",
       "my deli                              1\n",
       "    of the blam squad                1\n",
       "Name: country, Length: 1341, dtype: int64"
      ]
     },
     "execution_count": 48,
     "metadata": {},
     "output_type": "execute_result"
    }
   ],
   "source": [
    "train_data.country.value_counts()"
   ]
  },
  {
   "cell_type": "code",
   "execution_count": 49,
   "metadata": {},
   "outputs": [
    {
     "data": {
      "text/plain": [
       "nan                       2533\n",
       "usa                        108\n",
       "new york                   100\n",
       "london                      74\n",
       "united states               50\n",
       "                          ... \n",
       "university heights           1\n",
       "viterbo bfa acting           1\n",
       "columbus ohio                1\n",
       "north west london            1\n",
       "uyo                          1\n",
       "Name: location, Length: 2741, dtype: int64"
      ]
     },
     "execution_count": 49,
     "metadata": {},
     "output_type": "execute_result"
    }
   ],
   "source": [
    "train_data.location.value_counts()"
   ]
  },
  {
   "cell_type": "markdown",
   "metadata": {},
   "source": [
    " "
   ]
  },
  {
   "cell_type": "markdown",
   "metadata": {},
   "source": [
    " "
   ]
  },
  {
   "cell_type": "markdown",
   "metadata": {},
   "source": [
    "As our Cities database does not comprise all countries in the world, let us import a last, but complete country dataset and search for remaining entries..."
   ]
  },
  {
   "cell_type": "code",
   "execution_count": 50,
   "metadata": {},
   "outputs": [],
   "source": [
    "countries = pd.read_csv('All countries.csv')"
   ]
  },
  {
   "cell_type": "code",
   "execution_count": 51,
   "metadata": {},
   "outputs": [],
   "source": [
    "countries['country'] = countries['country'].str.lower()\n",
    "countries['abbreviation'] = countries['abbreviation'].str.lower()"
   ]
  },
  {
   "cell_type": "code",
   "execution_count": 52,
   "metadata": {},
   "outputs": [
    {
     "data": {
      "text/html": [
       "<div>\n",
       "<style scoped>\n",
       "    .dataframe tbody tr th:only-of-type {\n",
       "        vertical-align: middle;\n",
       "    }\n",
       "\n",
       "    .dataframe tbody tr th {\n",
       "        vertical-align: top;\n",
       "    }\n",
       "\n",
       "    .dataframe thead th {\n",
       "        text-align: right;\n",
       "    }\n",
       "</style>\n",
       "<table border=\"1\" class=\"dataframe\">\n",
       "  <thead>\n",
       "    <tr style=\"text-align: right;\">\n",
       "      <th></th>\n",
       "      <th>abbreviation</th>\n",
       "      <th>country</th>\n",
       "    </tr>\n",
       "  </thead>\n",
       "  <tbody>\n",
       "    <tr>\n",
       "      <th>0</th>\n",
       "      <td>af</td>\n",
       "      <td>afghanistan</td>\n",
       "    </tr>\n",
       "    <tr>\n",
       "      <th>1</th>\n",
       "      <td>ax</td>\n",
       "      <td>aland islands</td>\n",
       "    </tr>\n",
       "    <tr>\n",
       "      <th>2</th>\n",
       "      <td>al</td>\n",
       "      <td>albania</td>\n",
       "    </tr>\n",
       "    <tr>\n",
       "      <th>3</th>\n",
       "      <td>dz</td>\n",
       "      <td>algeria</td>\n",
       "    </tr>\n",
       "    <tr>\n",
       "      <th>4</th>\n",
       "      <td>as</td>\n",
       "      <td>american samoa</td>\n",
       "    </tr>\n",
       "  </tbody>\n",
       "</table>\n",
       "</div>"
      ],
      "text/plain": [
       "  abbreviation         country\n",
       "0           af     afghanistan\n",
       "1           ax   aland islands\n",
       "2           al         albania\n",
       "3           dz         algeria\n",
       "4           as  american samoa"
      ]
     },
     "execution_count": 52,
     "metadata": {},
     "output_type": "execute_result"
    }
   ],
   "source": [
    "countries.head()"
   ]
  },
  {
   "cell_type": "code",
   "execution_count": 53,
   "metadata": {},
   "outputs": [],
   "source": [
    "def search_remaining_countries(df, column, countries_df):\n",
    "    '''\n",
    "    Splits the entries to find US locations\n",
    "    '''\n",
    "     \n",
    "    index=0\n",
    "    for item in df[column]:\n",
    "        \n",
    "        if item in countries_df['country'].values:\n",
    "            df.loc[index, 'country'] = countries_df[countries_df['country']==item].abbreviation.values[0]\n",
    "        \n",
    "        else:\n",
    "            pass\n",
    "        \n",
    "        index+=1\n",
    "    \n",
    "    return df"
   ]
  },
  {
   "cell_type": "code",
   "execution_count": 54,
   "metadata": {},
   "outputs": [],
   "source": [
    "train_data = search_remaining_countries(train_data, 'country', countries)\n",
    "test_data  = search_remaining_countries(test_data, 'country', countries)"
   ]
  },
  {
   "cell_type": "code",
   "execution_count": 55,
   "metadata": {},
   "outputs": [
    {
     "data": {
      "text/plain": [
       "nan                          2533\n",
       "US                           2048\n",
       "GB                            272\n",
       "JP                            138\n",
       "CA                            112\n",
       "                             ... \n",
       "cognitive dissonance town       1\n",
       "mooseknuckle                    1\n",
       "insula barataria                1\n",
       "horsemind                       1\n",
       "    of the blam squad           1\n",
       "Name: country, Length: 1340, dtype: int64"
      ]
     },
     "execution_count": 55,
     "metadata": {},
     "output_type": "execute_result"
    }
   ],
   "source": [
    "train_data.country.value_counts()"
   ]
  },
  {
   "cell_type": "markdown",
   "metadata": {},
   "source": [
    " "
   ]
  },
  {
   "cell_type": "markdown",
   "metadata": {},
   "source": [
    "As we achieved less variation in ['country'] data than in the original ['location'] field, let us work with ['country'] feature from now on. \n",
    "\n",
    "To standardize it, the entries with **len(country)>3** and those which does not match any real country abbreviation will be tagged as NaN, as their location is mostly fake and brings no relevant information"
   ]
  },
  {
   "cell_type": "code",
   "execution_count": 56,
   "metadata": {},
   "outputs": [],
   "source": [
    "def replace_with_nan_v1(df):\n",
    "    \n",
    "    '''This version 1 (v1) replaces entries with len()>3 for 'nan' values'''\n",
    "    \n",
    "    \n",
    "    df['country']= np.where(df.country.str.len()>3, 'nan', df['country'])\n",
    "    \n",
    "    return df"
   ]
  },
  {
   "cell_type": "code",
   "execution_count": 57,
   "metadata": {},
   "outputs": [],
   "source": [
    "train_data = replace_with_nan_v1(train_data)\n",
    "test_data  = replace_with_nan_v1(test_data)"
   ]
  },
  {
   "cell_type": "code",
   "execution_count": 58,
   "metadata": {},
   "outputs": [],
   "source": [
    "def replace_with_nan_v2(df, countries_df):\n",
    "    \n",
    "    '''This version 2 (v2) searches for countries abbreviations in the dataframe ['country'] entries. If an \n",
    "    entry does not match an existing country abbreviation, it is replaced by a 'nan' value'''\n",
    "         \n",
    "    index=0\n",
    "    for item in df['country']:\n",
    "        \n",
    "        if (item != 'nan') and (item in countries_df['abbreviation'].values):\n",
    "            pass\n",
    "        \n",
    "        else:\n",
    "            df.loc[index, 'country'] = 'nan'\n",
    "        \n",
    "        index+=1\n",
    "    \n",
    "    return df"
   ]
  },
  {
   "cell_type": "code",
   "execution_count": 59,
   "metadata": {},
   "outputs": [],
   "source": [
    "train_data = replace_with_nan_v2(train_data, countries)\n",
    "test_data  = replace_with_nan_v2(test_data, countries)"
   ]
  },
  {
   "cell_type": "code",
   "execution_count": 60,
   "metadata": {},
   "outputs": [
    {
     "data": {
      "text/plain": [
       "(64,)"
      ]
     },
     "execution_count": 60,
     "metadata": {},
     "output_type": "execute_result"
    }
   ],
   "source": [
    "train_data.country.value_counts().shape"
   ]
  },
  {
   "cell_type": "code",
   "execution_count": 61,
   "metadata": {},
   "outputs": [
    {
     "data": {
      "text/plain": [
       "(32,)"
      ]
     },
     "execution_count": 61,
     "metadata": {},
     "output_type": "execute_result"
    }
   ],
   "source": [
    "test_data.country.value_counts().shape"
   ]
  },
  {
   "cell_type": "code",
   "execution_count": 62,
   "metadata": {},
   "outputs": [],
   "source": [
    "train_data['country'] = train_data['country'].str.upper()\n",
    "test_data['country']  = test_data['country'].str.upper()"
   ]
  },
  {
   "cell_type": "markdown",
   "metadata": {},
   "source": [
    " "
   ]
  },
  {
   "cell_type": "markdown",
   "metadata": {},
   "source": [
    " "
   ]
  },
  {
   "cell_type": "markdown",
   "metadata": {},
   "source": [
    "**TASK 4:** Encode country and keywords"
   ]
  },
  {
   "cell_type": "markdown",
   "metadata": {},
   "source": [
    "To encode **['country']**, we choose **Frequency Encoding**. As briefly explained in this post (https://towardsdatascience.com/how-to-encode-categorical-data-d44dde313131), this gives the probability of each class. Given the huge amount of possible locations, and the different frequencies distributions, we avoid a large matrix in conventional encoding plus inform the 'weight' of each place."
   ]
  },
  {
   "cell_type": "code",
   "execution_count": 63,
   "metadata": {},
   "outputs": [],
   "source": [
    "# Group it by type, find the size of each type, and divide by total event\n",
    "\n",
    "# Train data\n",
    "country_train_freq = train_data.groupby(\"country\").size()/len(train_data)\n",
    "train_data['country freq'] = train_data['country'].map(country_train_freq) \n",
    "\n",
    "\n",
    "# Test data\n",
    "country_test_freq = test_data.groupby(\"country\").size()/len(test_data)\n",
    "test_data['country freq'] = test_data['country'].map(country_test_freq) "
   ]
  },
  {
   "cell_type": "markdown",
   "metadata": {},
   "source": [
    "To encode **['keywords']**, we choose conventional **Binary Encoding**."
   ]
  },
  {
   "cell_type": "code",
   "execution_count": 64,
   "metadata": {},
   "outputs": [],
   "source": [
    "def binary_encoder(df, column):\n",
    "    \n",
    "    be = BinaryEncoder(cols=[column])\n",
    "    newdata = be.fit_transform(df[column])\n",
    "    \n",
    "    assert newdata.shape[0]==df.shape[0]\n",
    "    \n",
    "    df = pd.concat([df, newdata], axis=1)\n",
    "    \n",
    "    return df"
   ]
  },
  {
   "cell_type": "code",
   "execution_count": 65,
   "metadata": {},
   "outputs": [],
   "source": [
    "train_data = binary_encoder(train_data, 'keyword')\n",
    "test_data  = binary_encoder(test_data, 'keyword')"
   ]
  },
  {
   "cell_type": "code",
   "execution_count": 66,
   "metadata": {},
   "outputs": [
    {
     "data": {
      "text/html": [
       "<div>\n",
       "<style scoped>\n",
       "    .dataframe tbody tr th:only-of-type {\n",
       "        vertical-align: middle;\n",
       "    }\n",
       "\n",
       "    .dataframe tbody tr th {\n",
       "        vertical-align: top;\n",
       "    }\n",
       "\n",
       "    .dataframe thead th {\n",
       "        text-align: right;\n",
       "    }\n",
       "</style>\n",
       "<table border=\"1\" class=\"dataframe\">\n",
       "  <thead>\n",
       "    <tr style=\"text-align: right;\">\n",
       "      <th></th>\n",
       "      <th>id</th>\n",
       "      <th>keyword</th>\n",
       "      <th>location</th>\n",
       "      <th>text</th>\n",
       "      <th>target</th>\n",
       "      <th>num chars</th>\n",
       "      <th>num special chars</th>\n",
       "      <th>country</th>\n",
       "      <th>country freq</th>\n",
       "      <th>keyword_0</th>\n",
       "      <th>keyword_1</th>\n",
       "      <th>keyword_2</th>\n",
       "      <th>keyword_3</th>\n",
       "      <th>keyword_4</th>\n",
       "      <th>keyword_5</th>\n",
       "      <th>keyword_6</th>\n",
       "      <th>keyword_7</th>\n",
       "    </tr>\n",
       "  </thead>\n",
       "  <tbody>\n",
       "    <tr>\n",
       "      <th>0</th>\n",
       "      <td>1</td>\n",
       "      <td>NaN</td>\n",
       "      <td>nan</td>\n",
       "      <td>Our Deeds are the Reason of this #earthquake M...</td>\n",
       "      <td>1</td>\n",
       "      <td>69</td>\n",
       "      <td>1</td>\n",
       "      <td>NAN</td>\n",
       "      <td>0.959149</td>\n",
       "      <td>0</td>\n",
       "      <td>0</td>\n",
       "      <td>0</td>\n",
       "      <td>0</td>\n",
       "      <td>0</td>\n",
       "      <td>0</td>\n",
       "      <td>0</td>\n",
       "      <td>1</td>\n",
       "    </tr>\n",
       "    <tr>\n",
       "      <th>1</th>\n",
       "      <td>4</td>\n",
       "      <td>NaN</td>\n",
       "      <td>nan</td>\n",
       "      <td>Forest fire near La Ronge Sask. Canada</td>\n",
       "      <td>1</td>\n",
       "      <td>38</td>\n",
       "      <td>1</td>\n",
       "      <td>NAN</td>\n",
       "      <td>0.959149</td>\n",
       "      <td>0</td>\n",
       "      <td>0</td>\n",
       "      <td>0</td>\n",
       "      <td>0</td>\n",
       "      <td>0</td>\n",
       "      <td>0</td>\n",
       "      <td>0</td>\n",
       "      <td>1</td>\n",
       "    </tr>\n",
       "    <tr>\n",
       "      <th>2</th>\n",
       "      <td>5</td>\n",
       "      <td>NaN</td>\n",
       "      <td>nan</td>\n",
       "      <td>All residents asked to 'shelter in place' are ...</td>\n",
       "      <td>1</td>\n",
       "      <td>133</td>\n",
       "      <td>3</td>\n",
       "      <td>NAN</td>\n",
       "      <td>0.959149</td>\n",
       "      <td>0</td>\n",
       "      <td>0</td>\n",
       "      <td>0</td>\n",
       "      <td>0</td>\n",
       "      <td>0</td>\n",
       "      <td>0</td>\n",
       "      <td>0</td>\n",
       "      <td>1</td>\n",
       "    </tr>\n",
       "  </tbody>\n",
       "</table>\n",
       "</div>"
      ],
      "text/plain": [
       "   id keyword location                                               text  \\\n",
       "0   1     NaN      nan  Our Deeds are the Reason of this #earthquake M...   \n",
       "1   4     NaN      nan             Forest fire near La Ronge Sask. Canada   \n",
       "2   5     NaN      nan  All residents asked to 'shelter in place' are ...   \n",
       "\n",
       "   target  num chars  num special chars country  country freq  keyword_0  \\\n",
       "0       1         69                  1     NAN      0.959149          0   \n",
       "1       1         38                  1     NAN      0.959149          0   \n",
       "2       1        133                  3     NAN      0.959149          0   \n",
       "\n",
       "   keyword_1  keyword_2  keyword_3  keyword_4  keyword_5  keyword_6  keyword_7  \n",
       "0          0          0          0          0          0          0          1  \n",
       "1          0          0          0          0          0          0          1  \n",
       "2          0          0          0          0          0          0          1  "
      ]
     },
     "execution_count": 66,
     "metadata": {},
     "output_type": "execute_result"
    }
   ],
   "source": [
    "train_data.head(3)"
   ]
  },
  {
   "cell_type": "markdown",
   "metadata": {},
   "source": [
    " "
   ]
  },
  {
   "cell_type": "markdown",
   "metadata": {},
   "source": [
    " "
   ]
  },
  {
   "cell_type": "markdown",
   "metadata": {},
   "source": [
    "**TASK 5:** Text cleaning and tokenizing"
   ]
  },
  {
   "cell_type": "code",
   "execution_count": 67,
   "metadata": {},
   "outputs": [],
   "source": [
    "train_data['text']  = train_data['text'].apply(lambda x : remove_special_chars(x))\n",
    "test_data['text']   = test_data['text'].apply(lambda x : remove_special_chars(x))"
   ]
  },
  {
   "cell_type": "code",
   "execution_count": 68,
   "metadata": {},
   "outputs": [
    {
     "data": {
      "text/plain": [
       "0       Our Deeds are the Reason of this  earthquake M...\n",
       "1                  Forest fire near La Ronge Sask  Canada\n",
       "2       All residents asked to  shelter in place  are ...\n",
       "3              people receive  wildfires evacuation or...\n",
       "4       Just got sent this photo from Ruby  Alaska as ...\n",
       "                              ...                        \n",
       "7608    Two giant cranes holding a bridge collapse int...\n",
       "7609     aria ahrary  TheTawniest The out of control w...\n",
       "7610    M            UTC   km S of Volcano Hawaii  htt...\n",
       "7611    Police investigating after an e bike collided ...\n",
       "7612    The Latest  More Homes Razed by Northern Calif...\n",
       "Name: text, Length: 7613, dtype: object"
      ]
     },
     "execution_count": 68,
     "metadata": {},
     "output_type": "execute_result"
    }
   ],
   "source": [
    "train_data.text"
   ]
  },
  {
   "cell_type": "markdown",
   "metadata": {},
   "source": [
    " "
   ]
  },
  {
   "cell_type": "markdown",
   "metadata": {},
   "source": [
    "**Methods for stopwords**"
   ]
  },
  {
   "cell_type": "code",
   "execution_count": 69,
   "metadata": {},
   "outputs": [],
   "source": [
    "import spacy\n",
    "en = spacy.load('en_core_web_sm')\n",
    "import gensim\n",
    "from gensim.parsing.preprocessing import remove_stopwords, STOPWORDS\n",
    "from sklearn.feature_extraction.text import ENGLISH_STOP_WORDS"
   ]
  },
  {
   "cell_type": "code",
   "execution_count": 70,
   "metadata": {},
   "outputs": [
    {
     "data": {
      "text/plain": [
       "Text(0.5, 1.1, 'Stopwords packages - Size comparison')"
      ]
     },
     "execution_count": 70,
     "metadata": {},
     "output_type": "execute_result"
    },
    {
     "data": {
      "image/png": "[encoded data removed]",
      "text/plain": [
       "<Figure size 432x288 with 1 Axes>"
      ]
     },
     "metadata": {
      "needs_background": "light"
     },
     "output_type": "display_data"
    }
   ],
   "source": [
    "#NLTK\n",
    "sw_nltk = stopwords.words('english')\n",
    "nltk_size = len(sw_nltk)\n",
    "\n",
    "#SKLEARN\n",
    "sklearn_size = len(ENGLISH_STOP_WORDS)\n",
    "\n",
    "#GENSIM\n",
    "gensim_size = len(STOPWORDS)\n",
    "\n",
    "#SPACY\n",
    "sw_spacy = en.Defaults.stop_words\n",
    "spacy_size = len(sw_spacy)\n",
    "\n",
    "x_values = [nltk_size, sklearn_size, spacy_size, gensim_size]\n",
    "labels = ['NLTK', 'SKLearn', 'SpaCy', 'Gensim']\n",
    "width = 0.5\n",
    "\n",
    "# Bar plot\n",
    "fig7,ax = plt.subplots()\n",
    "fig7.figsize=(12,4)\n",
    "\n",
    "ax.bar(labels, x_values, width, color='gray')\n",
    "ax.set_title('Stopwords packages - Size comparison', y=1.1, weight='bold', size='large')"
   ]
  },
  {
   "cell_type": "code",
   "execution_count": 71,
   "metadata": {},
   "outputs": [],
   "source": [
    "spell = SpellChecker()\n",
    "\n",
    "def correct_spellings(text):\n",
    "    \n",
    "    '''Corrects mispelling words'''\n",
    "    \n",
    "    corrected_text = []\n",
    "    misspelled_words = spell.unknown(text.split())\n",
    "    \n",
    "    for word in text.split():\n",
    "        if word in misspelled_words:\n",
    "            corrected_text.append(spell.correction(word))\n",
    "        else:\n",
    "            corrected_text.append(word)\n",
    "            \n",
    "    return \" \".join(corrected_text)"
   ]
  },
  {
   "cell_type": "code",
   "execution_count": 72,
   "metadata": {},
   "outputs": [],
   "source": [
    "train_data['text']  = train_data['text'].apply(lambda x : correct_spellings(x))\n",
    "test_data['text']   = test_data['text'].apply(lambda x : correct_spellings(x))"
   ]
  },
  {
   "cell_type": "markdown",
   "metadata": {},
   "source": [
    "Creating a backup for future use"
   ]
  },
  {
   "cell_type": "code",
   "execution_count": 73,
   "metadata": {},
   "outputs": [],
   "source": [
    "# Backup\n",
    "train_copy = train_data.copy()\n",
    "test_copy  = test_data.copy()"
   ]
  },
  {
   "cell_type": "markdown",
   "metadata": {},
   "source": [
    " "
   ]
  },
  {
   "cell_type": "code",
   "execution_count": 74,
   "metadata": {},
   "outputs": [],
   "source": [
    "def gensim_with_lemmantizer(text):\n",
    "    \n",
    "    '''Removes stop words and non-English vocabulary using Gensim package and performs lemmatization'''\n",
    "    \n",
    "    # Remove stopwords\n",
    "    clean_text = remove_stopwords(text)\n",
    "        \n",
    "    # setting English vocabulary\n",
    "    english_vocab = set(w.lower() for w in words.words())\n",
    "    \n",
    "    # Removing non-English vocabulary\n",
    "    clean_text = word_tokenize(clean_text)\n",
    "    tokens = [word for word in clean_text if word in english_vocab]\n",
    "    \n",
    "    # Tokenize and Lemmatizing\n",
    "    lemmatizer = WordNetLemmatizer()\n",
    "    clean_tokens = []\n",
    "    \n",
    "    for token in tokens:\n",
    "        clean_tokens.append(lemmatizer.lemmatize(token).lower().strip())\n",
    "     \n",
    "    return \" \".join(clean_tokens)\n",
    "    #return tokens"
   ]
  },
  {
   "cell_type": "code",
   "execution_count": 75,
   "metadata": {},
   "outputs": [],
   "source": [
    "train_data['text']  = train_data['text'].apply(lambda x : gensim_with_lemmantizer(x))\n",
    "test_data['text']   = test_data['text'].apply(lambda x : gensim_with_lemmantizer(x))"
   ]
  },
  {
   "cell_type": "markdown",
   "metadata": {},
   "source": [
    " "
   ]
  },
  {
   "cell_type": "markdown",
   "metadata": {},
   "source": [
    " "
   ]
  },
  {
   "cell_type": "markdown",
   "metadata": {},
   "source": [
    "### Training the 1st model"
   ]
  },
  {
   "cell_type": "markdown",
   "metadata": {},
   "source": [
    "**Let us try some different methods for vectorizing texts. First one will be TD-IDF.**"
   ]
  },
  {
   "cell_type": "markdown",
   "metadata": {},
   "source": [
    "**TfidfVectorizer** is a method from *feature_extraction* for texts available in Scikit Learn. According to the documentation:\n",
    "\n",
    "- Convert a collection of raw documents to a matrix of TF-IDF features. Equivalent to *CountVectorizer* followed by *TfidfTransformer*.\n",
    "\n",
    "The last one, according to Scikit Learn documentation:\n",
    "\n",
    "- Transform a count matrix to a normalized tf or tf-idf representation.\n",
    "- **Tf** means *term-frequency* while **tf-idf** means *term-frequency times inverse document-frequency*. This is a common term weighting scheme in information retrieval, that has also found good use in document classification."
   ]
  },
  {
   "cell_type": "code",
   "execution_count": 77,
   "metadata": {},
   "outputs": [],
   "source": [
    "# Pre processing\n",
    "from sklearn.model_selection import train_test_split\n",
    "from sklearn.base import BaseEstimator, TransformerMixin\n",
    "from sklearn.feature_extraction.text import TfidfVectorizer\n",
    "\n",
    "# Metrics\n",
    "from sklearn import metrics\n",
    "from sklearn.metrics import roc_auc_score, accuracy_score, make_scorer\n",
    "\n",
    "# Pipeline\n",
    "from sklearn.pipeline import Pipeline\n",
    "from sklearn.model_selection import GridSearchCV\n",
    "from sklearn.model_selection import RepeatedKFold\n",
    "\n",
    "# Methods\n",
    "from sklearn.ensemble import RandomForestClassifier"
   ]
  },
  {
   "cell_type": "code",
   "execution_count": 78,
   "metadata": {},
   "outputs": [],
   "source": [
    "vectorizer = TfidfVectorizer(tokenizer=word_tokenize, token_pattern=None)\n",
    "\n",
    "# For Train Set\n",
    "train_texts = vectorizer.fit_transform(train_data['text'])\n",
    "train_texts = pd.DataFrame(train_texts.toarray(), columns=vectorizer.get_feature_names_out())\n",
    "\n",
    "\n",
    "# For Test Set\n",
    "test_texts  = vectorizer.transform(test_data['text'])\n",
    "test_texts  = pd.DataFrame(test_texts.toarray(), columns=vectorizer.get_feature_names_out())"
   ]
  },
  {
   "cell_type": "code",
   "execution_count": 79,
   "metadata": {},
   "outputs": [],
   "source": [
    "# Generating final sets\n",
    "\n",
    "# Train Set\n",
    "xtrain = train_data.drop(columns=['id', 'keyword', 'location', 'text', 'country', 'target'])\n",
    "xtrain = pd.concat([xtrain, train_texts], axis=1)\n",
    "\n",
    "ytrain = train_data['target']\n",
    "\n",
    "# Test Set\n",
    "xtest = test_data.drop(columns=['id', 'keyword', 'location', 'text', 'country'])\n",
    "xtest = pd.concat([xtest, test_texts], axis=1)"
   ]
  },
  {
   "cell_type": "code",
   "execution_count": 80,
   "metadata": {},
   "outputs": [
    {
     "data": {
      "text/plain": [
       "Index(['num chars', 'num special chars', 'country freq', 'keyword_0',\n",
       "       'keyword_1', 'keyword_2', 'keyword_3', 'keyword_4', 'keyword_5',\n",
       "       'keyword_6',\n",
       "       ...\n",
       "       'youth', 'yr', 'yuan', 'zero', 'zionism', 'zionist', 'zo', 'zombie',\n",
       "       'zone', 'zoom'],\n",
       "      dtype='object', length=5353)"
      ]
     },
     "execution_count": 80,
     "metadata": {},
     "output_type": "execute_result"
    }
   ],
   "source": [
    "xtrain.columns"
   ]
  },
  {
   "cell_type": "code",
   "execution_count": 81,
   "metadata": {},
   "outputs": [
    {
     "name": "stdout",
     "output_type": "stream",
     "text": [
      "Fitting 5 folds for each of 9 candidates, totalling 45 fits\n",
      "------ Train, Validation and Test sets info ------\n",
      "X train size: (6471, 5353)\n",
      "Y train size: (6471,)\n",
      "X validation size: (1142, 5353)\n",
      "Y validation size: (1142,)\n",
      "X test size: (3263, 5353)\n",
      "------ Grid search model selection info ------\n",
      "Best parameter (CV score=0.768):\n",
      "Best parameters:  {'RF__max_depth': 15, 'RF__n_estimators': 200}\n",
      "Best index:  8\n",
      "Best estimator:  Pipeline(steps=[('RF', RandomForestClassifier(max_depth=15, n_estimators=200))])\n"
     ]
    }
   ],
   "source": [
    "# Spitting datasets\n",
    "xtrain, xvalid, ytrain, yvalid = train_test_split(xtrain, ytrain, test_size=0.15, random_state=42)\n",
    "\n",
    "# initiate the ML model using Gini Impurity algorithm (default)\n",
    "RF = RandomForestClassifier() \n",
    "    \n",
    "# Set the steps of the pipeline\n",
    "pipe = Pipeline([(\"RF\", RF)])\n",
    "\n",
    "# Set the parameters grid to be tested.Parameters of pipelines can be set using ‘__’ separated parameter names: \n",
    "param_grid = {\"RF__n_estimators\": [100, 150, 200],\n",
    "              \"RF__max_depth\":[7, 10, 15],\n",
    "             } \n",
    "\n",
    "scoring_list = [\"roc_auc\", \"accuracy\"]\n",
    "\n",
    "# set the Grid search CV\n",
    "search = GridSearchCV(pipe, \n",
    "                      param_grid, \n",
    "                      n_jobs=2, \n",
    "                      scoring=scoring_list,\n",
    "                      refit='roc_auc',\n",
    "                      verbose=2,\n",
    "                      return_train_score=True,\n",
    "                      cv=5\n",
    "                     )\n",
    "\n",
    "search.fit(xtrain, ytrain)\n",
    "results = search.cv_results_\n",
    "method = search.best_estimator_\n",
    "\n",
    "# Printing data sets info\n",
    "print('------ Train, Validation and Test sets info ------')\n",
    "print('X train size:', xtrain.shape)\n",
    "print('Y train size:', ytrain.shape)\n",
    "print('X validation size:', xvalid.shape)\n",
    "print('Y validation size:', yvalid.shape)\n",
    "print('X test size:', xtest.shape)\n",
    "\n",
    "# Printing grid search info\n",
    "print('------ Grid search model selection info ------')\n",
    "print(\"Best parameter (CV score=%0.3f):\" % search.best_score_)\n",
    "print(\"Best parameters: \", search.best_params_)\n",
    "print(\"Best index: \", search.best_index_)\n",
    "print(\"Best estimator: \", search.best_estimator_)"
   ]
  },
  {
   "cell_type": "code",
   "execution_count": 82,
   "metadata": {},
   "outputs": [
    {
     "data": {
      "text/html": [
       "<div>\n",
       "<style scoped>\n",
       "    .dataframe tbody tr th:only-of-type {\n",
       "        vertical-align: middle;\n",
       "    }\n",
       "\n",
       "    .dataframe tbody tr th {\n",
       "        vertical-align: top;\n",
       "    }\n",
       "\n",
       "    .dataframe thead th {\n",
       "        text-align: right;\n",
       "    }\n",
       "</style>\n",
       "<table border=\"1\" class=\"dataframe\">\n",
       "  <thead>\n",
       "    <tr style=\"text-align: right;\">\n",
       "      <th></th>\n",
       "      <th>0</th>\n",
       "      <th>1</th>\n",
       "    </tr>\n",
       "  </thead>\n",
       "  <tbody>\n",
       "    <tr>\n",
       "      <th>0</th>\n",
       "      <td>0.688920</td>\n",
       "      <td>0.311080</td>\n",
       "    </tr>\n",
       "    <tr>\n",
       "      <th>1</th>\n",
       "      <td>0.614328</td>\n",
       "      <td>0.385672</td>\n",
       "    </tr>\n",
       "    <tr>\n",
       "      <th>2</th>\n",
       "      <td>0.511863</td>\n",
       "      <td>0.488137</td>\n",
       "    </tr>\n",
       "    <tr>\n",
       "      <th>3</th>\n",
       "      <td>0.635109</td>\n",
       "      <td>0.364891</td>\n",
       "    </tr>\n",
       "    <tr>\n",
       "      <th>4</th>\n",
       "      <td>0.627949</td>\n",
       "      <td>0.372051</td>\n",
       "    </tr>\n",
       "    <tr>\n",
       "      <th>...</th>\n",
       "      <td>...</td>\n",
       "      <td>...</td>\n",
       "    </tr>\n",
       "    <tr>\n",
       "      <th>1137</th>\n",
       "      <td>0.539044</td>\n",
       "      <td>0.460956</td>\n",
       "    </tr>\n",
       "    <tr>\n",
       "      <th>1138</th>\n",
       "      <td>0.614628</td>\n",
       "      <td>0.385372</td>\n",
       "    </tr>\n",
       "    <tr>\n",
       "      <th>1139</th>\n",
       "      <td>0.508141</td>\n",
       "      <td>0.491859</td>\n",
       "    </tr>\n",
       "    <tr>\n",
       "      <th>1140</th>\n",
       "      <td>0.553679</td>\n",
       "      <td>0.446321</td>\n",
       "    </tr>\n",
       "    <tr>\n",
       "      <th>1141</th>\n",
       "      <td>0.635500</td>\n",
       "      <td>0.364500</td>\n",
       "    </tr>\n",
       "  </tbody>\n",
       "</table>\n",
       "<p>1142 rows × 2 columns</p>\n",
       "</div>"
      ],
      "text/plain": [
       "             0         1\n",
       "0     0.688920  0.311080\n",
       "1     0.614328  0.385672\n",
       "2     0.511863  0.488137\n",
       "3     0.635109  0.364891\n",
       "4     0.627949  0.372051\n",
       "...        ...       ...\n",
       "1137  0.539044  0.460956\n",
       "1138  0.614628  0.385372\n",
       "1139  0.508141  0.491859\n",
       "1140  0.553679  0.446321\n",
       "1141  0.635500  0.364500\n",
       "\n",
       "[1142 rows x 2 columns]"
      ]
     },
     "execution_count": 82,
     "metadata": {},
     "output_type": "execute_result"
    }
   ],
   "source": [
    "ypred_RF = method.predict_proba(xvalid)\n",
    "pd.DataFrame(ypred_RF)"
   ]
  },
  {
   "cell_type": "code",
   "execution_count": 83,
   "metadata": {},
   "outputs": [
    {
     "data": {
      "text/html": [
       "<div>\n",
       "<style scoped>\n",
       "    .dataframe tbody tr th:only-of-type {\n",
       "        vertical-align: middle;\n",
       "    }\n",
       "\n",
       "    .dataframe tbody tr th {\n",
       "        vertical-align: top;\n",
       "    }\n",
       "\n",
       "    .dataframe thead th {\n",
       "        text-align: right;\n",
       "    }\n",
       "</style>\n",
       "<table border=\"1\" class=\"dataframe\">\n",
       "  <thead>\n",
       "    <tr style=\"text-align: right;\">\n",
       "      <th></th>\n",
       "      <th>0</th>\n",
       "      <th>1</th>\n",
       "    </tr>\n",
       "  </thead>\n",
       "  <tbody>\n",
       "    <tr>\n",
       "      <th>0</th>\n",
       "      <td>0.688920</td>\n",
       "      <td>0.311080</td>\n",
       "    </tr>\n",
       "    <tr>\n",
       "      <th>1</th>\n",
       "      <td>0.614328</td>\n",
       "      <td>0.385672</td>\n",
       "    </tr>\n",
       "    <tr>\n",
       "      <th>2</th>\n",
       "      <td>0.511863</td>\n",
       "      <td>0.488137</td>\n",
       "    </tr>\n",
       "    <tr>\n",
       "      <th>3</th>\n",
       "      <td>0.635109</td>\n",
       "      <td>0.364891</td>\n",
       "    </tr>\n",
       "    <tr>\n",
       "      <th>4</th>\n",
       "      <td>0.627949</td>\n",
       "      <td>0.372051</td>\n",
       "    </tr>\n",
       "    <tr>\n",
       "      <th>...</th>\n",
       "      <td>...</td>\n",
       "      <td>...</td>\n",
       "    </tr>\n",
       "    <tr>\n",
       "      <th>1137</th>\n",
       "      <td>0.539044</td>\n",
       "      <td>0.460956</td>\n",
       "    </tr>\n",
       "    <tr>\n",
       "      <th>1138</th>\n",
       "      <td>0.614628</td>\n",
       "      <td>0.385372</td>\n",
       "    </tr>\n",
       "    <tr>\n",
       "      <th>1139</th>\n",
       "      <td>0.508141</td>\n",
       "      <td>0.491859</td>\n",
       "    </tr>\n",
       "    <tr>\n",
       "      <th>1140</th>\n",
       "      <td>0.553679</td>\n",
       "      <td>0.446321</td>\n",
       "    </tr>\n",
       "    <tr>\n",
       "      <th>1141</th>\n",
       "      <td>0.635500</td>\n",
       "      <td>0.364500</td>\n",
       "    </tr>\n",
       "  </tbody>\n",
       "</table>\n",
       "<p>1142 rows × 2 columns</p>\n",
       "</div>"
      ],
      "text/plain": [
       "             0         1\n",
       "0     0.688920  0.311080\n",
       "1     0.614328  0.385672\n",
       "2     0.511863  0.488137\n",
       "3     0.635109  0.364891\n",
       "4     0.627949  0.372051\n",
       "...        ...       ...\n",
       "1137  0.539044  0.460956\n",
       "1138  0.614628  0.385372\n",
       "1139  0.508141  0.491859\n",
       "1140  0.553679  0.446321\n",
       "1141  0.635500  0.364500\n",
       "\n",
       "[1142 rows x 2 columns]"
      ]
     },
     "execution_count": 83,
     "metadata": {},
     "output_type": "execute_result"
    }
   ],
   "source": [
    "ypredproba_RF = method.predict_proba(xvalid)\n",
    "pd.DataFrame(ypredproba_RF)"
   ]
  },
  {
   "cell_type": "code",
   "execution_count": 84,
   "metadata": {},
   "outputs": [],
   "source": [
    "ypred_RF=method.predict(xvalid)"
   ]
  },
  {
   "cell_type": "code",
   "execution_count": 85,
   "metadata": {},
   "outputs": [
    {
     "data": {
      "text/plain": [
       "(1142,)"
      ]
     },
     "execution_count": 85,
     "metadata": {},
     "output_type": "execute_result"
    }
   ],
   "source": [
    "yvalid.shape"
   ]
  },
  {
   "cell_type": "code",
   "execution_count": 88,
   "metadata": {},
   "outputs": [
    {
     "data": {
      "text/plain": [
       "array([[646,   5],\n",
       "       [396,  95]])"
      ]
     },
     "execution_count": 88,
     "metadata": {},
     "output_type": "execute_result"
    }
   ],
   "source": [
    "cnf_matrix = metrics.confusion_matrix(yvalid, ypred_RF)\n",
    "cnf_matrix"
   ]
  },
  {
   "cell_type": "code",
   "execution_count": 89,
   "metadata": {},
   "outputs": [
    {
     "data": {
      "text/plain": [
       "Text(0.5, 257.44, 'Predicted label')"
      ]
     },
     "execution_count": 89,
     "metadata": {},
     "output_type": "execute_result"
    },
    {
     "data": {
      "image/png": "[encoded data removed]",
      "text/plain": [
       "<Figure size 432x288 with 2 Axes>"
      ]
     },
     "metadata": {
      "needs_background": "light"
     },
     "output_type": "display_data"
    }
   ],
   "source": [
    "class_names=[0,1] # name  of classes\n",
    "fig, ax = plt.subplots()\n",
    "tick_marks = np.arange(2)\n",
    "\n",
    "plt.xticks(tick_marks, class_names)\n",
    "plt.yticks(tick_marks, class_names)\n",
    "\n",
    "#labels =  ['A','B','C','D']\n",
    "#labels = np.array([['A', 'B'],['C', 'D']])\n",
    "\n",
    "# create heatmap\n",
    "sns.heatmap(pd.DataFrame(cnf_matrix), annot=True, cmap=\"BuPu\" ,fmt='g')\n",
    "ax.xaxis.set_label_position(\"top\")\n",
    "plt.tight_layout()\n",
    "plt.title('Confusion matrix', y=1.1)\n",
    "plt.ylabel('Actual label')\n",
    "plt.xlabel('Predicted label')"
   ]
  },
  {
   "cell_type": "markdown",
   "metadata": {},
   "source": [
    "  "
   ]
  },
  {
   "cell_type": "markdown",
   "metadata": {},
   "source": [
    " "
   ]
  },
  {
   "cell_type": "markdown",
   "metadata": {},
   "source": [
    "### Training the 2nd model"
   ]
  },
  {
   "cell_type": "markdown",
   "metadata": {},
   "source": [
    "**This time, instead of performing encoding with TF-IDF, we will vectorize the 'text' feature using SpaCy pre-trained embbeding**"
   ]
  },
  {
   "cell_type": "code",
   "execution_count": 90,
   "metadata": {},
   "outputs": [],
   "source": [
    "# Load the spacy model that you have installed\n",
    "nlp = spacy.load('en_core_web_md')"
   ]
  },
  {
   "cell_type": "code",
   "execution_count": 91,
   "metadata": {},
   "outputs": [],
   "source": [
    "class WordVectorTransformer(TransformerMixin,BaseEstimator):\n",
    "    def __init__(self, model=\"en_core_web_md\"):\n",
    "        self.model = model\n",
    "\n",
    "    def fit(self,X,y=None):\n",
    "        return self\n",
    "\n",
    "    def transform(self,X):\n",
    "        nlp = spacy.load(self.model)\n",
    "        return np.concatenate([nlp(doc).vector.reshape(1,-1) for doc in X])"
   ]
  },
  {
   "cell_type": "code",
   "execution_count": 92,
   "metadata": {},
   "outputs": [],
   "source": [
    "transformer = WordVectorTransformer()\n",
    "train_arr = transformer.fit_transform(train_data['text'])\n",
    "test_arr  = transformer.fit_transform(test_data['text'])"
   ]
  },
  {
   "cell_type": "code",
   "execution_count": 93,
   "metadata": {},
   "outputs": [],
   "source": [
    "df_train = pd.DataFrame(train_arr, columns =['col'+str(i) for i in range(1,301)])\n",
    "df_test  = pd.DataFrame(test_arr, columns =['col'+str(i) for i in range(1,301)])"
   ]
  },
  {
   "cell_type": "code",
   "execution_count": 94,
   "metadata": {},
   "outputs": [],
   "source": [
    "# Generating final sets\n",
    "\n",
    "# Train Set\n",
    "xtrain2 = train_data.drop(columns=['id', 'keyword', 'location', 'text', 'country', 'target'])\n",
    "xtrain2 = pd.concat([xtrain2, df_train], axis=1)\n",
    "\n",
    "ytrain = train_data['target']\n",
    "\n",
    "# Test Set\n",
    "xtest2 = test_data.drop(columns=['id', 'keyword', 'location', 'text', 'country'])\n",
    "xtest2 = pd.concat([xtest2, df_test], axis=1)"
   ]
  },
  {
   "cell_type": "code",
   "execution_count": 95,
   "metadata": {},
   "outputs": [
    {
     "data": {
      "text/plain": [
       "Index(['num chars', 'num special chars', 'country freq', 'keyword_0',\n",
       "       'keyword_1', 'keyword_2', 'keyword_3', 'keyword_4', 'keyword_5',\n",
       "       'keyword_6',\n",
       "       ...\n",
       "       'col291', 'col292', 'col293', 'col294', 'col295', 'col296', 'col297',\n",
       "       'col298', 'col299', 'col300'],\n",
       "      dtype='object', length=311)"
      ]
     },
     "execution_count": 95,
     "metadata": {},
     "output_type": "execute_result"
    }
   ],
   "source": [
    "xtest2.columns"
   ]
  },
  {
   "cell_type": "code",
   "execution_count": 96,
   "metadata": {},
   "outputs": [
    {
     "name": "stdout",
     "output_type": "stream",
     "text": [
      "Fitting 5 folds for each of 9 candidates, totalling 45 fits\n",
      "------ Train, Validation and Test sets info ------\n",
      "X train size: (6471, 311)\n",
      "Y train size: (6471,)\n",
      "X validation size: (1142, 311)\n",
      "Y validation size: (1142,)\n",
      "X test size: (3263, 311)\n",
      "------ Grid search model selection info ------\n",
      "Best parameter (CV score=0.790):\n",
      "Best parameters:  {'RF__max_depth': 15, 'RF__n_estimators': 200}\n",
      "Best index:  8\n",
      "Best estimator:  Pipeline(steps=[('RF', RandomForestClassifier(max_depth=15, n_estimators=200))])\n"
     ]
    }
   ],
   "source": [
    "# Spitting datasets\n",
    "xtrain2, xvalid2, ytrain, yvalid2 = train_test_split(xtrain2, ytrain, test_size=0.15, random_state=42)\n",
    "\n",
    "# initiate the ML model using Gini Impurity algorithm (default)\n",
    "RF = RandomForestClassifier() \n",
    "    \n",
    "# Set the steps of the pipeline\n",
    "pipe = Pipeline([(\"RF\", RF)])\n",
    "\n",
    "# Set the parameters grid to be tested.Parameters of pipelines can be set using ‘__’ separated parameter names: \n",
    "param_grid = {\"RF__n_estimators\": [100, 150, 200],\n",
    "              \"RF__max_depth\":[7, 10, 15],\n",
    "             } \n",
    "\n",
    "scoring_list = [\"roc_auc\", \"accuracy\"]\n",
    "\n",
    "# set the Grid search CV\n",
    "search2 = GridSearchCV(pipe, \n",
    "                      param_grid, \n",
    "                      n_jobs=2, \n",
    "                      scoring=scoring_list,\n",
    "                      refit='roc_auc',\n",
    "                      verbose=2,\n",
    "                      return_train_score=True,\n",
    "                      cv=5\n",
    "                     )\n",
    "\n",
    "search2.fit(xtrain2, ytrain)\n",
    "results2 = search2.cv_results_\n",
    "method2 = search2.best_estimator_\n",
    "\n",
    "# Printing data sets info\n",
    "print('------ Train, Validation and Test sets info ------')\n",
    "print('X train size:', xtrain2.shape)\n",
    "print('Y train size:', ytrain.shape)\n",
    "print('X validation size:', xvalid2.shape)\n",
    "print('Y validation size:', yvalid2.shape)\n",
    "print('X test size:', xtest2.shape)\n",
    "\n",
    "# Printing grid search info\n",
    "print('------ Grid search model selection info ------')\n",
    "print(\"Best parameter (CV score=%0.3f):\" % search2.best_score_)\n",
    "print(\"Best parameters: \", search2.best_params_)\n",
    "print(\"Best index: \", search2.best_index_)\n",
    "print(\"Best estimator: \", search2.best_estimator_)"
   ]
  },
  {
   "cell_type": "code",
   "execution_count": 97,
   "metadata": {},
   "outputs": [
    {
     "data": {
      "text/html": [
       "<div>\n",
       "<style scoped>\n",
       "    .dataframe tbody tr th:only-of-type {\n",
       "        vertical-align: middle;\n",
       "    }\n",
       "\n",
       "    .dataframe tbody tr th {\n",
       "        vertical-align: top;\n",
       "    }\n",
       "\n",
       "    .dataframe thead th {\n",
       "        text-align: right;\n",
       "    }\n",
       "</style>\n",
       "<table border=\"1\" class=\"dataframe\">\n",
       "  <thead>\n",
       "    <tr style=\"text-align: right;\">\n",
       "      <th></th>\n",
       "      <th>0</th>\n",
       "      <th>1</th>\n",
       "    </tr>\n",
       "  </thead>\n",
       "  <tbody>\n",
       "    <tr>\n",
       "      <th>0</th>\n",
       "      <td>0.542767</td>\n",
       "      <td>0.457233</td>\n",
       "    </tr>\n",
       "    <tr>\n",
       "      <th>1</th>\n",
       "      <td>0.805982</td>\n",
       "      <td>0.194018</td>\n",
       "    </tr>\n",
       "    <tr>\n",
       "      <th>2</th>\n",
       "      <td>0.308492</td>\n",
       "      <td>0.691508</td>\n",
       "    </tr>\n",
       "    <tr>\n",
       "      <th>3</th>\n",
       "      <td>0.850148</td>\n",
       "      <td>0.149852</td>\n",
       "    </tr>\n",
       "    <tr>\n",
       "      <th>4</th>\n",
       "      <td>0.606554</td>\n",
       "      <td>0.393446</td>\n",
       "    </tr>\n",
       "    <tr>\n",
       "      <th>...</th>\n",
       "      <td>...</td>\n",
       "      <td>...</td>\n",
       "    </tr>\n",
       "    <tr>\n",
       "      <th>1137</th>\n",
       "      <td>0.465533</td>\n",
       "      <td>0.534467</td>\n",
       "    </tr>\n",
       "    <tr>\n",
       "      <th>1138</th>\n",
       "      <td>0.217581</td>\n",
       "      <td>0.782419</td>\n",
       "    </tr>\n",
       "    <tr>\n",
       "      <th>1139</th>\n",
       "      <td>0.259436</td>\n",
       "      <td>0.740564</td>\n",
       "    </tr>\n",
       "    <tr>\n",
       "      <th>1140</th>\n",
       "      <td>0.508037</td>\n",
       "      <td>0.491963</td>\n",
       "    </tr>\n",
       "    <tr>\n",
       "      <th>1141</th>\n",
       "      <td>0.579518</td>\n",
       "      <td>0.420482</td>\n",
       "    </tr>\n",
       "  </tbody>\n",
       "</table>\n",
       "<p>1142 rows × 2 columns</p>\n",
       "</div>"
      ],
      "text/plain": [
       "             0         1\n",
       "0     0.542767  0.457233\n",
       "1     0.805982  0.194018\n",
       "2     0.308492  0.691508\n",
       "3     0.850148  0.149852\n",
       "4     0.606554  0.393446\n",
       "...        ...       ...\n",
       "1137  0.465533  0.534467\n",
       "1138  0.217581  0.782419\n",
       "1139  0.259436  0.740564\n",
       "1140  0.508037  0.491963\n",
       "1141  0.579518  0.420482\n",
       "\n",
       "[1142 rows x 2 columns]"
      ]
     },
     "execution_count": 97,
     "metadata": {},
     "output_type": "execute_result"
    }
   ],
   "source": [
    "ypredproba2_RF = method2.predict_proba(xvalid2)\n",
    "pd.DataFrame(ypredproba2_RF)"
   ]
  },
  {
   "cell_type": "code",
   "execution_count": 98,
   "metadata": {},
   "outputs": [],
   "source": [
    "ypred2_RF=method2.predict(xvalid2)"
   ]
  },
  {
   "cell_type": "code",
   "execution_count": 99,
   "metadata": {},
   "outputs": [
    {
     "data": {
      "text/plain": [
       "array([[537, 114],\n",
       "       [182, 309]])"
      ]
     },
     "execution_count": 99,
     "metadata": {},
     "output_type": "execute_result"
    }
   ],
   "source": [
    "cnf_matrix2 = metrics.confusion_matrix(yvalid2, ypred2_RF)\n",
    "cnf_matrix2"
   ]
  },
  {
   "cell_type": "code",
   "execution_count": 100,
   "metadata": {},
   "outputs": [
    {
     "data": {
      "text/plain": [
       "Text(0.5, 257.44, 'Predicted label')"
      ]
     },
     "execution_count": 100,
     "metadata": {},
     "output_type": "execute_result"
    },
    {
     "data": {
      "image/png": "[encoded data removed]",
      "text/plain": [
       "<Figure size 432x288 with 2 Axes>"
      ]
     },
     "metadata": {
      "needs_background": "light"
     },
     "output_type": "display_data"
    }
   ],
   "source": [
    "class_names=[0,1] # name  of classes\n",
    "fig, ax = plt.subplots()\n",
    "tick_marks = np.arange(2)\n",
    "\n",
    "plt.xticks(tick_marks, class_names)\n",
    "plt.yticks(tick_marks, class_names)\n",
    "\n",
    "#labels =  ['A','B','C','D']\n",
    "#labels = np.array([['A', 'B'],['C', 'D']])\n",
    "\n",
    "# create heatmap\n",
    "sns.heatmap(pd.DataFrame(cnf_matrix2), annot=True, cmap=\"BuPu\" ,fmt='g')\n",
    "ax.xaxis.set_label_position(\"top\")\n",
    "plt.tight_layout()\n",
    "plt.title('Confusion matrix', y=1.1)\n",
    "plt.ylabel('Actual label')\n",
    "plt.xlabel('Predicted label')"
   ]
  },
  {
   "cell_type": "code",
   "execution_count": 105,
   "metadata": {},
   "outputs": [
    {
     "name": "stdout",
     "output_type": "stream",
     "text": [
      "Classification Report\n",
      "              precision    recall  f1-score   support\n",
      "\n",
      "           1       0.73      0.63      0.68       491\n",
      "           0       0.75      0.82      0.78       651\n",
      "\n",
      "    accuracy                           0.74      1142\n",
      "   macro avg       0.74      0.73      0.73      1142\n",
      "weighted avg       0.74      0.74      0.74      1142\n",
      "\n"
     ]
    }
   ],
   "source": [
    "from sklearn.metrics import classification_report\n",
    "print('Classification Report')\n",
    "print(metrics.classification_report(yvalid2, ypred2_RF, labels=[1,0]))"
   ]
  },
  {
   "cell_type": "code",
   "execution_count": 103,
   "metadata": {},
   "outputs": [
    {
     "data": {
      "text/plain": [
       "<sklearn.metrics._plot.roc_curve.RocCurveDisplay at 0x7f5960863970>"
      ]
     },
     "execution_count": 103,
     "metadata": {},
     "output_type": "execute_result"
    },
    {
     "data": {
      "image/png": "[encoded data removed]",
      "text/plain": [
       "<Figure size 432x288 with 1 Axes>"
      ]
     },
     "metadata": {
      "needs_background": "light"
     },
     "output_type": "display_data"
    }
   ],
   "source": [
    "from sklearn.metrics import RocCurveDisplay\n",
    "RocCurveDisplay.from_predictions(yvalid2, ypred2_RF)"
   ]
  },
  {
   "cell_type": "markdown",
   "metadata": {},
   "source": [
    " "
   ]
  },
  {
   "cell_type": "markdown",
   "metadata": {},
   "source": [
    " "
   ]
  },
  {
   "cell_type": "markdown",
   "metadata": {},
   "source": [
    "**Changing country information**"
   ]
  },
  {
   "cell_type": "code",
   "execution_count": 107,
   "metadata": {},
   "outputs": [],
   "source": [
    "new_train = train_copy.copy()\n",
    "new_test  = test_copy.copy()"
   ]
  },
  {
   "cell_type": "code",
   "execution_count": 118,
   "metadata": {},
   "outputs": [],
   "source": [
    "def create_country_binary(df):\n",
    "    \n",
    "    '''Encodes country information in a different way:\n",
    "    0: no country info\n",
    "    1: there is country info'''\n",
    "    \n",
    "    \n",
    "    df['country binary']= np.where(df.country=='NAN', 0, 1)\n",
    "    \n",
    "    return df"
   ]
  },
  {
   "cell_type": "code",
   "execution_count": 119,
   "metadata": {},
   "outputs": [],
   "source": [
    "new_train = create_country_binary(new_train)\n",
    "new_test  = create_country_binary(new_test)"
   ]
  },
  {
   "cell_type": "markdown",
   "metadata": {},
   "source": [
    "Let us use the SpaCy embbedings for the 'text' field and now use this new encoding for countries"
   ]
  },
  {
   "cell_type": "code",
   "execution_count": 128,
   "metadata": {},
   "outputs": [],
   "source": [
    "# Generating final sets\n",
    "\n",
    "# Train Set\n",
    "xtrain3 = new_train.drop(columns=['id', 'keyword', 'location', 'text', 'country', 'target'])\n",
    "xtrain3 = pd.concat([xtrain3, df_train], axis=1)\n",
    "\n",
    "ytrain = train_data['target']\n",
    "\n",
    "# Test Set\n",
    "xtest3 = new_test.drop(columns=['id', 'keyword', 'location', 'text', 'country'])\n",
    "xtest3 = pd.concat([xtest3, df_test], axis=1)"
   ]
  },
  {
   "cell_type": "code",
   "execution_count": 129,
   "metadata": {},
   "outputs": [
    {
     "data": {
      "text/plain": [
       "True"
      ]
     },
     "execution_count": 129,
     "metadata": {},
     "output_type": "execute_result"
    }
   ],
   "source": [
    "'country binary' in xtrain3.columns"
   ]
  },
  {
   "cell_type": "code",
   "execution_count": 130,
   "metadata": {},
   "outputs": [
    {
     "name": "stdout",
     "output_type": "stream",
     "text": [
      "Fitting 5 folds for each of 9 candidates, totalling 45 fits\n",
      "------ Train, Validation and Test sets info ------\n",
      "X train size: (6471, 312)\n",
      "Y train size: (6471,)\n",
      "X validation size: (1142, 312)\n",
      "Y validation size: (1142,)\n",
      "X test size: (3263, 312)\n",
      "------ Grid search model selection info ------\n",
      "Best parameter (CV score=0.790):\n",
      "Best parameters:  {'RF__max_depth': 10, 'RF__n_estimators': 200}\n",
      "Best index:  5\n",
      "Best estimator:  Pipeline(steps=[('RF', RandomForestClassifier(max_depth=10, n_estimators=200))])\n"
     ]
    }
   ],
   "source": [
    "# Spitting datasets\n",
    "xtrain3, xvalid3, ytrain, yvalid3 = train_test_split(xtrain3, ytrain, test_size=0.15, random_state=42)\n",
    "\n",
    "# initiate the ML model using Gini Impurity algorithm (default)\n",
    "RF = RandomForestClassifier() \n",
    "    \n",
    "# Set the steps of the pipeline\n",
    "pipe = Pipeline([(\"RF\", RF)])\n",
    "\n",
    "# Set the parameters grid to be tested.Parameters of pipelines can be set using ‘__’ separated parameter names: \n",
    "param_grid = {\"RF__n_estimators\": [100, 150, 200],\n",
    "              \"RF__max_depth\":[7, 10, 15],\n",
    "             } \n",
    "\n",
    "scoring_list = [\"roc_auc\", \"accuracy\"]\n",
    "\n",
    "# set the Grid search CV\n",
    "search3 = GridSearchCV(pipe, \n",
    "                      param_grid, \n",
    "                      n_jobs=2, \n",
    "                      scoring=scoring_list,\n",
    "                      refit='roc_auc',\n",
    "                      verbose=2,\n",
    "                      return_train_score=True,\n",
    "                      cv=5\n",
    "                     )\n",
    "\n",
    "search3.fit(xtrain3, ytrain)\n",
    "results3 = search3.cv_results_\n",
    "method3 = search3.best_estimator_\n",
    "\n",
    "# Printing data sets info\n",
    "print('------ Train, Validation and Test sets info ------')\n",
    "print('X train size:', xtrain3.shape)\n",
    "print('Y train size:', ytrain.shape)\n",
    "print('X validation size:', xvalid3.shape)\n",
    "print('Y validation size:', yvalid3.shape)\n",
    "print('X test size:', xtest3.shape)\n",
    "\n",
    "# Printing grid search info\n",
    "print('------ Grid search model selection info ------')\n",
    "print(\"Best parameter (CV score=%0.3f):\" % search3.best_score_)\n",
    "print(\"Best parameters: \", search3.best_params_)\n",
    "print(\"Best index: \", search3.best_index_)\n",
    "print(\"Best estimator: \", search3.best_estimator_)"
   ]
  },
  {
   "cell_type": "markdown",
   "metadata": {},
   "source": [
    " "
   ]
  },
  {
   "cell_type": "markdown",
   "metadata": {},
   "source": [
    "**Let us try another ML model**"
   ]
  },
  {
   "cell_type": "code",
   "execution_count": 132,
   "metadata": {},
   "outputs": [],
   "source": [
    "xtrain4 = xtrain3\n",
    "xtest4  = xtest3"
   ]
  },
  {
   "cell_type": "code",
   "execution_count": 155,
   "metadata": {},
   "outputs": [],
   "source": [
    "# Generating final sets\n",
    "\n",
    "# Train Set\n",
    "xtrain4 = new_train.drop(columns=['id', 'keyword', 'location', 'text', 'country', 'target'])\n",
    "xtrain4 = pd.concat([xtrain4, df_train], axis=1)\n",
    "\n",
    "ytrain = train_data['target']\n",
    "\n",
    "# Test Set\n",
    "xtest4 = new_test.drop(columns=['id', 'keyword', 'location', 'text', 'country'])\n",
    "xtest4 = pd.concat([xtest4, df_test], axis=1)"
   ]
  },
  {
   "cell_type": "code",
   "execution_count": 156,
   "metadata": {},
   "outputs": [],
   "source": [
    "from lightgbm import LGBMClassifier"
   ]
  },
  {
   "cell_type": "code",
   "execution_count": 157,
   "metadata": {},
   "outputs": [
    {
     "name": "stdout",
     "output_type": "stream",
     "text": [
      "Fitting 5 folds for each of 27 candidates, totalling 135 fits\n",
      "------ Train, Validation and Test sets info ------\n",
      "X train size: (6471, 312)\n",
      "Y train size: (6471,)\n",
      "X validation size: (1142, 312)\n",
      "Y validation size: (1142,)\n",
      "X test size: (3263, 312)\n",
      "------ Grid search model selection info ------\n",
      "Best parameter (CV score=0.805):\n",
      "Best parameters:  {'LGBM__learning_rate': 0.1, 'LGBM__max_depth': 10, 'LGBM__n_estimators': 100}\n",
      "Best index:  26\n",
      "Best estimator:  Pipeline(steps=[('LGBM', LGBMClassifier(max_depth=10))])\n"
     ]
    }
   ],
   "source": [
    "# Spitting datasets\n",
    "xtrain4, xvalid4, ytrain, yvalid4 = train_test_split(xtrain4, ytrain, test_size=0.15, random_state=42)\n",
    "\n",
    "# initiate the ML model using Gini Impurity algorithm (default)\n",
    "LGBM = LGBMClassifier() \n",
    "    \n",
    "# Set the steps of the pipeline\n",
    "pipe = Pipeline([(\"LGBM\", LGBM)])\n",
    "\n",
    "# Set the parameters grid to be tested.Parameters of pipelines can be set using ‘__’ separated parameter names: \n",
    "param_grid = {\"LGBM__n_estimators\": [50, 75, 100],\n",
    "              \"LGBM__learning_rate\":[0.001, 0.01, 0.1],\n",
    "              \"LGBM__max_depth\": [3, 5, 10]\n",
    "             } \n",
    "\n",
    "\n",
    "scoring_list = [\"roc_auc\", \"accuracy\"]\n",
    "\n",
    "# set the Grid search CV\n",
    "search4 = GridSearchCV(pipe, \n",
    "                      param_grid, \n",
    "                      n_jobs=2, \n",
    "                      scoring=scoring_list,\n",
    "                      refit='roc_auc',\n",
    "                      verbose=2,\n",
    "                      return_train_score=True,\n",
    "                      cv=5\n",
    "                     )\n",
    "\n",
    "search4.fit(xtrain4, ytrain)\n",
    "results4 = search4.cv_results_\n",
    "method4 = search4.best_estimator_\n",
    "\n",
    "# Printing data sets info\n",
    "print('------ Train, Validation and Test sets info ------')\n",
    "print('X train size:', xtrain4.shape)\n",
    "print('Y train size:', ytrain.shape)\n",
    "print('X validation size:', xvalid4.shape)\n",
    "print('Y validation size:', yvalid4.shape)\n",
    "print('X test size:', xtest4.shape)\n",
    "\n",
    "# Printing grid search info\n",
    "print('------ Grid search model selection info ------')\n",
    "print(\"Best parameter (CV score=%0.3f):\" % search4.best_score_)\n",
    "print(\"Best parameters: \", search4.best_params_)\n",
    "print(\"Best index: \", search4.best_index_)\n",
    "print(\"Best estimator: \", search4.best_estimator_)"
   ]
  },
  {
   "cell_type": "code",
   "execution_count": 158,
   "metadata": {},
   "outputs": [
    {
     "data": {
      "text/html": [
       "<div>\n",
       "<style scoped>\n",
       "    .dataframe tbody tr th:only-of-type {\n",
       "        vertical-align: middle;\n",
       "    }\n",
       "\n",
       "    .dataframe tbody tr th {\n",
       "        vertical-align: top;\n",
       "    }\n",
       "\n",
       "    .dataframe thead th {\n",
       "        text-align: right;\n",
       "    }\n",
       "</style>\n",
       "<table border=\"1\" class=\"dataframe\">\n",
       "  <thead>\n",
       "    <tr style=\"text-align: right;\">\n",
       "      <th></th>\n",
       "      <th>0</th>\n",
       "      <th>1</th>\n",
       "    </tr>\n",
       "  </thead>\n",
       "  <tbody>\n",
       "    <tr>\n",
       "      <th>0</th>\n",
       "      <td>0.708070</td>\n",
       "      <td>0.291930</td>\n",
       "    </tr>\n",
       "    <tr>\n",
       "      <th>1</th>\n",
       "      <td>0.849060</td>\n",
       "      <td>0.150940</td>\n",
       "    </tr>\n",
       "    <tr>\n",
       "      <th>2</th>\n",
       "      <td>0.105647</td>\n",
       "      <td>0.894353</td>\n",
       "    </tr>\n",
       "    <tr>\n",
       "      <th>3</th>\n",
       "      <td>0.904229</td>\n",
       "      <td>0.095771</td>\n",
       "    </tr>\n",
       "    <tr>\n",
       "      <th>4</th>\n",
       "      <td>0.689895</td>\n",
       "      <td>0.310105</td>\n",
       "    </tr>\n",
       "    <tr>\n",
       "      <th>...</th>\n",
       "      <td>...</td>\n",
       "      <td>...</td>\n",
       "    </tr>\n",
       "    <tr>\n",
       "      <th>1137</th>\n",
       "      <td>0.345062</td>\n",
       "      <td>0.654938</td>\n",
       "    </tr>\n",
       "    <tr>\n",
       "      <th>1138</th>\n",
       "      <td>0.186082</td>\n",
       "      <td>0.813918</td>\n",
       "    </tr>\n",
       "    <tr>\n",
       "      <th>1139</th>\n",
       "      <td>0.104054</td>\n",
       "      <td>0.895946</td>\n",
       "    </tr>\n",
       "    <tr>\n",
       "      <th>1140</th>\n",
       "      <td>0.650418</td>\n",
       "      <td>0.349582</td>\n",
       "    </tr>\n",
       "    <tr>\n",
       "      <th>1141</th>\n",
       "      <td>0.624120</td>\n",
       "      <td>0.375880</td>\n",
       "    </tr>\n",
       "  </tbody>\n",
       "</table>\n",
       "<p>1142 rows × 2 columns</p>\n",
       "</div>"
      ],
      "text/plain": [
       "             0         1\n",
       "0     0.708070  0.291930\n",
       "1     0.849060  0.150940\n",
       "2     0.105647  0.894353\n",
       "3     0.904229  0.095771\n",
       "4     0.689895  0.310105\n",
       "...        ...       ...\n",
       "1137  0.345062  0.654938\n",
       "1138  0.186082  0.813918\n",
       "1139  0.104054  0.895946\n",
       "1140  0.650418  0.349582\n",
       "1141  0.624120  0.375880\n",
       "\n",
       "[1142 rows x 2 columns]"
      ]
     },
     "execution_count": 158,
     "metadata": {},
     "output_type": "execute_result"
    }
   ],
   "source": [
    "ypredproba4_RF = method4.predict_proba(xvalid4)\n",
    "pd.DataFrame(ypredproba4_RF)"
   ]
  },
  {
   "cell_type": "code",
   "execution_count": 159,
   "metadata": {},
   "outputs": [],
   "source": [
    "ypred4_RF=method4.predict(xvalid4)"
   ]
  },
  {
   "cell_type": "code",
   "execution_count": 160,
   "metadata": {},
   "outputs": [
    {
     "data": {
      "text/plain": [
       "array([[544, 107],\n",
       "       [169, 322]])"
      ]
     },
     "execution_count": 160,
     "metadata": {},
     "output_type": "execute_result"
    }
   ],
   "source": [
    "cnf_matrix4 = metrics.confusion_matrix(yvalid4, ypred4_RF)\n",
    "cnf_matrix4"
   ]
  },
  {
   "cell_type": "code",
   "execution_count": 161,
   "metadata": {},
   "outputs": [
    {
     "data": {
      "text/plain": [
       "Text(0.5, 257.44, 'Predicted label')"
      ]
     },
     "execution_count": 161,
     "metadata": {},
     "output_type": "execute_result"
    },
    {
     "data": {
      "image/png": "[encoded data removed]",
      "text/plain": [
       "<Figure size 432x288 with 2 Axes>"
      ]
     },
     "metadata": {
      "needs_background": "light"
     },
     "output_type": "display_data"
    }
   ],
   "source": [
    "class_names=[0,1] # name  of classes\n",
    "fig, ax = plt.subplots()\n",
    "tick_marks = np.arange(2)\n",
    "\n",
    "plt.xticks(tick_marks, class_names)\n",
    "plt.yticks(tick_marks, class_names)\n",
    "\n",
    "#labels =  ['A','B','C','D']\n",
    "#labels = np.array([['A', 'B'],['C', 'D']])\n",
    "\n",
    "# create heatmap\n",
    "sns.heatmap(pd.DataFrame(cnf_matrix4), annot=True, cmap=\"BuPu\" ,fmt='g')\n",
    "ax.xaxis.set_label_position(\"top\")\n",
    "plt.tight_layout()\n",
    "plt.title('Confusion matrix', y=1.1)\n",
    "plt.ylabel('Actual label')\n",
    "plt.xlabel('Predicted label')"
   ]
  },
  {
   "cell_type": "code",
   "execution_count": 162,
   "metadata": {},
   "outputs": [
    {
     "name": "stdout",
     "output_type": "stream",
     "text": [
      "Classification Report\n",
      "              precision    recall  f1-score   support\n",
      "\n",
      "           1       0.75      0.66      0.70       491\n",
      "           0       0.76      0.84      0.80       651\n",
      "\n",
      "    accuracy                           0.76      1142\n",
      "   macro avg       0.76      0.75      0.75      1142\n",
      "weighted avg       0.76      0.76      0.76      1142\n",
      "\n"
     ]
    }
   ],
   "source": [
    "from sklearn.metrics import classification_report\n",
    "print('Classification Report')\n",
    "print(metrics.classification_report(yvalid4, ypred4_RF, labels=[1,0]))"
   ]
  },
  {
   "cell_type": "code",
   "execution_count": 163,
   "metadata": {},
   "outputs": [
    {
     "data": {
      "text/plain": [
       "<sklearn.metrics._plot.roc_curve.RocCurveDisplay at 0x7f598b0c24f0>"
      ]
     },
     "execution_count": 163,
     "metadata": {},
     "output_type": "execute_result"
    },
    {
     "data": {
      "image/png": "[encoded data removed]",
      "text/plain": [
       "<Figure size 432x288 with 1 Axes>"
      ]
     },
     "metadata": {
      "needs_background": "light"
     },
     "output_type": "display_data"
    }
   ],
   "source": [
    "RocCurveDisplay.from_predictions(yvalid4, ypred4_RF)"
   ]
  },
  {
   "cell_type": "markdown",
   "metadata": {},
   "source": [
    " "
   ]
  },
  {
   "cell_type": "markdown",
   "metadata": {},
   "source": [
    "**Logistic Regression**"
   ]
  },
  {
   "cell_type": "code",
   "execution_count": 164,
   "metadata": {},
   "outputs": [],
   "source": [
    "xtrain5 = xtrain3\n",
    "xtest5  = xtest3"
   ]
  },
  {
   "cell_type": "code",
   "execution_count": 165,
   "metadata": {},
   "outputs": [],
   "source": [
    "# Generating final sets\n",
    "\n",
    "# Train Set\n",
    "xtrain5 = new_train.drop(columns=['id', 'keyword', 'location', 'text', 'country', 'target'])\n",
    "xtrain5 = pd.concat([xtrain5, df_train], axis=1)\n",
    "\n",
    "ytrain = train_data['target']\n",
    "\n",
    "# Test Set\n",
    "xtest5 = new_test.drop(columns=['id', 'keyword', 'location', 'text', 'country'])\n",
    "xtest5 = pd.concat([xtest5, df_test], axis=1)"
   ]
  },
  {
   "cell_type": "code",
   "execution_count": 166,
   "metadata": {},
   "outputs": [],
   "source": [
    "from sklearn.preprocessing import StandardScaler\n",
    "from sklearn.linear_model import LogisticRegression"
   ]
  },
  {
   "cell_type": "code",
   "execution_count": 167,
   "metadata": {},
   "outputs": [
    {
     "name": "stdout",
     "output_type": "stream",
     "text": [
      "Fitting 5 folds for each of 6 candidates, totalling 30 fits\n",
      "------ Train, Validation and Test sets info ------\n",
      "X train size: (6471, 312)\n",
      "Y train size: (6471,)\n",
      "X validation size: (1142, 312)\n",
      "Y validation size: (1142,)\n",
      "X test size: (3263, 312)\n",
      "------ Grid search model selection info ------\n",
      "Best parameter (CV score=0.794):\n",
      "Best parameters:  {'logistic__C': 0.01, 'logistic__penalty': 'l2'}\n",
      "Best index:  1\n",
      "Best estimator:  Pipeline(steps=[('scaler', StandardScaler()),\n",
      "                ('logistic',\n",
      "                 LogisticRegression(C=0.01, max_iter=10000, solver='saga',\n",
      "                                    tol=0.1))])\n"
     ]
    }
   ],
   "source": [
    "# Spitting datasets\n",
    "xtrain5, xvalid5, ytrain, yvalid5 = train_test_split(xtrain5, ytrain, test_size=0.15, random_state=42)\n",
    "\n",
    "# Define a Standard Scaler to normalize inputs\n",
    "scaler = StandardScaler()\n",
    "\n",
    "# set the tolerance to a large value to make the example faster\n",
    "logistic = LogisticRegression(max_iter=10000, tol=0.1, solver='saga')\n",
    "\n",
    "# Set the steps of the pipeline\n",
    "pipe = Pipeline(steps=[(\"scaler\", scaler), (\"logistic\", logistic)])\n",
    "\n",
    "# Set the parameters grid to be tested\n",
    "param_grid = {\"logistic__C\": [0.01, 0.1, 1],\n",
    "             \"logistic__penalty\":['l1','l2']\n",
    "             }\n",
    "\n",
    "\n",
    "scoring_list = [\"roc_auc\", \"accuracy\"]\n",
    "\n",
    "# set the Grid search CV\n",
    "search5 = GridSearchCV(pipe, \n",
    "                      param_grid, \n",
    "                      n_jobs=2, \n",
    "                      scoring=scoring_list,\n",
    "                      refit='roc_auc',\n",
    "                      verbose=2,\n",
    "                      return_train_score=True,\n",
    "                      cv=5\n",
    "                     )\n",
    "\n",
    "search5.fit(xtrain5, ytrain)\n",
    "results5 = search5.cv_results_\n",
    "method5 = search5.best_estimator_\n",
    "\n",
    "# Printing data sets info\n",
    "print('------ Train, Validation and Test sets info ------')\n",
    "print('X train size:', xtrain5.shape)\n",
    "print('Y train size:', ytrain.shape)\n",
    "print('X validation size:', xvalid5.shape)\n",
    "print('Y validation size:', yvalid5.shape)\n",
    "print('X test size:', xtest5.shape)\n",
    "\n",
    "# Printing grid search info\n",
    "print('------ Grid search model selection info ------')\n",
    "print(\"Best parameter (CV score=%0.3f):\" % search5.best_score_)\n",
    "print(\"Best parameters: \", search5.best_params_)\n",
    "print(\"Best index: \", search5.best_index_)\n",
    "print(\"Best estimator: \", search5.best_estimator_)"
   ]
  },
  {
   "cell_type": "markdown",
   "metadata": {},
   "source": [
    " "
   ]
  }
 ],
 "metadata": {
  "kernelspec": {
   "display_name": "Python 3",
   "language": "python",
   "name": "python3"
  },
  "language_info": {
   "codemirror_mode": {
    "name": "ipython",
    "version": 3
   },
   "file_extension": ".py",
   "mimetype": "text/x-python",
   "name": "python",
   "nbconvert_exporter": "python",
   "pygments_lexer": "ipython3",
   "version": "3.8.5"
  }
 },
 "nbformat": 4,
 "nbformat_minor": 4
}
