{
 "cells": [
  {
   "cell_type": "markdown",
   "metadata": {},
   "source": [
    "# Natural Language Processing: Kaggle's Tweet Disaster competition"
   ]
  },
  {
   "cell_type": "markdown",
   "metadata": {},
   "source": [
    " "
   ]
  },
  {
   "cell_type": "markdown",
   "metadata": {},
   "source": [
    "This project is part of a Kaggle's competition and aims to develop abilities in Natural Language Processing (NLP) problems. Here, the objecive is to predict the occurance of real disasters through the words found in tweets from several places. Available data includes a train set (more detailed information bellow), and a test set. The full submission and final score can be checked at my personal page in Kaggle (to be updated here).\n",
    "\n",
    "This notebook is inspired in some previous work published in Kaggle.\n",
    "\n",
    "*References:*\n",
    "\n",
    "- FeatureExtraction+RandomForestClassifier: https://www.kaggle.com/code/abdulaziz04/featureextraction-randomforestclassifier\n",
    "- EDA+Preprocessing+Emedding+Model: https://www.kaggle.com/code/rakeshku1993/eda-preprocessing-emedding-model"
   ]
  },
  {
   "cell_type": "markdown",
   "metadata": {},
   "source": [
    " "
   ]
  },
  {
   "cell_type": "markdown",
   "metadata": {},
   "source": [
    "### Importing the data and querying the first infomations"
   ]
  },
  {
   "cell_type": "markdown",
   "metadata": {},
   "source": [
    "- **id** - a unique identifier for each tweet\n",
    "- **text** - the text of the tweet\n",
    "- **location** - the location the tweet was sent from (may be blank)\n",
    "- **keyword** - a particular keyword from the tweet (may be blank)\n",
    "- **target** - in train.csv only, this denotes whether a tweet is about a real disaster (1) or not (0)"
   ]
  },
  {
   "cell_type": "code",
   "execution_count": 1,
   "metadata": {},
   "outputs": [],
   "source": [
    "#Basic package\n",
    "import pandas as pd\n",
    "\n",
    "# Math and plot packages\n",
    "import numpy as np\n",
    "import seaborn as sns\n",
    "import matplotlib.pyplot as plt\n",
    "from wordcloud import STOPWORDS, WordCloud\n",
    "\n",
    "# Text analysis packages\n",
    "import re\n",
    "import string\n",
    "from nltk.corpus import words\n",
    "from nltk.corpus import stopwords\n",
    "from collections import defaultdict\n",
    "from spellchecker import SpellChecker\n",
    "\n",
    "# Encoders, tokenizers\n",
    "import gensim\n",
    "import nltk\n",
    "from nltk.stem import WordNetLemmatizer\n",
    "from nltk.tokenize import word_tokenize\n",
    "from gensim.models import Word2Vec\n",
    "from category_encoders import BinaryEncoder"
   ]
  },
  {
   "cell_type": "code",
   "execution_count": 2,
   "metadata": {},
   "outputs": [],
   "source": [
    "train_data = pd.read_csv('train.csv')\n",
    "test_data =  pd.read_csv('test.csv')"
   ]
  },
  {
   "cell_type": "code",
   "execution_count": 3,
   "metadata": {},
   "outputs": [
    {
     "data": {
      "text/html": [
       "<div>\n",
       "<style scoped>\n",
       "    .dataframe tbody tr th:only-of-type {\n",
       "        vertical-align: middle;\n",
       "    }\n",
       "\n",
       "    .dataframe tbody tr th {\n",
       "        vertical-align: top;\n",
       "    }\n",
       "\n",
       "    .dataframe thead th {\n",
       "        text-align: right;\n",
       "    }\n",
       "</style>\n",
       "<table border=\"1\" class=\"dataframe\">\n",
       "  <thead>\n",
       "    <tr style=\"text-align: right;\">\n",
       "      <th></th>\n",
       "      <th>id</th>\n",
       "      <th>keyword</th>\n",
       "      <th>location</th>\n",
       "      <th>text</th>\n",
       "      <th>target</th>\n",
       "    </tr>\n",
       "  </thead>\n",
       "  <tbody>\n",
       "    <tr>\n",
       "      <th>0</th>\n",
       "      <td>1</td>\n",
       "      <td>NaN</td>\n",
       "      <td>NaN</td>\n",
       "      <td>Our Deeds are the Reason of this #earthquake M...</td>\n",
       "      <td>1</td>\n",
       "    </tr>\n",
       "    <tr>\n",
       "      <th>1</th>\n",
       "      <td>4</td>\n",
       "      <td>NaN</td>\n",
       "      <td>NaN</td>\n",
       "      <td>Forest fire near La Ronge Sask. Canada</td>\n",
       "      <td>1</td>\n",
       "    </tr>\n",
       "    <tr>\n",
       "      <th>2</th>\n",
       "      <td>5</td>\n",
       "      <td>NaN</td>\n",
       "      <td>NaN</td>\n",
       "      <td>All residents asked to 'shelter in place' are ...</td>\n",
       "      <td>1</td>\n",
       "    </tr>\n",
       "    <tr>\n",
       "      <th>3</th>\n",
       "      <td>6</td>\n",
       "      <td>NaN</td>\n",
       "      <td>NaN</td>\n",
       "      <td>13,000 people receive #wildfires evacuation or...</td>\n",
       "      <td>1</td>\n",
       "    </tr>\n",
       "    <tr>\n",
       "      <th>4</th>\n",
       "      <td>7</td>\n",
       "      <td>NaN</td>\n",
       "      <td>NaN</td>\n",
       "      <td>Just got sent this photo from Ruby #Alaska as ...</td>\n",
       "      <td>1</td>\n",
       "    </tr>\n",
       "  </tbody>\n",
       "</table>\n",
       "</div>"
      ],
      "text/plain": [
       "   id keyword location                                               text  \\\n",
       "0   1     NaN      NaN  Our Deeds are the Reason of this #earthquake M...   \n",
       "1   4     NaN      NaN             Forest fire near La Ronge Sask. Canada   \n",
       "2   5     NaN      NaN  All residents asked to 'shelter in place' are ...   \n",
       "3   6     NaN      NaN  13,000 people receive #wildfires evacuation or...   \n",
       "4   7     NaN      NaN  Just got sent this photo from Ruby #Alaska as ...   \n",
       "\n",
       "   target  \n",
       "0       1  \n",
       "1       1  \n",
       "2       1  \n",
       "3       1  \n",
       "4       1  "
      ]
     },
     "execution_count": 3,
     "metadata": {},
     "output_type": "execute_result"
    }
   ],
   "source": [
    "train_data.head()"
   ]
  },
  {
   "cell_type": "code",
   "execution_count": 4,
   "metadata": {},
   "outputs": [
    {
     "data": {
      "text/html": [
       "<div>\n",
       "<style scoped>\n",
       "    .dataframe tbody tr th:only-of-type {\n",
       "        vertical-align: middle;\n",
       "    }\n",
       "\n",
       "    .dataframe tbody tr th {\n",
       "        vertical-align: top;\n",
       "    }\n",
       "\n",
       "    .dataframe thead th {\n",
       "        text-align: right;\n",
       "    }\n",
       "</style>\n",
       "<table border=\"1\" class=\"dataframe\">\n",
       "  <thead>\n",
       "    <tr style=\"text-align: right;\">\n",
       "      <th></th>\n",
       "      <th>id</th>\n",
       "      <th>keyword</th>\n",
       "      <th>location</th>\n",
       "      <th>text</th>\n",
       "    </tr>\n",
       "  </thead>\n",
       "  <tbody>\n",
       "    <tr>\n",
       "      <th>0</th>\n",
       "      <td>0</td>\n",
       "      <td>NaN</td>\n",
       "      <td>NaN</td>\n",
       "      <td>Just happened a terrible car crash</td>\n",
       "    </tr>\n",
       "    <tr>\n",
       "      <th>1</th>\n",
       "      <td>2</td>\n",
       "      <td>NaN</td>\n",
       "      <td>NaN</td>\n",
       "      <td>Heard about #earthquake is different cities, s...</td>\n",
       "    </tr>\n",
       "    <tr>\n",
       "      <th>2</th>\n",
       "      <td>3</td>\n",
       "      <td>NaN</td>\n",
       "      <td>NaN</td>\n",
       "      <td>there is a forest fire at spot pond, geese are...</td>\n",
       "    </tr>\n",
       "    <tr>\n",
       "      <th>3</th>\n",
       "      <td>9</td>\n",
       "      <td>NaN</td>\n",
       "      <td>NaN</td>\n",
       "      <td>Apocalypse lighting. #Spokane #wildfires</td>\n",
       "    </tr>\n",
       "    <tr>\n",
       "      <th>4</th>\n",
       "      <td>11</td>\n",
       "      <td>NaN</td>\n",
       "      <td>NaN</td>\n",
       "      <td>Typhoon Soudelor kills 28 in China and Taiwan</td>\n",
       "    </tr>\n",
       "  </tbody>\n",
       "</table>\n",
       "</div>"
      ],
      "text/plain": [
       "   id keyword location                                               text\n",
       "0   0     NaN      NaN                 Just happened a terrible car crash\n",
       "1   2     NaN      NaN  Heard about #earthquake is different cities, s...\n",
       "2   3     NaN      NaN  there is a forest fire at spot pond, geese are...\n",
       "3   9     NaN      NaN           Apocalypse lighting. #Spokane #wildfires\n",
       "4  11     NaN      NaN      Typhoon Soudelor kills 28 in China and Taiwan"
      ]
     },
     "execution_count": 4,
     "metadata": {},
     "output_type": "execute_result"
    }
   ],
   "source": [
    "test_data.head()"
   ]
  },
  {
   "cell_type": "code",
   "execution_count": 5,
   "metadata": {},
   "outputs": [
    {
     "data": {
      "text/plain": [
       "Text(0.5, 1.0, 'Test set')"
      ]
     },
     "execution_count": 5,
     "metadata": {},
     "output_type": "execute_result"
    },
    {
     "data": {
      "image/png": "[encoded data removed]",
      "text/plain": [
       "<Figure size 864x288 with 2 Axes>"
      ]
     },
     "metadata": {
      "needs_background": "light"
     },
     "output_type": "display_data"
    }
   ],
   "source": [
    "# Checking the amount of null information\n",
    "trainNull = train_data.isnull().sum()\n",
    "trainNull_percent = round(trainNull/train_data.shape[0], 3)\n",
    "\n",
    "testNull = test_data.isnull().sum()\n",
    "testNull_percent = round(testNull/test_data.shape[0], 3)\n",
    "\n",
    "labels_train = trainNull.index\n",
    "labels_test = testNull.index\n",
    "width = 0.5\n",
    "\n",
    "# Bar plot\n",
    "fig,(ax1, ax2) = plt.subplots(1,2, figsize=(12,4))\n",
    "fig.suptitle('Normalized null data', y=1.1, weight='bold', size='large')\n",
    "plt.style.use('seaborn-pastel')\n",
    "\n",
    "ax1.bar(labels_train, trainNull_percent, width, color='yellow')\n",
    "ax1.set_title('Train set')\n",
    "ax2.bar(labels_test, testNull_percent, width, color='lightblue')\n",
    "ax2.set_title('Test set')"
   ]
  },
  {
   "cell_type": "code",
   "execution_count": 6,
   "metadata": {},
   "outputs": [
    {
     "data": {
      "text/plain": [
       "<AxesSubplot:>"
      ]
     },
     "execution_count": 6,
     "metadata": {},
     "output_type": "execute_result"
    },
    {
     "data": {
      "image/png": "[encoded data removed]",
      "text/plain": [
       "<Figure size 432x288 with 1 Axes>"
      ]
     },
     "metadata": {
      "needs_background": "light"
     },
     "output_type": "display_data"
    }
   ],
   "source": [
    "#Checking the balance between target classes\n",
    "#(1 = real disaster, 0 = no disaster)\n",
    "\n",
    "train_data['target'].value_counts(normalize=True).plot.barh(color='black')"
   ]
  },
  {
   "cell_type": "code",
   "execution_count": 7,
   "metadata": {},
   "outputs": [
    {
     "data": {
      "text/plain": [
       "Text(0.5, 1.0, 'Test set')"
      ]
     },
     "execution_count": 7,
     "metadata": {},
     "output_type": "execute_result"
    },
    {
     "data": {
      "image/png": "[encoded data removed]",
      "text/plain": [
       "<Figure size 864x288 with 2 Axes>"
      ]
     },
     "metadata": {
      "needs_background": "light"
     },
     "output_type": "display_data"
    }
   ],
   "source": [
    "fig2,(ax1, ax2) = plt.subplots(1,2, figsize=(12,4))\n",
    "fig2.suptitle('TOP 15 locations', y=1.1, weight='bold', size='large')\n",
    "plt.style.use('seaborn-pastel')\n",
    "\n",
    "ax1 = train_data['location'].value_counts()[:15].plot.bar(ax=ax1, color='lightcoral')\n",
    "ax1.set_title('Train set')\n",
    "ax2 = test_data['location'].value_counts()[:15].plot.bar(ax=ax2)\n",
    "ax2.set_title('Test set')"
   ]
  },
  {
   "cell_type": "code",
   "execution_count": 8,
   "metadata": {},
   "outputs": [
    {
     "data": {
      "text/plain": [
       "USA                    104\n",
       "New York                71\n",
       "United States           50\n",
       "London                  45\n",
       "Canada                  29\n",
       "                      ... \n",
       "Groton, CT               1\n",
       "Asheboro, NC             1\n",
       "Chiyoda Ward, Tokyo      1\n",
       "Colorado Springs         1\n",
       "Riverdale, GA            1\n",
       "Name: location, Length: 3341, dtype: int64"
      ]
     },
     "execution_count": 8,
     "metadata": {},
     "output_type": "execute_result"
    }
   ],
   "source": [
    "train_data.location.value_counts()"
   ]
  },
  {
   "cell_type": "code",
   "execution_count": 9,
   "metadata": {},
   "outputs": [
    {
     "data": {
      "image/png": "[encoded data removed]",
      "text/plain": [
       "<Figure size 360x504 with 2 Axes>"
      ]
     },
     "metadata": {
      "needs_background": "light"
     },
     "output_type": "display_data"
    }
   ],
   "source": [
    "fig2,(ax1, ax2) = plt.subplots(2,1, figsize=(5,7))\n",
    "fig2.tight_layout()\n",
    "fig2.suptitle('TOP 15 Keywords', y=1.05, weight='bold', size='large')\n",
    "plt.style.use('seaborn-pastel')\n",
    "\n",
    "\n",
    "ax1 = train_data['keyword'].value_counts(normalize=True)[:15].sort_values().plot(kind=\"barh\",\n",
    "                                                                                 color='lightcoral',\n",
    "                                                                                 fontsize=10,\n",
    "                                                                                 title='Train set',\n",
    "                                                                                 ax=ax1)\n",
    "\n",
    "ax2 = test_data['keyword'].value_counts(normalize=True)[:15].sort_values().plot(kind=\"barh\",\n",
    "                                                                                 fontsize=10,\n",
    "                                                                                 title='Test set',\n",
    "                                                                                 ax=ax2)"
   ]
  },
  {
   "cell_type": "code",
   "execution_count": 10,
   "metadata": {},
   "outputs": [
    {
     "data": {
      "text/plain": [
       "<matplotlib.legend.Legend at 0x7f9e26c53580>"
      ]
     },
     "execution_count": 10,
     "metadata": {},
     "output_type": "execute_result"
    },
    {
     "data": {
      "image/png": "[encoded data removed]",
      "text/plain": [
       "<Figure size 432x288 with 1 Axes>"
      ]
     },
     "metadata": {
      "needs_background": "light"
     },
     "output_type": "display_data"
    }
   ],
   "source": [
    "fig3,ax = plt.subplots() \n",
    "fig3.figsize=(12,4)\n",
    "fig3.suptitle('Tweets length', y=1, weight='bold', size='large')\n",
    "\n",
    "ax = train_data.query(\"target==1\")[\"text\"].str.len().plot(kind=\"hist\",\n",
    "                                                           color=\"orange\",\n",
    "                                                           ax=ax)\n",
    "\n",
    "ax = train_data.query(\"target==0\")[\"text\"].str.len().plot(kind=\"hist\",\n",
    "                                                           color=\"gray\",\n",
    "                                                           alpha=0.5,\n",
    "                                                           ax=ax)\n",
    "ax.set_yscale('log')\n",
    "ax.legend(['Disaster', 'Non-disaster'])"
   ]
  },
  {
   "cell_type": "code",
   "execution_count": 11,
   "metadata": {},
   "outputs": [
    {
     "data": {
      "text/plain": [
       "<matplotlib.legend.Legend at 0x7f9e26b64130>"
      ]
     },
     "execution_count": 11,
     "metadata": {},
     "output_type": "execute_result"
    },
    {
     "data": {
      "image/png": "[encoded data removed]",
      "text/plain": [
       "<Figure size 432x288 with 1 Axes>"
      ]
     },
     "metadata": {
      "needs_background": "light"
     },
     "output_type": "display_data"
    }
   ],
   "source": [
    "fig4,ax = plt.subplots()\n",
    "fig4.figsize=(12,4)\n",
    "fig4.suptitle('Number of Words in each tweet', y=1, weight='bold', size='large')\n",
    "ax.set_title('Train Data', y=1, weight='light', size='large')\n",
    "\n",
    "ax = train_data.query(\"target==1\").text.map(lambda x: len(x.split())).plot(kind=\"kde\",\n",
    "                                                                            color=\"orange\",\n",
    "                                                                            ax=ax)\n",
    "\n",
    "ax = train_data.query(\"target==0\").text.map(lambda x: len(x.split())).plot(kind=\"kde\",\n",
    "                                                                            color=\"gray\",\n",
    "                                                                            ax=ax)\n",
    "ax.legend(['Disaster', 'Non-disaster'])"
   ]
  },
  {
   "cell_type": "code",
   "execution_count": 12,
   "metadata": {},
   "outputs": [
    {
     "data": {
      "text/plain": [
       "<matplotlib.legend.Legend at 0x7f9e26b9a220>"
      ]
     },
     "execution_count": 12,
     "metadata": {},
     "output_type": "execute_result"
    },
    {
     "data": {
      "image/png": "[encoded data removed]",
      "text/plain": [
       "<Figure size 432x288 with 1 Axes>"
      ]
     },
     "metadata": {
      "needs_background": "light"
     },
     "output_type": "display_data"
    }
   ],
   "source": [
    "fig5, ax = plt.subplots()\n",
    "fig5.figsize=(12,5)\n",
    "fig5.suptitle('Average word length in each tweet', weight='bold')\n",
    "\n",
    "each_words_len = train_data.query(\"target==1\").text.str.split().map(lambda x: [len(i) for i in x])\n",
    "sns.histplot(each_words_len.map(lambda x: np.mean(x)), kde=True, ax=ax, color=\"orange\", label='Disaster');\n",
    "\n",
    "each_words_len = train_data.query(\"target==0\").text.str.split().map(lambda x: [len(i) for i in x])\n",
    "sns.histplot(each_words_len.map(lambda x: np.mean(x)), kde=True, ax=ax, color='gray', alpha=0.3,  label='Non-disaster');\n",
    "ax.legend(loc='right')"
   ]
  },
  {
   "cell_type": "code",
   "execution_count": 13,
   "metadata": {},
   "outputs": [
    {
     "data": {
      "text/plain": [
       "'!\"#$%&\\'()*+,-./:;<=>?@[\\\\]^_`{|}~'"
      ]
     },
     "execution_count": 13,
     "metadata": {},
     "output_type": "execute_result"
    }
   ],
   "source": [
    "string.punctuation"
   ]
  },
  {
   "cell_type": "code",
   "execution_count": 14,
   "metadata": {},
   "outputs": [],
   "source": [
    "def plot_punctuations(df, target):\n",
    "    \n",
    "    punctations_dict = defaultdict(int)\n",
    "    \n",
    "    for idx, text in df[df[\"target\"]==target].text.iteritems():\n",
    "        for token in text.split():\n",
    "            if token in string.punctuation:\n",
    "                punctations_dict[token] +=1   \n",
    "\n",
    "    return dict(sorted(punctations_dict.items(), key=lambda x: x[1], reverse=True))\n",
    "\n",
    "\n",
    "dt_punctuations = plot_punctuations(train_data, target=1)\n",
    "ndt_punctuations = plot_punctuations(train_data, target=0)"
   ]
  },
  {
   "cell_type": "code",
   "execution_count": 15,
   "metadata": {},
   "outputs": [
    {
     "data": {
      "image/png": "[encoded data removed]",
      "text/plain": [
       "<Figure size 432x288 with 1 Axes>"
      ]
     },
     "metadata": {
      "needs_background": "light"
     },
     "output_type": "display_data"
    }
   ],
   "source": [
    "fig6, ax = plt.subplots()\n",
    "fig6.figsize=(12,5)\n",
    "fig6.suptitle('Punctuation items distribution', weight='bold')\n",
    "\n",
    "x1, y1 = zip(*dt_punctuations.items())\n",
    "ax.bar(x1, y1, color=\"orange\", alpha=0.9, label=\"Disaster tweets\")\n",
    "\n",
    "x2, y2 = zip(*ndt_punctuations.items())\n",
    "ax.bar(x2, y2, color=\"gray\", alpha=0.4, label=\"Non-Disaster tweets\")\n",
    "ax.legend()\n",
    "ax.set_yscale('log')"
   ]
  },
  {
   "cell_type": "code",
   "execution_count": 16,
   "metadata": {},
   "outputs": [],
   "source": [
    "stop_words= set(stopwords.words(\"english\"))\n",
    "\n",
    "# updating the stopwords considering the following list\n",
    "stop_words.update(['https', 'http', 'amp', 'CO', 't', 'u', 'new', \"I'm\", \"would\"])\n",
    "\n",
    "wc = WordCloud(width=800,\n",
    "               height=400,\n",
    "               max_words=200,\n",
    "               stopwords=stop_words,\n",
    "               background_color= \"black\", \n",
    "               colormap=\"Paired\",\n",
    "               max_font_size=150)"
   ]
  },
  {
   "cell_type": "markdown",
   "metadata": {},
   "source": [
    "In order to plot de the word cloud, we will use the method **plt.imshow**. According to matplotlib documentation: *Display data as an image, i.e., on a 2D regular raster. The input may either be actual RGB(A) data, or 2D scalar data, which will be rendered as a pseudocolor image.*"
   ]
  },
  {
   "cell_type": "code",
   "execution_count": 17,
   "metadata": {},
   "outputs": [
    {
     "name": "stdout",
     "output_type": "stream",
     "text": [
      "\u001b[1m\n",
      "Word Cloud for Disaster Tweets\u001b[0m\n"
     ]
    },
    {
     "data": {
      "image/png": "[encoded data removed]",
      "text/plain": [
       "<Figure size 864x360 with 1 Axes>"
      ]
     },
     "metadata": {
      "needs_background": "light"
     },
     "output_type": "display_data"
    },
    {
     "name": "stdout",
     "output_type": "stream",
     "text": [
      "\u001b[1m\n",
      "Word Cloud for Non-Disaster Tweets\u001b[0m\n"
     ]
    },
    {
     "data": {
      "image/png": "[encoded data removed]",
      "text/plain": [
       "<Figure size 864x360 with 1 Axes>"
      ]
     },
     "metadata": {
      "needs_background": "light"
     },
     "output_type": "display_data"
    }
   ],
   "source": [
    "disaster_tweets = (train_data.query(\"target==1\").text).str.cat(sep=\" \")  # str.cat -- string concatenation\n",
    "\n",
    "non_disaster_tweets = (train_data.query(\"target==0\").text).str.cat(sep=\" \")\n",
    "\n",
    "print('\\033[1m'\"\\nWord Cloud for Disaster Tweets\"'\\033[0m')\n",
    "wc.generate(disaster_tweets)\n",
    "plt.figure(figsize=(12, 5))\n",
    "plt.imshow(wc, interpolation='bilinear')\n",
    "plt.axis('off')\n",
    "plt.show()\n",
    "\n",
    "print('\\033[1m'\"\\nWord Cloud for Non-Disaster Tweets\"'\\033[0m')\n",
    "wc.generate(non_disaster_tweets)\n",
    "plt.figure(figsize=(12, 5))\n",
    "plt.imshow(wc, interpolation='bilinear')\n",
    "plt.axis('off')\n",
    "plt.show()"
   ]
  },
  {
   "cell_type": "markdown",
   "metadata": {},
   "source": [
    " "
   ]
  },
  {
   "cell_type": "markdown",
   "metadata": {},
   "source": [
    "### Feature Engineering"
   ]
  },
  {
   "cell_type": "markdown",
   "metadata": {},
   "source": [
    "**TASK 1:** tweet length (in number of chars)"
   ]
  },
  {
   "cell_type": "code",
   "execution_count": 18,
   "metadata": {},
   "outputs": [],
   "source": [
    "train_data['num chars'] = train_data[\"text\"].str.len().values\n",
    "test_data['num chars']  = test_data[\"text\"].str.len().values"
   ]
  },
  {
   "cell_type": "code",
   "execution_count": 19,
   "metadata": {},
   "outputs": [
    {
     "data": {
      "text/html": [
       "<div>\n",
       "<style scoped>\n",
       "    .dataframe tbody tr th:only-of-type {\n",
       "        vertical-align: middle;\n",
       "    }\n",
       "\n",
       "    .dataframe tbody tr th {\n",
       "        vertical-align: top;\n",
       "    }\n",
       "\n",
       "    .dataframe thead th {\n",
       "        text-align: right;\n",
       "    }\n",
       "</style>\n",
       "<table border=\"1\" class=\"dataframe\">\n",
       "  <thead>\n",
       "    <tr style=\"text-align: right;\">\n",
       "      <th></th>\n",
       "      <th>id</th>\n",
       "      <th>keyword</th>\n",
       "      <th>location</th>\n",
       "      <th>text</th>\n",
       "      <th>target</th>\n",
       "      <th>num chars</th>\n",
       "    </tr>\n",
       "  </thead>\n",
       "  <tbody>\n",
       "    <tr>\n",
       "      <th>0</th>\n",
       "      <td>1</td>\n",
       "      <td>NaN</td>\n",
       "      <td>NaN</td>\n",
       "      <td>Our Deeds are the Reason of this #earthquake M...</td>\n",
       "      <td>1</td>\n",
       "      <td>69</td>\n",
       "    </tr>\n",
       "    <tr>\n",
       "      <th>1</th>\n",
       "      <td>4</td>\n",
       "      <td>NaN</td>\n",
       "      <td>NaN</td>\n",
       "      <td>Forest fire near La Ronge Sask. Canada</td>\n",
       "      <td>1</td>\n",
       "      <td>38</td>\n",
       "    </tr>\n",
       "  </tbody>\n",
       "</table>\n",
       "</div>"
      ],
      "text/plain": [
       "   id keyword location                                               text  \\\n",
       "0   1     NaN      NaN  Our Deeds are the Reason of this #earthquake M...   \n",
       "1   4     NaN      NaN             Forest fire near La Ronge Sask. Canada   \n",
       "\n",
       "   target  num chars  \n",
       "0       1         69  \n",
       "1       1         38  "
      ]
     },
     "execution_count": 19,
     "metadata": {},
     "output_type": "execute_result"
    }
   ],
   "source": [
    "train_data.head(2)"
   ]
  },
  {
   "cell_type": "code",
   "execution_count": 20,
   "metadata": {},
   "outputs": [
    {
     "data": {
      "text/html": [
       "<div>\n",
       "<style scoped>\n",
       "    .dataframe tbody tr th:only-of-type {\n",
       "        vertical-align: middle;\n",
       "    }\n",
       "\n",
       "    .dataframe tbody tr th {\n",
       "        vertical-align: top;\n",
       "    }\n",
       "\n",
       "    .dataframe thead th {\n",
       "        text-align: right;\n",
       "    }\n",
       "</style>\n",
       "<table border=\"1\" class=\"dataframe\">\n",
       "  <thead>\n",
       "    <tr style=\"text-align: right;\">\n",
       "      <th></th>\n",
       "      <th>id</th>\n",
       "      <th>keyword</th>\n",
       "      <th>location</th>\n",
       "      <th>text</th>\n",
       "      <th>num chars</th>\n",
       "    </tr>\n",
       "  </thead>\n",
       "  <tbody>\n",
       "    <tr>\n",
       "      <th>0</th>\n",
       "      <td>0</td>\n",
       "      <td>NaN</td>\n",
       "      <td>NaN</td>\n",
       "      <td>Just happened a terrible car crash</td>\n",
       "      <td>34</td>\n",
       "    </tr>\n",
       "    <tr>\n",
       "      <th>1</th>\n",
       "      <td>2</td>\n",
       "      <td>NaN</td>\n",
       "      <td>NaN</td>\n",
       "      <td>Heard about #earthquake is different cities, s...</td>\n",
       "      <td>64</td>\n",
       "    </tr>\n",
       "  </tbody>\n",
       "</table>\n",
       "</div>"
      ],
      "text/plain": [
       "   id keyword location                                               text  \\\n",
       "0   0     NaN      NaN                 Just happened a terrible car crash   \n",
       "1   2     NaN      NaN  Heard about #earthquake is different cities, s...   \n",
       "\n",
       "   num chars  \n",
       "0         34  \n",
       "1         64  "
      ]
     },
     "execution_count": 20,
     "metadata": {},
     "output_type": "execute_result"
    }
   ],
   "source": [
    "test_data.head(2)"
   ]
  },
  {
   "cell_type": "markdown",
   "metadata": {},
   "source": [
    " "
   ]
  },
  {
   "cell_type": "markdown",
   "metadata": {},
   "source": [
    "**TASK 2:** number of special chars"
   ]
  },
  {
   "cell_type": "code",
   "execution_count": 21,
   "metadata": {},
   "outputs": [],
   "source": [
    "def count_special_chars(df):\n",
    "    \n",
    "    '''\n",
    "    Uses regex to identify special chars in text. \n",
    "    [^a-zA-Z0-9\\s] means: anything in the interval [] that is NOT (^): [a-z] or [A-Z] or [0-9] or \\s (space)\n",
    "    \n",
    "    Parameters:\n",
    "        df: Dataset\n",
    "    Returns: \n",
    "        A list with the amount of special chars for each example of the dataset\n",
    "    \n",
    "    '''\n",
    "    special_chars=[]\n",
    "    \n",
    "    for text in df['text']:\n",
    "        special_chars.append(len(re.findall(r'[^a-zA-Z0-9\\s]', text)))\n",
    "    \n",
    "    return special_chars"
   ]
  },
  {
   "cell_type": "code",
   "execution_count": 22,
   "metadata": {},
   "outputs": [],
   "source": [
    "train_data['num special chars'] = count_special_chars(train_data)\n",
    "test_data['num special chars']  =  count_special_chars(test_data)"
   ]
  },
  {
   "cell_type": "code",
   "execution_count": 23,
   "metadata": {},
   "outputs": [
    {
     "data": {
      "text/html": [
       "<div>\n",
       "<style scoped>\n",
       "    .dataframe tbody tr th:only-of-type {\n",
       "        vertical-align: middle;\n",
       "    }\n",
       "\n",
       "    .dataframe tbody tr th {\n",
       "        vertical-align: top;\n",
       "    }\n",
       "\n",
       "    .dataframe thead th {\n",
       "        text-align: right;\n",
       "    }\n",
       "</style>\n",
       "<table border=\"1\" class=\"dataframe\">\n",
       "  <thead>\n",
       "    <tr style=\"text-align: right;\">\n",
       "      <th></th>\n",
       "      <th>id</th>\n",
       "      <th>keyword</th>\n",
       "      <th>location</th>\n",
       "      <th>text</th>\n",
       "      <th>target</th>\n",
       "      <th>num chars</th>\n",
       "      <th>num special chars</th>\n",
       "    </tr>\n",
       "  </thead>\n",
       "  <tbody>\n",
       "    <tr>\n",
       "      <th>0</th>\n",
       "      <td>1</td>\n",
       "      <td>NaN</td>\n",
       "      <td>NaN</td>\n",
       "      <td>Our Deeds are the Reason of this #earthquake M...</td>\n",
       "      <td>1</td>\n",
       "      <td>69</td>\n",
       "      <td>1</td>\n",
       "    </tr>\n",
       "    <tr>\n",
       "      <th>1</th>\n",
       "      <td>4</td>\n",
       "      <td>NaN</td>\n",
       "      <td>NaN</td>\n",
       "      <td>Forest fire near La Ronge Sask. Canada</td>\n",
       "      <td>1</td>\n",
       "      <td>38</td>\n",
       "      <td>1</td>\n",
       "    </tr>\n",
       "    <tr>\n",
       "      <th>2</th>\n",
       "      <td>5</td>\n",
       "      <td>NaN</td>\n",
       "      <td>NaN</td>\n",
       "      <td>All residents asked to 'shelter in place' are ...</td>\n",
       "      <td>1</td>\n",
       "      <td>133</td>\n",
       "      <td>3</td>\n",
       "    </tr>\n",
       "  </tbody>\n",
       "</table>\n",
       "</div>"
      ],
      "text/plain": [
       "   id keyword location                                               text  \\\n",
       "0   1     NaN      NaN  Our Deeds are the Reason of this #earthquake M...   \n",
       "1   4     NaN      NaN             Forest fire near La Ronge Sask. Canada   \n",
       "2   5     NaN      NaN  All residents asked to 'shelter in place' are ...   \n",
       "\n",
       "   target  num chars  num special chars  \n",
       "0       1         69                  1  \n",
       "1       1         38                  1  \n",
       "2       1        133                  3  "
      ]
     },
     "execution_count": 23,
     "metadata": {},
     "output_type": "execute_result"
    }
   ],
   "source": [
    "train_data.head(3)"
   ]
  },
  {
   "cell_type": "code",
   "execution_count": 24,
   "metadata": {},
   "outputs": [
    {
     "data": {
      "text/html": [
       "<div>\n",
       "<style scoped>\n",
       "    .dataframe tbody tr th:only-of-type {\n",
       "        vertical-align: middle;\n",
       "    }\n",
       "\n",
       "    .dataframe tbody tr th {\n",
       "        vertical-align: top;\n",
       "    }\n",
       "\n",
       "    .dataframe thead th {\n",
       "        text-align: right;\n",
       "    }\n",
       "</style>\n",
       "<table border=\"1\" class=\"dataframe\">\n",
       "  <thead>\n",
       "    <tr style=\"text-align: right;\">\n",
       "      <th></th>\n",
       "      <th>id</th>\n",
       "      <th>keyword</th>\n",
       "      <th>location</th>\n",
       "      <th>text</th>\n",
       "      <th>num chars</th>\n",
       "      <th>num special chars</th>\n",
       "    </tr>\n",
       "  </thead>\n",
       "  <tbody>\n",
       "    <tr>\n",
       "      <th>0</th>\n",
       "      <td>0</td>\n",
       "      <td>NaN</td>\n",
       "      <td>NaN</td>\n",
       "      <td>Just happened a terrible car crash</td>\n",
       "      <td>34</td>\n",
       "      <td>0</td>\n",
       "    </tr>\n",
       "    <tr>\n",
       "      <th>1</th>\n",
       "      <td>2</td>\n",
       "      <td>NaN</td>\n",
       "      <td>NaN</td>\n",
       "      <td>Heard about #earthquake is different cities, s...</td>\n",
       "      <td>64</td>\n",
       "      <td>3</td>\n",
       "    </tr>\n",
       "    <tr>\n",
       "      <th>2</th>\n",
       "      <td>3</td>\n",
       "      <td>NaN</td>\n",
       "      <td>NaN</td>\n",
       "      <td>there is a forest fire at spot pond, geese are...</td>\n",
       "      <td>96</td>\n",
       "      <td>2</td>\n",
       "    </tr>\n",
       "  </tbody>\n",
       "</table>\n",
       "</div>"
      ],
      "text/plain": [
       "   id keyword location                                               text  \\\n",
       "0   0     NaN      NaN                 Just happened a terrible car crash   \n",
       "1   2     NaN      NaN  Heard about #earthquake is different cities, s...   \n",
       "2   3     NaN      NaN  there is a forest fire at spot pond, geese are...   \n",
       "\n",
       "   num chars  num special chars  \n",
       "0         34                  0  \n",
       "1         64                  3  \n",
       "2         96                  2  "
      ]
     },
     "execution_count": 24,
     "metadata": {},
     "output_type": "execute_result"
    }
   ],
   "source": [
    "test_data.head(3)"
   ]
  },
  {
   "cell_type": "markdown",
   "metadata": {},
   "source": [
    " "
   ]
  },
  {
   "cell_type": "markdown",
   "metadata": {},
   "source": [
    "**TASK 3:** number of words in each tweet"
   ]
  },
  {
   "cell_type": "code",
   "execution_count": 25,
   "metadata": {},
   "outputs": [],
   "source": [
    "train_data['num words'] = train_data[\"text\"].map(lambda x: len(x.split()))\n",
    "test_data['num words']  = test_data[\"text\"].map(lambda x: len(x.split()))"
   ]
  },
  {
   "cell_type": "code",
   "execution_count": 26,
   "metadata": {},
   "outputs": [
    {
     "data": {
      "text/html": [
       "<div>\n",
       "<style scoped>\n",
       "    .dataframe tbody tr th:only-of-type {\n",
       "        vertical-align: middle;\n",
       "    }\n",
       "\n",
       "    .dataframe tbody tr th {\n",
       "        vertical-align: top;\n",
       "    }\n",
       "\n",
       "    .dataframe thead th {\n",
       "        text-align: right;\n",
       "    }\n",
       "</style>\n",
       "<table border=\"1\" class=\"dataframe\">\n",
       "  <thead>\n",
       "    <tr style=\"text-align: right;\">\n",
       "      <th></th>\n",
       "      <th>id</th>\n",
       "      <th>keyword</th>\n",
       "      <th>location</th>\n",
       "      <th>text</th>\n",
       "      <th>target</th>\n",
       "      <th>num chars</th>\n",
       "      <th>num special chars</th>\n",
       "      <th>num words</th>\n",
       "    </tr>\n",
       "  </thead>\n",
       "  <tbody>\n",
       "    <tr>\n",
       "      <th>0</th>\n",
       "      <td>1</td>\n",
       "      <td>NaN</td>\n",
       "      <td>NaN</td>\n",
       "      <td>Our Deeds are the Reason of this #earthquake M...</td>\n",
       "      <td>1</td>\n",
       "      <td>69</td>\n",
       "      <td>1</td>\n",
       "      <td>13</td>\n",
       "    </tr>\n",
       "    <tr>\n",
       "      <th>1</th>\n",
       "      <td>4</td>\n",
       "      <td>NaN</td>\n",
       "      <td>NaN</td>\n",
       "      <td>Forest fire near La Ronge Sask. Canada</td>\n",
       "      <td>1</td>\n",
       "      <td>38</td>\n",
       "      <td>1</td>\n",
       "      <td>7</td>\n",
       "    </tr>\n",
       "    <tr>\n",
       "      <th>2</th>\n",
       "      <td>5</td>\n",
       "      <td>NaN</td>\n",
       "      <td>NaN</td>\n",
       "      <td>All residents asked to 'shelter in place' are ...</td>\n",
       "      <td>1</td>\n",
       "      <td>133</td>\n",
       "      <td>3</td>\n",
       "      <td>22</td>\n",
       "    </tr>\n",
       "  </tbody>\n",
       "</table>\n",
       "</div>"
      ],
      "text/plain": [
       "   id keyword location                                               text  \\\n",
       "0   1     NaN      NaN  Our Deeds are the Reason of this #earthquake M...   \n",
       "1   4     NaN      NaN             Forest fire near La Ronge Sask. Canada   \n",
       "2   5     NaN      NaN  All residents asked to 'shelter in place' are ...   \n",
       "\n",
       "   target  num chars  num special chars  num words  \n",
       "0       1         69                  1         13  \n",
       "1       1         38                  1          7  \n",
       "2       1        133                  3         22  "
      ]
     },
     "execution_count": 26,
     "metadata": {},
     "output_type": "execute_result"
    }
   ],
   "source": [
    "train_data.head(3)"
   ]
  },
  {
   "cell_type": "code",
   "execution_count": 27,
   "metadata": {},
   "outputs": [
    {
     "data": {
      "text/html": [
       "<div>\n",
       "<style scoped>\n",
       "    .dataframe tbody tr th:only-of-type {\n",
       "        vertical-align: middle;\n",
       "    }\n",
       "\n",
       "    .dataframe tbody tr th {\n",
       "        vertical-align: top;\n",
       "    }\n",
       "\n",
       "    .dataframe thead th {\n",
       "        text-align: right;\n",
       "    }\n",
       "</style>\n",
       "<table border=\"1\" class=\"dataframe\">\n",
       "  <thead>\n",
       "    <tr style=\"text-align: right;\">\n",
       "      <th></th>\n",
       "      <th>id</th>\n",
       "      <th>keyword</th>\n",
       "      <th>location</th>\n",
       "      <th>text</th>\n",
       "      <th>num chars</th>\n",
       "      <th>num special chars</th>\n",
       "      <th>num words</th>\n",
       "    </tr>\n",
       "  </thead>\n",
       "  <tbody>\n",
       "    <tr>\n",
       "      <th>0</th>\n",
       "      <td>0</td>\n",
       "      <td>NaN</td>\n",
       "      <td>NaN</td>\n",
       "      <td>Just happened a terrible car crash</td>\n",
       "      <td>34</td>\n",
       "      <td>0</td>\n",
       "      <td>6</td>\n",
       "    </tr>\n",
       "    <tr>\n",
       "      <th>1</th>\n",
       "      <td>2</td>\n",
       "      <td>NaN</td>\n",
       "      <td>NaN</td>\n",
       "      <td>Heard about #earthquake is different cities, s...</td>\n",
       "      <td>64</td>\n",
       "      <td>3</td>\n",
       "      <td>9</td>\n",
       "    </tr>\n",
       "    <tr>\n",
       "      <th>2</th>\n",
       "      <td>3</td>\n",
       "      <td>NaN</td>\n",
       "      <td>NaN</td>\n",
       "      <td>there is a forest fire at spot pond, geese are...</td>\n",
       "      <td>96</td>\n",
       "      <td>2</td>\n",
       "      <td>19</td>\n",
       "    </tr>\n",
       "  </tbody>\n",
       "</table>\n",
       "</div>"
      ],
      "text/plain": [
       "   id keyword location                                               text  \\\n",
       "0   0     NaN      NaN                 Just happened a terrible car crash   \n",
       "1   2     NaN      NaN  Heard about #earthquake is different cities, s...   \n",
       "2   3     NaN      NaN  there is a forest fire at spot pond, geese are...   \n",
       "\n",
       "   num chars  num special chars  num words  \n",
       "0         34                  0          6  \n",
       "1         64                  3          9  \n",
       "2         96                  2         19  "
      ]
     },
     "execution_count": 27,
     "metadata": {},
     "output_type": "execute_result"
    }
   ],
   "source": [
    "test_data.head(3)"
   ]
  },
  {
   "cell_type": "markdown",
   "metadata": {},
   "source": [
    " "
   ]
  },
  {
   "cell_type": "markdown",
   "metadata": {},
   "source": [
    "**TASK 4:** average word length"
   ]
  },
  {
   "cell_type": "code",
   "execution_count": 28,
   "metadata": {},
   "outputs": [],
   "source": [
    "def average_word_length(text):\n",
    "    \n",
    "    '''Reads each sentence and creates a list with word lenghts. Following, it returns the mean of the \n",
    "    list values'''\n",
    "    \n",
    "    spl_text = text.split()\n",
    "    each_words_len = list(map(lambda x: len(x), spl_text))\n",
    "    mean = round(sum(each_words_len)/len(each_words_len), 2)\n",
    "    \n",
    "    return mean"
   ]
  },
  {
   "cell_type": "code",
   "execution_count": 29,
   "metadata": {},
   "outputs": [],
   "source": [
    "train_data['average word length'] = train_data[\"text\"].apply(lambda x: average_word_length(x))\n",
    "test_data['average word length']  = test_data[\"text\"].apply(lambda x: average_word_length(x))"
   ]
  },
  {
   "cell_type": "code",
   "execution_count": 30,
   "metadata": {},
   "outputs": [
    {
     "data": {
      "text/html": [
       "<div>\n",
       "<style scoped>\n",
       "    .dataframe tbody tr th:only-of-type {\n",
       "        vertical-align: middle;\n",
       "    }\n",
       "\n",
       "    .dataframe tbody tr th {\n",
       "        vertical-align: top;\n",
       "    }\n",
       "\n",
       "    .dataframe thead th {\n",
       "        text-align: right;\n",
       "    }\n",
       "</style>\n",
       "<table border=\"1\" class=\"dataframe\">\n",
       "  <thead>\n",
       "    <tr style=\"text-align: right;\">\n",
       "      <th></th>\n",
       "      <th>id</th>\n",
       "      <th>keyword</th>\n",
       "      <th>location</th>\n",
       "      <th>text</th>\n",
       "      <th>target</th>\n",
       "      <th>num chars</th>\n",
       "      <th>num special chars</th>\n",
       "      <th>num words</th>\n",
       "      <th>average word length</th>\n",
       "    </tr>\n",
       "  </thead>\n",
       "  <tbody>\n",
       "    <tr>\n",
       "      <th>0</th>\n",
       "      <td>1</td>\n",
       "      <td>NaN</td>\n",
       "      <td>NaN</td>\n",
       "      <td>Our Deeds are the Reason of this #earthquake M...</td>\n",
       "      <td>1</td>\n",
       "      <td>69</td>\n",
       "      <td>1</td>\n",
       "      <td>13</td>\n",
       "      <td>4.38</td>\n",
       "    </tr>\n",
       "    <tr>\n",
       "      <th>1</th>\n",
       "      <td>4</td>\n",
       "      <td>NaN</td>\n",
       "      <td>NaN</td>\n",
       "      <td>Forest fire near La Ronge Sask. Canada</td>\n",
       "      <td>1</td>\n",
       "      <td>38</td>\n",
       "      <td>1</td>\n",
       "      <td>7</td>\n",
       "      <td>4.57</td>\n",
       "    </tr>\n",
       "    <tr>\n",
       "      <th>2</th>\n",
       "      <td>5</td>\n",
       "      <td>NaN</td>\n",
       "      <td>NaN</td>\n",
       "      <td>All residents asked to 'shelter in place' are ...</td>\n",
       "      <td>1</td>\n",
       "      <td>133</td>\n",
       "      <td>3</td>\n",
       "      <td>22</td>\n",
       "      <td>5.09</td>\n",
       "    </tr>\n",
       "  </tbody>\n",
       "</table>\n",
       "</div>"
      ],
      "text/plain": [
       "   id keyword location                                               text  \\\n",
       "0   1     NaN      NaN  Our Deeds are the Reason of this #earthquake M...   \n",
       "1   4     NaN      NaN             Forest fire near La Ronge Sask. Canada   \n",
       "2   5     NaN      NaN  All residents asked to 'shelter in place' are ...   \n",
       "\n",
       "   target  num chars  num special chars  num words  average word length  \n",
       "0       1         69                  1         13                 4.38  \n",
       "1       1         38                  1          7                 4.57  \n",
       "2       1        133                  3         22                 5.09  "
      ]
     },
     "execution_count": 30,
     "metadata": {},
     "output_type": "execute_result"
    }
   ],
   "source": [
    "train_data.head(3)"
   ]
  },
  {
   "cell_type": "code",
   "execution_count": 31,
   "metadata": {},
   "outputs": [
    {
     "data": {
      "text/html": [
       "<div>\n",
       "<style scoped>\n",
       "    .dataframe tbody tr th:only-of-type {\n",
       "        vertical-align: middle;\n",
       "    }\n",
       "\n",
       "    .dataframe tbody tr th {\n",
       "        vertical-align: top;\n",
       "    }\n",
       "\n",
       "    .dataframe thead th {\n",
       "        text-align: right;\n",
       "    }\n",
       "</style>\n",
       "<table border=\"1\" class=\"dataframe\">\n",
       "  <thead>\n",
       "    <tr style=\"text-align: right;\">\n",
       "      <th></th>\n",
       "      <th>id</th>\n",
       "      <th>keyword</th>\n",
       "      <th>location</th>\n",
       "      <th>text</th>\n",
       "      <th>num chars</th>\n",
       "      <th>num special chars</th>\n",
       "      <th>num words</th>\n",
       "      <th>average word length</th>\n",
       "    </tr>\n",
       "  </thead>\n",
       "  <tbody>\n",
       "    <tr>\n",
       "      <th>0</th>\n",
       "      <td>0</td>\n",
       "      <td>NaN</td>\n",
       "      <td>NaN</td>\n",
       "      <td>Just happened a terrible car crash</td>\n",
       "      <td>34</td>\n",
       "      <td>0</td>\n",
       "      <td>6</td>\n",
       "      <td>4.83</td>\n",
       "    </tr>\n",
       "    <tr>\n",
       "      <th>1</th>\n",
       "      <td>2</td>\n",
       "      <td>NaN</td>\n",
       "      <td>NaN</td>\n",
       "      <td>Heard about #earthquake is different cities, s...</td>\n",
       "      <td>64</td>\n",
       "      <td>3</td>\n",
       "      <td>9</td>\n",
       "      <td>6.22</td>\n",
       "    </tr>\n",
       "    <tr>\n",
       "      <th>2</th>\n",
       "      <td>3</td>\n",
       "      <td>NaN</td>\n",
       "      <td>NaN</td>\n",
       "      <td>there is a forest fire at spot pond, geese are...</td>\n",
       "      <td>96</td>\n",
       "      <td>2</td>\n",
       "      <td>19</td>\n",
       "      <td>4.11</td>\n",
       "    </tr>\n",
       "  </tbody>\n",
       "</table>\n",
       "</div>"
      ],
      "text/plain": [
       "   id keyword location                                               text  \\\n",
       "0   0     NaN      NaN                 Just happened a terrible car crash   \n",
       "1   2     NaN      NaN  Heard about #earthquake is different cities, s...   \n",
       "2   3     NaN      NaN  there is a forest fire at spot pond, geese are...   \n",
       "\n",
       "   num chars  num special chars  num words  average word length  \n",
       "0         34                  0          6                 4.83  \n",
       "1         64                  3          9                 6.22  \n",
       "2         96                  2         19                 4.11  "
      ]
     },
     "execution_count": 31,
     "metadata": {},
     "output_type": "execute_result"
    }
   ],
   "source": [
    "test_data.head(3)"
   ]
  },
  {
   "cell_type": "markdown",
   "metadata": {},
   "source": [
    " "
   ]
  },
  {
   "cell_type": "markdown",
   "metadata": {},
   "source": [
    "**TASK 5:** standardize location representations"
   ]
  },
  {
   "cell_type": "code",
   "execution_count": 32,
   "metadata": {},
   "outputs": [],
   "source": [
    "def split_location_countries(df):\n",
    "    \n",
    "    countries=[]\n",
    "    location=[]\n",
    "    \n",
    "    for item in df['location'].astype(str).values:\n",
    "        countries.append(item.split(',')[-1])\n",
    "        location.append(item.split(',')[0])\n",
    "        \n",
    "    df['country']  = countries\n",
    "    df['location'] = location\n",
    "    \n",
    "    assert len(countries)==df.shape[0]\n",
    "    assert len(countries)==df.shape[0]\n",
    "        \n",
    "    return df"
   ]
  },
  {
   "cell_type": "code",
   "execution_count": 33,
   "metadata": {},
   "outputs": [],
   "source": [
    "train_data = split_location_countries(train_data)\n",
    "test_data  = split_location_countries(test_data)"
   ]
  },
  {
   "cell_type": "code",
   "execution_count": 34,
   "metadata": {},
   "outputs": [],
   "source": [
    "def remove_special_chars(text):\n",
    "    \n",
    "    '''\n",
    "    The function removes any char that is not a word character (uppercase or lowercase) and replaces it for\n",
    "    a simple blank space.\n",
    "    The regular expression [^a-zA-Z] matches any char that is NOT(^) a word (like special chars, space or\n",
    "    numbers).\n",
    "    '''\n",
    "    \n",
    "    return re.sub(r\"[^a-zA-Z]\", \" \", text)"
   ]
  },
  {
   "cell_type": "code",
   "execution_count": 35,
   "metadata": {},
   "outputs": [],
   "source": [
    "train_data['location'] = train_data.location.apply(lambda x: remove_special_chars(x))\n",
    "test_data['location']  = test_data.location.apply(lambda x: remove_special_chars(x))\n",
    "train_data['country'] = train_data.location.apply(lambda x: remove_special_chars(x))\n",
    "test_data['country']  = test_data.location.apply(lambda x: remove_special_chars(x))"
   ]
  },
  {
   "cell_type": "code",
   "execution_count": 36,
   "metadata": {},
   "outputs": [
    {
     "data": {
      "text/plain": [
       "nan                         2533\n",
       "USA                          108\n",
       "New York                      95\n",
       "London                        70\n",
       "United States                 50\n",
       "                            ... \n",
       "S F  Bay area                  1\n",
       "Antarctica                     1\n",
       "In the clouds                  1\n",
       " Quantico Marine Base          1\n",
       "Freddy Fazbears pizzeria       1\n",
       "Name: country, Length: 2863, dtype: int64"
      ]
     },
     "execution_count": 36,
     "metadata": {},
     "output_type": "execute_result"
    }
   ],
   "source": [
    "train_data.country.value_counts()"
   ]
  },
  {
   "cell_type": "code",
   "execution_count": 37,
   "metadata": {},
   "outputs": [
    {
     "data": {
      "text/plain": [
       "nan                         2533\n",
       "USA                          108\n",
       "New York                      95\n",
       "London                        70\n",
       "United States                 50\n",
       "                            ... \n",
       "S F  Bay area                  1\n",
       "Antarctica                     1\n",
       "In the clouds                  1\n",
       " Quantico Marine Base          1\n",
       "Freddy Fazbears pizzeria       1\n",
       "Name: location, Length: 2863, dtype: int64"
      ]
     },
     "execution_count": 37,
     "metadata": {},
     "output_type": "execute_result"
    }
   ],
   "source": [
    "train_data.location.value_counts()"
   ]
  },
  {
   "cell_type": "markdown",
   "metadata": {},
   "source": [
    " "
   ]
  },
  {
   "cell_type": "markdown",
   "metadata": {},
   "source": [
    "Importing a table with most important cities in the world to standardize the countries notation"
   ]
  },
  {
   "cell_type": "code",
   "execution_count": 38,
   "metadata": {},
   "outputs": [
    {
     "data": {
      "text/html": [
       "<div>\n",
       "<style scoped>\n",
       "    .dataframe tbody tr th:only-of-type {\n",
       "        vertical-align: middle;\n",
       "    }\n",
       "\n",
       "    .dataframe tbody tr th {\n",
       "        vertical-align: top;\n",
       "    }\n",
       "\n",
       "    .dataframe thead th {\n",
       "        text-align: right;\n",
       "    }\n",
       "</style>\n",
       "<table border=\"1\" class=\"dataframe\">\n",
       "  <thead>\n",
       "    <tr style=\"text-align: right;\">\n",
       "      <th></th>\n",
       "      <th>city</th>\n",
       "      <th>city_ascii</th>\n",
       "      <th>lat</th>\n",
       "      <th>lng</th>\n",
       "      <th>country</th>\n",
       "      <th>iso2</th>\n",
       "      <th>iso3</th>\n",
       "      <th>admin_name</th>\n",
       "      <th>capital</th>\n",
       "      <th>population</th>\n",
       "      <th>id</th>\n",
       "    </tr>\n",
       "  </thead>\n",
       "  <tbody>\n",
       "    <tr>\n",
       "      <th>0</th>\n",
       "      <td>Tokyo</td>\n",
       "      <td>tokyo</td>\n",
       "      <td>35.6839</td>\n",
       "      <td>139.7744</td>\n",
       "      <td>Japan</td>\n",
       "      <td>JP</td>\n",
       "      <td>JPN</td>\n",
       "      <td>Tōkyō</td>\n",
       "      <td>primary</td>\n",
       "      <td>39105000.0</td>\n",
       "      <td>1392685764</td>\n",
       "    </tr>\n",
       "    <tr>\n",
       "      <th>1</th>\n",
       "      <td>Jakarta</td>\n",
       "      <td>jakarta</td>\n",
       "      <td>-6.2146</td>\n",
       "      <td>106.8451</td>\n",
       "      <td>Indonesia</td>\n",
       "      <td>ID</td>\n",
       "      <td>IDN</td>\n",
       "      <td>Jakarta</td>\n",
       "      <td>primary</td>\n",
       "      <td>35362000.0</td>\n",
       "      <td>1360771077</td>\n",
       "    </tr>\n",
       "    <tr>\n",
       "      <th>2</th>\n",
       "      <td>Delhi</td>\n",
       "      <td>delhi</td>\n",
       "      <td>28.6667</td>\n",
       "      <td>77.2167</td>\n",
       "      <td>India</td>\n",
       "      <td>IN</td>\n",
       "      <td>IND</td>\n",
       "      <td>Delhi</td>\n",
       "      <td>admin</td>\n",
       "      <td>31870000.0</td>\n",
       "      <td>1356872604</td>\n",
       "    </tr>\n",
       "  </tbody>\n",
       "</table>\n",
       "</div>"
      ],
      "text/plain": [
       "      city city_ascii      lat       lng    country iso2 iso3 admin_name  \\\n",
       "0    Tokyo      tokyo  35.6839  139.7744      Japan   JP  JPN      Tōkyō   \n",
       "1  Jakarta    jakarta  -6.2146  106.8451  Indonesia   ID  IDN    Jakarta   \n",
       "2    Delhi      delhi  28.6667   77.2167      India   IN  IND      Delhi   \n",
       "\n",
       "   capital  population          id  \n",
       "0  primary  39105000.0  1392685764  \n",
       "1  primary  35362000.0  1360771077  \n",
       "2    admin  31870000.0  1356872604  "
      ]
     },
     "execution_count": 38,
     "metadata": {},
     "output_type": "execute_result"
    }
   ],
   "source": [
    "cities = pd.read_csv('worldcities.csv')\n",
    "cities['city_ascii'] = cities['city_ascii'].str.lower()\n",
    "cities.head(3)"
   ]
  },
  {
   "cell_type": "code",
   "execution_count": 39,
   "metadata": {},
   "outputs": [],
   "source": [
    "columns = ['location', 'country']\n",
    "for column in columns:\n",
    "    train_data[column] = train_data[column].str.lower()\n",
    "    test_data[column]  = test_data[column].str.lower()"
   ]
  },
  {
   "cell_type": "code",
   "execution_count": 40,
   "metadata": {},
   "outputs": [],
   "source": [
    "def discover_country_from_city(df, column, cities_df):\n",
    "    \n",
    "    '''\n",
    "    Splits the location field and searches for the name of cities to find their respective country\n",
    "    '''\n",
    "     \n",
    "    index=0\n",
    "    for item in df[column]:\n",
    "        \n",
    "        for new_item in item.split():\n",
    "            if (new_item != 'nan') and (new_item in cities_df['city_ascii'].values):\n",
    "                df.loc[index, 'country'] = cities_df[cities_df['city_ascii']==new_item].iso2.values[0]\n",
    "        else:\n",
    "            pass\n",
    "        \n",
    "        index+=1\n",
    "    \n",
    "    return df"
   ]
  },
  {
   "cell_type": "code",
   "execution_count": 41,
   "metadata": {},
   "outputs": [],
   "source": [
    "for colum in columns:\n",
    "    train_data = discover_country_from_city(train_data, column, cities)\n",
    "    test_data  = discover_country_from_city(test_data, column, cities)"
   ]
  },
  {
   "cell_type": "code",
   "execution_count": 42,
   "metadata": {},
   "outputs": [
    {
     "data": {
      "text/plain": [
       "nan                          2533\n",
       "US                           1349\n",
       "GB                            287\n",
       "JP                            152\n",
       "CA                            134\n",
       "                             ... \n",
       "all around the world            1\n",
       "a sofa                          1\n",
       "ebola                           1\n",
       "score more goals buying         1\n",
       "dagenham                        1\n",
       "Name: country, Length: 1567, dtype: int64"
      ]
     },
     "execution_count": 42,
     "metadata": {},
     "output_type": "execute_result"
    }
   ],
   "source": [
    "train_data.country.value_counts()"
   ]
  },
  {
   "cell_type": "code",
   "execution_count": 43,
   "metadata": {},
   "outputs": [
    {
     "data": {
      "text/html": [
       "<div>\n",
       "<style scoped>\n",
       "    .dataframe tbody tr th:only-of-type {\n",
       "        vertical-align: middle;\n",
       "    }\n",
       "\n",
       "    .dataframe tbody tr th {\n",
       "        vertical-align: top;\n",
       "    }\n",
       "\n",
       "    .dataframe thead th {\n",
       "        text-align: right;\n",
       "    }\n",
       "</style>\n",
       "<table border=\"1\" class=\"dataframe\">\n",
       "  <thead>\n",
       "    <tr style=\"text-align: right;\">\n",
       "      <th></th>\n",
       "      <th>id</th>\n",
       "      <th>keyword</th>\n",
       "      <th>location</th>\n",
       "      <th>text</th>\n",
       "      <th>target</th>\n",
       "      <th>num chars</th>\n",
       "      <th>num special chars</th>\n",
       "      <th>num words</th>\n",
       "      <th>average word length</th>\n",
       "      <th>country</th>\n",
       "    </tr>\n",
       "  </thead>\n",
       "  <tbody>\n",
       "    <tr>\n",
       "      <th>500</th>\n",
       "      <td>725</td>\n",
       "      <td>attacked</td>\n",
       "      <td>lealman</td>\n",
       "      <td>Christian Attacked by Muslims at the Temple Mo...</td>\n",
       "      <td>1</td>\n",
       "      <td>122</td>\n",
       "      <td>9</td>\n",
       "      <td>18</td>\n",
       "      <td>5.83</td>\n",
       "      <td>US</td>\n",
       "    </tr>\n",
       "    <tr>\n",
       "      <th>501</th>\n",
       "      <td>726</td>\n",
       "      <td>attacked</td>\n",
       "      <td>los angeles</td>\n",
       "      <td>@envw98 @NickCoCoFree @JulieDiCaro @jdabe80 Wh...</td>\n",
       "      <td>0</td>\n",
       "      <td>136</td>\n",
       "      <td>7</td>\n",
       "      <td>21</td>\n",
       "      <td>5.48</td>\n",
       "      <td>los angeles</td>\n",
       "    </tr>\n",
       "    <tr>\n",
       "      <th>502</th>\n",
       "      <td>727</td>\n",
       "      <td>attacked</td>\n",
       "      <td>san francisco</td>\n",
       "      <td>Kelly Osbourne attacked for racist Donald Trum...</td>\n",
       "      <td>1</td>\n",
       "      <td>103</td>\n",
       "      <td>5</td>\n",
       "      <td>14</td>\n",
       "      <td>6.43</td>\n",
       "      <td>ML</td>\n",
       "    </tr>\n",
       "    <tr>\n",
       "      <th>503</th>\n",
       "      <td>728</td>\n",
       "      <td>attacked</td>\n",
       "      <td>gdjb  asot</td>\n",
       "      <td>@eunice_njoki aiii she needs to chill and answ...</td>\n",
       "      <td>0</td>\n",
       "      <td>89</td>\n",
       "      <td>3</td>\n",
       "      <td>15</td>\n",
       "      <td>5.00</td>\n",
       "      <td>gdjb  asot</td>\n",
       "    </tr>\n",
       "  </tbody>\n",
       "</table>\n",
       "</div>"
      ],
      "text/plain": [
       "      id   keyword       location  \\\n",
       "500  725  attacked        lealman   \n",
       "501  726  attacked    los angeles   \n",
       "502  727  attacked  san francisco   \n",
       "503  728  attacked     gdjb  asot   \n",
       "\n",
       "                                                  text  target  num chars  \\\n",
       "500  Christian Attacked by Muslims at the Temple Mo...       1        122   \n",
       "501  @envw98 @NickCoCoFree @JulieDiCaro @jdabe80 Wh...       0        136   \n",
       "502  Kelly Osbourne attacked for racist Donald Trum...       1        103   \n",
       "503  @eunice_njoki aiii she needs to chill and answ...       0         89   \n",
       "\n",
       "     num special chars  num words  average word length      country  \n",
       "500                  9         18                 5.83           US  \n",
       "501                  7         21                 5.48  los angeles  \n",
       "502                  5         14                 6.43           ML  \n",
       "503                  3         15                 5.00   gdjb  asot  "
      ]
     },
     "execution_count": 43,
     "metadata": {},
     "output_type": "execute_result"
    }
   ],
   "source": [
    "train_data[500:504]"
   ]
  },
  {
   "cell_type": "markdown",
   "metadata": {},
   "source": [
    "Cities with double names are affected when we split the location field. To solve it, let's search for the full name of the cities"
   ]
  },
  {
   "cell_type": "code",
   "execution_count": 44,
   "metadata": {},
   "outputs": [],
   "source": [
    "def discover_country_from_city_v2(df, column, cities_df):\n",
    "    \n",
    "    '''\n",
    "    Uses the location field **with no splitting** and searches for the name of cities to find their \n",
    "    respective country\n",
    "    '''\n",
    "     \n",
    "    index=0\n",
    "    \n",
    "    for item in df[column]:\n",
    "        \n",
    "        if (item != 'nan') and (item in cities_df['city_ascii'].values):\n",
    "                df.loc[index, 'country'] = cities_df[cities_df['city_ascii']==item].iso2.values[0]\n",
    "        else:\n",
    "            pass\n",
    "        \n",
    "        index+=1\n",
    "    \n",
    "    return df"
   ]
  },
  {
   "cell_type": "code",
   "execution_count": 45,
   "metadata": {},
   "outputs": [],
   "source": [
    "for column in columns:\n",
    "    train_data = discover_country_from_city_v2(train_data, column, cities)\n",
    "    test_data  = discover_country_from_city_v2(test_data, column, cities)"
   ]
  },
  {
   "cell_type": "code",
   "execution_count": 46,
   "metadata": {},
   "outputs": [
    {
     "data": {
      "text/plain": [
       "nan            2533\n",
       "US             1540\n",
       "GB              290\n",
       "JP              152\n",
       "CA              135\n",
       "               ... \n",
       "city of joy       1\n",
       "n   y             1\n",
       "spain             1\n",
       "edappally         1\n",
       "dagenham          1\n",
       "Name: country, Length: 1503, dtype: int64"
      ]
     },
     "execution_count": 46,
     "metadata": {},
     "output_type": "execute_result"
    }
   ],
   "source": [
    "train_data.country.value_counts()"
   ]
  },
  {
   "cell_type": "code",
   "execution_count": 47,
   "metadata": {},
   "outputs": [
    {
     "data": {
      "text/html": [
       "<div>\n",
       "<style scoped>\n",
       "    .dataframe tbody tr th:only-of-type {\n",
       "        vertical-align: middle;\n",
       "    }\n",
       "\n",
       "    .dataframe tbody tr th {\n",
       "        vertical-align: top;\n",
       "    }\n",
       "\n",
       "    .dataframe thead th {\n",
       "        text-align: right;\n",
       "    }\n",
       "</style>\n",
       "<table border=\"1\" class=\"dataframe\">\n",
       "  <thead>\n",
       "    <tr style=\"text-align: right;\">\n",
       "      <th></th>\n",
       "      <th>id</th>\n",
       "      <th>keyword</th>\n",
       "      <th>location</th>\n",
       "      <th>text</th>\n",
       "      <th>target</th>\n",
       "      <th>num chars</th>\n",
       "      <th>num special chars</th>\n",
       "      <th>num words</th>\n",
       "      <th>average word length</th>\n",
       "      <th>country</th>\n",
       "    </tr>\n",
       "  </thead>\n",
       "  <tbody>\n",
       "    <tr>\n",
       "      <th>500</th>\n",
       "      <td>725</td>\n",
       "      <td>attacked</td>\n",
       "      <td>lealman</td>\n",
       "      <td>Christian Attacked by Muslims at the Temple Mo...</td>\n",
       "      <td>1</td>\n",
       "      <td>122</td>\n",
       "      <td>9</td>\n",
       "      <td>18</td>\n",
       "      <td>5.83</td>\n",
       "      <td>US</td>\n",
       "    </tr>\n",
       "    <tr>\n",
       "      <th>501</th>\n",
       "      <td>726</td>\n",
       "      <td>attacked</td>\n",
       "      <td>los angeles</td>\n",
       "      <td>@envw98 @NickCoCoFree @JulieDiCaro @jdabe80 Wh...</td>\n",
       "      <td>0</td>\n",
       "      <td>136</td>\n",
       "      <td>7</td>\n",
       "      <td>21</td>\n",
       "      <td>5.48</td>\n",
       "      <td>US</td>\n",
       "    </tr>\n",
       "    <tr>\n",
       "      <th>502</th>\n",
       "      <td>727</td>\n",
       "      <td>attacked</td>\n",
       "      <td>san francisco</td>\n",
       "      <td>Kelly Osbourne attacked for racist Donald Trum...</td>\n",
       "      <td>1</td>\n",
       "      <td>103</td>\n",
       "      <td>5</td>\n",
       "      <td>14</td>\n",
       "      <td>6.43</td>\n",
       "      <td>US</td>\n",
       "    </tr>\n",
       "    <tr>\n",
       "      <th>503</th>\n",
       "      <td>728</td>\n",
       "      <td>attacked</td>\n",
       "      <td>gdjb  asot</td>\n",
       "      <td>@eunice_njoki aiii she needs to chill and answ...</td>\n",
       "      <td>0</td>\n",
       "      <td>89</td>\n",
       "      <td>3</td>\n",
       "      <td>15</td>\n",
       "      <td>5.00</td>\n",
       "      <td>gdjb  asot</td>\n",
       "    </tr>\n",
       "  </tbody>\n",
       "</table>\n",
       "</div>"
      ],
      "text/plain": [
       "      id   keyword       location  \\\n",
       "500  725  attacked        lealman   \n",
       "501  726  attacked    los angeles   \n",
       "502  727  attacked  san francisco   \n",
       "503  728  attacked     gdjb  asot   \n",
       "\n",
       "                                                  text  target  num chars  \\\n",
       "500  Christian Attacked by Muslims at the Temple Mo...       1        122   \n",
       "501  @envw98 @NickCoCoFree @JulieDiCaro @jdabe80 Wh...       0        136   \n",
       "502  Kelly Osbourne attacked for racist Donald Trum...       1        103   \n",
       "503  @eunice_njoki aiii she needs to chill and answ...       0         89   \n",
       "\n",
       "     num special chars  num words  average word length      country  \n",
       "500                  9         18                 5.83           US  \n",
       "501                  7         21                 5.48           US  \n",
       "502                  5         14                 6.43           US  \n",
       "503                  3         15                 5.00   gdjb  asot  "
      ]
     },
     "execution_count": 47,
     "metadata": {},
     "output_type": "execute_result"
    }
   ],
   "source": [
    "train_data[500:504]"
   ]
  },
  {
   "cell_type": "markdown",
   "metadata": {},
   "source": [
    " "
   ]
  },
  {
   "cell_type": "markdown",
   "metadata": {},
   "source": [
    "As we have a huge presence of US locations, let us import a USA database with states and main cities"
   ]
  },
  {
   "cell_type": "code",
   "execution_count": 48,
   "metadata": {},
   "outputs": [],
   "source": [
    "usa_data = pd.read_csv('USAData.csv')"
   ]
  },
  {
   "cell_type": "code",
   "execution_count": 49,
   "metadata": {},
   "outputs": [
    {
     "data": {
      "text/html": [
       "<div>\n",
       "<style scoped>\n",
       "    .dataframe tbody tr th:only-of-type {\n",
       "        vertical-align: middle;\n",
       "    }\n",
       "\n",
       "    .dataframe tbody tr th {\n",
       "        vertical-align: top;\n",
       "    }\n",
       "\n",
       "    .dataframe thead th {\n",
       "        text-align: right;\n",
       "    }\n",
       "</style>\n",
       "<table border=\"1\" class=\"dataframe\">\n",
       "  <thead>\n",
       "    <tr style=\"text-align: right;\">\n",
       "      <th></th>\n",
       "      <th>rank</th>\n",
       "      <th>name</th>\n",
       "      <th>usps</th>\n",
       "      <th>pop2022</th>\n",
       "      <th>pop2010</th>\n",
       "      <th>growth</th>\n",
       "      <th>density</th>\n",
       "      <th>aland_sqmi</th>\n",
       "      <th>State</th>\n",
       "    </tr>\n",
       "  </thead>\n",
       "  <tbody>\n",
       "    <tr>\n",
       "      <th>0</th>\n",
       "      <td>1</td>\n",
       "      <td>new york city</td>\n",
       "      <td>ny</td>\n",
       "      <td>8930002</td>\n",
       "      <td>8175133</td>\n",
       "      <td>0.0923</td>\n",
       "      <td>29729</td>\n",
       "      <td>300.381</td>\n",
       "      <td>new york</td>\n",
       "    </tr>\n",
       "    <tr>\n",
       "      <th>1</th>\n",
       "      <td>2</td>\n",
       "      <td>los angeles</td>\n",
       "      <td>ca</td>\n",
       "      <td>3919973</td>\n",
       "      <td>3792621</td>\n",
       "      <td>0.0336</td>\n",
       "      <td>8359</td>\n",
       "      <td>468.956</td>\n",
       "      <td>california</td>\n",
       "    </tr>\n",
       "    <tr>\n",
       "      <th>2</th>\n",
       "      <td>3</td>\n",
       "      <td>chicago</td>\n",
       "      <td>il</td>\n",
       "      <td>2756546</td>\n",
       "      <td>2695598</td>\n",
       "      <td>0.0226</td>\n",
       "      <td>12124</td>\n",
       "      <td>227.369</td>\n",
       "      <td>illinois</td>\n",
       "    </tr>\n",
       "    <tr>\n",
       "      <th>3</th>\n",
       "      <td>4</td>\n",
       "      <td>houston</td>\n",
       "      <td>tx</td>\n",
       "      <td>2345606</td>\n",
       "      <td>2099451</td>\n",
       "      <td>0.1172</td>\n",
       "      <td>3664</td>\n",
       "      <td>640.194</td>\n",
       "      <td>texas</td>\n",
       "    </tr>\n",
       "    <tr>\n",
       "      <th>4</th>\n",
       "      <td>5</td>\n",
       "      <td>phoenix</td>\n",
       "      <td>az</td>\n",
       "      <td>1640641</td>\n",
       "      <td>1445632</td>\n",
       "      <td>0.1349</td>\n",
       "      <td>3169</td>\n",
       "      <td>517.673</td>\n",
       "      <td>arizona</td>\n",
       "    </tr>\n",
       "  </tbody>\n",
       "</table>\n",
       "</div>"
      ],
      "text/plain": [
       "   rank           name usps  pop2022  pop2010  growth  density  aland_sqmi  \\\n",
       "0     1  new york city   ny  8930002  8175133  0.0923    29729     300.381   \n",
       "1     2    los angeles   ca  3919973  3792621  0.0336     8359     468.956   \n",
       "2     3        chicago   il  2756546  2695598  0.0226    12124     227.369   \n",
       "3     4        houston   tx  2345606  2099451  0.1172     3664     640.194   \n",
       "4     5        phoenix   az  1640641  1445632  0.1349     3169     517.673   \n",
       "\n",
       "        State  \n",
       "0    new york  \n",
       "1  california  \n",
       "2    illinois  \n",
       "3       texas  \n",
       "4     arizona  "
      ]
     },
     "execution_count": 49,
     "metadata": {},
     "output_type": "execute_result"
    }
   ],
   "source": [
    "usa_columns = ['name', 'usps', 'State']\n",
    "for column in usa_columns:\n",
    "    usa_data[column] = usa_data[column].str.lower()\n",
    "\n",
    "usa_data.head()"
   ]
  },
  {
   "cell_type": "code",
   "execution_count": 50,
   "metadata": {},
   "outputs": [],
   "source": [
    "def find_USA_locations(df, column, cities_df):\n",
    "    \n",
    "    '''\n",
    "    Finds USA locations and replace them by 'US' name in country field\n",
    "    '''\n",
    "    \n",
    "    index=0\n",
    "    usa_columns = ['State', 'usps', 'name']\n",
    "    \n",
    "    for item in df[column]:\n",
    "        \n",
    "        if item in ['new york', 'united states']:\n",
    "            df.loc[index, 'country'] = 'US'\n",
    "        \n",
    "        else:\n",
    "            for usa_column in usa_columns:\n",
    "                if item in cities_df[usa_column].values:\n",
    "                    df.loc[index, 'country'] = 'US'\n",
    "                    df.loc[index, 'location']= item\n",
    "                \n",
    "                else:\n",
    "                    pass\n",
    "        \n",
    "        index+=1\n",
    "    \n",
    "    return df"
   ]
  },
  {
   "cell_type": "code",
   "execution_count": 51,
   "metadata": {},
   "outputs": [],
   "source": [
    "for column in columns:\n",
    "    train_data = find_USA_locations(train_data, column, usa_data)\n",
    "    test_data  = find_USA_locations(test_data, column, usa_data)"
   ]
  },
  {
   "cell_type": "code",
   "execution_count": 52,
   "metadata": {},
   "outputs": [
    {
     "data": {
      "text/plain": [
       "nan                              2533\n",
       "US                               1833\n",
       "GB                                281\n",
       "JP                                152\n",
       "CA                                122\n",
       "                                 ... \n",
       "n   y                               1\n",
       "spain                               1\n",
       "edappally                           1\n",
       "follows you everywhere you go       1\n",
       "dagenham                            1\n",
       "Name: country, Length: 1456, dtype: int64"
      ]
     },
     "execution_count": 52,
     "metadata": {},
     "output_type": "execute_result"
    }
   ],
   "source": [
    "train_data.country.value_counts()"
   ]
  },
  {
   "cell_type": "code",
   "execution_count": 53,
   "metadata": {},
   "outputs": [],
   "source": [
    "def find_USA_locations_v2(df, column, cities_df):\n",
    "    \n",
    "    '''\n",
    "    Splits the entries to find US locations\n",
    "    '''\n",
    "     \n",
    "    index=0\n",
    "    usa_columns = ['State', 'usps', 'name']\n",
    "    for item in df[column]:\n",
    "        \n",
    "        for new_item in item.split():\n",
    "            for usa_column in usa_columns:\n",
    "                if new_item in cities_df[usa_column].values:\n",
    "                    df.loc[index, 'country'] = 'US'\n",
    "        else:\n",
    "            pass\n",
    "        \n",
    "        index+=1\n",
    "    \n",
    "    return df"
   ]
  },
  {
   "cell_type": "code",
   "execution_count": 54,
   "metadata": {},
   "outputs": [],
   "source": [
    "for column in columns:\n",
    "    train_data = find_USA_locations_v2(train_data, column, usa_data)\n",
    "    test_data  = find_USA_locations_v2(test_data, column, usa_data)"
   ]
  },
  {
   "cell_type": "code",
   "execution_count": 55,
   "metadata": {},
   "outputs": [
    {
     "data": {
      "text/plain": [
       "nan                    2533\n",
       "US                     2048\n",
       "GB                      272\n",
       "JP                      138\n",
       "CA                      112\n",
       "                       ... \n",
       "buscame el tu melte       1\n",
       "city of joy               1\n",
       "n   y                     1\n",
       "spain                     1\n",
       "dagenham                  1\n",
       "Name: country, Length: 1341, dtype: int64"
      ]
     },
     "execution_count": 55,
     "metadata": {},
     "output_type": "execute_result"
    }
   ],
   "source": [
    "train_data.country.value_counts()"
   ]
  },
  {
   "cell_type": "code",
   "execution_count": 56,
   "metadata": {},
   "outputs": [
    {
     "data": {
      "text/plain": [
       "nan                         2533\n",
       "usa                          108\n",
       "new york                     100\n",
       "london                        74\n",
       "united states                 50\n",
       "                            ... \n",
       "wandsworth                     1\n",
       "  t                            1\n",
       "me mammy s belly               1\n",
       "                               1\n",
       "delhi                          1\n",
       "Name: location, Length: 2741, dtype: int64"
      ]
     },
     "execution_count": 56,
     "metadata": {},
     "output_type": "execute_result"
    }
   ],
   "source": [
    "train_data.location.value_counts()"
   ]
  },
  {
   "cell_type": "markdown",
   "metadata": {},
   "source": [
    " "
   ]
  },
  {
   "cell_type": "markdown",
   "metadata": {},
   "source": [
    " "
   ]
  },
  {
   "cell_type": "markdown",
   "metadata": {},
   "source": [
    "As our Cities database does not comprise all countries in the world, let us import a last, but complete country dataset and search for remaining entries..."
   ]
  },
  {
   "cell_type": "code",
   "execution_count": 57,
   "metadata": {},
   "outputs": [],
   "source": [
    "countries = pd.read_csv('All countries.csv')"
   ]
  },
  {
   "cell_type": "code",
   "execution_count": 58,
   "metadata": {},
   "outputs": [],
   "source": [
    "countries['country'] = countries['country'].str.lower()\n",
    "countries['abbreviation'] = countries['abbreviation'].str.lower()"
   ]
  },
  {
   "cell_type": "code",
   "execution_count": 59,
   "metadata": {},
   "outputs": [
    {
     "data": {
      "text/html": [
       "<div>\n",
       "<style scoped>\n",
       "    .dataframe tbody tr th:only-of-type {\n",
       "        vertical-align: middle;\n",
       "    }\n",
       "\n",
       "    .dataframe tbody tr th {\n",
       "        vertical-align: top;\n",
       "    }\n",
       "\n",
       "    .dataframe thead th {\n",
       "        text-align: right;\n",
       "    }\n",
       "</style>\n",
       "<table border=\"1\" class=\"dataframe\">\n",
       "  <thead>\n",
       "    <tr style=\"text-align: right;\">\n",
       "      <th></th>\n",
       "      <th>abbreviation</th>\n",
       "      <th>country</th>\n",
       "    </tr>\n",
       "  </thead>\n",
       "  <tbody>\n",
       "    <tr>\n",
       "      <th>0</th>\n",
       "      <td>af</td>\n",
       "      <td>afghanistan</td>\n",
       "    </tr>\n",
       "    <tr>\n",
       "      <th>1</th>\n",
       "      <td>ax</td>\n",
       "      <td>aland islands</td>\n",
       "    </tr>\n",
       "    <tr>\n",
       "      <th>2</th>\n",
       "      <td>al</td>\n",
       "      <td>albania</td>\n",
       "    </tr>\n",
       "    <tr>\n",
       "      <th>3</th>\n",
       "      <td>dz</td>\n",
       "      <td>algeria</td>\n",
       "    </tr>\n",
       "    <tr>\n",
       "      <th>4</th>\n",
       "      <td>as</td>\n",
       "      <td>american samoa</td>\n",
       "    </tr>\n",
       "  </tbody>\n",
       "</table>\n",
       "</div>"
      ],
      "text/plain": [
       "  abbreviation         country\n",
       "0           af     afghanistan\n",
       "1           ax   aland islands\n",
       "2           al         albania\n",
       "3           dz         algeria\n",
       "4           as  american samoa"
      ]
     },
     "execution_count": 59,
     "metadata": {},
     "output_type": "execute_result"
    }
   ],
   "source": [
    "countries.head()"
   ]
  },
  {
   "cell_type": "code",
   "execution_count": 60,
   "metadata": {},
   "outputs": [],
   "source": [
    "def search_remaining_countries(df, column, countries_df):\n",
    "    '''\n",
    "    Splits the entries to find US locations\n",
    "    '''\n",
    "     \n",
    "    index=0\n",
    "    for item in df[column]:\n",
    "        \n",
    "        if item in countries_df['country'].values:\n",
    "            df.loc[index, 'country'] = countries_df[countries_df['country']==item].abbreviation.values[0]\n",
    "        \n",
    "        else:\n",
    "            pass\n",
    "        \n",
    "        index+=1\n",
    "    \n",
    "    return df"
   ]
  },
  {
   "cell_type": "code",
   "execution_count": 61,
   "metadata": {},
   "outputs": [],
   "source": [
    "train_data = search_remaining_countries(train_data, 'country', countries)\n",
    "test_data  = search_remaining_countries(test_data, 'country', countries)"
   ]
  },
  {
   "cell_type": "code",
   "execution_count": 62,
   "metadata": {},
   "outputs": [
    {
     "data": {
      "text/plain": [
       "nan                      2533\n",
       "US                       2048\n",
       "GB                        272\n",
       "JP                        138\n",
       "CA                        112\n",
       "                         ... \n",
       "edappally                   1\n",
       "all around the world        1\n",
       "a sofa                      1\n",
       "ebola                       1\n",
       "dagenham                    1\n",
       "Name: country, Length: 1340, dtype: int64"
      ]
     },
     "execution_count": 62,
     "metadata": {},
     "output_type": "execute_result"
    }
   ],
   "source": [
    "train_data.country.value_counts()"
   ]
  },
  {
   "cell_type": "markdown",
   "metadata": {},
   "source": [
    " "
   ]
  },
  {
   "cell_type": "markdown",
   "metadata": {},
   "source": [
    "As we achieved less variation in ['country'] data than in the original ['location'] field, let us work with ['country'] feature from now on. \n",
    "\n",
    "To standardize it, the entries with **len(country)>3** and those which does not match any real country abbreviation will be tagged as NaN, as their location is mostly fake and brings no relevant information"
   ]
  },
  {
   "cell_type": "code",
   "execution_count": 63,
   "metadata": {},
   "outputs": [],
   "source": [
    "def replace_with_nan_v1(df):\n",
    "    \n",
    "    '''This version 1 (v1) replaces entries with len()>3 for 'nan' values'''\n",
    "    \n",
    "    \n",
    "    df['country']= np.where(df.country.str.len()>3, 'nan', df['country'])\n",
    "    \n",
    "    return df"
   ]
  },
  {
   "cell_type": "code",
   "execution_count": 64,
   "metadata": {},
   "outputs": [],
   "source": [
    "train_data = replace_with_nan_v1(train_data)\n",
    "test_data  = replace_with_nan_v1(test_data)"
   ]
  },
  {
   "cell_type": "code",
   "execution_count": 65,
   "metadata": {},
   "outputs": [],
   "source": [
    "def replace_with_nan_v2(df, countries_df):\n",
    "    \n",
    "    '''This version 2 (v2) searches for countries abbreviations in the dataframe ['country'] entries. If an \n",
    "    entry does not match an existing country abbreviation, it is replaced by a 'nan' value'''\n",
    "         \n",
    "    index=0\n",
    "    for item in df['country']:\n",
    "        \n",
    "        if (item != 'nan') and (item in countries_df['abbreviation'].values):\n",
    "            pass\n",
    "        \n",
    "        else:\n",
    "            df.loc[index, 'country'] = 'nan'\n",
    "        \n",
    "        index+=1\n",
    "    \n",
    "    return df"
   ]
  },
  {
   "cell_type": "code",
   "execution_count": 66,
   "metadata": {},
   "outputs": [],
   "source": [
    "train_data = replace_with_nan_v2(train_data, countries)\n",
    "test_data  = replace_with_nan_v2(test_data, countries)"
   ]
  },
  {
   "cell_type": "code",
   "execution_count": 67,
   "metadata": {},
   "outputs": [
    {
     "data": {
      "text/plain": [
       "(64,)"
      ]
     },
     "execution_count": 67,
     "metadata": {},
     "output_type": "execute_result"
    }
   ],
   "source": [
    "train_data.country.value_counts().shape"
   ]
  },
  {
   "cell_type": "code",
   "execution_count": 68,
   "metadata": {},
   "outputs": [
    {
     "data": {
      "text/plain": [
       "(32,)"
      ]
     },
     "execution_count": 68,
     "metadata": {},
     "output_type": "execute_result"
    }
   ],
   "source": [
    "test_data.country.value_counts().shape"
   ]
  },
  {
   "cell_type": "code",
   "execution_count": 69,
   "metadata": {},
   "outputs": [],
   "source": [
    "train_data['country'] = train_data['country'].str.upper()\n",
    "test_data['country']  = test_data['country'].str.upper()"
   ]
  },
  {
   "cell_type": "markdown",
   "metadata": {},
   "source": [
    " "
   ]
  },
  {
   "cell_type": "markdown",
   "metadata": {},
   "source": [
    "**TASK 4:** "
   ]
  },
  {
   "cell_type": "markdown",
   "metadata": {},
   "source": [
    " "
   ]
  },
  {
   "cell_type": "markdown",
   "metadata": {},
   "source": [
    " "
   ]
  },
  {
   "cell_type": "markdown",
   "metadata": {},
   "source": [
    "**TASK 4:** Encode country and keywords"
   ]
  },
  {
   "cell_type": "markdown",
   "metadata": {},
   "source": [
    "To encode **['country']**, we choose **Frequency Encoding**. As briefly explained in this post (https://towardsdatascience.com/how-to-encode-categorical-data-d44dde313131), this gives the probability of each class. Given the huge amount of possible locations, and the different frequencies distributions, we avoid a large matrix in conventional encoding plus inform the 'weight' of each place."
   ]
  },
  {
   "cell_type": "code",
   "execution_count": 70,
   "metadata": {},
   "outputs": [],
   "source": [
    "# Group it by type, find the size of each type, and divide by total event\n",
    "\n",
    "# Train data (\"fit_transform\")\n",
    "country_train_freq = train_data.groupby(\"country\").size()/len(train_data)\n",
    "train_data['country freq'] = train_data['country'].map(country_train_freq) \n",
    "\n",
    "# Test data (\"transform\")\n",
    "test_data['country freq'] = test_data['country'].map(country_train_freq) "
   ]
  },
  {
   "cell_type": "code",
   "execution_count": 71,
   "metadata": {},
   "outputs": [],
   "source": [
    "# Some countries may not appear in the test set. Let us fulfill them with 0 values\n",
    "countries_id = list(set(test_data['country'].values).difference(set(country_train_freq.index)))\n",
    "values = [0]*len(countries_id)\n",
    "\n",
    "assert len(countries_id)==len(values)\n",
    "\n",
    "exceptions = dict(zip(countries_id, values))"
   ]
  },
  {
   "cell_type": "code",
   "execution_count": 72,
   "metadata": {},
   "outputs": [],
   "source": [
    "# Correcting these cases one by one..\n",
    "test_data['country freq'] = test_data['country freq'].map(exceptions)"
   ]
  },
  {
   "cell_type": "markdown",
   "metadata": {},
   "source": [
    "To encode **['keywords']**, we choose conventional **Binary Encoding**."
   ]
  },
  {
   "cell_type": "code",
   "execution_count": 73,
   "metadata": {},
   "outputs": [],
   "source": [
    "def binary_encoder(df, column):\n",
    "    \n",
    "    be = BinaryEncoder(cols=[column])\n",
    "    newdata = be.fit_transform(df[column])\n",
    "    \n",
    "    assert newdata.shape[0]==df.shape[0]\n",
    "    \n",
    "    df = pd.concat([df, newdata], axis=1)\n",
    "    \n",
    "    return df"
   ]
  },
  {
   "cell_type": "code",
   "execution_count": 74,
   "metadata": {},
   "outputs": [],
   "source": [
    "train_data = binary_encoder(train_data, 'keyword')\n",
    "test_data  = binary_encoder(test_data, 'keyword')"
   ]
  },
  {
   "cell_type": "code",
   "execution_count": 75,
   "metadata": {},
   "outputs": [
    {
     "data": {
      "text/html": [
       "<div>\n",
       "<style scoped>\n",
       "    .dataframe tbody tr th:only-of-type {\n",
       "        vertical-align: middle;\n",
       "    }\n",
       "\n",
       "    .dataframe tbody tr th {\n",
       "        vertical-align: top;\n",
       "    }\n",
       "\n",
       "    .dataframe thead th {\n",
       "        text-align: right;\n",
       "    }\n",
       "</style>\n",
       "<table border=\"1\" class=\"dataframe\">\n",
       "  <thead>\n",
       "    <tr style=\"text-align: right;\">\n",
       "      <th></th>\n",
       "      <th>id</th>\n",
       "      <th>keyword</th>\n",
       "      <th>location</th>\n",
       "      <th>text</th>\n",
       "      <th>target</th>\n",
       "      <th>num chars</th>\n",
       "      <th>num special chars</th>\n",
       "      <th>num words</th>\n",
       "      <th>average word length</th>\n",
       "      <th>country</th>\n",
       "      <th>country freq</th>\n",
       "      <th>keyword_0</th>\n",
       "      <th>keyword_1</th>\n",
       "      <th>keyword_2</th>\n",
       "      <th>keyword_3</th>\n",
       "      <th>keyword_4</th>\n",
       "      <th>keyword_5</th>\n",
       "      <th>keyword_6</th>\n",
       "      <th>keyword_7</th>\n",
       "    </tr>\n",
       "  </thead>\n",
       "  <tbody>\n",
       "    <tr>\n",
       "      <th>0</th>\n",
       "      <td>1</td>\n",
       "      <td>NaN</td>\n",
       "      <td>nan</td>\n",
       "      <td>Our Deeds are the Reason of this #earthquake M...</td>\n",
       "      <td>1</td>\n",
       "      <td>69</td>\n",
       "      <td>1</td>\n",
       "      <td>13</td>\n",
       "      <td>4.38</td>\n",
       "      <td>NAN</td>\n",
       "      <td>0.959149</td>\n",
       "      <td>0</td>\n",
       "      <td>0</td>\n",
       "      <td>0</td>\n",
       "      <td>0</td>\n",
       "      <td>0</td>\n",
       "      <td>0</td>\n",
       "      <td>0</td>\n",
       "      <td>1</td>\n",
       "    </tr>\n",
       "    <tr>\n",
       "      <th>1</th>\n",
       "      <td>4</td>\n",
       "      <td>NaN</td>\n",
       "      <td>nan</td>\n",
       "      <td>Forest fire near La Ronge Sask. Canada</td>\n",
       "      <td>1</td>\n",
       "      <td>38</td>\n",
       "      <td>1</td>\n",
       "      <td>7</td>\n",
       "      <td>4.57</td>\n",
       "      <td>NAN</td>\n",
       "      <td>0.959149</td>\n",
       "      <td>0</td>\n",
       "      <td>0</td>\n",
       "      <td>0</td>\n",
       "      <td>0</td>\n",
       "      <td>0</td>\n",
       "      <td>0</td>\n",
       "      <td>0</td>\n",
       "      <td>1</td>\n",
       "    </tr>\n",
       "    <tr>\n",
       "      <th>2</th>\n",
       "      <td>5</td>\n",
       "      <td>NaN</td>\n",
       "      <td>nan</td>\n",
       "      <td>All residents asked to 'shelter in place' are ...</td>\n",
       "      <td>1</td>\n",
       "      <td>133</td>\n",
       "      <td>3</td>\n",
       "      <td>22</td>\n",
       "      <td>5.09</td>\n",
       "      <td>NAN</td>\n",
       "      <td>0.959149</td>\n",
       "      <td>0</td>\n",
       "      <td>0</td>\n",
       "      <td>0</td>\n",
       "      <td>0</td>\n",
       "      <td>0</td>\n",
       "      <td>0</td>\n",
       "      <td>0</td>\n",
       "      <td>1</td>\n",
       "    </tr>\n",
       "  </tbody>\n",
       "</table>\n",
       "</div>"
      ],
      "text/plain": [
       "   id keyword location                                               text  \\\n",
       "0   1     NaN      nan  Our Deeds are the Reason of this #earthquake M...   \n",
       "1   4     NaN      nan             Forest fire near La Ronge Sask. Canada   \n",
       "2   5     NaN      nan  All residents asked to 'shelter in place' are ...   \n",
       "\n",
       "   target  num chars  num special chars  num words  average word length  \\\n",
       "0       1         69                  1         13                 4.38   \n",
       "1       1         38                  1          7                 4.57   \n",
       "2       1        133                  3         22                 5.09   \n",
       "\n",
       "  country  country freq  keyword_0  keyword_1  keyword_2  keyword_3  \\\n",
       "0     NAN      0.959149          0          0          0          0   \n",
       "1     NAN      0.959149          0          0          0          0   \n",
       "2     NAN      0.959149          0          0          0          0   \n",
       "\n",
       "   keyword_4  keyword_5  keyword_6  keyword_7  \n",
       "0          0          0          0          1  \n",
       "1          0          0          0          1  \n",
       "2          0          0          0          1  "
      ]
     },
     "execution_count": 75,
     "metadata": {},
     "output_type": "execute_result"
    }
   ],
   "source": [
    "train_data.head(3)"
   ]
  },
  {
   "cell_type": "markdown",
   "metadata": {},
   "source": [
    " "
   ]
  },
  {
   "cell_type": "markdown",
   "metadata": {},
   "source": [
    " "
   ]
  },
  {
   "cell_type": "markdown",
   "metadata": {},
   "source": [
    "**TASK 5:** Text cleaning and tokenizing"
   ]
  },
  {
   "cell_type": "code",
   "execution_count": 76,
   "metadata": {},
   "outputs": [],
   "source": [
    "train_data['text']  = train_data['text'].apply(lambda x : remove_special_chars(x))\n",
    "test_data['text']   = test_data['text'].apply(lambda x : remove_special_chars(x))"
   ]
  },
  {
   "cell_type": "code",
   "execution_count": 77,
   "metadata": {},
   "outputs": [
    {
     "data": {
      "text/plain": [
       "0       Our Deeds are the Reason of this  earthquake M...\n",
       "1                  Forest fire near La Ronge Sask  Canada\n",
       "2       All residents asked to  shelter in place  are ...\n",
       "3              people receive  wildfires evacuation or...\n",
       "4       Just got sent this photo from Ruby  Alaska as ...\n",
       "                              ...                        \n",
       "7608    Two giant cranes holding a bridge collapse int...\n",
       "7609     aria ahrary  TheTawniest The out of control w...\n",
       "7610    M            UTC   km S of Volcano Hawaii  htt...\n",
       "7611    Police investigating after an e bike collided ...\n",
       "7612    The Latest  More Homes Razed by Northern Calif...\n",
       "Name: text, Length: 7613, dtype: object"
      ]
     },
     "execution_count": 77,
     "metadata": {},
     "output_type": "execute_result"
    }
   ],
   "source": [
    "train_data.text"
   ]
  },
  {
   "cell_type": "markdown",
   "metadata": {},
   "source": [
    " "
   ]
  },
  {
   "cell_type": "markdown",
   "metadata": {},
   "source": [
    "**Methods for stopwords**"
   ]
  },
  {
   "cell_type": "code",
   "execution_count": 78,
   "metadata": {},
   "outputs": [],
   "source": [
    "import spacy\n",
    "en = spacy.load('en_core_web_sm')\n",
    "import gensim\n",
    "from gensim.parsing.preprocessing import remove_stopwords, STOPWORDS\n",
    "from sklearn.feature_extraction.text import ENGLISH_STOP_WORDS"
   ]
  },
  {
   "cell_type": "code",
   "execution_count": 79,
   "metadata": {},
   "outputs": [
    {
     "data": {
      "text/plain": [
       "Text(0.5, 1.1, 'Stopwords packages - Size comparison')"
      ]
     },
     "execution_count": 79,
     "metadata": {},
     "output_type": "execute_result"
    },
    {
     "data": {
      "image/png": "[encoded data removed]",
      "text/plain": [
       "<Figure size 432x288 with 1 Axes>"
      ]
     },
     "metadata": {
      "needs_background": "light"
     },
     "output_type": "display_data"
    }
   ],
   "source": [
    "#NLTK\n",
    "sw_nltk = stopwords.words('english')\n",
    "nltk_size = len(sw_nltk)\n",
    "\n",
    "#SKLEARN\n",
    "sklearn_size = len(ENGLISH_STOP_WORDS)\n",
    "\n",
    "#GENSIM\n",
    "gensim_size = len(STOPWORDS)\n",
    "\n",
    "#SPACY\n",
    "sw_spacy = en.Defaults.stop_words\n",
    "spacy_size = len(sw_spacy)\n",
    "\n",
    "x_values = [nltk_size, sklearn_size, spacy_size, gensim_size]\n",
    "labels = ['NLTK', 'SKLearn', 'SpaCy', 'Gensim']\n",
    "width = 0.5\n",
    "\n",
    "# Bar plot\n",
    "fig7,ax = plt.subplots()\n",
    "fig7.figsize=(12,4)\n",
    "\n",
    "ax.bar(labels, x_values, width, color='gray')\n",
    "ax.set_title('Stopwords packages - Size comparison', y=1.1, weight='bold', size='large')"
   ]
  },
  {
   "cell_type": "code",
   "execution_count": 80,
   "metadata": {},
   "outputs": [],
   "source": [
    "spell = SpellChecker()\n",
    "\n",
    "def correct_spellings(text):\n",
    "    \n",
    "    '''Corrects mispelling words'''\n",
    "    \n",
    "    corrected_text = []\n",
    "    misspelled_words = spell.unknown(text.split())\n",
    "    \n",
    "    for word in text.split():\n",
    "        if word in misspelled_words:\n",
    "            corrected_text.append(spell.correction(word))\n",
    "        else:\n",
    "            corrected_text.append(word)\n",
    "            \n",
    "    return \" \".join(corrected_text)"
   ]
  },
  {
   "cell_type": "code",
   "execution_count": 81,
   "metadata": {},
   "outputs": [],
   "source": [
    "train_data['text']  = train_data['text'].apply(lambda x : correct_spellings(x))\n",
    "test_data['text']   = test_data['text'].apply(lambda x : correct_spellings(x))"
   ]
  },
  {
   "cell_type": "markdown",
   "metadata": {},
   "source": [
    "Creating a backup for future use"
   ]
  },
  {
   "cell_type": "code",
   "execution_count": 82,
   "metadata": {},
   "outputs": [],
   "source": [
    "# Backup\n",
    "train_copy = train_data.copy()\n",
    "test_copy  = test_data.copy()"
   ]
  },
  {
   "cell_type": "markdown",
   "metadata": {},
   "source": [
    " "
   ]
  },
  {
   "cell_type": "code",
   "execution_count": 83,
   "metadata": {},
   "outputs": [],
   "source": [
    "train_data['text'] = train_data['text'].str.lower()\n",
    "test_data['text']  = test_data['text'].str.lower()"
   ]
  },
  {
   "cell_type": "code",
   "execution_count": 84,
   "metadata": {},
   "outputs": [],
   "source": [
    "def gensim_with_lemmantizer(text):\n",
    "    \n",
    "    '''Removes stop words and non-English vocabulary using Gensim package and performs lemmatization'''\n",
    "    \n",
    "    # Remove stopwords\n",
    "    clean_text = remove_stopwords(text)\n",
    "        \n",
    "    # setting English vocabulary\n",
    "    english_vocab = set(w.lower() for w in words.words())\n",
    "    \n",
    "    # Removing non-English vocabulary\n",
    "    clean_text = word_tokenize(clean_text)\n",
    "    tokens = [word for word in clean_text if word in english_vocab]\n",
    "    \n",
    "    # Tokenize and Lemmatizing\n",
    "    lemmatizer = WordNetLemmatizer()\n",
    "    clean_tokens = []\n",
    "    \n",
    "    for token in tokens:\n",
    "        clean_tokens.append(lemmatizer.lemmatize(token).lower().strip())\n",
    "     \n",
    "    return \" \".join(clean_tokens)"
   ]
  },
  {
   "cell_type": "code",
   "execution_count": 85,
   "metadata": {},
   "outputs": [],
   "source": [
    "train_data['text']  = train_data['text'].apply(lambda x : gensim_with_lemmantizer(x))\n",
    "test_data['text']   = test_data['text'].apply(lambda x : gensim_with_lemmantizer(x))"
   ]
  },
  {
   "cell_type": "code",
   "execution_count": 86,
   "metadata": {},
   "outputs": [
    {
     "data": {
      "text/html": [
       "<div>\n",
       "<style scoped>\n",
       "    .dataframe tbody tr th:only-of-type {\n",
       "        vertical-align: middle;\n",
       "    }\n",
       "\n",
       "    .dataframe tbody tr th {\n",
       "        vertical-align: top;\n",
       "    }\n",
       "\n",
       "    .dataframe thead th {\n",
       "        text-align: right;\n",
       "    }\n",
       "</style>\n",
       "<table border=\"1\" class=\"dataframe\">\n",
       "  <thead>\n",
       "    <tr style=\"text-align: right;\">\n",
       "      <th></th>\n",
       "      <th>id</th>\n",
       "      <th>keyword</th>\n",
       "      <th>location</th>\n",
       "      <th>text</th>\n",
       "      <th>target</th>\n",
       "      <th>num chars</th>\n",
       "      <th>num special chars</th>\n",
       "      <th>num words</th>\n",
       "      <th>average word length</th>\n",
       "      <th>country</th>\n",
       "      <th>country freq</th>\n",
       "      <th>keyword_0</th>\n",
       "      <th>keyword_1</th>\n",
       "      <th>keyword_2</th>\n",
       "      <th>keyword_3</th>\n",
       "      <th>keyword_4</th>\n",
       "      <th>keyword_5</th>\n",
       "      <th>keyword_6</th>\n",
       "      <th>keyword_7</th>\n",
       "    </tr>\n",
       "  </thead>\n",
       "  <tbody>\n",
       "    <tr>\n",
       "      <th>0</th>\n",
       "      <td>1</td>\n",
       "      <td>NaN</td>\n",
       "      <td>nan</td>\n",
       "      <td>reason earthquake allah forgive</td>\n",
       "      <td>1</td>\n",
       "      <td>69</td>\n",
       "      <td>1</td>\n",
       "      <td>13</td>\n",
       "      <td>4.38</td>\n",
       "      <td>NAN</td>\n",
       "      <td>0.959149</td>\n",
       "      <td>0</td>\n",
       "      <td>0</td>\n",
       "      <td>0</td>\n",
       "      <td>0</td>\n",
       "      <td>0</td>\n",
       "      <td>0</td>\n",
       "      <td>0</td>\n",
       "      <td>1</td>\n",
       "    </tr>\n",
       "    <tr>\n",
       "      <th>1</th>\n",
       "      <td>4</td>\n",
       "      <td>NaN</td>\n",
       "      <td>nan</td>\n",
       "      <td>forest near la canada</td>\n",
       "      <td>1</td>\n",
       "      <td>38</td>\n",
       "      <td>1</td>\n",
       "      <td>7</td>\n",
       "      <td>4.57</td>\n",
       "      <td>NAN</td>\n",
       "      <td>0.959149</td>\n",
       "      <td>0</td>\n",
       "      <td>0</td>\n",
       "      <td>0</td>\n",
       "      <td>0</td>\n",
       "      <td>0</td>\n",
       "      <td>0</td>\n",
       "      <td>0</td>\n",
       "      <td>1</td>\n",
       "    </tr>\n",
       "    <tr>\n",
       "      <th>2</th>\n",
       "      <td>5</td>\n",
       "      <td>NaN</td>\n",
       "      <td>nan</td>\n",
       "      <td>shelter place notified evacuation shelter place</td>\n",
       "      <td>1</td>\n",
       "      <td>133</td>\n",
       "      <td>3</td>\n",
       "      <td>22</td>\n",
       "      <td>5.09</td>\n",
       "      <td>NAN</td>\n",
       "      <td>0.959149</td>\n",
       "      <td>0</td>\n",
       "      <td>0</td>\n",
       "      <td>0</td>\n",
       "      <td>0</td>\n",
       "      <td>0</td>\n",
       "      <td>0</td>\n",
       "      <td>0</td>\n",
       "      <td>1</td>\n",
       "    </tr>\n",
       "  </tbody>\n",
       "</table>\n",
       "</div>"
      ],
      "text/plain": [
       "   id keyword location                                             text  \\\n",
       "0   1     NaN      nan                  reason earthquake allah forgive   \n",
       "1   4     NaN      nan                            forest near la canada   \n",
       "2   5     NaN      nan  shelter place notified evacuation shelter place   \n",
       "\n",
       "   target  num chars  num special chars  num words  average word length  \\\n",
       "0       1         69                  1         13                 4.38   \n",
       "1       1         38                  1          7                 4.57   \n",
       "2       1        133                  3         22                 5.09   \n",
       "\n",
       "  country  country freq  keyword_0  keyword_1  keyword_2  keyword_3  \\\n",
       "0     NAN      0.959149          0          0          0          0   \n",
       "1     NAN      0.959149          0          0          0          0   \n",
       "2     NAN      0.959149          0          0          0          0   \n",
       "\n",
       "   keyword_4  keyword_5  keyword_6  keyword_7  \n",
       "0          0          0          0          1  \n",
       "1          0          0          0          1  \n",
       "2          0          0          0          1  "
      ]
     },
     "execution_count": 86,
     "metadata": {},
     "output_type": "execute_result"
    }
   ],
   "source": [
    "train_data.head(3)"
   ]
  },
  {
   "cell_type": "markdown",
   "metadata": {},
   "source": [
    " "
   ]
  },
  {
   "cell_type": "markdown",
   "metadata": {},
   "source": [
    " "
   ]
  },
  {
   "cell_type": "markdown",
   "metadata": {},
   "source": [
    "### Training some ML models"
   ]
  },
  {
   "cell_type": "markdown",
   "metadata": {},
   "source": [
    "Let us try some different methods for vectorizing texts.\n",
    "\n",
    "**First one will be: RF + 'text' encoded with TD-IDF.**"
   ]
  },
  {
   "cell_type": "markdown",
   "metadata": {},
   "source": [
    "**TfidfVectorizer** is a method from *feature_extraction* for texts available in Scikit Learn. According to the documentation:\n",
    "\n",
    "- Convert a collection of raw documents to a matrix of TF-IDF features. Equivalent to *CountVectorizer* followed by *TfidfTransformer*.\n",
    "\n",
    "The last one, according to Scikit Learn documentation:\n",
    "\n",
    "- Transform a count matrix to a normalized tf or tf-idf representation.\n",
    "- **Tf** means *term-frequency* while **tf-idf** means *term-frequency times inverse document-frequency*. This is a common term weighting scheme in information retrieval, that has also found good use in document classification."
   ]
  },
  {
   "cell_type": "code",
   "execution_count": 87,
   "metadata": {},
   "outputs": [],
   "source": [
    "# Pre processing\n",
    "from sklearn.model_selection import train_test_split\n",
    "from sklearn.base import BaseEstimator, TransformerMixin\n",
    "from sklearn.feature_extraction.text import TfidfVectorizer\n",
    "\n",
    "# Metrics\n",
    "from sklearn import metrics\n",
    "from sklearn.metrics import roc_auc_score, accuracy_score, make_scorer\n",
    "\n",
    "# Pipeline\n",
    "from sklearn.pipeline import Pipeline\n",
    "from sklearn.model_selection import GridSearchCV\n",
    "from sklearn.model_selection import RepeatedKFold\n",
    "\n",
    "# Methods\n",
    "from sklearn.ensemble import RandomForestClassifier"
   ]
  },
  {
   "cell_type": "code",
   "execution_count": 88,
   "metadata": {},
   "outputs": [],
   "source": [
    "vectorizer = TfidfVectorizer(tokenizer=word_tokenize, token_pattern=None)\n",
    "\n",
    "# For Train Set\n",
    "train_texts = vectorizer.fit_transform(train_data['text'])\n",
    "train_texts = pd.DataFrame(train_texts.toarray(), columns=vectorizer.get_feature_names_out())\n",
    "\n",
    "\n",
    "# For Test Set\n",
    "test_texts  = vectorizer.transform(test_data['text'])\n",
    "test_texts  = pd.DataFrame(test_texts.toarray(), columns=vectorizer.get_feature_names_out())"
   ]
  },
  {
   "cell_type": "code",
   "execution_count": 89,
   "metadata": {},
   "outputs": [],
   "source": [
    "# Generating final sets\n",
    "\n",
    "# Train Set\n",
    "xtrain = pd.concat([train_data, train_texts], axis=1).drop(columns=['id', 'keyword', 'location', \n",
    "                                                                    'text', 'country', 'target'])\n",
    "\n",
    "ytrain = train_data['target']\n",
    "\n",
    "# Test Set\n",
    "xtest = pd.concat([test_data, test_texts], axis=1).drop(columns=['id', 'keyword', 'location', \n",
    "                                                                 'text', 'country'])"
   ]
  },
  {
   "cell_type": "code",
   "execution_count": 90,
   "metadata": {},
   "outputs": [
    {
     "data": {
      "text/html": [
       "<div>\n",
       "<style scoped>\n",
       "    .dataframe tbody tr th:only-of-type {\n",
       "        vertical-align: middle;\n",
       "    }\n",
       "\n",
       "    .dataframe tbody tr th {\n",
       "        vertical-align: top;\n",
       "    }\n",
       "\n",
       "    .dataframe thead th {\n",
       "        text-align: right;\n",
       "    }\n",
       "</style>\n",
       "<table border=\"1\" class=\"dataframe\">\n",
       "  <thead>\n",
       "    <tr style=\"text-align: right;\">\n",
       "      <th></th>\n",
       "      <th>num chars</th>\n",
       "      <th>num special chars</th>\n",
       "      <th>num words</th>\n",
       "      <th>average word length</th>\n",
       "      <th>country freq</th>\n",
       "      <th>keyword_0</th>\n",
       "      <th>keyword_1</th>\n",
       "      <th>keyword_2</th>\n",
       "      <th>keyword_3</th>\n",
       "      <th>keyword_4</th>\n",
       "      <th>...</th>\n",
       "      <th>zionism</th>\n",
       "      <th>zionist</th>\n",
       "      <th>zip</th>\n",
       "      <th>zipper</th>\n",
       "      <th>zo</th>\n",
       "      <th>zodiac</th>\n",
       "      <th>zombie</th>\n",
       "      <th>zone</th>\n",
       "      <th>zoo</th>\n",
       "      <th>zoom</th>\n",
       "    </tr>\n",
       "  </thead>\n",
       "  <tbody>\n",
       "    <tr>\n",
       "      <th>0</th>\n",
       "      <td>69</td>\n",
       "      <td>1</td>\n",
       "      <td>13</td>\n",
       "      <td>4.38</td>\n",
       "      <td>0.959149</td>\n",
       "      <td>0</td>\n",
       "      <td>0</td>\n",
       "      <td>0</td>\n",
       "      <td>0</td>\n",
       "      <td>0</td>\n",
       "      <td>...</td>\n",
       "      <td>0.0</td>\n",
       "      <td>0.0</td>\n",
       "      <td>0.0</td>\n",
       "      <td>0.0</td>\n",
       "      <td>0.0</td>\n",
       "      <td>0.0</td>\n",
       "      <td>0.0</td>\n",
       "      <td>0.0</td>\n",
       "      <td>0.0</td>\n",
       "      <td>0.0</td>\n",
       "    </tr>\n",
       "    <tr>\n",
       "      <th>1</th>\n",
       "      <td>38</td>\n",
       "      <td>1</td>\n",
       "      <td>7</td>\n",
       "      <td>4.57</td>\n",
       "      <td>0.959149</td>\n",
       "      <td>0</td>\n",
       "      <td>0</td>\n",
       "      <td>0</td>\n",
       "      <td>0</td>\n",
       "      <td>0</td>\n",
       "      <td>...</td>\n",
       "      <td>0.0</td>\n",
       "      <td>0.0</td>\n",
       "      <td>0.0</td>\n",
       "      <td>0.0</td>\n",
       "      <td>0.0</td>\n",
       "      <td>0.0</td>\n",
       "      <td>0.0</td>\n",
       "      <td>0.0</td>\n",
       "      <td>0.0</td>\n",
       "      <td>0.0</td>\n",
       "    </tr>\n",
       "    <tr>\n",
       "      <th>2</th>\n",
       "      <td>133</td>\n",
       "      <td>3</td>\n",
       "      <td>22</td>\n",
       "      <td>5.09</td>\n",
       "      <td>0.959149</td>\n",
       "      <td>0</td>\n",
       "      <td>0</td>\n",
       "      <td>0</td>\n",
       "      <td>0</td>\n",
       "      <td>0</td>\n",
       "      <td>...</td>\n",
       "      <td>0.0</td>\n",
       "      <td>0.0</td>\n",
       "      <td>0.0</td>\n",
       "      <td>0.0</td>\n",
       "      <td>0.0</td>\n",
       "      <td>0.0</td>\n",
       "      <td>0.0</td>\n",
       "      <td>0.0</td>\n",
       "      <td>0.0</td>\n",
       "      <td>0.0</td>\n",
       "    </tr>\n",
       "  </tbody>\n",
       "</table>\n",
       "<p>3 rows × 7190 columns</p>\n",
       "</div>"
      ],
      "text/plain": [
       "   num chars  num special chars  num words  average word length  country freq  \\\n",
       "0         69                  1         13                 4.38      0.959149   \n",
       "1         38                  1          7                 4.57      0.959149   \n",
       "2        133                  3         22                 5.09      0.959149   \n",
       "\n",
       "   keyword_0  keyword_1  keyword_2  keyword_3  keyword_4  ...  zionism  \\\n",
       "0          0          0          0          0          0  ...      0.0   \n",
       "1          0          0          0          0          0  ...      0.0   \n",
       "2          0          0          0          0          0  ...      0.0   \n",
       "\n",
       "   zionist  zip  zipper   zo  zodiac  zombie  zone  zoo  zoom  \n",
       "0      0.0  0.0     0.0  0.0     0.0     0.0   0.0  0.0   0.0  \n",
       "1      0.0  0.0     0.0  0.0     0.0     0.0   0.0  0.0   0.0  \n",
       "2      0.0  0.0     0.0  0.0     0.0     0.0   0.0  0.0   0.0  \n",
       "\n",
       "[3 rows x 7190 columns]"
      ]
     },
     "execution_count": 90,
     "metadata": {},
     "output_type": "execute_result"
    }
   ],
   "source": [
    "xtrain.head(3)"
   ]
  },
  {
   "cell_type": "code",
   "execution_count": 91,
   "metadata": {},
   "outputs": [
    {
     "name": "stdout",
     "output_type": "stream",
     "text": [
      "Fitting 5 folds for each of 9 candidates, totalling 45 fits\n",
      "------ Train, Validation and Test sets info ------\n",
      "X train size: (6471, 7190)\n",
      "Y train size: (6471,)\n",
      "X validation size: (1142, 7190)\n",
      "Y validation size: (1142,)\n",
      "X test size: (3263, 7191)\n",
      "------ Grid search model selection info ------\n",
      "Best parameter (CV score=0.797):\n",
      "Best parameters:  {'RF__max_depth': 15, 'RF__n_estimators': 100}\n",
      "Best index:  6\n",
      "Best estimator:  Pipeline(steps=[('RF', RandomForestClassifier(max_depth=15))])\n"
     ]
    }
   ],
   "source": [
    "# Spitting datasets\n",
    "xtrain, xvalid, ytrain, yvalid = train_test_split(xtrain, ytrain, test_size=0.15, random_state=42)\n",
    "\n",
    "# initiate the ML model using Gini Impurity algorithm (default)\n",
    "RF = RandomForestClassifier() \n",
    "    \n",
    "# Set the steps of the pipeline\n",
    "pipe = Pipeline([(\"RF\", RF)])\n",
    "\n",
    "# Set the parameters grid to be tested.Parameters of pipelines can be set using ‘__’ separated parameter names: \n",
    "param_grid = {\"RF__n_estimators\": [100, 150, 200],\n",
    "              \"RF__max_depth\":[7, 10, 15],\n",
    "             } \n",
    "\n",
    "scoring_list = [\"roc_auc\", \"accuracy\"]\n",
    "\n",
    "# set the Grid search CV\n",
    "search = GridSearchCV(pipe, \n",
    "                      param_grid, \n",
    "                      n_jobs=2, \n",
    "                      scoring=scoring_list,\n",
    "                      refit='roc_auc',\n",
    "                      verbose=2,\n",
    "                      return_train_score=True,\n",
    "                      cv=5\n",
    "                     )\n",
    "\n",
    "search.fit(xtrain, ytrain)\n",
    "results = search.cv_results_\n",
    "method = search.best_estimator_\n",
    "\n",
    "# Printing data sets info\n",
    "print('------ Train, Validation and Test sets info ------')\n",
    "print('X train size:', xtrain.shape)\n",
    "print('Y train size:', ytrain.shape)\n",
    "print('X validation size:', xvalid.shape)\n",
    "print('Y validation size:', yvalid.shape)\n",
    "print('X test size:', xtest.shape)\n",
    "\n",
    "# Printing grid search info\n",
    "print('------ Grid search model selection info ------')\n",
    "print(\"Best parameter (CV score=%0.3f):\" % search.best_score_)\n",
    "print(\"Best parameters: \", search.best_params_)\n",
    "print(\"Best index: \", search.best_index_)\n",
    "print(\"Best estimator: \", search.best_estimator_)"
   ]
  },
  {
   "cell_type": "code",
   "execution_count": 92,
   "metadata": {},
   "outputs": [],
   "source": [
    "ypredproba_RF = method.predict_proba(xvalid)\n",
    "ypred_RF = method.predict(xvalid)"
   ]
  },
  {
   "cell_type": "markdown",
   "metadata": {},
   "source": [
    " "
   ]
  },
  {
   "cell_type": "markdown",
   "metadata": {},
   "source": [
    "  "
   ]
  },
  {
   "cell_type": "markdown",
   "metadata": {},
   "source": [
    "**LGBM + 'text' encoded with TF-IDF**"
   ]
  },
  {
   "cell_type": "code",
   "execution_count": 93,
   "metadata": {},
   "outputs": [],
   "source": [
    "# Generating final sets\n",
    "\n",
    "# Train Set\n",
    "xtrain7 = pd.concat([train_data, train_texts], axis=1).drop(columns=['id', 'keyword', 'location', \n",
    "                                                                    'text', 'country', 'target'])\n",
    "\n",
    "ytrain = train_data['target']\n",
    "\n",
    "# Test Set\n",
    "xtest7 = pd.concat([test_data, test_texts], axis=1).drop(columns=['id', 'keyword', 'location', \n",
    "                                                                 'text', 'country'])"
   ]
  },
  {
   "cell_type": "code",
   "execution_count": 94,
   "metadata": {},
   "outputs": [
    {
     "data": {
      "text/html": [
       "<div>\n",
       "<style scoped>\n",
       "    .dataframe tbody tr th:only-of-type {\n",
       "        vertical-align: middle;\n",
       "    }\n",
       "\n",
       "    .dataframe tbody tr th {\n",
       "        vertical-align: top;\n",
       "    }\n",
       "\n",
       "    .dataframe thead th {\n",
       "        text-align: right;\n",
       "    }\n",
       "</style>\n",
       "<table border=\"1\" class=\"dataframe\">\n",
       "  <thead>\n",
       "    <tr style=\"text-align: right;\">\n",
       "      <th></th>\n",
       "      <th>num chars</th>\n",
       "      <th>num special chars</th>\n",
       "      <th>num words</th>\n",
       "      <th>average word length</th>\n",
       "      <th>country freq</th>\n",
       "      <th>keyword_0</th>\n",
       "      <th>keyword_1</th>\n",
       "      <th>keyword_2</th>\n",
       "      <th>keyword_3</th>\n",
       "      <th>keyword_4</th>\n",
       "      <th>...</th>\n",
       "      <th>zionism</th>\n",
       "      <th>zionist</th>\n",
       "      <th>zip</th>\n",
       "      <th>zipper</th>\n",
       "      <th>zo</th>\n",
       "      <th>zodiac</th>\n",
       "      <th>zombie</th>\n",
       "      <th>zone</th>\n",
       "      <th>zoo</th>\n",
       "      <th>zoom</th>\n",
       "    </tr>\n",
       "  </thead>\n",
       "  <tbody>\n",
       "    <tr>\n",
       "      <th>0</th>\n",
       "      <td>69</td>\n",
       "      <td>1</td>\n",
       "      <td>13</td>\n",
       "      <td>4.38</td>\n",
       "      <td>0.959149</td>\n",
       "      <td>0</td>\n",
       "      <td>0</td>\n",
       "      <td>0</td>\n",
       "      <td>0</td>\n",
       "      <td>0</td>\n",
       "      <td>...</td>\n",
       "      <td>0.0</td>\n",
       "      <td>0.0</td>\n",
       "      <td>0.0</td>\n",
       "      <td>0.0</td>\n",
       "      <td>0.0</td>\n",
       "      <td>0.0</td>\n",
       "      <td>0.0</td>\n",
       "      <td>0.0</td>\n",
       "      <td>0.0</td>\n",
       "      <td>0.0</td>\n",
       "    </tr>\n",
       "    <tr>\n",
       "      <th>1</th>\n",
       "      <td>38</td>\n",
       "      <td>1</td>\n",
       "      <td>7</td>\n",
       "      <td>4.57</td>\n",
       "      <td>0.959149</td>\n",
       "      <td>0</td>\n",
       "      <td>0</td>\n",
       "      <td>0</td>\n",
       "      <td>0</td>\n",
       "      <td>0</td>\n",
       "      <td>...</td>\n",
       "      <td>0.0</td>\n",
       "      <td>0.0</td>\n",
       "      <td>0.0</td>\n",
       "      <td>0.0</td>\n",
       "      <td>0.0</td>\n",
       "      <td>0.0</td>\n",
       "      <td>0.0</td>\n",
       "      <td>0.0</td>\n",
       "      <td>0.0</td>\n",
       "      <td>0.0</td>\n",
       "    </tr>\n",
       "    <tr>\n",
       "      <th>2</th>\n",
       "      <td>133</td>\n",
       "      <td>3</td>\n",
       "      <td>22</td>\n",
       "      <td>5.09</td>\n",
       "      <td>0.959149</td>\n",
       "      <td>0</td>\n",
       "      <td>0</td>\n",
       "      <td>0</td>\n",
       "      <td>0</td>\n",
       "      <td>0</td>\n",
       "      <td>...</td>\n",
       "      <td>0.0</td>\n",
       "      <td>0.0</td>\n",
       "      <td>0.0</td>\n",
       "      <td>0.0</td>\n",
       "      <td>0.0</td>\n",
       "      <td>0.0</td>\n",
       "      <td>0.0</td>\n",
       "      <td>0.0</td>\n",
       "      <td>0.0</td>\n",
       "      <td>0.0</td>\n",
       "    </tr>\n",
       "  </tbody>\n",
       "</table>\n",
       "<p>3 rows × 7190 columns</p>\n",
       "</div>"
      ],
      "text/plain": [
       "   num chars  num special chars  num words  average word length  country freq  \\\n",
       "0         69                  1         13                 4.38      0.959149   \n",
       "1         38                  1          7                 4.57      0.959149   \n",
       "2        133                  3         22                 5.09      0.959149   \n",
       "\n",
       "   keyword_0  keyword_1  keyword_2  keyword_3  keyword_4  ...  zionism  \\\n",
       "0          0          0          0          0          0  ...      0.0   \n",
       "1          0          0          0          0          0  ...      0.0   \n",
       "2          0          0          0          0          0  ...      0.0   \n",
       "\n",
       "   zionist  zip  zipper   zo  zodiac  zombie  zone  zoo  zoom  \n",
       "0      0.0  0.0     0.0  0.0     0.0     0.0   0.0  0.0   0.0  \n",
       "1      0.0  0.0     0.0  0.0     0.0     0.0   0.0  0.0   0.0  \n",
       "2      0.0  0.0     0.0  0.0     0.0     0.0   0.0  0.0   0.0  \n",
       "\n",
       "[3 rows x 7190 columns]"
      ]
     },
     "execution_count": 94,
     "metadata": {},
     "output_type": "execute_result"
    }
   ],
   "source": [
    "xtrain7.head(3)"
   ]
  },
  {
   "cell_type": "code",
   "execution_count": 95,
   "metadata": {},
   "outputs": [],
   "source": [
    "from lightgbm import LGBMClassifier"
   ]
  },
  {
   "cell_type": "code",
   "execution_count": 96,
   "metadata": {},
   "outputs": [
    {
     "name": "stdout",
     "output_type": "stream",
     "text": [
      "Fitting 5 folds for each of 27 candidates, totalling 135 fits\n",
      "------ Train, Validation and Test sets info ------\n",
      "X train size: (6471, 7190)\n",
      "Y train size: (6471,)\n",
      "X validation size: (1142, 7190)\n",
      "Y validation size: (1142,)\n",
      "X test size: (3263, 7191)\n",
      "------ Grid search model selection info ------\n",
      "Best parameter (CV score=0.823):\n",
      "Best parameters:  {'LGBM__learning_rate': 0.1, 'LGBM__max_depth': 10, 'LGBM__n_estimators': 100}\n",
      "Best index:  26\n",
      "Best estimator:  Pipeline(steps=[('LGBM', LGBMClassifier(max_depth=10))])\n"
     ]
    }
   ],
   "source": [
    "# Spitting datasets\n",
    "xtrain7, xvalid7, ytrain, yvalid7 = train_test_split(xtrain7, ytrain, test_size=0.15, random_state=42)\n",
    "\n",
    "# initiate the ML model using Gini Impurity algorithm (default)\n",
    "LGBM = LGBMClassifier() \n",
    "    \n",
    "# Set the steps of the pipeline\n",
    "pipe = Pipeline([(\"LGBM\", LGBM)])\n",
    "\n",
    "# Set the parameters grid to be tested.Parameters of pipelines can be set using ‘__’ separated parameter names: \n",
    "param_grid = {\"LGBM__n_estimators\": [50, 75, 100],\n",
    "              \"LGBM__learning_rate\":[0.001, 0.01, 0.1],\n",
    "              \"LGBM__max_depth\": [3, 5, 10]\n",
    "             } \n",
    "\n",
    "scoring_list = [\"roc_auc\", \"accuracy\"]\n",
    "\n",
    "# set the Grid search CV\n",
    "search7 = GridSearchCV(pipe, \n",
    "                      param_grid, \n",
    "                      n_jobs=2, \n",
    "                      scoring=scoring_list,\n",
    "                      refit='roc_auc',\n",
    "                      verbose=2,\n",
    "                      return_train_score=True,\n",
    "                      cv=5\n",
    "                     )\n",
    "\n",
    "search7.fit(xtrain7, ytrain)\n",
    "results7 = search7.cv_results_\n",
    "method7 = search7.best_estimator_\n",
    "\n",
    "# Printing data sets info\n",
    "print('------ Train, Validation and Test sets info ------')\n",
    "print('X train size:', xtrain7.shape)\n",
    "print('Y train size:', ytrain.shape)\n",
    "print('X validation size:', xvalid7.shape)\n",
    "print('Y validation size:', yvalid7.shape)\n",
    "print('X test size:', xtest7.shape)\n",
    "\n",
    "# Printing grid search info\n",
    "print('------ Grid search model selection info ------')\n",
    "print(\"Best parameter (CV score=%0.3f):\" % search7.best_score_)\n",
    "print(\"Best parameters: \", search7.best_params_)\n",
    "print(\"Best index: \", search7.best_index_)\n",
    "print(\"Best estimator: \", search7.best_estimator_)"
   ]
  },
  {
   "cell_type": "code",
   "execution_count": 97,
   "metadata": {},
   "outputs": [],
   "source": [
    "ypredproba_RF = method.predict_proba(xvalid7)\n",
    "ypred_RF = method.predict(xvalid7)"
   ]
  },
  {
   "cell_type": "markdown",
   "metadata": {},
   "source": [
    " "
   ]
  },
  {
   "cell_type": "markdown",
   "metadata": {},
   "source": [
    "This time, instead of performing encoding with TF-IDF, we will vectorize the 'text' feature using SpaCy pre-trained embbeding.\n",
    "\n",
    "**RF + 'text' encoded with SpaCy**"
   ]
  },
  {
   "cell_type": "code",
   "execution_count": 98,
   "metadata": {},
   "outputs": [],
   "source": [
    "# Load the spacy model that you have installed\n",
    "nlp = spacy.load('en_core_web_md')"
   ]
  },
  {
   "cell_type": "code",
   "execution_count": 99,
   "metadata": {},
   "outputs": [],
   "source": [
    "class WordVectorTransformer(TransformerMixin,BaseEstimator):\n",
    "    def __init__(self, model=\"en_core_web_md\"):\n",
    "        self.model = model\n",
    "\n",
    "    def fit(self,X,y=None):\n",
    "        return self\n",
    "\n",
    "    def transform(self,X):\n",
    "        nlp = spacy.load(self.model)\n",
    "        return np.concatenate([nlp(doc).vector.reshape(1,-1) for doc in X])"
   ]
  },
  {
   "cell_type": "code",
   "execution_count": 100,
   "metadata": {},
   "outputs": [],
   "source": [
    "transformer = WordVectorTransformer()\n",
    "train_arr = transformer.fit_transform(train_data['text'])\n",
    "test_arr  = transformer.fit_transform(test_data['text'])"
   ]
  },
  {
   "cell_type": "code",
   "execution_count": 101,
   "metadata": {},
   "outputs": [],
   "source": [
    "df_train_txt = pd.DataFrame(train_arr, columns =['txt'+str(i) for i in range(1,301)])\n",
    "df_test_txt  = pd.DataFrame(test_arr, columns =['txt'+str(i) for i in range(1,301)])"
   ]
  },
  {
   "cell_type": "code",
   "execution_count": 102,
   "metadata": {},
   "outputs": [],
   "source": [
    "# Generating final sets\n",
    "\n",
    "# Train Set\n",
    "xtrain2 = pd.concat([train_data, df_train_txt], axis=1).drop(columns=['id', 'keyword', 'location',\n",
    "                                                                   'text', 'country', 'target'])\n",
    "\n",
    "\n",
    "ytrain = train_data['target']\n",
    "\n",
    "# Test Set\n",
    "xtest2 = pd.concat([test_data, df_test_txt], axis=1).drop(columns=['id', 'keyword', 'location', \n",
    "                                                                'text', 'country'])"
   ]
  },
  {
   "cell_type": "code",
   "execution_count": 103,
   "metadata": {},
   "outputs": [
    {
     "data": {
      "text/plain": [
       "Index(['num chars', 'num special chars', 'num words', 'average word length',\n",
       "       'country freq', 'keyword_0', 'keyword_1', 'keyword_2', 'keyword_3',\n",
       "       'keyword_4',\n",
       "       ...\n",
       "       'txt291', 'txt292', 'txt293', 'txt294', 'txt295', 'txt296', 'txt297',\n",
       "       'txt298', 'txt299', 'txt300'],\n",
       "      dtype='object', length=313)"
      ]
     },
     "execution_count": 103,
     "metadata": {},
     "output_type": "execute_result"
    }
   ],
   "source": [
    "xtrain2.columns"
   ]
  },
  {
   "cell_type": "code",
   "execution_count": 104,
   "metadata": {},
   "outputs": [
    {
     "data": {
      "text/html": [
       "<div>\n",
       "<style scoped>\n",
       "    .dataframe tbody tr th:only-of-type {\n",
       "        vertical-align: middle;\n",
       "    }\n",
       "\n",
       "    .dataframe tbody tr th {\n",
       "        vertical-align: top;\n",
       "    }\n",
       "\n",
       "    .dataframe thead th {\n",
       "        text-align: right;\n",
       "    }\n",
       "</style>\n",
       "<table border=\"1\" class=\"dataframe\">\n",
       "  <thead>\n",
       "    <tr style=\"text-align: right;\">\n",
       "      <th></th>\n",
       "      <th>num chars</th>\n",
       "      <th>num special chars</th>\n",
       "      <th>num words</th>\n",
       "      <th>average word length</th>\n",
       "      <th>country freq</th>\n",
       "      <th>keyword_0</th>\n",
       "      <th>keyword_1</th>\n",
       "      <th>keyword_2</th>\n",
       "      <th>keyword_3</th>\n",
       "      <th>keyword_4</th>\n",
       "      <th>...</th>\n",
       "      <th>txt291</th>\n",
       "      <th>txt292</th>\n",
       "      <th>txt293</th>\n",
       "      <th>txt294</th>\n",
       "      <th>txt295</th>\n",
       "      <th>txt296</th>\n",
       "      <th>txt297</th>\n",
       "      <th>txt298</th>\n",
       "      <th>txt299</th>\n",
       "      <th>txt300</th>\n",
       "    </tr>\n",
       "  </thead>\n",
       "  <tbody>\n",
       "    <tr>\n",
       "      <th>0</th>\n",
       "      <td>69</td>\n",
       "      <td>1</td>\n",
       "      <td>13</td>\n",
       "      <td>4.38</td>\n",
       "      <td>0.959149</td>\n",
       "      <td>0</td>\n",
       "      <td>0</td>\n",
       "      <td>0</td>\n",
       "      <td>0</td>\n",
       "      <td>0</td>\n",
       "      <td>...</td>\n",
       "      <td>3.753675</td>\n",
       "      <td>-0.973575</td>\n",
       "      <td>0.807835</td>\n",
       "      <td>-0.427525</td>\n",
       "      <td>-0.404525</td>\n",
       "      <td>1.622118</td>\n",
       "      <td>1.224605</td>\n",
       "      <td>-0.881025</td>\n",
       "      <td>-2.046537</td>\n",
       "      <td>1.265052</td>\n",
       "    </tr>\n",
       "    <tr>\n",
       "      <th>1</th>\n",
       "      <td>38</td>\n",
       "      <td>1</td>\n",
       "      <td>7</td>\n",
       "      <td>4.57</td>\n",
       "      <td>0.959149</td>\n",
       "      <td>0</td>\n",
       "      <td>0</td>\n",
       "      <td>0</td>\n",
       "      <td>0</td>\n",
       "      <td>0</td>\n",
       "      <td>...</td>\n",
       "      <td>-1.024685</td>\n",
       "      <td>2.021043</td>\n",
       "      <td>4.444325</td>\n",
       "      <td>1.457075</td>\n",
       "      <td>0.132725</td>\n",
       "      <td>1.300485</td>\n",
       "      <td>1.729575</td>\n",
       "      <td>-0.197270</td>\n",
       "      <td>-0.915400</td>\n",
       "      <td>-2.731612</td>\n",
       "    </tr>\n",
       "    <tr>\n",
       "      <th>2</th>\n",
       "      <td>133</td>\n",
       "      <td>3</td>\n",
       "      <td>22</td>\n",
       "      <td>5.09</td>\n",
       "      <td>0.959149</td>\n",
       "      <td>0</td>\n",
       "      <td>0</td>\n",
       "      <td>0</td>\n",
       "      <td>0</td>\n",
       "      <td>0</td>\n",
       "      <td>...</td>\n",
       "      <td>-0.725623</td>\n",
       "      <td>-1.385352</td>\n",
       "      <td>0.817780</td>\n",
       "      <td>2.724800</td>\n",
       "      <td>-4.064633</td>\n",
       "      <td>-0.608247</td>\n",
       "      <td>-1.015070</td>\n",
       "      <td>-1.789082</td>\n",
       "      <td>0.803580</td>\n",
       "      <td>0.772050</td>\n",
       "    </tr>\n",
       "  </tbody>\n",
       "</table>\n",
       "<p>3 rows × 313 columns</p>\n",
       "</div>"
      ],
      "text/plain": [
       "   num chars  num special chars  num words  average word length  country freq  \\\n",
       "0         69                  1         13                 4.38      0.959149   \n",
       "1         38                  1          7                 4.57      0.959149   \n",
       "2        133                  3         22                 5.09      0.959149   \n",
       "\n",
       "   keyword_0  keyword_1  keyword_2  keyword_3  keyword_4  ...    txt291  \\\n",
       "0          0          0          0          0          0  ...  3.753675   \n",
       "1          0          0          0          0          0  ... -1.024685   \n",
       "2          0          0          0          0          0  ... -0.725623   \n",
       "\n",
       "     txt292    txt293    txt294    txt295    txt296    txt297    txt298  \\\n",
       "0 -0.973575  0.807835 -0.427525 -0.404525  1.622118  1.224605 -0.881025   \n",
       "1  2.021043  4.444325  1.457075  0.132725  1.300485  1.729575 -0.197270   \n",
       "2 -1.385352  0.817780  2.724800 -4.064633 -0.608247 -1.015070 -1.789082   \n",
       "\n",
       "     txt299    txt300  \n",
       "0 -2.046537  1.265052  \n",
       "1 -0.915400 -2.731612  \n",
       "2  0.803580  0.772050  \n",
       "\n",
       "[3 rows x 313 columns]"
      ]
     },
     "execution_count": 104,
     "metadata": {},
     "output_type": "execute_result"
    }
   ],
   "source": [
    "xtrain2.head(3)"
   ]
  },
  {
   "cell_type": "code",
   "execution_count": 105,
   "metadata": {},
   "outputs": [
    {
     "name": "stdout",
     "output_type": "stream",
     "text": [
      "CPU times: user 0 ns, sys: 11 µs, total: 11 µs\n",
      "Wall time: 20.3 µs\n",
      "Fitting 5 folds for each of 9 candidates, totalling 45 fits\n",
      "------ Train, Validation and Test sets info ------\n",
      "X train size: (6471, 313)\n",
      "Y train size: (6471,)\n",
      "X validation size: (1142, 313)\n",
      "Y validation size: (1142,)\n",
      "X test size: (3263, 313)\n",
      "------ Grid search model selection info ------\n",
      "Best parameter (CV score=0.815):\n",
      "Best parameters:  {'RF__max_depth': 10, 'RF__n_estimators': 150}\n",
      "Best index:  4\n",
      "Best estimator:  Pipeline(steps=[('RF', RandomForestClassifier(max_depth=10, n_estimators=150))])\n"
     ]
    }
   ],
   "source": [
    "%time\n",
    "# Spitting datasets\n",
    "xtrain2, xvalid2, ytrain, yvalid2 = train_test_split(xtrain2, ytrain, test_size=0.15, random_state=42)\n",
    "\n",
    "# initiate the ML model using Gini Impurity algorithm (default)\n",
    "RF = RandomForestClassifier() \n",
    "    \n",
    "# Set the steps of the pipeline\n",
    "pipe = Pipeline([(\"RF\", RF)])\n",
    "\n",
    "# Set the parameters grid to be tested.Parameters of pipelines can be set using ‘__’ separated parameter names: \n",
    "param_grid = {\"RF__n_estimators\": [100, 150, 200],\n",
    "              \"RF__max_depth\":[7, 10, 15],\n",
    "             } \n",
    "\n",
    "scoring_list = [\"roc_auc\", \"accuracy\"]\n",
    "\n",
    "# set the Grid search CV\n",
    "search2 = GridSearchCV(pipe, \n",
    "                      param_grid, \n",
    "                      n_jobs=2, \n",
    "                      scoring=scoring_list,\n",
    "                      refit='roc_auc',\n",
    "                      verbose=2,\n",
    "                      return_train_score=True,\n",
    "                      cv=5\n",
    "                     )\n",
    "\n",
    "search2.fit(xtrain2, ytrain)\n",
    "results2 = search2.cv_results_\n",
    "method2 = search2.best_estimator_\n",
    "\n",
    "# Printing data sets info\n",
    "print('------ Train, Validation and Test sets info ------')\n",
    "print('X train size:', xtrain2.shape)\n",
    "print('Y train size:', ytrain.shape)\n",
    "print('X validation size:', xvalid2.shape)\n",
    "print('Y validation size:', yvalid2.shape)\n",
    "print('X test size:', xtest2.shape)\n",
    "\n",
    "# Printing grid search info\n",
    "print('------ Grid search model selection info ------')\n",
    "print(\"Best parameter (CV score=%0.3f):\" % search2.best_score_)\n",
    "print(\"Best parameters: \", search2.best_params_)\n",
    "print(\"Best index: \", search2.best_index_)\n",
    "print(\"Best estimator: \", search2.best_estimator_)"
   ]
  },
  {
   "cell_type": "code",
   "execution_count": 106,
   "metadata": {},
   "outputs": [],
   "source": [
    "ypredproba2_RF = method2.predict_proba(xvalid2)\n",
    "ypred2_RF      = method2.predict(xvalid2)"
   ]
  },
  {
   "cell_type": "markdown",
   "metadata": {},
   "source": [
    " "
   ]
  },
  {
   "cell_type": "markdown",
   "metadata": {},
   "source": [
    "**Let us try another ML model: LGBM + 'text' encoding with SpaCy**"
   ]
  },
  {
   "cell_type": "code",
   "execution_count": 107,
   "metadata": {},
   "outputs": [],
   "source": [
    "xtrain3 = xtrain2.copy()\n",
    "xtest3 = xtest2.copy()"
   ]
  },
  {
   "cell_type": "code",
   "execution_count": 108,
   "metadata": {},
   "outputs": [
    {
     "data": {
      "text/html": [
       "<div>\n",
       "<style scoped>\n",
       "    .dataframe tbody tr th:only-of-type {\n",
       "        vertical-align: middle;\n",
       "    }\n",
       "\n",
       "    .dataframe tbody tr th {\n",
       "        vertical-align: top;\n",
       "    }\n",
       "\n",
       "    .dataframe thead th {\n",
       "        text-align: right;\n",
       "    }\n",
       "</style>\n",
       "<table border=\"1\" class=\"dataframe\">\n",
       "  <thead>\n",
       "    <tr style=\"text-align: right;\">\n",
       "      <th></th>\n",
       "      <th>num chars</th>\n",
       "      <th>num special chars</th>\n",
       "      <th>num words</th>\n",
       "      <th>average word length</th>\n",
       "      <th>country freq</th>\n",
       "      <th>keyword_0</th>\n",
       "      <th>keyword_1</th>\n",
       "      <th>keyword_2</th>\n",
       "      <th>keyword_3</th>\n",
       "      <th>keyword_4</th>\n",
       "      <th>...</th>\n",
       "      <th>txt291</th>\n",
       "      <th>txt292</th>\n",
       "      <th>txt293</th>\n",
       "      <th>txt294</th>\n",
       "      <th>txt295</th>\n",
       "      <th>txt296</th>\n",
       "      <th>txt297</th>\n",
       "      <th>txt298</th>\n",
       "      <th>txt299</th>\n",
       "      <th>txt300</th>\n",
       "    </tr>\n",
       "  </thead>\n",
       "  <tbody>\n",
       "    <tr>\n",
       "      <th>2318</th>\n",
       "      <td>139</td>\n",
       "      <td>9</td>\n",
       "      <td>19</td>\n",
       "      <td>6.37</td>\n",
       "      <td>0.959149</td>\n",
       "      <td>0</td>\n",
       "      <td>1</td>\n",
       "      <td>0</td>\n",
       "      <td>0</td>\n",
       "      <td>0</td>\n",
       "      <td>...</td>\n",
       "      <td>-0.312002</td>\n",
       "      <td>-0.016643</td>\n",
       "      <td>-2.041475</td>\n",
       "      <td>-0.959840</td>\n",
       "      <td>-2.839250</td>\n",
       "      <td>-0.583513</td>\n",
       "      <td>-0.374825</td>\n",
       "      <td>-2.471025</td>\n",
       "      <td>-0.988960</td>\n",
       "      <td>-0.452226</td>\n",
       "    </tr>\n",
       "    <tr>\n",
       "      <th>6341</th>\n",
       "      <td>140</td>\n",
       "      <td>10</td>\n",
       "      <td>14</td>\n",
       "      <td>9.00</td>\n",
       "      <td>0.959149</td>\n",
       "      <td>1</td>\n",
       "      <td>0</td>\n",
       "      <td>1</td>\n",
       "      <td>1</td>\n",
       "      <td>1</td>\n",
       "      <td>...</td>\n",
       "      <td>0.136846</td>\n",
       "      <td>-0.506920</td>\n",
       "      <td>0.094750</td>\n",
       "      <td>1.321641</td>\n",
       "      <td>0.026958</td>\n",
       "      <td>0.138392</td>\n",
       "      <td>-0.702416</td>\n",
       "      <td>-3.217886</td>\n",
       "      <td>-0.089883</td>\n",
       "      <td>2.108547</td>\n",
       "    </tr>\n",
       "    <tr>\n",
       "      <th>1097</th>\n",
       "      <td>82</td>\n",
       "      <td>8</td>\n",
       "      <td>10</td>\n",
       "      <td>7.30</td>\n",
       "      <td>0.959149</td>\n",
       "      <td>0</td>\n",
       "      <td>0</td>\n",
       "      <td>1</td>\n",
       "      <td>0</td>\n",
       "      <td>0</td>\n",
       "      <td>...</td>\n",
       "      <td>2.819352</td>\n",
       "      <td>-1.163960</td>\n",
       "      <td>-0.505273</td>\n",
       "      <td>0.845528</td>\n",
       "      <td>0.689454</td>\n",
       "      <td>-0.813842</td>\n",
       "      <td>-0.638542</td>\n",
       "      <td>0.618172</td>\n",
       "      <td>-2.917960</td>\n",
       "      <td>1.738954</td>\n",
       "    </tr>\n",
       "  </tbody>\n",
       "</table>\n",
       "<p>3 rows × 313 columns</p>\n",
       "</div>"
      ],
      "text/plain": [
       "      num chars  num special chars  num words  average word length  \\\n",
       "2318        139                  9         19                 6.37   \n",
       "6341        140                 10         14                 9.00   \n",
       "1097         82                  8         10                 7.30   \n",
       "\n",
       "      country freq  keyword_0  keyword_1  keyword_2  keyword_3  keyword_4  \\\n",
       "2318      0.959149          0          1          0          0          0   \n",
       "6341      0.959149          1          0          1          1          1   \n",
       "1097      0.959149          0          0          1          0          0   \n",
       "\n",
       "      ...    txt291    txt292    txt293    txt294    txt295    txt296  \\\n",
       "2318  ... -0.312002 -0.016643 -2.041475 -0.959840 -2.839250 -0.583513   \n",
       "6341  ...  0.136846 -0.506920  0.094750  1.321641  0.026958  0.138392   \n",
       "1097  ...  2.819352 -1.163960 -0.505273  0.845528  0.689454 -0.813842   \n",
       "\n",
       "        txt297    txt298    txt299    txt300  \n",
       "2318 -0.374825 -2.471025 -0.988960 -0.452226  \n",
       "6341 -0.702416 -3.217886 -0.089883  2.108547  \n",
       "1097 -0.638542  0.618172 -2.917960  1.738954  \n",
       "\n",
       "[3 rows x 313 columns]"
      ]
     },
     "execution_count": 108,
     "metadata": {},
     "output_type": "execute_result"
    }
   ],
   "source": [
    "xtrain3.head(3)"
   ]
  },
  {
   "cell_type": "code",
   "execution_count": 109,
   "metadata": {},
   "outputs": [
    {
     "name": "stdout",
     "output_type": "stream",
     "text": [
      "Fitting 5 folds for each of 27 candidates, totalling 135 fits\n",
      "------ Train, Validation and Test sets info ------\n",
      "X train size: (5500, 313)\n",
      "Y train size: (5500,)\n",
      "X validation size: (971, 313)\n",
      "Y validation size: (971,)\n",
      "X test size: (3263, 313)\n",
      "------ Grid search model selection info ------\n",
      "Best parameter (CV score=0.822):\n",
      "Best parameters:  {'LGBM__learning_rate': 0.1, 'LGBM__max_depth': 10, 'LGBM__n_estimators': 100}\n",
      "Best index:  26\n",
      "Best estimator:  Pipeline(steps=[('LGBM', LGBMClassifier(max_depth=10))])\n"
     ]
    }
   ],
   "source": [
    "# Splitting datasets\n",
    "xtrain3, xvalid3, ytrain, yvalid3 = train_test_split(xtrain3, ytrain, test_size=0.15, random_state=42)\n",
    "\n",
    "# initiate the ML model using Gini Impurity algorithm (default)\n",
    "LGBM = LGBMClassifier() \n",
    "    \n",
    "# Set the steps of the pipeline\n",
    "pipe = Pipeline([(\"LGBM\", LGBM)])\n",
    "\n",
    "# Set the parameters grid to be tested.Parameters of pipelines can be set using ‘__’ separated parameter names: \n",
    "param_grid = {\"LGBM__n_estimators\": [50, 75, 100],\n",
    "              \"LGBM__learning_rate\":[0.001, 0.01, 0.1],\n",
    "              \"LGBM__max_depth\": [3, 5, 10]\n",
    "             } \n",
    "\n",
    "\n",
    "scoring_list = [\"roc_auc\", \"accuracy\"]\n",
    "\n",
    "# set the Grid search CV\n",
    "search3 = GridSearchCV(pipe, \n",
    "                      param_grid, \n",
    "                      n_jobs=2, \n",
    "                      scoring=scoring_list,\n",
    "                      refit='roc_auc',\n",
    "                      verbose=2,\n",
    "                      return_train_score=True,\n",
    "                      cv=5\n",
    "                     )\n",
    "\n",
    "search3.fit(xtrain3, ytrain)\n",
    "results3 = search3.cv_results_\n",
    "method3 = search3.best_estimator_\n",
    "\n",
    "# Printing data sets info\n",
    "print('------ Train, Validation and Test sets info ------')\n",
    "print('X train size:', xtrain3.shape)\n",
    "print('Y train size:', ytrain.shape)\n",
    "print('X validation size:', xvalid3.shape)\n",
    "print('Y validation size:', yvalid3.shape)\n",
    "print('X test size:', xtest3.shape)\n",
    "\n",
    "# Printing grid search info\n",
    "print('------ Grid search model selection info ------')\n",
    "print(\"Best parameter (CV score=%0.3f):\" % search3.best_score_)\n",
    "print(\"Best parameters: \", search3.best_params_)\n",
    "print(\"Best index: \", search3.best_index_)\n",
    "print(\"Best estimator: \", search3.best_estimator_)"
   ]
  },
  {
   "cell_type": "code",
   "execution_count": 110,
   "metadata": {},
   "outputs": [],
   "source": [
    "ypredproba3_RF = method3.predict_proba(xvalid3)\n",
    "ypred3_RF      = method3.predict(xvalid3)"
   ]
  },
  {
   "cell_type": "markdown",
   "metadata": {},
   "source": [
    " "
   ]
  },
  {
   "cell_type": "markdown",
   "metadata": {},
   "source": [
    "Now, let us try a new approach to keywords encoding..\n",
    "\n",
    "**LGBM + 'text' and 'keywords' encoded with SpaCy...**"
   ]
  },
  {
   "cell_type": "code",
   "execution_count": 111,
   "metadata": {},
   "outputs": [],
   "source": [
    "train_data['keyword'] = np.where(train_data['keyword'].isnull()==True, 'NA', train_data['keyword'])\n",
    "test_data['keyword']  = np.where(test_data['keyword'].isnull()==True, 'NA', test_data['keyword'])"
   ]
  },
  {
   "cell_type": "code",
   "execution_count": 112,
   "metadata": {},
   "outputs": [
    {
     "data": {
      "text/plain": [
       "NA                       61\n",
       "fatalities               45\n",
       "armageddon               42\n",
       "deluge                   42\n",
       "sinking                  41\n",
       "                         ..\n",
       "forest%20fire            19\n",
       "epicentre                12\n",
       "threat                   11\n",
       "inundation               10\n",
       "radiation%20emergency     9\n",
       "Name: keyword, Length: 222, dtype: int64"
      ]
     },
     "execution_count": 112,
     "metadata": {},
     "output_type": "execute_result"
    }
   ],
   "source": [
    "train_data['keyword'].value_counts()"
   ]
  },
  {
   "cell_type": "code",
   "execution_count": 113,
   "metadata": {},
   "outputs": [],
   "source": [
    "train_data['keyword']  = train_data['keyword'].apply(lambda x : remove_special_chars(x))\n",
    "test_data['keyword']   = test_data['keyword'].apply(lambda x : remove_special_chars(x))"
   ]
  },
  {
   "cell_type": "code",
   "execution_count": 114,
   "metadata": {},
   "outputs": [],
   "source": [
    "transformer = WordVectorTransformer()\n",
    "train_arr_key = transformer.fit_transform(train_data['keyword'])\n",
    "test_arr_key  = transformer.fit_transform(test_data['keyword'])"
   ]
  },
  {
   "cell_type": "code",
   "execution_count": 115,
   "metadata": {},
   "outputs": [],
   "source": [
    "df_train_key = pd.DataFrame(train_arr_key, columns =['key'+str(i) for i in range(1,301)])\n",
    "df_test_key  = pd.DataFrame(test_arr_key, columns =['key'+str(i) for i in range(1,301)])"
   ]
  },
  {
   "cell_type": "code",
   "execution_count": 116,
   "metadata": {},
   "outputs": [],
   "source": [
    "# Generating final sets\n",
    "\n",
    "# Train Set\n",
    "xtrain4 = pd.concat([xtrain2, df_train_key], axis=1).drop(columns=['keyword_0', 'keyword_1', 'keyword_2',\n",
    "                                                                   'keyword_3', 'keyword_4', 'keyword_5',\n",
    "                                                                   'keyword_6', 'keyword_7'])\n",
    "\n",
    "\n",
    "ytrain = train_data['target']\n",
    "\n",
    "# Test Set\n",
    "xtest4 = pd.concat([xtest2, df_test_key], axis=1).drop(columns=['keyword_0', 'keyword_1', 'keyword_2', \n",
    "                                                                'keyword_3', 'keyword_4', 'keyword_5', \n",
    "                                                                'keyword_6', 'keyword_7'])"
   ]
  },
  {
   "cell_type": "code",
   "execution_count": 117,
   "metadata": {},
   "outputs": [
    {
     "data": {
      "text/html": [
       "<div>\n",
       "<style scoped>\n",
       "    .dataframe tbody tr th:only-of-type {\n",
       "        vertical-align: middle;\n",
       "    }\n",
       "\n",
       "    .dataframe tbody tr th {\n",
       "        vertical-align: top;\n",
       "    }\n",
       "\n",
       "    .dataframe thead th {\n",
       "        text-align: right;\n",
       "    }\n",
       "</style>\n",
       "<table border=\"1\" class=\"dataframe\">\n",
       "  <thead>\n",
       "    <tr style=\"text-align: right;\">\n",
       "      <th></th>\n",
       "      <th>num chars</th>\n",
       "      <th>num special chars</th>\n",
       "      <th>num words</th>\n",
       "      <th>average word length</th>\n",
       "      <th>country freq</th>\n",
       "      <th>txt1</th>\n",
       "      <th>txt2</th>\n",
       "      <th>txt3</th>\n",
       "      <th>txt4</th>\n",
       "      <th>txt5</th>\n",
       "      <th>...</th>\n",
       "      <th>key291</th>\n",
       "      <th>key292</th>\n",
       "      <th>key293</th>\n",
       "      <th>key294</th>\n",
       "      <th>key295</th>\n",
       "      <th>key296</th>\n",
       "      <th>key297</th>\n",
       "      <th>key298</th>\n",
       "      <th>key299</th>\n",
       "      <th>key300</th>\n",
       "    </tr>\n",
       "  </thead>\n",
       "  <tbody>\n",
       "    <tr>\n",
       "      <th>0</th>\n",
       "      <td>69.0</td>\n",
       "      <td>1.0</td>\n",
       "      <td>13.0</td>\n",
       "      <td>4.38</td>\n",
       "      <td>0.959149</td>\n",
       "      <td>0.555505</td>\n",
       "      <td>0.154475</td>\n",
       "      <td>-1.086337</td>\n",
       "      <td>-0.618830</td>\n",
       "      <td>0.499290</td>\n",
       "      <td>...</td>\n",
       "      <td>-3.1571</td>\n",
       "      <td>0.62379</td>\n",
       "      <td>-10.119</td>\n",
       "      <td>3.6885</td>\n",
       "      <td>4.2304</td>\n",
       "      <td>-2.4684</td>\n",
       "      <td>0.42019</td>\n",
       "      <td>-5.4629</td>\n",
       "      <td>-3.3201</td>\n",
       "      <td>2.1971</td>\n",
       "    </tr>\n",
       "    <tr>\n",
       "      <th>1</th>\n",
       "      <td>38.0</td>\n",
       "      <td>1.0</td>\n",
       "      <td>7.0</td>\n",
       "      <td>4.57</td>\n",
       "      <td>0.959149</td>\n",
       "      <td>0.539290</td>\n",
       "      <td>-2.217692</td>\n",
       "      <td>-2.436538</td>\n",
       "      <td>-1.089285</td>\n",
       "      <td>3.347662</td>\n",
       "      <td>...</td>\n",
       "      <td>-3.1571</td>\n",
       "      <td>0.62379</td>\n",
       "      <td>-10.119</td>\n",
       "      <td>3.6885</td>\n",
       "      <td>4.2304</td>\n",
       "      <td>-2.4684</td>\n",
       "      <td>0.42019</td>\n",
       "      <td>-5.4629</td>\n",
       "      <td>-3.3201</td>\n",
       "      <td>2.1971</td>\n",
       "    </tr>\n",
       "    <tr>\n",
       "      <th>2</th>\n",
       "      <td>133.0</td>\n",
       "      <td>3.0</td>\n",
       "      <td>22.0</td>\n",
       "      <td>5.09</td>\n",
       "      <td>0.959149</td>\n",
       "      <td>-1.316240</td>\n",
       "      <td>0.479103</td>\n",
       "      <td>-0.478980</td>\n",
       "      <td>1.251125</td>\n",
       "      <td>1.813458</td>\n",
       "      <td>...</td>\n",
       "      <td>-3.1571</td>\n",
       "      <td>0.62379</td>\n",
       "      <td>-10.119</td>\n",
       "      <td>3.6885</td>\n",
       "      <td>4.2304</td>\n",
       "      <td>-2.4684</td>\n",
       "      <td>0.42019</td>\n",
       "      <td>-5.4629</td>\n",
       "      <td>-3.3201</td>\n",
       "      <td>2.1971</td>\n",
       "    </tr>\n",
       "  </tbody>\n",
       "</table>\n",
       "<p>3 rows × 605 columns</p>\n",
       "</div>"
      ],
      "text/plain": [
       "   num chars  num special chars  num words  average word length  country freq  \\\n",
       "0       69.0                1.0       13.0                 4.38      0.959149   \n",
       "1       38.0                1.0        7.0                 4.57      0.959149   \n",
       "2      133.0                3.0       22.0                 5.09      0.959149   \n",
       "\n",
       "       txt1      txt2      txt3      txt4      txt5  ...  key291   key292  \\\n",
       "0  0.555505  0.154475 -1.086337 -0.618830  0.499290  ... -3.1571  0.62379   \n",
       "1  0.539290 -2.217692 -2.436538 -1.089285  3.347662  ... -3.1571  0.62379   \n",
       "2 -1.316240  0.479103 -0.478980  1.251125  1.813458  ... -3.1571  0.62379   \n",
       "\n",
       "   key293  key294  key295  key296   key297  key298  key299  key300  \n",
       "0 -10.119  3.6885  4.2304 -2.4684  0.42019 -5.4629 -3.3201  2.1971  \n",
       "1 -10.119  3.6885  4.2304 -2.4684  0.42019 -5.4629 -3.3201  2.1971  \n",
       "2 -10.119  3.6885  4.2304 -2.4684  0.42019 -5.4629 -3.3201  2.1971  \n",
       "\n",
       "[3 rows x 605 columns]"
      ]
     },
     "execution_count": 117,
     "metadata": {},
     "output_type": "execute_result"
    }
   ],
   "source": [
    "xtrain4.head(3)"
   ]
  },
  {
   "cell_type": "code",
   "execution_count": 118,
   "metadata": {},
   "outputs": [
    {
     "name": "stdout",
     "output_type": "stream",
     "text": [
      "Fitting 5 folds for each of 27 candidates, totalling 135 fits\n",
      "------ Train, Validation and Test sets info ------\n",
      "X train size: (6471, 605)\n",
      "Y train size: (6471,)\n",
      "X validation size: (1142, 605)\n",
      "Y validation size: (1142,)\n",
      "X test size: (3263, 605)\n",
      "------ Grid search model selection info ------\n",
      "Best parameter (CV score=0.851):\n",
      "Best parameters:  {'LGBM__learning_rate': 0.1, 'LGBM__max_depth': 5, 'LGBM__n_estimators': 100}\n",
      "Best index:  23\n",
      "Best estimator:  Pipeline(steps=[('LGBM', LGBMClassifier(max_depth=5))])\n"
     ]
    }
   ],
   "source": [
    "# Splitting datasets\n",
    "xtrain4, xvalid4, ytrain, yvalid4 = train_test_split(xtrain4, ytrain, test_size=0.15, random_state=42)\n",
    "\n",
    "# initiate the ML model using Gini Impurity algorithm (default)\n",
    "LGBM = LGBMClassifier() \n",
    "    \n",
    "# Set the steps of the pipeline\n",
    "pipe = Pipeline([(\"LGBM\", LGBM)])\n",
    "\n",
    "# Set the parameters grid to be tested.Parameters of pipelines can be set using ‘__’ separated parameter names: \n",
    "param_grid = {\"LGBM__n_estimators\": [50, 75, 100],\n",
    "              \"LGBM__learning_rate\":[0.001, 0.01, 0.1],\n",
    "              \"LGBM__max_depth\": [3, 5, 10]\n",
    "             } \n",
    "\n",
    "\n",
    "scoring_list = [\"roc_auc\", \"accuracy\"]\n",
    "\n",
    "# set the Grid search CV\n",
    "search4 = GridSearchCV(pipe, \n",
    "                      param_grid, \n",
    "                      n_jobs=2, \n",
    "                      scoring=scoring_list,\n",
    "                      refit='roc_auc',\n",
    "                      verbose=2,\n",
    "                      return_train_score=True,\n",
    "                      cv=5\n",
    "                     )\n",
    "\n",
    "search4.fit(xtrain4, ytrain)\n",
    "results4 = search4.cv_results_\n",
    "method4 = search4.best_estimator_\n",
    "\n",
    "# Printing data sets info\n",
    "print('------ Train, Validation and Test sets info ------')\n",
    "print('X train size:', xtrain4.shape)\n",
    "print('Y train size:', ytrain.shape)\n",
    "print('X validation size:', xvalid4.shape)\n",
    "print('Y validation size:', yvalid4.shape)\n",
    "print('X test size:', xtest4.shape)\n",
    "\n",
    "# Printing grid search info\n",
    "print('------ Grid search model selection info ------')\n",
    "print(\"Best parameter (CV score=%0.3f):\" % search4.best_score_)\n",
    "print(\"Best parameters: \", search4.best_params_)\n",
    "print(\"Best index: \", search4.best_index_)\n",
    "print(\"Best estimator: \", search4.best_estimator_)"
   ]
  },
  {
   "cell_type": "markdown",
   "metadata": {},
   "source": [
    " "
   ]
  },
  {
   "cell_type": "markdown",
   "metadata": {},
   "source": [
    "**LGBM + 'text', 'keywords' and 'country' encoded with SpaCy**"
   ]
  },
  {
   "cell_type": "code",
   "execution_count": 119,
   "metadata": {},
   "outputs": [],
   "source": [
    "transformer = WordVectorTransformer()\n",
    "train_arr_country = transformer.fit_transform(train_data['country'])\n",
    "test_arr_country  = transformer.fit_transform(test_data['country'])"
   ]
  },
  {
   "cell_type": "code",
   "execution_count": 120,
   "metadata": {},
   "outputs": [],
   "source": [
    "df_train_country = pd.DataFrame(train_arr_country, columns =['ctry'+str(i) for i in range(1,301)])\n",
    "df_test_country  = pd.DataFrame(test_arr_country, columns =['ctry'+str(i) for i in range(1,301)])"
   ]
  },
  {
   "cell_type": "code",
   "execution_count": 121,
   "metadata": {},
   "outputs": [],
   "source": [
    "# Generating final sets\n",
    "\n",
    "# Train Set\n",
    "xtrain5 = pd.concat([xtrain4, df_train_country], axis=1).drop(columns=['country freq'])\n",
    "\n",
    "ytrain = train_data['target']\n",
    "\n",
    "# Test Set\n",
    "xtest5 = pd.concat([xtest4, df_test_country], axis=1).drop(columns=['country freq'])"
   ]
  },
  {
   "cell_type": "code",
   "execution_count": 122,
   "metadata": {},
   "outputs": [
    {
     "data": {
      "text/html": [
       "<div>\n",
       "<style scoped>\n",
       "    .dataframe tbody tr th:only-of-type {\n",
       "        vertical-align: middle;\n",
       "    }\n",
       "\n",
       "    .dataframe tbody tr th {\n",
       "        vertical-align: top;\n",
       "    }\n",
       "\n",
       "    .dataframe thead th {\n",
       "        text-align: right;\n",
       "    }\n",
       "</style>\n",
       "<table border=\"1\" class=\"dataframe\">\n",
       "  <thead>\n",
       "    <tr style=\"text-align: right;\">\n",
       "      <th></th>\n",
       "      <th>num chars</th>\n",
       "      <th>num special chars</th>\n",
       "      <th>num words</th>\n",
       "      <th>average word length</th>\n",
       "      <th>txt1</th>\n",
       "      <th>txt2</th>\n",
       "      <th>txt3</th>\n",
       "      <th>txt4</th>\n",
       "      <th>txt5</th>\n",
       "      <th>txt6</th>\n",
       "      <th>...</th>\n",
       "      <th>ctry291</th>\n",
       "      <th>ctry292</th>\n",
       "      <th>ctry293</th>\n",
       "      <th>ctry294</th>\n",
       "      <th>ctry295</th>\n",
       "      <th>ctry296</th>\n",
       "      <th>ctry297</th>\n",
       "      <th>ctry298</th>\n",
       "      <th>ctry299</th>\n",
       "      <th>ctry300</th>\n",
       "    </tr>\n",
       "  </thead>\n",
       "  <tbody>\n",
       "    <tr>\n",
       "      <th>0</th>\n",
       "      <td>69.0</td>\n",
       "      <td>1.0</td>\n",
       "      <td>13.0</td>\n",
       "      <td>4.38</td>\n",
       "      <td>0.555505</td>\n",
       "      <td>0.154475</td>\n",
       "      <td>-1.086337</td>\n",
       "      <td>-0.618830</td>\n",
       "      <td>0.499290</td>\n",
       "      <td>1.734535</td>\n",
       "      <td>...</td>\n",
       "      <td>-0.20667</td>\n",
       "      <td>-2.5037</td>\n",
       "      <td>-2.7707</td>\n",
       "      <td>-4.4026</td>\n",
       "      <td>1.192</td>\n",
       "      <td>-2.2842</td>\n",
       "      <td>-1.5353</td>\n",
       "      <td>-5.2966</td>\n",
       "      <td>2.4949</td>\n",
       "      <td>-6.0356</td>\n",
       "    </tr>\n",
       "    <tr>\n",
       "      <th>1</th>\n",
       "      <td>38.0</td>\n",
       "      <td>1.0</td>\n",
       "      <td>7.0</td>\n",
       "      <td>4.57</td>\n",
       "      <td>0.539290</td>\n",
       "      <td>-2.217692</td>\n",
       "      <td>-2.436538</td>\n",
       "      <td>-1.089285</td>\n",
       "      <td>3.347662</td>\n",
       "      <td>1.198457</td>\n",
       "      <td>...</td>\n",
       "      <td>-0.20667</td>\n",
       "      <td>-2.5037</td>\n",
       "      <td>-2.7707</td>\n",
       "      <td>-4.4026</td>\n",
       "      <td>1.192</td>\n",
       "      <td>-2.2842</td>\n",
       "      <td>-1.5353</td>\n",
       "      <td>-5.2966</td>\n",
       "      <td>2.4949</td>\n",
       "      <td>-6.0356</td>\n",
       "    </tr>\n",
       "    <tr>\n",
       "      <th>2</th>\n",
       "      <td>133.0</td>\n",
       "      <td>3.0</td>\n",
       "      <td>22.0</td>\n",
       "      <td>5.09</td>\n",
       "      <td>-1.316240</td>\n",
       "      <td>0.479103</td>\n",
       "      <td>-0.478980</td>\n",
       "      <td>1.251125</td>\n",
       "      <td>1.813458</td>\n",
       "      <td>1.250423</td>\n",
       "      <td>...</td>\n",
       "      <td>-0.20667</td>\n",
       "      <td>-2.5037</td>\n",
       "      <td>-2.7707</td>\n",
       "      <td>-4.4026</td>\n",
       "      <td>1.192</td>\n",
       "      <td>-2.2842</td>\n",
       "      <td>-1.5353</td>\n",
       "      <td>-5.2966</td>\n",
       "      <td>2.4949</td>\n",
       "      <td>-6.0356</td>\n",
       "    </tr>\n",
       "  </tbody>\n",
       "</table>\n",
       "<p>3 rows × 904 columns</p>\n",
       "</div>"
      ],
      "text/plain": [
       "   num chars  num special chars  num words  average word length      txt1  \\\n",
       "0       69.0                1.0       13.0                 4.38  0.555505   \n",
       "1       38.0                1.0        7.0                 4.57  0.539290   \n",
       "2      133.0                3.0       22.0                 5.09 -1.316240   \n",
       "\n",
       "       txt2      txt3      txt4      txt5      txt6  ...  ctry291  ctry292  \\\n",
       "0  0.154475 -1.086337 -0.618830  0.499290  1.734535  ... -0.20667  -2.5037   \n",
       "1 -2.217692 -2.436538 -1.089285  3.347662  1.198457  ... -0.20667  -2.5037   \n",
       "2  0.479103 -0.478980  1.251125  1.813458  1.250423  ... -0.20667  -2.5037   \n",
       "\n",
       "   ctry293  ctry294  ctry295  ctry296  ctry297  ctry298  ctry299  ctry300  \n",
       "0  -2.7707  -4.4026    1.192  -2.2842  -1.5353  -5.2966   2.4949  -6.0356  \n",
       "1  -2.7707  -4.4026    1.192  -2.2842  -1.5353  -5.2966   2.4949  -6.0356  \n",
       "2  -2.7707  -4.4026    1.192  -2.2842  -1.5353  -5.2966   2.4949  -6.0356  \n",
       "\n",
       "[3 rows x 904 columns]"
      ]
     },
     "execution_count": 122,
     "metadata": {},
     "output_type": "execute_result"
    }
   ],
   "source": [
    "xtrain5.head(3)"
   ]
  },
  {
   "cell_type": "code",
   "execution_count": 123,
   "metadata": {},
   "outputs": [
    {
     "name": "stdout",
     "output_type": "stream",
     "text": [
      "Fitting 5 folds for each of 27 candidates, totalling 135 fits\n",
      "------ Train, Validation and Test sets info ------\n",
      "X train size: (6471, 904)\n",
      "Y train size: (6471,)\n",
      "X validation size: (1142, 904)\n",
      "Y validation size: (1142,)\n",
      "X test size: (3263, 904)\n",
      "------ Grid search model selection info ------\n",
      "Best parameter (CV score=0.851):\n",
      "Best parameters:  {'LGBM__learning_rate': 0.1, 'LGBM__max_depth': 10, 'LGBM__n_estimators': 100}\n",
      "Best index:  26\n",
      "Best estimator:  Pipeline(steps=[('LGBM', LGBMClassifier(max_depth=10))])\n"
     ]
    }
   ],
   "source": [
    "# Splitting datasets\n",
    "xtrain5, xvalid5, ytrain, yvalid5 = train_test_split(xtrain5, ytrain, test_size=0.15, random_state=42)\n",
    "\n",
    "# initiate the ML model using Gini Impurity algorithm (default)\n",
    "LGBM = LGBMClassifier() \n",
    "    \n",
    "# Set the steps of the pipeline\n",
    "pipe = Pipeline([(\"LGBM\", LGBM)])\n",
    "\n",
    "# Set the parameters grid to be tested.Parameters of pipelines can be set using ‘__’ separated parameter names: \n",
    "param_grid = {\"LGBM__n_estimators\": [50, 75, 100],\n",
    "              \"LGBM__learning_rate\":[0.001, 0.01, 0.1],\n",
    "              \"LGBM__max_depth\": [3, 5, 10]\n",
    "             } \n",
    "\n",
    "\n",
    "scoring_list = [\"roc_auc\", \"accuracy\"]\n",
    "\n",
    "# set the Grid search CV\n",
    "search5 = GridSearchCV(pipe, \n",
    "                      param_grid, \n",
    "                      n_jobs=2, \n",
    "                      scoring=scoring_list,\n",
    "                      refit='roc_auc',\n",
    "                      verbose=2,\n",
    "                      return_train_score=True,\n",
    "                      cv=5\n",
    "                     )\n",
    "\n",
    "search5.fit(xtrain5, ytrain)\n",
    "results5 = search5.cv_results_\n",
    "method5 = search5.best_estimator_\n",
    "\n",
    "# Printing data sets info\n",
    "print('------ Train, Validation and Test sets info ------')\n",
    "print('X train size:', xtrain5.shape)\n",
    "print('Y train size:', ytrain.shape)\n",
    "print('X validation size:', xvalid5.shape)\n",
    "print('Y validation size:', yvalid5.shape)\n",
    "print('X test size:', xtest5.shape)\n",
    "\n",
    "# Printing grid search info\n",
    "print('------ Grid search model selection info ------')\n",
    "print(\"Best parameter (CV score=%0.3f):\" % search5.best_score_)\n",
    "print(\"Best parameters: \", search5.best_params_)\n",
    "print(\"Best index: \", search5.best_index_)\n",
    "print(\"Best estimator: \", search5.best_estimator_)"
   ]
  },
  {
   "cell_type": "markdown",
   "metadata": {},
   "source": [
    " "
   ]
  },
  {
   "cell_type": "markdown",
   "metadata": {},
   "source": [
    "**LR + 'keywords' and 'text' encoded with SpaCy**"
   ]
  },
  {
   "cell_type": "code",
   "execution_count": 124,
   "metadata": {},
   "outputs": [],
   "source": [
    "xtrain6 = xtrain4.copy()\n",
    "xtest6  = xtest4.copy()"
   ]
  },
  {
   "cell_type": "code",
   "execution_count": 125,
   "metadata": {},
   "outputs": [
    {
     "data": {
      "text/html": [
       "<div>\n",
       "<style scoped>\n",
       "    .dataframe tbody tr th:only-of-type {\n",
       "        vertical-align: middle;\n",
       "    }\n",
       "\n",
       "    .dataframe tbody tr th {\n",
       "        vertical-align: top;\n",
       "    }\n",
       "\n",
       "    .dataframe thead th {\n",
       "        text-align: right;\n",
       "    }\n",
       "</style>\n",
       "<table border=\"1\" class=\"dataframe\">\n",
       "  <thead>\n",
       "    <tr style=\"text-align: right;\">\n",
       "      <th></th>\n",
       "      <th>num chars</th>\n",
       "      <th>num special chars</th>\n",
       "      <th>num words</th>\n",
       "      <th>average word length</th>\n",
       "      <th>country freq</th>\n",
       "      <th>txt1</th>\n",
       "      <th>txt2</th>\n",
       "      <th>txt3</th>\n",
       "      <th>txt4</th>\n",
       "      <th>txt5</th>\n",
       "      <th>...</th>\n",
       "      <th>key291</th>\n",
       "      <th>key292</th>\n",
       "      <th>key293</th>\n",
       "      <th>key294</th>\n",
       "      <th>key295</th>\n",
       "      <th>key296</th>\n",
       "      <th>key297</th>\n",
       "      <th>key298</th>\n",
       "      <th>key299</th>\n",
       "      <th>key300</th>\n",
       "    </tr>\n",
       "  </thead>\n",
       "  <tbody>\n",
       "    <tr>\n",
       "      <th>2318</th>\n",
       "      <td>139.0</td>\n",
       "      <td>9.0</td>\n",
       "      <td>19.0</td>\n",
       "      <td>6.37</td>\n",
       "      <td>0.959149</td>\n",
       "      <td>-1.851213</td>\n",
       "      <td>4.045950</td>\n",
       "      <td>-3.49860</td>\n",
       "      <td>2.060835</td>\n",
       "      <td>4.125375</td>\n",
       "      <td>...</td>\n",
       "      <td>0.645830</td>\n",
       "      <td>0.365800</td>\n",
       "      <td>-1.064800</td>\n",
       "      <td>1.77630</td>\n",
       "      <td>0.012687</td>\n",
       "      <td>3.498400</td>\n",
       "      <td>-0.499380</td>\n",
       "      <td>-1.1050</td>\n",
       "      <td>1.468400</td>\n",
       "      <td>4.1028</td>\n",
       "    </tr>\n",
       "    <tr>\n",
       "      <th>6341</th>\n",
       "      <td>140.0</td>\n",
       "      <td>10.0</td>\n",
       "      <td>14.0</td>\n",
       "      <td>9.00</td>\n",
       "      <td>0.959149</td>\n",
       "      <td>0.954481</td>\n",
       "      <td>-0.274365</td>\n",
       "      <td>-3.44675</td>\n",
       "      <td>-0.124428</td>\n",
       "      <td>3.960600</td>\n",
       "      <td>...</td>\n",
       "      <td>0.926357</td>\n",
       "      <td>-0.000867</td>\n",
       "      <td>-0.139833</td>\n",
       "      <td>0.62107</td>\n",
       "      <td>0.495883</td>\n",
       "      <td>0.089267</td>\n",
       "      <td>0.511463</td>\n",
       "      <td>-1.9659</td>\n",
       "      <td>-0.831887</td>\n",
       "      <td>2.4695</td>\n",
       "    </tr>\n",
       "    <tr>\n",
       "      <th>1097</th>\n",
       "      <td>82.0</td>\n",
       "      <td>8.0</td>\n",
       "      <td>10.0</td>\n",
       "      <td>7.30</td>\n",
       "      <td>0.959149</td>\n",
       "      <td>1.112236</td>\n",
       "      <td>-0.081088</td>\n",
       "      <td>-3.60578</td>\n",
       "      <td>-0.340512</td>\n",
       "      <td>1.454196</td>\n",
       "      <td>...</td>\n",
       "      <td>0.199020</td>\n",
       "      <td>1.656400</td>\n",
       "      <td>0.037537</td>\n",
       "      <td>-0.13576</td>\n",
       "      <td>-4.936300</td>\n",
       "      <td>2.644400</td>\n",
       "      <td>-1.398800</td>\n",
       "      <td>1.8684</td>\n",
       "      <td>3.841500</td>\n",
       "      <td>1.2565</td>\n",
       "    </tr>\n",
       "  </tbody>\n",
       "</table>\n",
       "<p>3 rows × 605 columns</p>\n",
       "</div>"
      ],
      "text/plain": [
       "      num chars  num special chars  num words  average word length  \\\n",
       "2318      139.0                9.0       19.0                 6.37   \n",
       "6341      140.0               10.0       14.0                 9.00   \n",
       "1097       82.0                8.0       10.0                 7.30   \n",
       "\n",
       "      country freq      txt1      txt2     txt3      txt4      txt5  ...  \\\n",
       "2318      0.959149 -1.851213  4.045950 -3.49860  2.060835  4.125375  ...   \n",
       "6341      0.959149  0.954481 -0.274365 -3.44675 -0.124428  3.960600  ...   \n",
       "1097      0.959149  1.112236 -0.081088 -3.60578 -0.340512  1.454196  ...   \n",
       "\n",
       "        key291    key292    key293   key294    key295    key296    key297  \\\n",
       "2318  0.645830  0.365800 -1.064800  1.77630  0.012687  3.498400 -0.499380   \n",
       "6341  0.926357 -0.000867 -0.139833  0.62107  0.495883  0.089267  0.511463   \n",
       "1097  0.199020  1.656400  0.037537 -0.13576 -4.936300  2.644400 -1.398800   \n",
       "\n",
       "      key298    key299  key300  \n",
       "2318 -1.1050  1.468400  4.1028  \n",
       "6341 -1.9659 -0.831887  2.4695  \n",
       "1097  1.8684  3.841500  1.2565  \n",
       "\n",
       "[3 rows x 605 columns]"
      ]
     },
     "execution_count": 125,
     "metadata": {},
     "output_type": "execute_result"
    }
   ],
   "source": [
    "xtrain6.head(3)"
   ]
  },
  {
   "cell_type": "code",
   "execution_count": 126,
   "metadata": {},
   "outputs": [],
   "source": [
    "from sklearn.preprocessing import StandardScaler\n",
    "from sklearn.linear_model import LogisticRegression"
   ]
  },
  {
   "cell_type": "code",
   "execution_count": 127,
   "metadata": {},
   "outputs": [
    {
     "name": "stdout",
     "output_type": "stream",
     "text": [
      "Fitting 5 folds for each of 6 candidates, totalling 30 fits\n",
      "------ Train, Validation and Test sets info ------\n",
      "X train size: (5500, 605)\n",
      "Y train size: (5500,)\n",
      "X validation size: (971, 605)\n",
      "Y validation size: (971,)\n",
      "X test size: (3263, 605)\n",
      "------ Grid search model selection info ------\n",
      "Best parameter (CV score=0.837):\n",
      "Best parameters:  {'logistic__C': 1, 'logistic__penalty': 'l1'}\n",
      "Best index:  4\n",
      "Best estimator:  Pipeline(steps=[('scaler', StandardScaler()),\n",
      "                ('logistic',\n",
      "                 LogisticRegression(C=1, max_iter=10000, penalty='l1',\n",
      "                                    solver='saga', tol=0.1))])\n",
      "CPU times: user 457 ms, sys: 12.3 ms, total: 469 ms\n",
      "Wall time: 6.91 s\n"
     ]
    }
   ],
   "source": [
    "%%time\n",
    "# Spitting datasets\n",
    "xtrain6, xvalid6, ytrain, yvalid6 = train_test_split(xtrain6, ytrain, test_size=0.15, random_state=42)\n",
    "\n",
    "# Define a Standard Scaler to normalize inputs\n",
    "scaler = StandardScaler()\n",
    "\n",
    "# set the tolerance to a large value to make the example faster\n",
    "logistic = LogisticRegression(max_iter=10000, tol=0.1, solver='saga')\n",
    "\n",
    "# Set the steps of the pipeline\n",
    "pipe = Pipeline(steps=[(\"scaler\", scaler), (\"logistic\", logistic)])\n",
    "\n",
    "# Set the parameters grid to be tested\n",
    "param_grid = {\"logistic__C\": [0.01, 0.1, 1],\n",
    "             \"logistic__penalty\":['l1','l2']\n",
    "             }\n",
    "\n",
    "\n",
    "scoring_list = [\"roc_auc\", \"accuracy\"]\n",
    "\n",
    "# set the Grid search CV\n",
    "search6 = GridSearchCV(pipe, \n",
    "                      param_grid, \n",
    "                      n_jobs=2, \n",
    "                      scoring=scoring_list,\n",
    "                      refit='roc_auc',\n",
    "                      verbose=2,\n",
    "                      return_train_score=True,\n",
    "                      cv=5\n",
    "                     )\n",
    "\n",
    "search6.fit(xtrain6, ytrain)\n",
    "results6 = search6.cv_results_\n",
    "method6 = search6.best_estimator_\n",
    "\n",
    "# Printing data sets info\n",
    "print('------ Train, Validation and Test sets info ------')\n",
    "print('X train size:', xtrain6.shape)\n",
    "print('Y train size:', ytrain.shape)\n",
    "print('X validation size:', xvalid6.shape)\n",
    "print('Y validation size:', yvalid6.shape)\n",
    "print('X test size:', xtest6.shape)\n",
    "\n",
    "# Printing grid search info\n",
    "print('------ Grid search model selection info ------')\n",
    "print(\"Best parameter (CV score=%0.3f):\" % search6.best_score_)\n",
    "print(\"Best parameters: \", search6.best_params_)\n",
    "print(\"Best index: \", search6.best_index_)\n",
    "print(\"Best estimator: \", search6.best_estimator_)"
   ]
  },
  {
   "cell_type": "markdown",
   "metadata": {},
   "source": [
    " "
   ]
  }
 ],
 "metadata": {
  "kernelspec": {
   "display_name": "Python 3",
   "language": "python",
   "name": "python3"
  },
  "language_info": {
   "codemirror_mode": {
    "name": "ipython",
    "version": 3
   },
   "file_extension": ".py",
   "mimetype": "text/x-python",
   "name": "python",
   "nbconvert_exporter": "python",
   "pygments_lexer": "ipython3",
   "version": "3.8.5"
  }
 },
 "nbformat": 4,
 "nbformat_minor": 4
}
