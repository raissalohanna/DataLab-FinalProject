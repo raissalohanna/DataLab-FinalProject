{
 "cells": [
  {
   "cell_type": "markdown",
   "metadata": {},
   "source": [
    "# Natural Language Processing: Kaggle's Tweet Disaster competition"
   ]
  },
  {
   "cell_type": "markdown",
   "metadata": {},
   "source": [
    " "
   ]
  },
  {
   "cell_type": "markdown",
   "metadata": {},
   "source": [
    "This project is part of a Kaggle's competition and aims to develop abilities in Natural Language Processing (NLP) problems. Here, the objecive is to predict the occurance of real disasters through the words found in tweets from several places. Available data includes a train set (more detailed information bellow), and a test set. The full submission and final score can be checked at my personal page in Kaggle (to be updated here).\n",
    "\n",
    "This notebook is inspired in some previous work published in Kaggle.\n",
    "\n",
    "*References:*\n",
    "\n",
    "- FeatureExtraction+RandomForestClassifier: https://www.kaggle.com/code/abdulaziz04/featureextraction-randomforestclassifier\n",
    "- EDA+Preprocessing+Emedding+Model: https://www.kaggle.com/code/rakeshku1993/eda-preprocessing-emedding-model"
   ]
  },
  {
   "cell_type": "markdown",
   "metadata": {},
   "source": [
    " "
   ]
  },
  {
   "cell_type": "markdown",
   "metadata": {},
   "source": [
    "### Importing the data and querying the first infomations"
   ]
  },
  {
   "cell_type": "markdown",
   "metadata": {},
   "source": [
    "- **id** - a unique identifier for each tweet\n",
    "- **text** - the text of the tweet\n",
    "- **location** - the location the tweet was sent from (may be blank)\n",
    "- **keyword** - a particular keyword from the tweet (may be blank)\n",
    "- **target** - in train.csv only, this denotes whether a tweet is about a real disaster (1) or not (0)"
   ]
  },
  {
   "cell_type": "code",
   "execution_count": 196,
   "metadata": {},
   "outputs": [],
   "source": [
    "#Basic package\n",
    "import pandas as pd\n",
    "\n",
    "# Math and plot packages\n",
    "import numpy as np\n",
    "import seaborn as sns\n",
    "import matplotlib.pyplot as plt\n",
    "from wordcloud import STOPWORDS, WordCloud\n",
    "\n",
    "# Text analysis packages\n",
    "import re\n",
    "import string\n",
    "from nltk.corpus import words\n",
    "from nltk.corpus import stopwords\n",
    "from collections import defaultdict\n",
    "from spellchecker import SpellChecker\n",
    "\n",
    "# Encoders, tokenizers\n",
    "import gensim\n",
    "from nltk.stem import WordNetLemmatizer\n",
    "from nltk.tokenize import word_tokenize\n",
    "from gensim.models import Word2Vec as w2v\n",
    "from category_encoders import BinaryEncoder\n",
    "from sklearn.feature_extraction.text import TfidfVectorizer\n",
    "\n",
    "#Pre training packages\n",
    "from sklearn.decomposition import PCA"
   ]
  },
  {
   "cell_type": "code",
   "execution_count": 95,
   "metadata": {},
   "outputs": [],
   "source": [
    "train_data = pd.read_csv('train.csv')\n",
    "test_data =  pd.read_csv('test.csv')"
   ]
  },
  {
   "cell_type": "code",
   "execution_count": 96,
   "metadata": {},
   "outputs": [
    {
     "data": {
      "text/html": [
       "<div>\n",
       "<style scoped>\n",
       "    .dataframe tbody tr th:only-of-type {\n",
       "        vertical-align: middle;\n",
       "    }\n",
       "\n",
       "    .dataframe tbody tr th {\n",
       "        vertical-align: top;\n",
       "    }\n",
       "\n",
       "    .dataframe thead th {\n",
       "        text-align: right;\n",
       "    }\n",
       "</style>\n",
       "<table border=\"1\" class=\"dataframe\">\n",
       "  <thead>\n",
       "    <tr style=\"text-align: right;\">\n",
       "      <th></th>\n",
       "      <th>id</th>\n",
       "      <th>keyword</th>\n",
       "      <th>location</th>\n",
       "      <th>text</th>\n",
       "      <th>target</th>\n",
       "    </tr>\n",
       "  </thead>\n",
       "  <tbody>\n",
       "    <tr>\n",
       "      <th>0</th>\n",
       "      <td>1</td>\n",
       "      <td>NaN</td>\n",
       "      <td>NaN</td>\n",
       "      <td>Our Deeds are the Reason of this #earthquake M...</td>\n",
       "      <td>1</td>\n",
       "    </tr>\n",
       "    <tr>\n",
       "      <th>1</th>\n",
       "      <td>4</td>\n",
       "      <td>NaN</td>\n",
       "      <td>NaN</td>\n",
       "      <td>Forest fire near La Ronge Sask. Canada</td>\n",
       "      <td>1</td>\n",
       "    </tr>\n",
       "    <tr>\n",
       "      <th>2</th>\n",
       "      <td>5</td>\n",
       "      <td>NaN</td>\n",
       "      <td>NaN</td>\n",
       "      <td>All residents asked to 'shelter in place' are ...</td>\n",
       "      <td>1</td>\n",
       "    </tr>\n",
       "    <tr>\n",
       "      <th>3</th>\n",
       "      <td>6</td>\n",
       "      <td>NaN</td>\n",
       "      <td>NaN</td>\n",
       "      <td>13,000 people receive #wildfires evacuation or...</td>\n",
       "      <td>1</td>\n",
       "    </tr>\n",
       "    <tr>\n",
       "      <th>4</th>\n",
       "      <td>7</td>\n",
       "      <td>NaN</td>\n",
       "      <td>NaN</td>\n",
       "      <td>Just got sent this photo from Ruby #Alaska as ...</td>\n",
       "      <td>1</td>\n",
       "    </tr>\n",
       "  </tbody>\n",
       "</table>\n",
       "</div>"
      ],
      "text/plain": [
       "   id keyword location                                               text  \\\n",
       "0   1     NaN      NaN  Our Deeds are the Reason of this #earthquake M...   \n",
       "1   4     NaN      NaN             Forest fire near La Ronge Sask. Canada   \n",
       "2   5     NaN      NaN  All residents asked to 'shelter in place' are ...   \n",
       "3   6     NaN      NaN  13,000 people receive #wildfires evacuation or...   \n",
       "4   7     NaN      NaN  Just got sent this photo from Ruby #Alaska as ...   \n",
       "\n",
       "   target  \n",
       "0       1  \n",
       "1       1  \n",
       "2       1  \n",
       "3       1  \n",
       "4       1  "
      ]
     },
     "execution_count": 96,
     "metadata": {},
     "output_type": "execute_result"
    }
   ],
   "source": [
    "train_data.head()"
   ]
  },
  {
   "cell_type": "code",
   "execution_count": 97,
   "metadata": {},
   "outputs": [
    {
     "data": {
      "text/html": [
       "<div>\n",
       "<style scoped>\n",
       "    .dataframe tbody tr th:only-of-type {\n",
       "        vertical-align: middle;\n",
       "    }\n",
       "\n",
       "    .dataframe tbody tr th {\n",
       "        vertical-align: top;\n",
       "    }\n",
       "\n",
       "    .dataframe thead th {\n",
       "        text-align: right;\n",
       "    }\n",
       "</style>\n",
       "<table border=\"1\" class=\"dataframe\">\n",
       "  <thead>\n",
       "    <tr style=\"text-align: right;\">\n",
       "      <th></th>\n",
       "      <th>id</th>\n",
       "      <th>keyword</th>\n",
       "      <th>location</th>\n",
       "      <th>text</th>\n",
       "    </tr>\n",
       "  </thead>\n",
       "  <tbody>\n",
       "    <tr>\n",
       "      <th>0</th>\n",
       "      <td>0</td>\n",
       "      <td>NaN</td>\n",
       "      <td>NaN</td>\n",
       "      <td>Just happened a terrible car crash</td>\n",
       "    </tr>\n",
       "    <tr>\n",
       "      <th>1</th>\n",
       "      <td>2</td>\n",
       "      <td>NaN</td>\n",
       "      <td>NaN</td>\n",
       "      <td>Heard about #earthquake is different cities, s...</td>\n",
       "    </tr>\n",
       "    <tr>\n",
       "      <th>2</th>\n",
       "      <td>3</td>\n",
       "      <td>NaN</td>\n",
       "      <td>NaN</td>\n",
       "      <td>there is a forest fire at spot pond, geese are...</td>\n",
       "    </tr>\n",
       "    <tr>\n",
       "      <th>3</th>\n",
       "      <td>9</td>\n",
       "      <td>NaN</td>\n",
       "      <td>NaN</td>\n",
       "      <td>Apocalypse lighting. #Spokane #wildfires</td>\n",
       "    </tr>\n",
       "    <tr>\n",
       "      <th>4</th>\n",
       "      <td>11</td>\n",
       "      <td>NaN</td>\n",
       "      <td>NaN</td>\n",
       "      <td>Typhoon Soudelor kills 28 in China and Taiwan</td>\n",
       "    </tr>\n",
       "  </tbody>\n",
       "</table>\n",
       "</div>"
      ],
      "text/plain": [
       "   id keyword location                                               text\n",
       "0   0     NaN      NaN                 Just happened a terrible car crash\n",
       "1   2     NaN      NaN  Heard about #earthquake is different cities, s...\n",
       "2   3     NaN      NaN  there is a forest fire at spot pond, geese are...\n",
       "3   9     NaN      NaN           Apocalypse lighting. #Spokane #wildfires\n",
       "4  11     NaN      NaN      Typhoon Soudelor kills 28 in China and Taiwan"
      ]
     },
     "execution_count": 97,
     "metadata": {},
     "output_type": "execute_result"
    }
   ],
   "source": [
    "test_data.head()"
   ]
  },
  {
   "cell_type": "code",
   "execution_count": 98,
   "metadata": {},
   "outputs": [
    {
     "data": {
      "text/plain": [
       "Text(0.5, 1.0, 'Test set')"
      ]
     },
     "execution_count": 98,
     "metadata": {},
     "output_type": "execute_result"
    },
    {
     "data": {
      "image/png": "[encoded data removed]",
      "text/plain": [
       "<Figure size 864x288 with 2 Axes>"
      ]
     },
     "metadata": {
      "needs_background": "light"
     },
     "output_type": "display_data"
    }
   ],
   "source": [
    "# Checking the amount of null information\n",
    "trainNull = train_data.isnull().sum()\n",
    "trainNull_percent = round(trainNull/train_data.shape[0], 3)\n",
    "\n",
    "testNull = test_data.isnull().sum()\n",
    "testNull_percent = round(testNull/test_data.shape[0], 3)\n",
    "\n",
    "labels_train = trainNull.index\n",
    "labels_test = testNull.index\n",
    "width = 0.5\n",
    "\n",
    "# Bar plot\n",
    "fig,(ax1, ax2) = plt.subplots(1,2, figsize=(12,4))\n",
    "fig.suptitle('Normalized null data', y=1.1, weight='bold', size='large')\n",
    "plt.style.use('seaborn-pastel')\n",
    "\n",
    "ax1.bar(labels_train, trainNull_percent, width, color='yellow')\n",
    "ax1.set_title('Train set')\n",
    "ax2.bar(labels_test, testNull_percent, width, color='lightblue')\n",
    "ax2.set_title('Test set')"
   ]
  },
  {
   "cell_type": "code",
   "execution_count": 99,
   "metadata": {},
   "outputs": [
    {
     "data": {
      "text/plain": [
       "<AxesSubplot:>"
      ]
     },
     "execution_count": 99,
     "metadata": {},
     "output_type": "execute_result"
    },
    {
     "data": {
      "image/png": "[encoded data removed]",
      "text/plain": [
       "<Figure size 432x288 with 1 Axes>"
      ]
     },
     "metadata": {
      "needs_background": "light"
     },
     "output_type": "display_data"
    }
   ],
   "source": [
    "#Checking the balance between target classes\n",
    "#(1 = real disaster, 0 = no disaster)\n",
    "\n",
    "train_data['target'].value_counts(normalize=True).plot.barh(color='black')"
   ]
  },
  {
   "cell_type": "code",
   "execution_count": 100,
   "metadata": {},
   "outputs": [
    {
     "data": {
      "text/plain": [
       "Text(0.5, 1.0, 'Test set')"
      ]
     },
     "execution_count": 100,
     "metadata": {},
     "output_type": "execute_result"
    },
    {
     "data": {
      "image/png": "[encoded data removed]",
      "text/plain": [
       "<Figure size 864x288 with 2 Axes>"
      ]
     },
     "metadata": {
      "needs_background": "light"
     },
     "output_type": "display_data"
    }
   ],
   "source": [
    "fig2,(ax1, ax2) = plt.subplots(1,2, figsize=(12,4))\n",
    "fig2.suptitle('TOP 15 locations', y=1.1, weight='bold', size='large')\n",
    "plt.style.use('seaborn-pastel')\n",
    "\n",
    "ax1 = train_data['location'].value_counts()[:15].plot.bar(ax=ax1, color='lightcoral')\n",
    "ax1.set_title('Train set')\n",
    "ax2 = test_data['location'].value_counts()[:15].plot.bar(ax=ax2)\n",
    "ax2.set_title('Test set')"
   ]
  },
  {
   "cell_type": "code",
   "execution_count": 101,
   "metadata": {},
   "outputs": [
    {
     "data": {
      "text/plain": [
       "USA                       104\n",
       "New York                   71\n",
       "United States              50\n",
       "London                     45\n",
       "Canada                     29\n",
       "                         ... \n",
       "Depok                       1\n",
       "Pig Symbol, Alabama         1\n",
       "dundalk ireland             1\n",
       "Arvada, CO                  1\n",
       "In a crazy genius mind      1\n",
       "Name: location, Length: 3341, dtype: int64"
      ]
     },
     "execution_count": 101,
     "metadata": {},
     "output_type": "execute_result"
    }
   ],
   "source": [
    "train_data.location.value_counts()"
   ]
  },
  {
   "cell_type": "code",
   "execution_count": 102,
   "metadata": {},
   "outputs": [
    {
     "data": {
      "image/png": "[encoded data removed]",
      "text/plain": [
       "<Figure size 864x288 with 2 Axes>"
      ]
     },
     "metadata": {
      "needs_background": "light"
     },
     "output_type": "display_data"
    }
   ],
   "source": [
    "fig2,(ax1, ax2) = plt.subplots(1,2, figsize=(12,4))\n",
    "fig2.suptitle('TOP 15 Keywords', y=1.1, weight='bold', size='large')\n",
    "plt.style.use('seaborn-pastel')\n",
    "\n",
    "\n",
    "ax1 = train_data['keyword'].value_counts(normalize=True)[:15].sort_values().plot(kind=\"barh\",\n",
    "                                                                                 color='lightcoral',\n",
    "                                                                                 fontsize=10,\n",
    "                                                                                 title='Train set',\n",
    "                                                                                 ax=ax1)\n",
    "\n",
    "ax2 = train_data['keyword'].value_counts(normalize=True)[:15].sort_values().plot(kind=\"barh\",\n",
    "                                                                                 fontsize=10,\n",
    "                                                                                 title='Test set',\n",
    "                                                                                 ax=ax2)"
   ]
  },
  {
   "cell_type": "code",
   "execution_count": 103,
   "metadata": {},
   "outputs": [
    {
     "data": {
      "image/png": "[encoded data removed]",
      "text/plain": [
       "<Figure size 864x288 with 2 Axes>"
      ]
     },
     "metadata": {
      "needs_background": "light"
     },
     "output_type": "display_data"
    }
   ],
   "source": [
    "fig3,(ax1, ax2) = plt.subplots(1,2, figsize=(12,4))\n",
    "fig3.suptitle('Tweets length', y=1.1, weight='bold', size='large')\n",
    "\n",
    "ax1 = train_data.query(\"target==1\")[\"text\"].str.len().plot(kind=\"hist\",\n",
    "                                                           color=\"orange\",\n",
    "                                                           title=\"Disaster tweets\",\n",
    "                                                           ax=ax1)\n",
    "ax1.set_yscale('log')\n",
    "\n",
    "ax2 = train_data.query(\"target==0\")[\"text\"].str.len().plot(kind=\"hist\",\n",
    "                                                           color=\"lightcoral\",\n",
    "                                                           title=\"Non Disaster tweets\",\n",
    "                                                           ax=ax2)\n",
    "ax2.set_yscale('log')"
   ]
  },
  {
   "cell_type": "code",
   "execution_count": 104,
   "metadata": {},
   "outputs": [
    {
     "data": {
      "image/png": "[encoded data removed]",
      "text/plain": [
       "<Figure size 864x288 with 2 Axes>"
      ]
     },
     "metadata": {
      "needs_background": "light"
     },
     "output_type": "display_data"
    }
   ],
   "source": [
    "fig4,(ax1, ax2) = plt.subplots(1,2, figsize=(12,4))\n",
    "fig4.suptitle('Number of Words in each tweet - Train set', y=1.1, weight='bold', size='large')\n",
    "\n",
    "ax1 = train_data.query(\"target==1\").text.map(lambda x: len(x.split())).plot(kind=\"kde\",\n",
    "                                                                            color=\"orange\",\n",
    "                                                                            title=\"Disaster tweets\",\n",
    "                                                                            ax=ax1)\n",
    "\n",
    "ax2 = train_data.query(\"target==0\").text.map(lambda x: len(x.split())).plot(kind=\"kde\",\n",
    "                                                                            color=\"lightcoral\",\n",
    "                                                                            title=\"Non-Disaster tweets\",\n",
    "                                                                            ax=ax2)"
   ]
  },
  {
   "cell_type": "code",
   "execution_count": 105,
   "metadata": {},
   "outputs": [
    {
     "name": "stderr",
     "output_type": "stream",
     "text": [
      "/home/raissa/anaconda3/lib/python3.8/site-packages/seaborn/distributions.py:2551: FutureWarning: `distplot` is a deprecated function and will be removed in a future version. Please adapt your code to use either `displot` (a figure-level function with similar flexibility) or `histplot` (an axes-level function for histograms).\n",
      "  warnings.warn(msg, FutureWarning)\n",
      "/home/raissa/anaconda3/lib/python3.8/site-packages/seaborn/distributions.py:2551: FutureWarning: `distplot` is a deprecated function and will be removed in a future version. Please adapt your code to use either `displot` (a figure-level function with similar flexibility) or `histplot` (an axes-level function for histograms).\n",
      "  warnings.warn(msg, FutureWarning)\n"
     ]
    },
    {
     "data": {
      "image/png": "[encoded data removed]",
      "text/plain": [
       "<Figure size 864x360 with 2 Axes>"
      ]
     },
     "metadata": {
      "needs_background": "light"
     },
     "output_type": "display_data"
    }
   ],
   "source": [
    "fig5, axes = plt.subplots(1, 2, figsize=(12,5))\n",
    "fig5.suptitle('Average word length in each tweet')\n",
    "\n",
    "each_words_len = train_data.query(\"target==1\").text.str.split().map(lambda x: [len(i) for i in x])\n",
    "sns.distplot(each_words_len.map(lambda x: np.mean(x)), kde=True, ax=axes[0], color=\"orange\");\n",
    "\n",
    "each_words_len = train_data.query(\"target==0\").text.str.split().map(lambda x: [len(i) for i in x])\n",
    "sns.distplot(each_words_len.map(lambda x: np.mean(x)), kde=True, ax=axes[1], color='coral');"
   ]
  },
  {
   "cell_type": "code",
   "execution_count": 106,
   "metadata": {},
   "outputs": [
    {
     "data": {
      "text/plain": [
       "'!\"#$%&\\'()*+,-./:;<=>?@[\\\\]^_`{|}~'"
      ]
     },
     "execution_count": 106,
     "metadata": {},
     "output_type": "execute_result"
    }
   ],
   "source": [
    "string.punctuation"
   ]
  },
  {
   "cell_type": "code",
   "execution_count": 107,
   "metadata": {},
   "outputs": [],
   "source": [
    "def plot_punctuations(df, target):\n",
    "    \n",
    "    punctations_dict = defaultdict(int)\n",
    "    \n",
    "    for idx, text in df[df[\"target\"]==target].text.iteritems():\n",
    "        for token in text.split():\n",
    "            if token in string.punctuation:\n",
    "                punctations_dict[token] +=1   \n",
    "\n",
    "    return dict(sorted(punctations_dict.items(), key=lambda x: x[1], reverse=True))\n",
    "\n",
    "\n",
    "dt_punctuations = plot_punctuations(train_data, target=1)\n",
    "ndt_punctuations = plot_punctuations(train_data, target=0)"
   ]
  },
  {
   "cell_type": "code",
   "execution_count": 108,
   "metadata": {},
   "outputs": [
    {
     "data": {
      "image/png": "[encoded data removed]",
      "text/plain": [
       "<Figure size 864x360 with 2 Axes>"
      ]
     },
     "metadata": {
      "needs_background": "light"
     },
     "output_type": "display_data"
    }
   ],
   "source": [
    "fig5, axes = plt.subplots(1, 2, figsize=(12,5))\n",
    "\n",
    "x1, y1 = zip(*dt_punctuations.items())\n",
    "axes[0].bar(x1, y1, color=\"orange\", label=\"Disaster tweets\")\n",
    "axes[0].legend()\n",
    "axes[0].set_yscale('log')\n",
    "\n",
    "\n",
    "x2, y2 = zip(*ndt_punctuations.items())\n",
    "axes[1].bar(x2, y2, color=\"coral\", label=\"Non-Disaster tweets\")\n",
    "axes[1].legend()\n",
    "axes[1].set_yscale('log')"
   ]
  },
  {
   "cell_type": "code",
   "execution_count": 109,
   "metadata": {},
   "outputs": [],
   "source": [
    "stop_words= set(stopwords.words(\"english\"))\n",
    "\n",
    "# updating the stopwords considering the following list\n",
    "stop_words.update(['https', 'http', 'amp', 'CO', 't', 'u', 'new', \"I'm\", \"would\"])\n",
    "\n",
    "wc = WordCloud(width=800,\n",
    "               height=400,\n",
    "               max_words=200,\n",
    "               stopwords=stop_words,\n",
    "               background_color= \"black\", \n",
    "               colormap=\"Paired\",\n",
    "               max_font_size=150)"
   ]
  },
  {
   "cell_type": "markdown",
   "metadata": {},
   "source": [
    "In order to plot de the word cloud, we will use the method **plt.imshow**. According to matplotlib documentation: *Display data as an image, i.e., on a 2D regular raster. The input may either be actual RGB(A) data, or 2D scalar data, which will be rendered as a pseudocolor image.*"
   ]
  },
  {
   "cell_type": "code",
   "execution_count": 110,
   "metadata": {},
   "outputs": [
    {
     "name": "stdout",
     "output_type": "stream",
     "text": [
      "\u001b[1m\n",
      "Word Cloud for Disaster Tweets\u001b[0m\n"
     ]
    },
    {
     "data": {
      "image/png": "[encoded data removed]",
      "text/plain": [
       "<Figure size 864x360 with 1 Axes>"
      ]
     },
     "metadata": {
      "needs_background": "light"
     },
     "output_type": "display_data"
    },
    {
     "name": "stdout",
     "output_type": "stream",
     "text": [
      "\u001b[1m\n",
      "Word Cloud for Non-Disaster Tweets\u001b[0m\n"
     ]
    },
    {
     "data": {
      "image/png": "[encoded data removed]",
      "text/plain": [
       "<Figure size 864x360 with 1 Axes>"
      ]
     },
     "metadata": {
      "needs_background": "light"
     },
     "output_type": "display_data"
    }
   ],
   "source": [
    "disaster_tweets = (train_data.query(\"target==1\").text).str.cat(sep=\" \")  # str.cat -- string concatenation\n",
    "\n",
    "non_disaster_tweets = (train_data.query(\"target==0\").text).str.cat(sep=\" \")\n",
    "\n",
    "print('\\033[1m'\"\\nWord Cloud for Disaster Tweets\"'\\033[0m')\n",
    "wc.generate(disaster_tweets)\n",
    "plt.figure(figsize=(12, 5))\n",
    "plt.imshow(wc, interpolation='bilinear')\n",
    "plt.axis('off')\n",
    "plt.show()\n",
    "\n",
    "print('\\033[1m'\"\\nWord Cloud for Non-Disaster Tweets\"'\\033[0m')\n",
    "wc.generate(non_disaster_tweets)\n",
    "plt.figure(figsize=(12, 5))\n",
    "plt.imshow(wc, interpolation='bilinear')\n",
    "plt.axis('off')\n",
    "plt.show()"
   ]
  },
  {
   "cell_type": "markdown",
   "metadata": {},
   "source": [
    " "
   ]
  },
  {
   "cell_type": "markdown",
   "metadata": {},
   "source": [
    "### Feature Engineering"
   ]
  },
  {
   "cell_type": "markdown",
   "metadata": {},
   "source": [
    "**TASK 1:** tweet length (in number of chars)"
   ]
  },
  {
   "cell_type": "code",
   "execution_count": 111,
   "metadata": {},
   "outputs": [],
   "source": [
    "train_data['num chars'] = train_data[\"text\"].str.len().values\n",
    "test_data['num chars']  = test_data[\"text\"].str.len().values"
   ]
  },
  {
   "cell_type": "code",
   "execution_count": 112,
   "metadata": {},
   "outputs": [
    {
     "data": {
      "text/html": [
       "<div>\n",
       "<style scoped>\n",
       "    .dataframe tbody tr th:only-of-type {\n",
       "        vertical-align: middle;\n",
       "    }\n",
       "\n",
       "    .dataframe tbody tr th {\n",
       "        vertical-align: top;\n",
       "    }\n",
       "\n",
       "    .dataframe thead th {\n",
       "        text-align: right;\n",
       "    }\n",
       "</style>\n",
       "<table border=\"1\" class=\"dataframe\">\n",
       "  <thead>\n",
       "    <tr style=\"text-align: right;\">\n",
       "      <th></th>\n",
       "      <th>id</th>\n",
       "      <th>keyword</th>\n",
       "      <th>location</th>\n",
       "      <th>text</th>\n",
       "      <th>target</th>\n",
       "      <th>num chars</th>\n",
       "    </tr>\n",
       "  </thead>\n",
       "  <tbody>\n",
       "    <tr>\n",
       "      <th>0</th>\n",
       "      <td>1</td>\n",
       "      <td>NaN</td>\n",
       "      <td>NaN</td>\n",
       "      <td>Our Deeds are the Reason of this #earthquake M...</td>\n",
       "      <td>1</td>\n",
       "      <td>69</td>\n",
       "    </tr>\n",
       "    <tr>\n",
       "      <th>1</th>\n",
       "      <td>4</td>\n",
       "      <td>NaN</td>\n",
       "      <td>NaN</td>\n",
       "      <td>Forest fire near La Ronge Sask. Canada</td>\n",
       "      <td>1</td>\n",
       "      <td>38</td>\n",
       "    </tr>\n",
       "  </tbody>\n",
       "</table>\n",
       "</div>"
      ],
      "text/plain": [
       "   id keyword location                                               text  \\\n",
       "0   1     NaN      NaN  Our Deeds are the Reason of this #earthquake M...   \n",
       "1   4     NaN      NaN             Forest fire near La Ronge Sask. Canada   \n",
       "\n",
       "   target  num chars  \n",
       "0       1         69  \n",
       "1       1         38  "
      ]
     },
     "execution_count": 112,
     "metadata": {},
     "output_type": "execute_result"
    }
   ],
   "source": [
    "train_data.head(2)"
   ]
  },
  {
   "cell_type": "code",
   "execution_count": 113,
   "metadata": {},
   "outputs": [
    {
     "data": {
      "text/html": [
       "<div>\n",
       "<style scoped>\n",
       "    .dataframe tbody tr th:only-of-type {\n",
       "        vertical-align: middle;\n",
       "    }\n",
       "\n",
       "    .dataframe tbody tr th {\n",
       "        vertical-align: top;\n",
       "    }\n",
       "\n",
       "    .dataframe thead th {\n",
       "        text-align: right;\n",
       "    }\n",
       "</style>\n",
       "<table border=\"1\" class=\"dataframe\">\n",
       "  <thead>\n",
       "    <tr style=\"text-align: right;\">\n",
       "      <th></th>\n",
       "      <th>id</th>\n",
       "      <th>keyword</th>\n",
       "      <th>location</th>\n",
       "      <th>text</th>\n",
       "      <th>num chars</th>\n",
       "    </tr>\n",
       "  </thead>\n",
       "  <tbody>\n",
       "    <tr>\n",
       "      <th>0</th>\n",
       "      <td>0</td>\n",
       "      <td>NaN</td>\n",
       "      <td>NaN</td>\n",
       "      <td>Just happened a terrible car crash</td>\n",
       "      <td>34</td>\n",
       "    </tr>\n",
       "    <tr>\n",
       "      <th>1</th>\n",
       "      <td>2</td>\n",
       "      <td>NaN</td>\n",
       "      <td>NaN</td>\n",
       "      <td>Heard about #earthquake is different cities, s...</td>\n",
       "      <td>64</td>\n",
       "    </tr>\n",
       "  </tbody>\n",
       "</table>\n",
       "</div>"
      ],
      "text/plain": [
       "   id keyword location                                               text  \\\n",
       "0   0     NaN      NaN                 Just happened a terrible car crash   \n",
       "1   2     NaN      NaN  Heard about #earthquake is different cities, s...   \n",
       "\n",
       "   num chars  \n",
       "0         34  \n",
       "1         64  "
      ]
     },
     "execution_count": 113,
     "metadata": {},
     "output_type": "execute_result"
    }
   ],
   "source": [
    "test_data.head(2)"
   ]
  },
  {
   "cell_type": "markdown",
   "metadata": {},
   "source": [
    " "
   ]
  },
  {
   "cell_type": "markdown",
   "metadata": {},
   "source": [
    "**TASK 2:** number of special chars"
   ]
  },
  {
   "cell_type": "code",
   "execution_count": 114,
   "metadata": {},
   "outputs": [],
   "source": [
    "def count_special_chars(df):\n",
    "    \n",
    "    '''\n",
    "    Uses regex to identify special chars in text. \n",
    "    [^a-zA-Z0-9\\s] means: anything in the interval [] that is NOT (^): [a-z] or [A-Z] or [0-9] or \\s (space)\n",
    "    \n",
    "    Parameters:\n",
    "        df: Dataset\n",
    "    Returns: \n",
    "        A list with the amount of special chars for each example of the dataset\n",
    "    \n",
    "    '''\n",
    "    special_chars=[]\n",
    "    \n",
    "    for text in df['text']:\n",
    "        special_chars.append(len(re.findall(r'[^a-zA-Z0-9\\s]', text)))\n",
    "    \n",
    "    return special_chars"
   ]
  },
  {
   "cell_type": "code",
   "execution_count": 115,
   "metadata": {},
   "outputs": [],
   "source": [
    "train_data['num special chars'] = count_special_chars(train_data)\n",
    "test_data['num special chars']  =  count_special_chars(test_data)"
   ]
  },
  {
   "cell_type": "code",
   "execution_count": 116,
   "metadata": {},
   "outputs": [
    {
     "data": {
      "text/html": [
       "<div>\n",
       "<style scoped>\n",
       "    .dataframe tbody tr th:only-of-type {\n",
       "        vertical-align: middle;\n",
       "    }\n",
       "\n",
       "    .dataframe tbody tr th {\n",
       "        vertical-align: top;\n",
       "    }\n",
       "\n",
       "    .dataframe thead th {\n",
       "        text-align: right;\n",
       "    }\n",
       "</style>\n",
       "<table border=\"1\" class=\"dataframe\">\n",
       "  <thead>\n",
       "    <tr style=\"text-align: right;\">\n",
       "      <th></th>\n",
       "      <th>id</th>\n",
       "      <th>keyword</th>\n",
       "      <th>location</th>\n",
       "      <th>text</th>\n",
       "      <th>target</th>\n",
       "      <th>num chars</th>\n",
       "      <th>num special chars</th>\n",
       "    </tr>\n",
       "  </thead>\n",
       "  <tbody>\n",
       "    <tr>\n",
       "      <th>0</th>\n",
       "      <td>1</td>\n",
       "      <td>NaN</td>\n",
       "      <td>NaN</td>\n",
       "      <td>Our Deeds are the Reason of this #earthquake M...</td>\n",
       "      <td>1</td>\n",
       "      <td>69</td>\n",
       "      <td>1</td>\n",
       "    </tr>\n",
       "    <tr>\n",
       "      <th>1</th>\n",
       "      <td>4</td>\n",
       "      <td>NaN</td>\n",
       "      <td>NaN</td>\n",
       "      <td>Forest fire near La Ronge Sask. Canada</td>\n",
       "      <td>1</td>\n",
       "      <td>38</td>\n",
       "      <td>1</td>\n",
       "    </tr>\n",
       "    <tr>\n",
       "      <th>2</th>\n",
       "      <td>5</td>\n",
       "      <td>NaN</td>\n",
       "      <td>NaN</td>\n",
       "      <td>All residents asked to 'shelter in place' are ...</td>\n",
       "      <td>1</td>\n",
       "      <td>133</td>\n",
       "      <td>3</td>\n",
       "    </tr>\n",
       "  </tbody>\n",
       "</table>\n",
       "</div>"
      ],
      "text/plain": [
       "   id keyword location                                               text  \\\n",
       "0   1     NaN      NaN  Our Deeds are the Reason of this #earthquake M...   \n",
       "1   4     NaN      NaN             Forest fire near La Ronge Sask. Canada   \n",
       "2   5     NaN      NaN  All residents asked to 'shelter in place' are ...   \n",
       "\n",
       "   target  num chars  num special chars  \n",
       "0       1         69                  1  \n",
       "1       1         38                  1  \n",
       "2       1        133                  3  "
      ]
     },
     "execution_count": 116,
     "metadata": {},
     "output_type": "execute_result"
    }
   ],
   "source": [
    "train_data.head(3)"
   ]
  },
  {
   "cell_type": "code",
   "execution_count": 117,
   "metadata": {},
   "outputs": [
    {
     "data": {
      "text/html": [
       "<div>\n",
       "<style scoped>\n",
       "    .dataframe tbody tr th:only-of-type {\n",
       "        vertical-align: middle;\n",
       "    }\n",
       "\n",
       "    .dataframe tbody tr th {\n",
       "        vertical-align: top;\n",
       "    }\n",
       "\n",
       "    .dataframe thead th {\n",
       "        text-align: right;\n",
       "    }\n",
       "</style>\n",
       "<table border=\"1\" class=\"dataframe\">\n",
       "  <thead>\n",
       "    <tr style=\"text-align: right;\">\n",
       "      <th></th>\n",
       "      <th>id</th>\n",
       "      <th>keyword</th>\n",
       "      <th>location</th>\n",
       "      <th>text</th>\n",
       "      <th>num chars</th>\n",
       "      <th>num special chars</th>\n",
       "    </tr>\n",
       "  </thead>\n",
       "  <tbody>\n",
       "    <tr>\n",
       "      <th>0</th>\n",
       "      <td>0</td>\n",
       "      <td>NaN</td>\n",
       "      <td>NaN</td>\n",
       "      <td>Just happened a terrible car crash</td>\n",
       "      <td>34</td>\n",
       "      <td>0</td>\n",
       "    </tr>\n",
       "    <tr>\n",
       "      <th>1</th>\n",
       "      <td>2</td>\n",
       "      <td>NaN</td>\n",
       "      <td>NaN</td>\n",
       "      <td>Heard about #earthquake is different cities, s...</td>\n",
       "      <td>64</td>\n",
       "      <td>3</td>\n",
       "    </tr>\n",
       "    <tr>\n",
       "      <th>2</th>\n",
       "      <td>3</td>\n",
       "      <td>NaN</td>\n",
       "      <td>NaN</td>\n",
       "      <td>there is a forest fire at spot pond, geese are...</td>\n",
       "      <td>96</td>\n",
       "      <td>2</td>\n",
       "    </tr>\n",
       "  </tbody>\n",
       "</table>\n",
       "</div>"
      ],
      "text/plain": [
       "   id keyword location                                               text  \\\n",
       "0   0     NaN      NaN                 Just happened a terrible car crash   \n",
       "1   2     NaN      NaN  Heard about #earthquake is different cities, s...   \n",
       "2   3     NaN      NaN  there is a forest fire at spot pond, geese are...   \n",
       "\n",
       "   num chars  num special chars  \n",
       "0         34                  0  \n",
       "1         64                  3  \n",
       "2         96                  2  "
      ]
     },
     "execution_count": 117,
     "metadata": {},
     "output_type": "execute_result"
    }
   ],
   "source": [
    "test_data.head(3)"
   ]
  },
  {
   "cell_type": "markdown",
   "metadata": {},
   "source": [
    " "
   ]
  },
  {
   "cell_type": "markdown",
   "metadata": {},
   "source": [
    "**TASK 3:** standardize location representations"
   ]
  },
  {
   "cell_type": "code",
   "execution_count": 118,
   "metadata": {},
   "outputs": [],
   "source": [
    "def split_location_countries(df):\n",
    "    \n",
    "    countries=[]\n",
    "    location=[]\n",
    "    \n",
    "    for item in df['location'].astype(str).values:\n",
    "        countries.append(item.split(',')[-1])\n",
    "        location.append(item.split(',')[0])\n",
    "        \n",
    "    df['country']  = countries\n",
    "    df['location'] = location\n",
    "    \n",
    "    assert len(countries)==df.shape[0]\n",
    "    assert len(countries)==df.shape[0]\n",
    "        \n",
    "    return df"
   ]
  },
  {
   "cell_type": "code",
   "execution_count": 119,
   "metadata": {},
   "outputs": [],
   "source": [
    "train_data = split_location_countries(train_data)\n",
    "test_data  = split_location_countries(test_data)"
   ]
  },
  {
   "cell_type": "code",
   "execution_count": 120,
   "metadata": {},
   "outputs": [],
   "source": [
    "def remove_special_chars(text):\n",
    "    \n",
    "    '''\n",
    "    The function removes any char that is not a word character (uppercase or lowercase) and replaces it for\n",
    "    a simple blank space.\n",
    "    The regular expression [^a-zA-Z] matches any char that is NOT(^) a word (like special chars, space or\n",
    "    numbers).\n",
    "    '''\n",
    "    \n",
    "    return re.sub(r\"[^a-zA-Z]\", \" \", text)"
   ]
  },
  {
   "cell_type": "code",
   "execution_count": 121,
   "metadata": {},
   "outputs": [],
   "source": [
    "train_data['location'] = train_data.location.apply(lambda x: remove_special_chars(x))\n",
    "test_data['location']  = test_data.location.apply(lambda x: remove_special_chars(x))\n",
    "train_data['country'] = train_data.location.apply(lambda x: remove_special_chars(x))\n",
    "test_data['country']  = test_data.location.apply(lambda x: remove_special_chars(x))"
   ]
  },
  {
   "cell_type": "code",
   "execution_count": 122,
   "metadata": {},
   "outputs": [
    {
     "data": {
      "text/plain": [
       "nan                         2533\n",
       "USA                          108\n",
       "New York                      95\n",
       "London                        70\n",
       "United States                 50\n",
       "                            ... \n",
       "Paonia                         1\n",
       "Caribbean                      1\n",
       "South africa                   1\n",
       "Saipan                         1\n",
       "London Bristol Guildford       1\n",
       "Name: country, Length: 2863, dtype: int64"
      ]
     },
     "execution_count": 122,
     "metadata": {},
     "output_type": "execute_result"
    }
   ],
   "source": [
    "train_data.country.value_counts()"
   ]
  },
  {
   "cell_type": "code",
   "execution_count": 123,
   "metadata": {},
   "outputs": [
    {
     "data": {
      "text/plain": [
       "nan                         2533\n",
       "USA                          108\n",
       "New York                      95\n",
       "London                        70\n",
       "United States                 50\n",
       "                            ... \n",
       "Paonia                         1\n",
       "Caribbean                      1\n",
       "South africa                   1\n",
       "Saipan                         1\n",
       "London Bristol Guildford       1\n",
       "Name: location, Length: 2863, dtype: int64"
      ]
     },
     "execution_count": 123,
     "metadata": {},
     "output_type": "execute_result"
    }
   ],
   "source": [
    "train_data.location.value_counts()"
   ]
  },
  {
   "cell_type": "markdown",
   "metadata": {},
   "source": [
    " "
   ]
  },
  {
   "cell_type": "markdown",
   "metadata": {},
   "source": [
    "Importing a table with most important cities in the world to standardize the countries notation"
   ]
  },
  {
   "cell_type": "code",
   "execution_count": 124,
   "metadata": {},
   "outputs": [
    {
     "data": {
      "text/html": [
       "<div>\n",
       "<style scoped>\n",
       "    .dataframe tbody tr th:only-of-type {\n",
       "        vertical-align: middle;\n",
       "    }\n",
       "\n",
       "    .dataframe tbody tr th {\n",
       "        vertical-align: top;\n",
       "    }\n",
       "\n",
       "    .dataframe thead th {\n",
       "        text-align: right;\n",
       "    }\n",
       "</style>\n",
       "<table border=\"1\" class=\"dataframe\">\n",
       "  <thead>\n",
       "    <tr style=\"text-align: right;\">\n",
       "      <th></th>\n",
       "      <th>city</th>\n",
       "      <th>city_ascii</th>\n",
       "      <th>lat</th>\n",
       "      <th>lng</th>\n",
       "      <th>country</th>\n",
       "      <th>iso2</th>\n",
       "      <th>iso3</th>\n",
       "      <th>admin_name</th>\n",
       "      <th>capital</th>\n",
       "      <th>population</th>\n",
       "      <th>id</th>\n",
       "    </tr>\n",
       "  </thead>\n",
       "  <tbody>\n",
       "    <tr>\n",
       "      <th>0</th>\n",
       "      <td>Tokyo</td>\n",
       "      <td>tokyo</td>\n",
       "      <td>35.6839</td>\n",
       "      <td>139.7744</td>\n",
       "      <td>Japan</td>\n",
       "      <td>JP</td>\n",
       "      <td>JPN</td>\n",
       "      <td>Tōkyō</td>\n",
       "      <td>primary</td>\n",
       "      <td>39105000.0</td>\n",
       "      <td>1392685764</td>\n",
       "    </tr>\n",
       "    <tr>\n",
       "      <th>1</th>\n",
       "      <td>Jakarta</td>\n",
       "      <td>jakarta</td>\n",
       "      <td>-6.2146</td>\n",
       "      <td>106.8451</td>\n",
       "      <td>Indonesia</td>\n",
       "      <td>ID</td>\n",
       "      <td>IDN</td>\n",
       "      <td>Jakarta</td>\n",
       "      <td>primary</td>\n",
       "      <td>35362000.0</td>\n",
       "      <td>1360771077</td>\n",
       "    </tr>\n",
       "    <tr>\n",
       "      <th>2</th>\n",
       "      <td>Delhi</td>\n",
       "      <td>delhi</td>\n",
       "      <td>28.6667</td>\n",
       "      <td>77.2167</td>\n",
       "      <td>India</td>\n",
       "      <td>IN</td>\n",
       "      <td>IND</td>\n",
       "      <td>Delhi</td>\n",
       "      <td>admin</td>\n",
       "      <td>31870000.0</td>\n",
       "      <td>1356872604</td>\n",
       "    </tr>\n",
       "  </tbody>\n",
       "</table>\n",
       "</div>"
      ],
      "text/plain": [
       "      city city_ascii      lat       lng    country iso2 iso3 admin_name  \\\n",
       "0    Tokyo      tokyo  35.6839  139.7744      Japan   JP  JPN      Tōkyō   \n",
       "1  Jakarta    jakarta  -6.2146  106.8451  Indonesia   ID  IDN    Jakarta   \n",
       "2    Delhi      delhi  28.6667   77.2167      India   IN  IND      Delhi   \n",
       "\n",
       "   capital  population          id  \n",
       "0  primary  39105000.0  1392685764  \n",
       "1  primary  35362000.0  1360771077  \n",
       "2    admin  31870000.0  1356872604  "
      ]
     },
     "execution_count": 124,
     "metadata": {},
     "output_type": "execute_result"
    }
   ],
   "source": [
    "cities = pd.read_csv('worldcities.csv')\n",
    "cities['city_ascii'] = cities['city_ascii'].str.lower()\n",
    "cities.head(3)"
   ]
  },
  {
   "cell_type": "code",
   "execution_count": 125,
   "metadata": {},
   "outputs": [],
   "source": [
    "columns = ['location', 'country']\n",
    "for column in columns:\n",
    "    train_data[column] = train_data[column].str.lower()\n",
    "    test_data[column]  = test_data[column].str.lower()"
   ]
  },
  {
   "cell_type": "code",
   "execution_count": 126,
   "metadata": {},
   "outputs": [],
   "source": [
    "def discover_country_from_city(df, column, cities_df):\n",
    "    \n",
    "    '''\n",
    "    Splits the location field and searches for the name of cities to find their respective country\n",
    "    '''\n",
    "     \n",
    "    index=0\n",
    "    for item in df[column]:\n",
    "        \n",
    "        for new_item in item.split():\n",
    "            if (new_item != 'nan') and (new_item in cities_df['city_ascii'].values):\n",
    "                df.loc[index, 'country'] = cities_df[cities_df['city_ascii']==new_item].iso2.values[0]\n",
    "        else:\n",
    "            pass\n",
    "        \n",
    "        index+=1\n",
    "    \n",
    "    return df"
   ]
  },
  {
   "cell_type": "code",
   "execution_count": 127,
   "metadata": {},
   "outputs": [],
   "source": [
    "for colum in columns:\n",
    "    train_data = discover_country_from_city(train_data, column, cities)\n",
    "    test_data  = discover_country_from_city(test_data, column, cities)"
   ]
  },
  {
   "cell_type": "code",
   "execution_count": 128,
   "metadata": {},
   "outputs": [
    {
     "data": {
      "text/plain": [
       "nan                           2533\n",
       "US                            1349\n",
       "GB                             287\n",
       "JP                             152\n",
       "CA                             134\n",
       "                              ... \n",
       "justin   ari follow    tvd       1\n",
       "fimak a s ist bolge muduru       1\n",
       "zac newsome loves me             1\n",
       "no id                            1\n",
       "m       pp                       1\n",
       "Name: country, Length: 1567, dtype: int64"
      ]
     },
     "execution_count": 128,
     "metadata": {},
     "output_type": "execute_result"
    }
   ],
   "source": [
    "train_data.country.value_counts()"
   ]
  },
  {
   "cell_type": "code",
   "execution_count": 129,
   "metadata": {},
   "outputs": [
    {
     "data": {
      "text/html": [
       "<div>\n",
       "<style scoped>\n",
       "    .dataframe tbody tr th:only-of-type {\n",
       "        vertical-align: middle;\n",
       "    }\n",
       "\n",
       "    .dataframe tbody tr th {\n",
       "        vertical-align: top;\n",
       "    }\n",
       "\n",
       "    .dataframe thead th {\n",
       "        text-align: right;\n",
       "    }\n",
       "</style>\n",
       "<table border=\"1\" class=\"dataframe\">\n",
       "  <thead>\n",
       "    <tr style=\"text-align: right;\">\n",
       "      <th></th>\n",
       "      <th>id</th>\n",
       "      <th>keyword</th>\n",
       "      <th>location</th>\n",
       "      <th>text</th>\n",
       "      <th>target</th>\n",
       "      <th>num chars</th>\n",
       "      <th>num special chars</th>\n",
       "      <th>country</th>\n",
       "    </tr>\n",
       "  </thead>\n",
       "  <tbody>\n",
       "    <tr>\n",
       "      <th>500</th>\n",
       "      <td>725</td>\n",
       "      <td>attacked</td>\n",
       "      <td>lealman</td>\n",
       "      <td>Christian Attacked by Muslims at the Temple Mo...</td>\n",
       "      <td>1</td>\n",
       "      <td>122</td>\n",
       "      <td>9</td>\n",
       "      <td>US</td>\n",
       "    </tr>\n",
       "    <tr>\n",
       "      <th>501</th>\n",
       "      <td>726</td>\n",
       "      <td>attacked</td>\n",
       "      <td>los angeles</td>\n",
       "      <td>@envw98 @NickCoCoFree @JulieDiCaro @jdabe80 Wh...</td>\n",
       "      <td>0</td>\n",
       "      <td>136</td>\n",
       "      <td>7</td>\n",
       "      <td>los angeles</td>\n",
       "    </tr>\n",
       "    <tr>\n",
       "      <th>502</th>\n",
       "      <td>727</td>\n",
       "      <td>attacked</td>\n",
       "      <td>san francisco</td>\n",
       "      <td>Kelly Osbourne attacked for racist Donald Trum...</td>\n",
       "      <td>1</td>\n",
       "      <td>103</td>\n",
       "      <td>5</td>\n",
       "      <td>ML</td>\n",
       "    </tr>\n",
       "    <tr>\n",
       "      <th>503</th>\n",
       "      <td>728</td>\n",
       "      <td>attacked</td>\n",
       "      <td>gdjb  asot</td>\n",
       "      <td>@eunice_njoki aiii she needs to chill and answ...</td>\n",
       "      <td>0</td>\n",
       "      <td>89</td>\n",
       "      <td>3</td>\n",
       "      <td>gdjb  asot</td>\n",
       "    </tr>\n",
       "  </tbody>\n",
       "</table>\n",
       "</div>"
      ],
      "text/plain": [
       "      id   keyword       location  \\\n",
       "500  725  attacked        lealman   \n",
       "501  726  attacked    los angeles   \n",
       "502  727  attacked  san francisco   \n",
       "503  728  attacked     gdjb  asot   \n",
       "\n",
       "                                                  text  target  num chars  \\\n",
       "500  Christian Attacked by Muslims at the Temple Mo...       1        122   \n",
       "501  @envw98 @NickCoCoFree @JulieDiCaro @jdabe80 Wh...       0        136   \n",
       "502  Kelly Osbourne attacked for racist Donald Trum...       1        103   \n",
       "503  @eunice_njoki aiii she needs to chill and answ...       0         89   \n",
       "\n",
       "     num special chars      country  \n",
       "500                  9           US  \n",
       "501                  7  los angeles  \n",
       "502                  5           ML  \n",
       "503                  3   gdjb  asot  "
      ]
     },
     "execution_count": 129,
     "metadata": {},
     "output_type": "execute_result"
    }
   ],
   "source": [
    "train_data[500:504]"
   ]
  },
  {
   "cell_type": "markdown",
   "metadata": {},
   "source": [
    "Cities with double names are affected when we split the location field. To solve it, let's search for the full name of the cities"
   ]
  },
  {
   "cell_type": "code",
   "execution_count": 130,
   "metadata": {},
   "outputs": [],
   "source": [
    "def discover_country_from_city_v2(df, column, cities_df):\n",
    "    \n",
    "    '''\n",
    "    Uses the location field **with no splitting** and searches for the name of cities to find their \n",
    "    respective country\n",
    "    '''\n",
    "     \n",
    "    index=0\n",
    "    \n",
    "    for item in df[column]:\n",
    "        \n",
    "        if (item != 'nan') and (item in cities_df['city_ascii'].values):\n",
    "                df.loc[index, 'country'] = cities_df[cities_df['city_ascii']==item].iso2.values[0]\n",
    "        else:\n",
    "            pass\n",
    "        \n",
    "        index+=1\n",
    "    \n",
    "    return df"
   ]
  },
  {
   "cell_type": "code",
   "execution_count": 131,
   "metadata": {},
   "outputs": [],
   "source": [
    "for column in columns:\n",
    "    train_data = discover_country_from_city_v2(train_data, column, cities)\n",
    "    test_data  = discover_country_from_city_v2(test_data, column, cities)"
   ]
  },
  {
   "cell_type": "code",
   "execution_count": 132,
   "metadata": {},
   "outputs": [
    {
     "data": {
      "text/plain": [
       "nan                      2533\n",
       "US                       1540\n",
       "GB                        290\n",
       "JP                        152\n",
       "CA                        135\n",
       "                         ... \n",
       "zac newsome loves me        1\n",
       "no id                       1\n",
       "adventuring in narnia       1\n",
       "     w patrick st           1\n",
       "m       pp                  1\n",
       "Name: country, Length: 1503, dtype: int64"
      ]
     },
     "execution_count": 132,
     "metadata": {},
     "output_type": "execute_result"
    }
   ],
   "source": [
    "train_data.country.value_counts()"
   ]
  },
  {
   "cell_type": "code",
   "execution_count": 133,
   "metadata": {},
   "outputs": [
    {
     "data": {
      "text/html": [
       "<div>\n",
       "<style scoped>\n",
       "    .dataframe tbody tr th:only-of-type {\n",
       "        vertical-align: middle;\n",
       "    }\n",
       "\n",
       "    .dataframe tbody tr th {\n",
       "        vertical-align: top;\n",
       "    }\n",
       "\n",
       "    .dataframe thead th {\n",
       "        text-align: right;\n",
       "    }\n",
       "</style>\n",
       "<table border=\"1\" class=\"dataframe\">\n",
       "  <thead>\n",
       "    <tr style=\"text-align: right;\">\n",
       "      <th></th>\n",
       "      <th>id</th>\n",
       "      <th>keyword</th>\n",
       "      <th>location</th>\n",
       "      <th>text</th>\n",
       "      <th>target</th>\n",
       "      <th>num chars</th>\n",
       "      <th>num special chars</th>\n",
       "      <th>country</th>\n",
       "    </tr>\n",
       "  </thead>\n",
       "  <tbody>\n",
       "    <tr>\n",
       "      <th>500</th>\n",
       "      <td>725</td>\n",
       "      <td>attacked</td>\n",
       "      <td>lealman</td>\n",
       "      <td>Christian Attacked by Muslims at the Temple Mo...</td>\n",
       "      <td>1</td>\n",
       "      <td>122</td>\n",
       "      <td>9</td>\n",
       "      <td>US</td>\n",
       "    </tr>\n",
       "    <tr>\n",
       "      <th>501</th>\n",
       "      <td>726</td>\n",
       "      <td>attacked</td>\n",
       "      <td>los angeles</td>\n",
       "      <td>@envw98 @NickCoCoFree @JulieDiCaro @jdabe80 Wh...</td>\n",
       "      <td>0</td>\n",
       "      <td>136</td>\n",
       "      <td>7</td>\n",
       "      <td>US</td>\n",
       "    </tr>\n",
       "    <tr>\n",
       "      <th>502</th>\n",
       "      <td>727</td>\n",
       "      <td>attacked</td>\n",
       "      <td>san francisco</td>\n",
       "      <td>Kelly Osbourne attacked for racist Donald Trum...</td>\n",
       "      <td>1</td>\n",
       "      <td>103</td>\n",
       "      <td>5</td>\n",
       "      <td>US</td>\n",
       "    </tr>\n",
       "    <tr>\n",
       "      <th>503</th>\n",
       "      <td>728</td>\n",
       "      <td>attacked</td>\n",
       "      <td>gdjb  asot</td>\n",
       "      <td>@eunice_njoki aiii she needs to chill and answ...</td>\n",
       "      <td>0</td>\n",
       "      <td>89</td>\n",
       "      <td>3</td>\n",
       "      <td>gdjb  asot</td>\n",
       "    </tr>\n",
       "  </tbody>\n",
       "</table>\n",
       "</div>"
      ],
      "text/plain": [
       "      id   keyword       location  \\\n",
       "500  725  attacked        lealman   \n",
       "501  726  attacked    los angeles   \n",
       "502  727  attacked  san francisco   \n",
       "503  728  attacked     gdjb  asot   \n",
       "\n",
       "                                                  text  target  num chars  \\\n",
       "500  Christian Attacked by Muslims at the Temple Mo...       1        122   \n",
       "501  @envw98 @NickCoCoFree @JulieDiCaro @jdabe80 Wh...       0        136   \n",
       "502  Kelly Osbourne attacked for racist Donald Trum...       1        103   \n",
       "503  @eunice_njoki aiii she needs to chill and answ...       0         89   \n",
       "\n",
       "     num special chars      country  \n",
       "500                  9           US  \n",
       "501                  7           US  \n",
       "502                  5           US  \n",
       "503                  3   gdjb  asot  "
      ]
     },
     "execution_count": 133,
     "metadata": {},
     "output_type": "execute_result"
    }
   ],
   "source": [
    "train_data[500:504]"
   ]
  },
  {
   "cell_type": "markdown",
   "metadata": {},
   "source": [
    " "
   ]
  },
  {
   "cell_type": "markdown",
   "metadata": {},
   "source": [
    "As we have a huge presence of US locations, let us import a USA database with states and main cities"
   ]
  },
  {
   "cell_type": "code",
   "execution_count": 134,
   "metadata": {},
   "outputs": [],
   "source": [
    "usa_data = pd.read_csv('USAData.csv')"
   ]
  },
  {
   "cell_type": "code",
   "execution_count": 135,
   "metadata": {},
   "outputs": [
    {
     "data": {
      "text/html": [
       "<div>\n",
       "<style scoped>\n",
       "    .dataframe tbody tr th:only-of-type {\n",
       "        vertical-align: middle;\n",
       "    }\n",
       "\n",
       "    .dataframe tbody tr th {\n",
       "        vertical-align: top;\n",
       "    }\n",
       "\n",
       "    .dataframe thead th {\n",
       "        text-align: right;\n",
       "    }\n",
       "</style>\n",
       "<table border=\"1\" class=\"dataframe\">\n",
       "  <thead>\n",
       "    <tr style=\"text-align: right;\">\n",
       "      <th></th>\n",
       "      <th>rank</th>\n",
       "      <th>name</th>\n",
       "      <th>usps</th>\n",
       "      <th>pop2022</th>\n",
       "      <th>pop2010</th>\n",
       "      <th>growth</th>\n",
       "      <th>density</th>\n",
       "      <th>aland_sqmi</th>\n",
       "      <th>State</th>\n",
       "    </tr>\n",
       "  </thead>\n",
       "  <tbody>\n",
       "    <tr>\n",
       "      <th>0</th>\n",
       "      <td>1</td>\n",
       "      <td>new york city</td>\n",
       "      <td>ny</td>\n",
       "      <td>8930002</td>\n",
       "      <td>8175133</td>\n",
       "      <td>0.0923</td>\n",
       "      <td>29729</td>\n",
       "      <td>300.381</td>\n",
       "      <td>new york</td>\n",
       "    </tr>\n",
       "    <tr>\n",
       "      <th>1</th>\n",
       "      <td>2</td>\n",
       "      <td>los angeles</td>\n",
       "      <td>ca</td>\n",
       "      <td>3919973</td>\n",
       "      <td>3792621</td>\n",
       "      <td>0.0336</td>\n",
       "      <td>8359</td>\n",
       "      <td>468.956</td>\n",
       "      <td>california</td>\n",
       "    </tr>\n",
       "    <tr>\n",
       "      <th>2</th>\n",
       "      <td>3</td>\n",
       "      <td>chicago</td>\n",
       "      <td>il</td>\n",
       "      <td>2756546</td>\n",
       "      <td>2695598</td>\n",
       "      <td>0.0226</td>\n",
       "      <td>12124</td>\n",
       "      <td>227.369</td>\n",
       "      <td>illinois</td>\n",
       "    </tr>\n",
       "    <tr>\n",
       "      <th>3</th>\n",
       "      <td>4</td>\n",
       "      <td>houston</td>\n",
       "      <td>tx</td>\n",
       "      <td>2345606</td>\n",
       "      <td>2099451</td>\n",
       "      <td>0.1172</td>\n",
       "      <td>3664</td>\n",
       "      <td>640.194</td>\n",
       "      <td>texas</td>\n",
       "    </tr>\n",
       "    <tr>\n",
       "      <th>4</th>\n",
       "      <td>5</td>\n",
       "      <td>phoenix</td>\n",
       "      <td>az</td>\n",
       "      <td>1640641</td>\n",
       "      <td>1445632</td>\n",
       "      <td>0.1349</td>\n",
       "      <td>3169</td>\n",
       "      <td>517.673</td>\n",
       "      <td>arizona</td>\n",
       "    </tr>\n",
       "  </tbody>\n",
       "</table>\n",
       "</div>"
      ],
      "text/plain": [
       "   rank           name usps  pop2022  pop2010  growth  density  aland_sqmi  \\\n",
       "0     1  new york city   ny  8930002  8175133  0.0923    29729     300.381   \n",
       "1     2    los angeles   ca  3919973  3792621  0.0336     8359     468.956   \n",
       "2     3        chicago   il  2756546  2695598  0.0226    12124     227.369   \n",
       "3     4        houston   tx  2345606  2099451  0.1172     3664     640.194   \n",
       "4     5        phoenix   az  1640641  1445632  0.1349     3169     517.673   \n",
       "\n",
       "        State  \n",
       "0    new york  \n",
       "1  california  \n",
       "2    illinois  \n",
       "3       texas  \n",
       "4     arizona  "
      ]
     },
     "execution_count": 135,
     "metadata": {},
     "output_type": "execute_result"
    }
   ],
   "source": [
    "usa_columns = ['name', 'usps', 'State']\n",
    "for column in usa_columns:\n",
    "    usa_data[column] = usa_data[column].str.lower()\n",
    "\n",
    "usa_data.head()"
   ]
  },
  {
   "cell_type": "code",
   "execution_count": 136,
   "metadata": {},
   "outputs": [],
   "source": [
    "def find_USA_locations(df, column, cities_df):\n",
    "    \n",
    "    '''\n",
    "    Finds USA locations and replace them by 'US' name in country field\n",
    "    '''\n",
    "    \n",
    "    index=0\n",
    "    usa_columns = ['State', 'usps', 'name']\n",
    "    \n",
    "    for item in df[column]:\n",
    "        \n",
    "        if item in ['new york', 'united states']:\n",
    "            df.loc[index, 'country'] = 'US'\n",
    "        \n",
    "        else:\n",
    "            for usa_column in usa_columns:\n",
    "                if item in cities_df[usa_column].values:\n",
    "                    df.loc[index, 'country'] = 'US'\n",
    "                    df.loc[index, 'location']= item\n",
    "                \n",
    "                else:\n",
    "                    pass\n",
    "        \n",
    "        index+=1\n",
    "    \n",
    "    return df"
   ]
  },
  {
   "cell_type": "code",
   "execution_count": 137,
   "metadata": {},
   "outputs": [],
   "source": [
    "for column in columns:\n",
    "    train_data = find_USA_locations(train_data, column, usa_data)\n",
    "    test_data  = find_USA_locations(test_data, column, usa_data)"
   ]
  },
  {
   "cell_type": "code",
   "execution_count": 138,
   "metadata": {},
   "outputs": [
    {
     "data": {
      "text/plain": [
       "nan                           2533\n",
       "US                            1833\n",
       "GB                             281\n",
       "JP                             152\n",
       "CA                             122\n",
       "                              ... \n",
       "the main                         1\n",
       "justin   ari follow    tvd       1\n",
       "zac newsome loves me             1\n",
       "no id                            1\n",
       "m       pp                       1\n",
       "Name: country, Length: 1456, dtype: int64"
      ]
     },
     "execution_count": 138,
     "metadata": {},
     "output_type": "execute_result"
    }
   ],
   "source": [
    "train_data.country.value_counts()"
   ]
  },
  {
   "cell_type": "code",
   "execution_count": 139,
   "metadata": {},
   "outputs": [],
   "source": [
    "def find_USA_locations_v2(df, column, cities_df):\n",
    "    \n",
    "    '''\n",
    "    Splits the entries to find US locations\n",
    "    '''\n",
    "     \n",
    "    index=0\n",
    "    usa_columns = ['State', 'usps', 'name']\n",
    "    for item in df[column]:\n",
    "        \n",
    "        for new_item in item.split():\n",
    "            for usa_column in usa_columns:\n",
    "                if new_item in cities_df[usa_column].values:\n",
    "                    df.loc[index, 'country'] = 'US'\n",
    "        else:\n",
    "            pass\n",
    "        \n",
    "        index+=1\n",
    "    \n",
    "    return df"
   ]
  },
  {
   "cell_type": "code",
   "execution_count": 140,
   "metadata": {},
   "outputs": [],
   "source": [
    "for column in columns:\n",
    "    train_data = find_USA_locations_v2(train_data, column, usa_data)\n",
    "    test_data  = find_USA_locations_v2(test_data, column, usa_data)"
   ]
  },
  {
   "cell_type": "code",
   "execution_count": 141,
   "metadata": {},
   "outputs": [
    {
     "data": {
      "text/plain": [
       "nan                         2533\n",
       "US                          2048\n",
       "GB                           272\n",
       "JP                           138\n",
       "CA                           112\n",
       "                            ... \n",
       "taken by piper curda           1\n",
       "ideally under a big tree       1\n",
       " rp                            1\n",
       "dagenham                       1\n",
       "m       pp                     1\n",
       "Name: country, Length: 1341, dtype: int64"
      ]
     },
     "execution_count": 141,
     "metadata": {},
     "output_type": "execute_result"
    }
   ],
   "source": [
    "train_data.country.value_counts()"
   ]
  },
  {
   "cell_type": "code",
   "execution_count": 142,
   "metadata": {},
   "outputs": [
    {
     "data": {
      "text/plain": [
       "nan              2533\n",
       "usa               108\n",
       "new york          100\n",
       "london             74\n",
       "united states      50\n",
       "                 ... \n",
       " soooota            1\n",
       "st austell          1\n",
       "fairfield           1\n",
       "irving              1\n",
       "m       pp          1\n",
       "Name: location, Length: 2741, dtype: int64"
      ]
     },
     "execution_count": 142,
     "metadata": {},
     "output_type": "execute_result"
    }
   ],
   "source": [
    "train_data.location.value_counts()"
   ]
  },
  {
   "cell_type": "markdown",
   "metadata": {},
   "source": [
    " "
   ]
  },
  {
   "cell_type": "markdown",
   "metadata": {},
   "source": [
    " "
   ]
  },
  {
   "cell_type": "markdown",
   "metadata": {},
   "source": [
    "As our Cities database does not comprise all countries in the world, let us import a last, but complete country dataset and search for remaining entries..."
   ]
  },
  {
   "cell_type": "code",
   "execution_count": 143,
   "metadata": {},
   "outputs": [],
   "source": [
    "countries = pd.read_csv('All countries.csv')"
   ]
  },
  {
   "cell_type": "code",
   "execution_count": 144,
   "metadata": {},
   "outputs": [],
   "source": [
    "countries['country'] = countries['country'].str.lower()\n",
    "countries['abbreviation'] = countries['abbreviation'].str.lower()"
   ]
  },
  {
   "cell_type": "code",
   "execution_count": 145,
   "metadata": {},
   "outputs": [
    {
     "data": {
      "text/html": [
       "<div>\n",
       "<style scoped>\n",
       "    .dataframe tbody tr th:only-of-type {\n",
       "        vertical-align: middle;\n",
       "    }\n",
       "\n",
       "    .dataframe tbody tr th {\n",
       "        vertical-align: top;\n",
       "    }\n",
       "\n",
       "    .dataframe thead th {\n",
       "        text-align: right;\n",
       "    }\n",
       "</style>\n",
       "<table border=\"1\" class=\"dataframe\">\n",
       "  <thead>\n",
       "    <tr style=\"text-align: right;\">\n",
       "      <th></th>\n",
       "      <th>abbreviation</th>\n",
       "      <th>country</th>\n",
       "    </tr>\n",
       "  </thead>\n",
       "  <tbody>\n",
       "    <tr>\n",
       "      <th>0</th>\n",
       "      <td>af</td>\n",
       "      <td>afghanistan</td>\n",
       "    </tr>\n",
       "    <tr>\n",
       "      <th>1</th>\n",
       "      <td>ax</td>\n",
       "      <td>aland islands</td>\n",
       "    </tr>\n",
       "    <tr>\n",
       "      <th>2</th>\n",
       "      <td>al</td>\n",
       "      <td>albania</td>\n",
       "    </tr>\n",
       "    <tr>\n",
       "      <th>3</th>\n",
       "      <td>dz</td>\n",
       "      <td>algeria</td>\n",
       "    </tr>\n",
       "    <tr>\n",
       "      <th>4</th>\n",
       "      <td>as</td>\n",
       "      <td>american samoa</td>\n",
       "    </tr>\n",
       "  </tbody>\n",
       "</table>\n",
       "</div>"
      ],
      "text/plain": [
       "  abbreviation         country\n",
       "0           af     afghanistan\n",
       "1           ax   aland islands\n",
       "2           al         albania\n",
       "3           dz         algeria\n",
       "4           as  american samoa"
      ]
     },
     "execution_count": 145,
     "metadata": {},
     "output_type": "execute_result"
    }
   ],
   "source": [
    "countries.head()"
   ]
  },
  {
   "cell_type": "code",
   "execution_count": 146,
   "metadata": {},
   "outputs": [],
   "source": [
    "def search_remaining_countries(df, column, countries_df):\n",
    "    '''\n",
    "    Splits the entries to find US locations\n",
    "    '''\n",
    "     \n",
    "    index=0\n",
    "    for item in df[column]:\n",
    "        \n",
    "        if item in countries_df['country'].values:\n",
    "            df.loc[index, 'country'] = countries_df[countries_df['country']==item].abbreviation.values[0]\n",
    "        \n",
    "        else:\n",
    "            pass\n",
    "        \n",
    "        index+=1\n",
    "    \n",
    "    return df"
   ]
  },
  {
   "cell_type": "code",
   "execution_count": 147,
   "metadata": {},
   "outputs": [],
   "source": [
    "train_data = search_remaining_countries(train_data, 'country', countries)\n",
    "test_data  = search_remaining_countries(test_data, 'country', countries)"
   ]
  },
  {
   "cell_type": "code",
   "execution_count": 148,
   "metadata": {},
   "outputs": [
    {
     "data": {
      "text/plain": [
       "nan                  2533\n",
       "US                   2048\n",
       "GB                    272\n",
       "JP                    138\n",
       "CA                    112\n",
       "                     ... \n",
       "     w patrick st       1\n",
       "timeline kamu           1\n",
       "poconos                 1\n",
       "LK                      1\n",
       "m       pp              1\n",
       "Name: country, Length: 1340, dtype: int64"
      ]
     },
     "execution_count": 148,
     "metadata": {},
     "output_type": "execute_result"
    }
   ],
   "source": [
    "train_data.country.value_counts()"
   ]
  },
  {
   "cell_type": "markdown",
   "metadata": {},
   "source": [
    " "
   ]
  },
  {
   "cell_type": "markdown",
   "metadata": {},
   "source": [
    "As we achieved less variation in ['country'] data than in the original ['location'] field, let us work with ['country'] feature from now on. \n",
    "\n",
    "To standardize it, the entries with **len(country)>3** and those which does not match any real country abbreviation will be tagged as NaN, as their location is mostly fake and brings no relevant information"
   ]
  },
  {
   "cell_type": "code",
   "execution_count": 149,
   "metadata": {},
   "outputs": [],
   "source": [
    "def replace_with_nan_v1(df):\n",
    "    \n",
    "    '''This version 1 (v1) replaces entries with len()>3 for 'nan' values'''\n",
    "    \n",
    "    \n",
    "    df['country']= np.where(df.country.str.len()>3, 'nan', df['country'])\n",
    "    \n",
    "    return df"
   ]
  },
  {
   "cell_type": "code",
   "execution_count": 150,
   "metadata": {},
   "outputs": [],
   "source": [
    "train_data = replace_with_nan_v1(train_data)\n",
    "test_data  = replace_with_nan_v1(test_data)"
   ]
  },
  {
   "cell_type": "code",
   "execution_count": 151,
   "metadata": {},
   "outputs": [],
   "source": [
    "def replace_with_nan_v2(df, countries_df):\n",
    "    \n",
    "    '''This version 2 (v2) searches for countries abbreviations in the dataframe ['country'] entries. If an \n",
    "    entry does not match an existing country abbreviation, it is replaced by a 'nan' value'''\n",
    "         \n",
    "    index=0\n",
    "    for item in df['country']:\n",
    "        \n",
    "        if (item != 'nan') and (item in countries_df['abbreviation'].values):\n",
    "            pass\n",
    "        \n",
    "        else:\n",
    "            df.loc[index, 'country'] = 'nan'\n",
    "        \n",
    "        index+=1\n",
    "    \n",
    "    return df"
   ]
  },
  {
   "cell_type": "code",
   "execution_count": 152,
   "metadata": {},
   "outputs": [],
   "source": [
    "train_data = replace_with_nan_v2(train_data, countries)\n",
    "test_data  = replace_with_nan_v2(test_data, countries)"
   ]
  },
  {
   "cell_type": "code",
   "execution_count": 153,
   "metadata": {},
   "outputs": [
    {
     "data": {
      "text/plain": [
       "(64,)"
      ]
     },
     "execution_count": 153,
     "metadata": {},
     "output_type": "execute_result"
    }
   ],
   "source": [
    "train_data.country.value_counts().shape"
   ]
  },
  {
   "cell_type": "code",
   "execution_count": 154,
   "metadata": {},
   "outputs": [
    {
     "data": {
      "text/plain": [
       "(32,)"
      ]
     },
     "execution_count": 154,
     "metadata": {},
     "output_type": "execute_result"
    }
   ],
   "source": [
    "test_data.country.value_counts().shape"
   ]
  },
  {
   "cell_type": "code",
   "execution_count": 155,
   "metadata": {},
   "outputs": [],
   "source": [
    "train_data['country'] = train_data['country'].str.upper()\n",
    "test_data['country']  = test_data['country'].str.upper()"
   ]
  },
  {
   "cell_type": "markdown",
   "metadata": {},
   "source": [
    " "
   ]
  },
  {
   "cell_type": "markdown",
   "metadata": {},
   "source": [
    " "
   ]
  },
  {
   "cell_type": "markdown",
   "metadata": {},
   "source": [
    "**TASK 4:** Encode country and keywords"
   ]
  },
  {
   "cell_type": "markdown",
   "metadata": {},
   "source": [
    "To encode **['country']**, we choose **Frequency Encoding**. As briefly explained in this post (https://towardsdatascience.com/how-to-encode-categorical-data-d44dde313131), this gives the probability of each class. Given the huge amount of possible locations, and the different frequencies distributions, we avoid a large matrix in conventional encoding plus inform the 'weight' of each place."
   ]
  },
  {
   "cell_type": "code",
   "execution_count": 157,
   "metadata": {},
   "outputs": [],
   "source": [
    "# Group it by type, find the size of each type, and divide by total event\n",
    "\n",
    "# Train data\n",
    "country_train_freq = train_data.groupby(\"country\").size()/len(train_data)\n",
    "train_data['country freq'] = train_data['country'].map(country_train_freq) \n",
    "\n",
    "\n",
    "# Test data\n",
    "country_test_freq = test_data.groupby(\"country\").size()/len(test_data)\n",
    "test_data['country freq'] = test_data['country'].map(country_test_freq) "
   ]
  },
  {
   "cell_type": "markdown",
   "metadata": {},
   "source": [
    "To encode **['keywords']**, we choose conventional **Binary Encoding**."
   ]
  },
  {
   "cell_type": "code",
   "execution_count": 158,
   "metadata": {},
   "outputs": [],
   "source": [
    "def binary_encoder(df, column):\n",
    "    \n",
    "    be = BinaryEncoder(cols=[column])\n",
    "    newdata = be.fit_transform(df[column])\n",
    "    \n",
    "    assert newdata.shape[0]==df.shape[0]\n",
    "    \n",
    "    df = pd.concat([df, newdata], axis=1)\n",
    "    \n",
    "    return df"
   ]
  },
  {
   "cell_type": "code",
   "execution_count": 159,
   "metadata": {},
   "outputs": [],
   "source": [
    "train_data = binary_encoder(train_data, 'keyword')\n",
    "test_data  = binary_encoder(test_data, 'keyword')"
   ]
  },
  {
   "cell_type": "code",
   "execution_count": 160,
   "metadata": {},
   "outputs": [
    {
     "data": {
      "text/html": [
       "<div>\n",
       "<style scoped>\n",
       "    .dataframe tbody tr th:only-of-type {\n",
       "        vertical-align: middle;\n",
       "    }\n",
       "\n",
       "    .dataframe tbody tr th {\n",
       "        vertical-align: top;\n",
       "    }\n",
       "\n",
       "    .dataframe thead th {\n",
       "        text-align: right;\n",
       "    }\n",
       "</style>\n",
       "<table border=\"1\" class=\"dataframe\">\n",
       "  <thead>\n",
       "    <tr style=\"text-align: right;\">\n",
       "      <th></th>\n",
       "      <th>id</th>\n",
       "      <th>keyword</th>\n",
       "      <th>location</th>\n",
       "      <th>text</th>\n",
       "      <th>target</th>\n",
       "      <th>num chars</th>\n",
       "      <th>num special chars</th>\n",
       "      <th>country</th>\n",
       "      <th>country freq</th>\n",
       "      <th>keyword_0</th>\n",
       "      <th>keyword_1</th>\n",
       "      <th>keyword_2</th>\n",
       "      <th>keyword_3</th>\n",
       "      <th>keyword_4</th>\n",
       "      <th>keyword_5</th>\n",
       "      <th>keyword_6</th>\n",
       "      <th>keyword_7</th>\n",
       "    </tr>\n",
       "  </thead>\n",
       "  <tbody>\n",
       "    <tr>\n",
       "      <th>0</th>\n",
       "      <td>1</td>\n",
       "      <td>NaN</td>\n",
       "      <td>nan</td>\n",
       "      <td>Our Deeds are the Reason of this #earthquake M...</td>\n",
       "      <td>1</td>\n",
       "      <td>69</td>\n",
       "      <td>1</td>\n",
       "      <td>NAN</td>\n",
       "      <td>0.959149</td>\n",
       "      <td>0</td>\n",
       "      <td>0</td>\n",
       "      <td>0</td>\n",
       "      <td>0</td>\n",
       "      <td>0</td>\n",
       "      <td>0</td>\n",
       "      <td>0</td>\n",
       "      <td>1</td>\n",
       "    </tr>\n",
       "    <tr>\n",
       "      <th>1</th>\n",
       "      <td>4</td>\n",
       "      <td>NaN</td>\n",
       "      <td>nan</td>\n",
       "      <td>Forest fire near La Ronge Sask. Canada</td>\n",
       "      <td>1</td>\n",
       "      <td>38</td>\n",
       "      <td>1</td>\n",
       "      <td>NAN</td>\n",
       "      <td>0.959149</td>\n",
       "      <td>0</td>\n",
       "      <td>0</td>\n",
       "      <td>0</td>\n",
       "      <td>0</td>\n",
       "      <td>0</td>\n",
       "      <td>0</td>\n",
       "      <td>0</td>\n",
       "      <td>1</td>\n",
       "    </tr>\n",
       "    <tr>\n",
       "      <th>2</th>\n",
       "      <td>5</td>\n",
       "      <td>NaN</td>\n",
       "      <td>nan</td>\n",
       "      <td>All residents asked to 'shelter in place' are ...</td>\n",
       "      <td>1</td>\n",
       "      <td>133</td>\n",
       "      <td>3</td>\n",
       "      <td>NAN</td>\n",
       "      <td>0.959149</td>\n",
       "      <td>0</td>\n",
       "      <td>0</td>\n",
       "      <td>0</td>\n",
       "      <td>0</td>\n",
       "      <td>0</td>\n",
       "      <td>0</td>\n",
       "      <td>0</td>\n",
       "      <td>1</td>\n",
       "    </tr>\n",
       "  </tbody>\n",
       "</table>\n",
       "</div>"
      ],
      "text/plain": [
       "   id keyword location                                               text  \\\n",
       "0   1     NaN      nan  Our Deeds are the Reason of this #earthquake M...   \n",
       "1   4     NaN      nan             Forest fire near La Ronge Sask. Canada   \n",
       "2   5     NaN      nan  All residents asked to 'shelter in place' are ...   \n",
       "\n",
       "   target  num chars  num special chars country  country freq  keyword_0  \\\n",
       "0       1         69                  1     NAN      0.959149          0   \n",
       "1       1         38                  1     NAN      0.959149          0   \n",
       "2       1        133                  3     NAN      0.959149          0   \n",
       "\n",
       "   keyword_1  keyword_2  keyword_3  keyword_4  keyword_5  keyword_6  keyword_7  \n",
       "0          0          0          0          0          0          0          1  \n",
       "1          0          0          0          0          0          0          1  \n",
       "2          0          0          0          0          0          0          1  "
      ]
     },
     "execution_count": 160,
     "metadata": {},
     "output_type": "execute_result"
    }
   ],
   "source": [
    "train_data.head(3)"
   ]
  },
  {
   "cell_type": "markdown",
   "metadata": {},
   "source": [
    " "
   ]
  },
  {
   "cell_type": "markdown",
   "metadata": {},
   "source": [
    " "
   ]
  },
  {
   "cell_type": "markdown",
   "metadata": {},
   "source": [
    "**TASK 5:** Text cleaning and tokenizing"
   ]
  },
  {
   "cell_type": "code",
   "execution_count": 161,
   "metadata": {},
   "outputs": [],
   "source": [
    "train_data['text']  = train_data['text'].apply(lambda x : remove_special_chars(x))\n",
    "test_data['text']   = test_data['text'].apply(lambda x : remove_special_chars(x))"
   ]
  },
  {
   "cell_type": "code",
   "execution_count": 162,
   "metadata": {},
   "outputs": [
    {
     "data": {
      "text/plain": [
       "0       Our Deeds are the Reason of this  earthquake M...\n",
       "1                  Forest fire near La Ronge Sask  Canada\n",
       "2       All residents asked to  shelter in place  are ...\n",
       "3              people receive  wildfires evacuation or...\n",
       "4       Just got sent this photo from Ruby  Alaska as ...\n",
       "                              ...                        \n",
       "7608    Two giant cranes holding a bridge collapse int...\n",
       "7609     aria ahrary  TheTawniest The out of control w...\n",
       "7610    M            UTC   km S of Volcano Hawaii  htt...\n",
       "7611    Police investigating after an e bike collided ...\n",
       "7612    The Latest  More Homes Razed by Northern Calif...\n",
       "Name: text, Length: 7613, dtype: object"
      ]
     },
     "execution_count": 162,
     "metadata": {},
     "output_type": "execute_result"
    }
   ],
   "source": [
    "train_data.text"
   ]
  },
  {
   "cell_type": "code",
   "execution_count": 163,
   "metadata": {},
   "outputs": [],
   "source": [
    "def tokenize_and_remove_stopwords(text):\n",
    "    \n",
    "    '''Removes stop words and non-English vocabulary'''\n",
    "    \n",
    "    # setting stop words\n",
    "    stop_words = set(stopwords.words(\"english\"))\n",
    "    stop_words.update(['https', 'http', 'amp', 'co', 't', 'u', 'e', 'm', 'r' 'new', \"i'm\", 'im', \"would\",\n",
    "                       'the'])\n",
    "    \n",
    "    # setting English vocabulary\n",
    "    english_vocab = set(w.lower() for w in words.words())\n",
    "    \n",
    "    text = word_tokenize(text)\n",
    "    clean_text = [word for word in text if word not in stop_words and word in english_vocab]\n",
    "    \n",
    "    return clean_text"
   ]
  },
  {
   "cell_type": "code",
   "execution_count": 165,
   "metadata": {},
   "outputs": [],
   "source": [
    "train_data['text']  = train_data['text'].apply(lambda x : tokenize_and_remove_stopwords(x))\n",
    "test_data['text']   = test_data['text'].apply(lambda x : tokenize_and_remove_stopwords(x))"
   ]
  },
  {
   "cell_type": "code",
   "execution_count": 166,
   "metadata": {},
   "outputs": [],
   "source": [
    "#Word2Vec copy\n",
    "train_copy = train_data.copy()\n",
    "test_copy  = test_data.copy()"
   ]
  },
  {
   "cell_type": "code",
   "execution_count": 72,
   "metadata": {},
   "outputs": [
    {
     "data": {
      "text/plain": [
       "0                                        [earthquake, us]\n",
       "1                                            [fire, near]\n",
       "2       [shelter, place, notified, evacuation, shelter...\n",
       "3                           [people, receive, evacuation]\n",
       "4                       [got, sent, photo, smoke, school]\n",
       "                              ...                        \n",
       "7608           [giant, holding, bridge, collapse, nearby]\n",
       "7609    [aria, control, wild, even, part, state, troub...\n",
       "7610                                                   []\n",
       "7611    [investigating, bike, car, bike, rider, seriou...\n",
       "7612                                                   []\n",
       "Name: text, Length: 7613, dtype: object"
      ]
     },
     "execution_count": 72,
     "metadata": {},
     "output_type": "execute_result"
    }
   ],
   "source": [
    "train_data.text"
   ]
  },
  {
   "cell_type": "code",
   "execution_count": 73,
   "metadata": {},
   "outputs": [],
   "source": [
    "def lemmatizer(tokens):\n",
    "    \n",
    "    lemmatizer = WordNetLemmatizer()\n",
    "    clean_tokens = []\n",
    "    \n",
    "    for token in tokens:\n",
    "        clean_tokens.append(lemmatizer.lemmatize(token).lower().strip())\n",
    "     \n",
    "    return \" \".join(clean_tokens)"
   ]
  },
  {
   "cell_type": "code",
   "execution_count": 74,
   "metadata": {},
   "outputs": [],
   "source": [
    "train_data['text']  = train_data['text'].apply(lambda x : lemmatizer(x))\n",
    "test_data['text']   = test_data['text'].apply(lambda x : lemmatizer(x))"
   ]
  },
  {
   "cell_type": "code",
   "execution_count": 75,
   "metadata": {},
   "outputs": [],
   "source": [
    "spell = SpellChecker()\n",
    "\n",
    "def correct_spellings(text):\n",
    "    \n",
    "    '''Corrects mispelling words'''\n",
    "    \n",
    "    corrected_text = []\n",
    "    misspelled_words = spell.unknown(text.split())\n",
    "    \n",
    "    for word in text.split():\n",
    "        if word in misspelled_words:\n",
    "            corrected_text.append(spell.correction(word))\n",
    "        else:\n",
    "            corrected_text.append(word)\n",
    "            \n",
    "    return \" \".join(corrected_text)"
   ]
  },
  {
   "cell_type": "code",
   "execution_count": 76,
   "metadata": {},
   "outputs": [],
   "source": [
    "train_data['text']  = train_data['text'].apply(lambda x : correct_spellings(x))\n",
    "test_data['text']   = test_data['text'].apply(lambda x : correct_spellings(x))"
   ]
  },
  {
   "cell_type": "code",
   "execution_count": 77,
   "metadata": {},
   "outputs": [
    {
     "data": {
      "text/plain": [
       "0                                            earthquake u\n",
       "1                                               fire near\n",
       "2         shelter place notified evacuation shelter place\n",
       "3                               people receive evacuation\n",
       "4                             got sent photo smoke school\n",
       "                              ...                        \n",
       "7608                 giant holding bridge collapse nearby\n",
       "7609          aria control wild even part state troubling\n",
       "7610                                                     \n",
       "7611    investigating bike car bike rider serious non ...\n",
       "7612                                                     \n",
       "Name: text, Length: 7613, dtype: object"
      ]
     },
     "execution_count": 77,
     "metadata": {},
     "output_type": "execute_result"
    }
   ],
   "source": [
    "train_data.text"
   ]
  },
  {
   "cell_type": "markdown",
   "metadata": {},
   "source": [
    "For tokenization, we use the method **TfidfVectorizer**, which is a method from *feature_extraction* for texts available in Scikit Learn. According to the documentation:\n",
    "\n",
    "- Convert a collection of raw documents to a matrix of TF-IDF features. Equivalent to *CountVectorizer* followed by *TfidfTransformer*.\n",
    "\n",
    "The last one, according to Scikit Learn documentation:\n",
    "\n",
    "- Transform a count matrix to a normalized tf or tf-idf representation.\n",
    "- **Tf** means *term-frequency* while **tf-idf** means *term-frequency times inverse document-frequency*. This is a common term weighting scheme in information retrieval, that has also found good use in document classification."
   ]
  },
  {
   "cell_type": "code",
   "execution_count": 78,
   "metadata": {},
   "outputs": [],
   "source": [
    "vectorizer = TfidfVectorizer(tokenizer=word_tokenize, token_pattern=None)"
   ]
  },
  {
   "cell_type": "code",
   "execution_count": 79,
   "metadata": {},
   "outputs": [],
   "source": [
    "# For Train Set\n",
    "\n",
    "train_texts = vectorizer.fit_transform(train_data['text'])\n",
    "test_texts  = vectorizer.transform(test_data['text'])"
   ]
  },
  {
   "cell_type": "code",
   "execution_count": 80,
   "metadata": {},
   "outputs": [
    {
     "data": {
      "text/plain": [
       "(7613, 5229)"
      ]
     },
     "execution_count": 80,
     "metadata": {},
     "output_type": "execute_result"
    }
   ],
   "source": [
    "train_texts.shape"
   ]
  },
  {
   "cell_type": "code",
   "execution_count": 81,
   "metadata": {},
   "outputs": [],
   "source": [
    "train_texts = pd.DataFrame(train_texts.toarray(), columns=vectorizer.get_feature_names_out())\n",
    "test_texts  = pd.DataFrame(test_texts.toarray(), columns=vectorizer.get_feature_names_out())"
   ]
  },
  {
   "cell_type": "code",
   "execution_count": 82,
   "metadata": {},
   "outputs": [
    {
     "data": {
      "text/plain": [
       "Index(['a', 'aba', 'abandon', 'abandoned', 'abe', 'ability', 'abject',\n",
       "       'ablaze', 'able', 'aboard',\n",
       "       ...\n",
       "       'youth', 'yr', 'yuan', 'zero', 'zionism', 'zionist', 'zo', 'zombie',\n",
       "       'zone', 'zoom'],\n",
       "      dtype='object', length=5229)"
      ]
     },
     "execution_count": 82,
     "metadata": {},
     "output_type": "execute_result"
    }
   ],
   "source": [
    "train_texts.columns"
   ]
  },
  {
   "cell_type": "code",
   "execution_count": 83,
   "metadata": {},
   "outputs": [
    {
     "data": {
      "text/plain": [
       "Index(['a', 'aba', 'abandon', 'abandoned', 'abe', 'ability', 'abject',\n",
       "       'ablaze', 'able', 'aboard',\n",
       "       ...\n",
       "       'youth', 'yr', 'yuan', 'zero', 'zionism', 'zionist', 'zo', 'zombie',\n",
       "       'zone', 'zoom'],\n",
       "      dtype='object', length=5229)"
      ]
     },
     "execution_count": 83,
     "metadata": {},
     "output_type": "execute_result"
    }
   ],
   "source": [
    "test_texts.columns"
   ]
  },
  {
   "cell_type": "markdown",
   "metadata": {},
   "source": [
    " "
   ]
  },
  {
   "cell_type": "markdown",
   "metadata": {},
   "source": [
    "### Training the model (1st try)"
   ]
  },
  {
   "cell_type": "code",
   "execution_count": 84,
   "metadata": {},
   "outputs": [],
   "source": [
    "# Metrics\n",
    "from sklearn.metrics import roc_auc_score, accuracy_score, make_scorer\n",
    "\n",
    "# Pipeline\n",
    "from sklearn.pipeline import Pipeline\n",
    "from sklearn.model_selection import GridSearchCV\n",
    "from sklearn.model_selection import RepeatedKFold\n",
    "\n",
    "# Methods\n",
    "from sklearn.ensemble import RandomForestClassifier"
   ]
  },
  {
   "cell_type": "code",
   "execution_count": 85,
   "metadata": {},
   "outputs": [
    {
     "data": {
      "text/plain": [
       "Index(['id', 'keyword', 'location', 'text', 'target', 'num chars',\n",
       "       'num special chars', 'country', 'country freq', 'keyword_0',\n",
       "       'keyword_1', 'keyword_2', 'keyword_3', 'keyword_4', 'keyword_5',\n",
       "       'keyword_6', 'keyword_7'],\n",
       "      dtype='object')"
      ]
     },
     "execution_count": 85,
     "metadata": {},
     "output_type": "execute_result"
    }
   ],
   "source": [
    "train_data.columns"
   ]
  },
  {
   "cell_type": "code",
   "execution_count": 86,
   "metadata": {},
   "outputs": [],
   "source": [
    "xtrain = train_data.drop(columns=['id', 'keyword', 'location', 'text', 'country', 'target'])\n",
    "xtrain = pd.concat([xtrain, train_texts], axis=1)"
   ]
  },
  {
   "cell_type": "code",
   "execution_count": 87,
   "metadata": {},
   "outputs": [],
   "source": [
    "ytrain = train_data['target']"
   ]
  },
  {
   "cell_type": "code",
   "execution_count": 88,
   "metadata": {},
   "outputs": [],
   "source": [
    "xtest = test_data.drop(columns=['id', 'keyword', 'location', 'text', 'country'])\n",
    "xtest = pd.concat([xtest, test_texts], axis=1)"
   ]
  },
  {
   "cell_type": "markdown",
   "metadata": {},
   "source": [
    " "
   ]
  },
  {
   "cell_type": "markdown",
   "metadata": {},
   "source": [
    "**Method 1:** splitting the train set into a validation subset"
   ]
  },
  {
   "cell_type": "code",
   "execution_count": 89,
   "metadata": {},
   "outputs": [],
   "source": [
    "from sklearn.model_selection import train_test_split"
   ]
  },
  {
   "cell_type": "markdown",
   "metadata": {},
   "source": [
    "As we don't have 'ytest', we are going to split 15% for validation set"
   ]
  },
  {
   "cell_type": "code",
   "execution_count": 90,
   "metadata": {},
   "outputs": [],
   "source": [
    "xtrain, xvalid, ytrain, yvalid = train_test_split(xtrain, ytrain, test_size=0.15, random_state=42)"
   ]
  },
  {
   "cell_type": "code",
   "execution_count": 91,
   "metadata": {},
   "outputs": [
    {
     "name": "stdout",
     "output_type": "stream",
     "text": [
      "X train size: (6471, 5240)\n",
      "Y train size: (6471,)\n",
      "X validation size: (1142, 5240)\n",
      "Y validation size: (1142,)\n",
      "X test size: (3263, 5240)\n"
     ]
    }
   ],
   "source": [
    "print('X train size:', xtrain.shape)\n",
    "print('Y train size:', ytrain.shape)\n",
    "print('X validation size:', xvalid.shape)\n",
    "print('Y validation size:', yvalid.shape)\n",
    "print('X test size:', xtest.shape)"
   ]
  },
  {
   "cell_type": "code",
   "execution_count": 92,
   "metadata": {},
   "outputs": [
    {
     "name": "stdout",
     "output_type": "stream",
     "text": [
      "Fitting 5 folds for each of 9 candidates, totalling 45 fits\n",
      "Best parameter (CV score=0.764):\n",
      "Best parameters:  {'RF__max_depth': 15, 'RF__n_estimators': 200}\n",
      "Best index:  8\n",
      "Best estimator:  Pipeline(steps=[('RF', RandomForestClassifier(max_depth=15, n_estimators=200))])\n"
     ]
    }
   ],
   "source": [
    "RF = RandomForestClassifier() # using Gini Impurity algorithm (default)\n",
    "    \n",
    "# Set the steps of the pipeline\n",
    "pipe = Pipeline(steps=[(\"RF\", RF)])\n",
    "\n",
    "# Set the parameters grid to be tested.Parameters of pipelines can be set using ‘__’ separated parameter names: \n",
    "param_grid = {\"RF__n_estimators\": [100, 150, 200],\n",
    "              \"RF__max_depth\":[7, 10, 15],\n",
    "             } \n",
    "\n",
    "scoring_list = [\"roc_auc\", \"accuracy\"]\n",
    "\n",
    "# set the Grid search CV\n",
    "search = GridSearchCV(pipe, \n",
    "                      param_grid, \n",
    "                      n_jobs=2, \n",
    "                      scoring=scoring_list,\n",
    "                      refit='roc_auc',\n",
    "                      verbose=2,\n",
    "                      return_train_score=True,\n",
    "                       cv=5                    #CV 3-fold\n",
    "                     )\n",
    "\n",
    "search.fit(xtrain, ytrain)\n",
    "results = search.cv_results_\n",
    "method = search.best_estimator_\n",
    "\n",
    "print(\"Best parameter (CV score=%0.3f):\" % search.best_score_)\n",
    "print(\"Best parameters: \", search.best_params_)\n",
    "print(\"Best index: \", search.best_index_)\n",
    "print(\"Best estimator: \", search.best_estimator_)"
   ]
  },
  {
   "cell_type": "code",
   "execution_count": 93,
   "metadata": {},
   "outputs": [
    {
     "data": {
      "text/html": [
       "<div>\n",
       "<style scoped>\n",
       "    .dataframe tbody tr th:only-of-type {\n",
       "        vertical-align: middle;\n",
       "    }\n",
       "\n",
       "    .dataframe tbody tr th {\n",
       "        vertical-align: top;\n",
       "    }\n",
       "\n",
       "    .dataframe thead th {\n",
       "        text-align: right;\n",
       "    }\n",
       "</style>\n",
       "<table border=\"1\" class=\"dataframe\">\n",
       "  <thead>\n",
       "    <tr style=\"text-align: right;\">\n",
       "      <th></th>\n",
       "      <th>0</th>\n",
       "      <th>1</th>\n",
       "    </tr>\n",
       "  </thead>\n",
       "  <tbody>\n",
       "    <tr>\n",
       "      <th>0</th>\n",
       "      <td>0.661868</td>\n",
       "      <td>0.338132</td>\n",
       "    </tr>\n",
       "    <tr>\n",
       "      <th>1</th>\n",
       "      <td>0.578524</td>\n",
       "      <td>0.421476</td>\n",
       "    </tr>\n",
       "    <tr>\n",
       "      <th>2</th>\n",
       "      <td>0.532441</td>\n",
       "      <td>0.467559</td>\n",
       "    </tr>\n",
       "    <tr>\n",
       "      <th>3</th>\n",
       "      <td>0.634374</td>\n",
       "      <td>0.365626</td>\n",
       "    </tr>\n",
       "    <tr>\n",
       "      <th>4</th>\n",
       "      <td>0.593893</td>\n",
       "      <td>0.406107</td>\n",
       "    </tr>\n",
       "    <tr>\n",
       "      <th>...</th>\n",
       "      <td>...</td>\n",
       "      <td>...</td>\n",
       "    </tr>\n",
       "    <tr>\n",
       "      <th>1137</th>\n",
       "      <td>0.562609</td>\n",
       "      <td>0.437391</td>\n",
       "    </tr>\n",
       "    <tr>\n",
       "      <th>1138</th>\n",
       "      <td>0.598959</td>\n",
       "      <td>0.401041</td>\n",
       "    </tr>\n",
       "    <tr>\n",
       "      <th>1139</th>\n",
       "      <td>0.512058</td>\n",
       "      <td>0.487942</td>\n",
       "    </tr>\n",
       "    <tr>\n",
       "      <th>1140</th>\n",
       "      <td>0.568228</td>\n",
       "      <td>0.431772</td>\n",
       "    </tr>\n",
       "    <tr>\n",
       "      <th>1141</th>\n",
       "      <td>0.635581</td>\n",
       "      <td>0.364419</td>\n",
       "    </tr>\n",
       "  </tbody>\n",
       "</table>\n",
       "<p>1142 rows × 2 columns</p>\n",
       "</div>"
      ],
      "text/plain": [
       "             0         1\n",
       "0     0.661868  0.338132\n",
       "1     0.578524  0.421476\n",
       "2     0.532441  0.467559\n",
       "3     0.634374  0.365626\n",
       "4     0.593893  0.406107\n",
       "...        ...       ...\n",
       "1137  0.562609  0.437391\n",
       "1138  0.598959  0.401041\n",
       "1139  0.512058  0.487942\n",
       "1140  0.568228  0.431772\n",
       "1141  0.635581  0.364419\n",
       "\n",
       "[1142 rows x 2 columns]"
      ]
     },
     "execution_count": 93,
     "metadata": {},
     "output_type": "execute_result"
    }
   ],
   "source": [
    "ypred_RF = method.predict_proba(xvalid)\n",
    "pd.DataFrame(ypred_RF)"
   ]
  },
  {
   "cell_type": "code",
   "execution_count": 95,
   "metadata": {
    "collapsed": true
   },
   "outputs": [
    {
     "data": {
      "text/plain": [
       "Index(['mean_fit_time', 'std_fit_time', 'mean_score_time', 'std_score_time',\n",
       "       'param_RF__max_depth', 'param_RF__n_estimators', 'params',\n",
       "       'split0_test_roc_auc', 'split1_test_roc_auc', 'split2_test_roc_auc',\n",
       "       'split3_test_roc_auc', 'split4_test_roc_auc', 'mean_test_roc_auc',\n",
       "       'std_test_roc_auc', 'rank_test_roc_auc', 'split0_train_roc_auc',\n",
       "       'split1_train_roc_auc', 'split2_train_roc_auc', 'split3_train_roc_auc',\n",
       "       'split4_train_roc_auc', 'mean_train_roc_auc', 'std_train_roc_auc',\n",
       "       'split0_test_accuracy', 'split1_test_accuracy', 'split2_test_accuracy',\n",
       "       'split3_test_accuracy', 'split4_test_accuracy', 'mean_test_accuracy',\n",
       "       'std_test_accuracy', 'rank_test_accuracy', 'split0_train_accuracy',\n",
       "       'split1_train_accuracy', 'split2_train_accuracy',\n",
       "       'split3_train_accuracy', 'split4_train_accuracy', 'mean_train_accuracy',\n",
       "       'std_train_accuracy'],\n",
       "      dtype='object')"
      ]
     },
     "execution_count": 95,
     "metadata": {},
     "output_type": "execute_result"
    }
   ],
   "source": [
    "results_df = pd.DataFrame(results)\n",
    "results_df.columns"
   ]
  },
  {
   "cell_type": "code",
   "execution_count": 99,
   "metadata": {
    "collapsed": true
   },
   "outputs": [
    {
     "data": {
      "text/html": [
       "<div>\n",
       "<style scoped>\n",
       "    .dataframe tbody tr th:only-of-type {\n",
       "        vertical-align: middle;\n",
       "    }\n",
       "\n",
       "    .dataframe tbody tr th {\n",
       "        vertical-align: top;\n",
       "    }\n",
       "\n",
       "    .dataframe thead th {\n",
       "        text-align: right;\n",
       "    }\n",
       "</style>\n",
       "<table border=\"1\" class=\"dataframe\">\n",
       "  <thead>\n",
       "    <tr style=\"text-align: right;\">\n",
       "      <th></th>\n",
       "      <th>0</th>\n",
       "      <th>1</th>\n",
       "      <th>2</th>\n",
       "      <th>3</th>\n",
       "      <th>4</th>\n",
       "      <th>5</th>\n",
       "      <th>6</th>\n",
       "      <th>7</th>\n",
       "      <th>8</th>\n",
       "    </tr>\n",
       "  </thead>\n",
       "  <tbody>\n",
       "    <tr>\n",
       "      <th>split0_test_roc_auc</th>\n",
       "      <td>0.762272</td>\n",
       "      <td>0.762069</td>\n",
       "      <td>0.772482</td>\n",
       "      <td>0.755270</td>\n",
       "      <td>0.770899</td>\n",
       "      <td>0.769823</td>\n",
       "      <td>0.772933</td>\n",
       "      <td>0.767524</td>\n",
       "      <td>0.776012</td>\n",
       "    </tr>\n",
       "    <tr>\n",
       "      <th>split1_test_roc_auc</th>\n",
       "      <td>0.748100</td>\n",
       "      <td>0.753830</td>\n",
       "      <td>0.755878</td>\n",
       "      <td>0.748909</td>\n",
       "      <td>0.745634</td>\n",
       "      <td>0.758118</td>\n",
       "      <td>0.756904</td>\n",
       "      <td>0.758654</td>\n",
       "      <td>0.758972</td>\n",
       "    </tr>\n",
       "    <tr>\n",
       "      <th>split2_test_roc_auc</th>\n",
       "      <td>0.753362</td>\n",
       "      <td>0.769856</td>\n",
       "      <td>0.769487</td>\n",
       "      <td>0.761404</td>\n",
       "      <td>0.773671</td>\n",
       "      <td>0.779331</td>\n",
       "      <td>0.781945</td>\n",
       "      <td>0.773442</td>\n",
       "      <td>0.780772</td>\n",
       "    </tr>\n",
       "    <tr>\n",
       "      <th>split3_test_roc_auc</th>\n",
       "      <td>0.738863</td>\n",
       "      <td>0.728527</td>\n",
       "      <td>0.733735</td>\n",
       "      <td>0.733200</td>\n",
       "      <td>0.738651</td>\n",
       "      <td>0.742489</td>\n",
       "      <td>0.736991</td>\n",
       "      <td>0.747029</td>\n",
       "      <td>0.742407</td>\n",
       "    </tr>\n",
       "    <tr>\n",
       "      <th>split4_test_roc_auc</th>\n",
       "      <td>0.751678</td>\n",
       "      <td>0.755481</td>\n",
       "      <td>0.752881</td>\n",
       "      <td>0.748881</td>\n",
       "      <td>0.756049</td>\n",
       "      <td>0.758459</td>\n",
       "      <td>0.763098</td>\n",
       "      <td>0.762836</td>\n",
       "      <td>0.761164</td>\n",
       "    </tr>\n",
       "    <tr>\n",
       "      <th>mean_test_roc_auc</th>\n",
       "      <td>0.750855</td>\n",
       "      <td>0.753953</td>\n",
       "      <td>0.756893</td>\n",
       "      <td>0.749533</td>\n",
       "      <td>0.756981</td>\n",
       "      <td>0.761644</td>\n",
       "      <td>0.762374</td>\n",
       "      <td>0.761897</td>\n",
       "      <td>0.763866</td>\n",
       "    </tr>\n",
       "    <tr>\n",
       "      <th>std_test_roc_auc</th>\n",
       "      <td>0.007599</td>\n",
       "      <td>0.013911</td>\n",
       "      <td>0.013821</td>\n",
       "      <td>0.009396</td>\n",
       "      <td>0.013696</td>\n",
       "      <td>0.012404</td>\n",
       "      <td>0.015292</td>\n",
       "      <td>0.008915</td>\n",
       "      <td>0.013602</td>\n",
       "    </tr>\n",
       "    <tr>\n",
       "      <th>rank_test_roc_auc</th>\n",
       "      <td>8.000000</td>\n",
       "      <td>7.000000</td>\n",
       "      <td>6.000000</td>\n",
       "      <td>9.000000</td>\n",
       "      <td>5.000000</td>\n",
       "      <td>4.000000</td>\n",
       "      <td>2.000000</td>\n",
       "      <td>3.000000</td>\n",
       "      <td>1.000000</td>\n",
       "    </tr>\n",
       "    <tr>\n",
       "      <th>split0_train_roc_auc</th>\n",
       "      <td>0.811247</td>\n",
       "      <td>0.813282</td>\n",
       "      <td>0.817379</td>\n",
       "      <td>0.816554</td>\n",
       "      <td>0.836077</td>\n",
       "      <td>0.822776</td>\n",
       "      <td>0.853251</td>\n",
       "      <td>0.860539</td>\n",
       "      <td>0.852733</td>\n",
       "    </tr>\n",
       "    <tr>\n",
       "      <th>split1_train_roc_auc</th>\n",
       "      <td>0.814010</td>\n",
       "      <td>0.820731</td>\n",
       "      <td>0.814627</td>\n",
       "      <td>0.828249</td>\n",
       "      <td>0.831676</td>\n",
       "      <td>0.834234</td>\n",
       "      <td>0.857107</td>\n",
       "      <td>0.861375</td>\n",
       "      <td>0.858658</td>\n",
       "    </tr>\n",
       "    <tr>\n",
       "      <th>split2_train_roc_auc</th>\n",
       "      <td>0.799598</td>\n",
       "      <td>0.808224</td>\n",
       "      <td>0.820085</td>\n",
       "      <td>0.828064</td>\n",
       "      <td>0.827323</td>\n",
       "      <td>0.841484</td>\n",
       "      <td>0.850033</td>\n",
       "      <td>0.854010</td>\n",
       "      <td>0.860112</td>\n",
       "    </tr>\n",
       "    <tr>\n",
       "      <th>split3_train_roc_auc</th>\n",
       "      <td>0.821045</td>\n",
       "      <td>0.811886</td>\n",
       "      <td>0.818530</td>\n",
       "      <td>0.838951</td>\n",
       "      <td>0.838128</td>\n",
       "      <td>0.826535</td>\n",
       "      <td>0.860006</td>\n",
       "      <td>0.859872</td>\n",
       "      <td>0.857955</td>\n",
       "    </tr>\n",
       "    <tr>\n",
       "      <th>split4_train_roc_auc</th>\n",
       "      <td>0.808913</td>\n",
       "      <td>0.830085</td>\n",
       "      <td>0.825525</td>\n",
       "      <td>0.842479</td>\n",
       "      <td>0.837864</td>\n",
       "      <td>0.833339</td>\n",
       "      <td>0.860768</td>\n",
       "      <td>0.860344</td>\n",
       "      <td>0.863979</td>\n",
       "    </tr>\n",
       "    <tr>\n",
       "      <th>mean_train_roc_auc</th>\n",
       "      <td>0.810963</td>\n",
       "      <td>0.816842</td>\n",
       "      <td>0.819229</td>\n",
       "      <td>0.830860</td>\n",
       "      <td>0.834214</td>\n",
       "      <td>0.831673</td>\n",
       "      <td>0.856233</td>\n",
       "      <td>0.859228</td>\n",
       "      <td>0.858687</td>\n",
       "    </tr>\n",
       "    <tr>\n",
       "      <th>std_train_roc_auc</th>\n",
       "      <td>0.006991</td>\n",
       "      <td>0.007772</td>\n",
       "      <td>0.003618</td>\n",
       "      <td>0.009163</td>\n",
       "      <td>0.004148</td>\n",
       "      <td>0.006499</td>\n",
       "      <td>0.004072</td>\n",
       "      <td>0.002654</td>\n",
       "      <td>0.003634</td>\n",
       "    </tr>\n",
       "  </tbody>\n",
       "</table>\n",
       "</div>"
      ],
      "text/plain": [
       "                             0         1         2         3         4  \\\n",
       "split0_test_roc_auc   0.762272  0.762069  0.772482  0.755270  0.770899   \n",
       "split1_test_roc_auc   0.748100  0.753830  0.755878  0.748909  0.745634   \n",
       "split2_test_roc_auc   0.753362  0.769856  0.769487  0.761404  0.773671   \n",
       "split3_test_roc_auc   0.738863  0.728527  0.733735  0.733200  0.738651   \n",
       "split4_test_roc_auc   0.751678  0.755481  0.752881  0.748881  0.756049   \n",
       "mean_test_roc_auc     0.750855  0.753953  0.756893  0.749533  0.756981   \n",
       "std_test_roc_auc      0.007599  0.013911  0.013821  0.009396  0.013696   \n",
       "rank_test_roc_auc     8.000000  7.000000  6.000000  9.000000  5.000000   \n",
       "split0_train_roc_auc  0.811247  0.813282  0.817379  0.816554  0.836077   \n",
       "split1_train_roc_auc  0.814010  0.820731  0.814627  0.828249  0.831676   \n",
       "split2_train_roc_auc  0.799598  0.808224  0.820085  0.828064  0.827323   \n",
       "split3_train_roc_auc  0.821045  0.811886  0.818530  0.838951  0.838128   \n",
       "split4_train_roc_auc  0.808913  0.830085  0.825525  0.842479  0.837864   \n",
       "mean_train_roc_auc    0.810963  0.816842  0.819229  0.830860  0.834214   \n",
       "std_train_roc_auc     0.006991  0.007772  0.003618  0.009163  0.004148   \n",
       "\n",
       "                             5         6         7         8  \n",
       "split0_test_roc_auc   0.769823  0.772933  0.767524  0.776012  \n",
       "split1_test_roc_auc   0.758118  0.756904  0.758654  0.758972  \n",
       "split2_test_roc_auc   0.779331  0.781945  0.773442  0.780772  \n",
       "split3_test_roc_auc   0.742489  0.736991  0.747029  0.742407  \n",
       "split4_test_roc_auc   0.758459  0.763098  0.762836  0.761164  \n",
       "mean_test_roc_auc     0.761644  0.762374  0.761897  0.763866  \n",
       "std_test_roc_auc      0.012404  0.015292  0.008915  0.013602  \n",
       "rank_test_roc_auc     4.000000  2.000000  3.000000  1.000000  \n",
       "split0_train_roc_auc  0.822776  0.853251  0.860539  0.852733  \n",
       "split1_train_roc_auc  0.834234  0.857107  0.861375  0.858658  \n",
       "split2_train_roc_auc  0.841484  0.850033  0.854010  0.860112  \n",
       "split3_train_roc_auc  0.826535  0.860006  0.859872  0.857955  \n",
       "split4_train_roc_auc  0.833339  0.860768  0.860344  0.863979  \n",
       "mean_train_roc_auc    0.831673  0.856233  0.859228  0.858687  \n",
       "std_train_roc_auc     0.006499  0.004072  0.002654  0.003634  "
      ]
     },
     "execution_count": 99,
     "metadata": {},
     "output_type": "execute_result"
    }
   ],
   "source": [
    "roc_results = results_df[[x for x in results_df.columns if 'roc_auc' in x]].T\n",
    "roc_results"
   ]
  },
  {
   "cell_type": "code",
   "execution_count": 101,
   "metadata": {
    "collapsed": true
   },
   "outputs": [
    {
     "data": {
      "text/html": [
       "<div>\n",
       "<style scoped>\n",
       "    .dataframe tbody tr th:only-of-type {\n",
       "        vertical-align: middle;\n",
       "    }\n",
       "\n",
       "    .dataframe tbody tr th {\n",
       "        vertical-align: top;\n",
       "    }\n",
       "\n",
       "    .dataframe thead th {\n",
       "        text-align: right;\n",
       "    }\n",
       "</style>\n",
       "<table border=\"1\" class=\"dataframe\">\n",
       "  <thead>\n",
       "    <tr style=\"text-align: right;\">\n",
       "      <th></th>\n",
       "      <th>8</th>\n",
       "    </tr>\n",
       "  </thead>\n",
       "  <tbody>\n",
       "    <tr>\n",
       "      <th>mean_fit_time</th>\n",
       "      <td>2.69546</td>\n",
       "    </tr>\n",
       "    <tr>\n",
       "      <th>std_fit_time</th>\n",
       "      <td>0.0368834</td>\n",
       "    </tr>\n",
       "    <tr>\n",
       "      <th>mean_score_time</th>\n",
       "      <td>0.165608</td>\n",
       "    </tr>\n",
       "    <tr>\n",
       "      <th>std_score_time</th>\n",
       "      <td>0.0065122</td>\n",
       "    </tr>\n",
       "    <tr>\n",
       "      <th>param_RF__max_depth</th>\n",
       "      <td>15</td>\n",
       "    </tr>\n",
       "    <tr>\n",
       "      <th>param_RF__n_estimators</th>\n",
       "      <td>200</td>\n",
       "    </tr>\n",
       "    <tr>\n",
       "      <th>params</th>\n",
       "      <td>{'RF__max_depth': 15, 'RF__n_estimators': 200}</td>\n",
       "    </tr>\n",
       "    <tr>\n",
       "      <th>split0_test_roc_auc</th>\n",
       "      <td>0.776012</td>\n",
       "    </tr>\n",
       "    <tr>\n",
       "      <th>split1_test_roc_auc</th>\n",
       "      <td>0.758972</td>\n",
       "    </tr>\n",
       "    <tr>\n",
       "      <th>split2_test_roc_auc</th>\n",
       "      <td>0.780772</td>\n",
       "    </tr>\n",
       "    <tr>\n",
       "      <th>split3_test_roc_auc</th>\n",
       "      <td>0.742407</td>\n",
       "    </tr>\n",
       "    <tr>\n",
       "      <th>split4_test_roc_auc</th>\n",
       "      <td>0.761164</td>\n",
       "    </tr>\n",
       "    <tr>\n",
       "      <th>mean_test_roc_auc</th>\n",
       "      <td>0.763866</td>\n",
       "    </tr>\n",
       "    <tr>\n",
       "      <th>std_test_roc_auc</th>\n",
       "      <td>0.0136019</td>\n",
       "    </tr>\n",
       "    <tr>\n",
       "      <th>rank_test_roc_auc</th>\n",
       "      <td>1</td>\n",
       "    </tr>\n",
       "    <tr>\n",
       "      <th>split0_train_roc_auc</th>\n",
       "      <td>0.852733</td>\n",
       "    </tr>\n",
       "    <tr>\n",
       "      <th>split1_train_roc_auc</th>\n",
       "      <td>0.858658</td>\n",
       "    </tr>\n",
       "    <tr>\n",
       "      <th>split2_train_roc_auc</th>\n",
       "      <td>0.860112</td>\n",
       "    </tr>\n",
       "    <tr>\n",
       "      <th>split3_train_roc_auc</th>\n",
       "      <td>0.857955</td>\n",
       "    </tr>\n",
       "    <tr>\n",
       "      <th>split4_train_roc_auc</th>\n",
       "      <td>0.863979</td>\n",
       "    </tr>\n",
       "    <tr>\n",
       "      <th>mean_train_roc_auc</th>\n",
       "      <td>0.858687</td>\n",
       "    </tr>\n",
       "    <tr>\n",
       "      <th>std_train_roc_auc</th>\n",
       "      <td>0.00363392</td>\n",
       "    </tr>\n",
       "    <tr>\n",
       "      <th>split0_test_accuracy</th>\n",
       "      <td>0.651737</td>\n",
       "    </tr>\n",
       "    <tr>\n",
       "      <th>split1_test_accuracy</th>\n",
       "      <td>0.652241</td>\n",
       "    </tr>\n",
       "    <tr>\n",
       "      <th>split2_test_accuracy</th>\n",
       "      <td>0.656878</td>\n",
       "    </tr>\n",
       "    <tr>\n",
       "      <th>split3_test_accuracy</th>\n",
       "      <td>0.653014</td>\n",
       "    </tr>\n",
       "    <tr>\n",
       "      <th>split4_test_accuracy</th>\n",
       "      <td>0.652241</td>\n",
       "    </tr>\n",
       "    <tr>\n",
       "      <th>mean_test_accuracy</th>\n",
       "      <td>0.653222</td>\n",
       "    </tr>\n",
       "    <tr>\n",
       "      <th>std_test_accuracy</th>\n",
       "      <td>0.00187281</td>\n",
       "    </tr>\n",
       "    <tr>\n",
       "      <th>rank_test_accuracy</th>\n",
       "      <td>1</td>\n",
       "    </tr>\n",
       "    <tr>\n",
       "      <th>split0_train_accuracy</th>\n",
       "      <td>0.680255</td>\n",
       "    </tr>\n",
       "    <tr>\n",
       "      <th>split1_train_accuracy</th>\n",
       "      <td>0.677999</td>\n",
       "    </tr>\n",
       "    <tr>\n",
       "      <th>split2_train_accuracy</th>\n",
       "      <td>0.681476</td>\n",
       "    </tr>\n",
       "    <tr>\n",
       "      <th>split3_train_accuracy</th>\n",
       "      <td>0.682248</td>\n",
       "    </tr>\n",
       "    <tr>\n",
       "      <th>split4_train_accuracy</th>\n",
       "      <td>0.679737</td>\n",
       "    </tr>\n",
       "    <tr>\n",
       "      <th>mean_train_accuracy</th>\n",
       "      <td>0.680343</td>\n",
       "    </tr>\n",
       "    <tr>\n",
       "      <th>std_train_accuracy</th>\n",
       "      <td>0.00146856</td>\n",
       "    </tr>\n",
       "  </tbody>\n",
       "</table>\n",
       "</div>"
      ],
      "text/plain": [
       "                                                                     8\n",
       "mean_fit_time                                                  2.69546\n",
       "std_fit_time                                                 0.0368834\n",
       "mean_score_time                                               0.165608\n",
       "std_score_time                                               0.0065122\n",
       "param_RF__max_depth                                                 15\n",
       "param_RF__n_estimators                                             200\n",
       "params                  {'RF__max_depth': 15, 'RF__n_estimators': 200}\n",
       "split0_test_roc_auc                                           0.776012\n",
       "split1_test_roc_auc                                           0.758972\n",
       "split2_test_roc_auc                                           0.780772\n",
       "split3_test_roc_auc                                           0.742407\n",
       "split4_test_roc_auc                                           0.761164\n",
       "mean_test_roc_auc                                             0.763866\n",
       "std_test_roc_auc                                             0.0136019\n",
       "rank_test_roc_auc                                                    1\n",
       "split0_train_roc_auc                                          0.852733\n",
       "split1_train_roc_auc                                          0.858658\n",
       "split2_train_roc_auc                                          0.860112\n",
       "split3_train_roc_auc                                          0.857955\n",
       "split4_train_roc_auc                                          0.863979\n",
       "mean_train_roc_auc                                            0.858687\n",
       "std_train_roc_auc                                           0.00363392\n",
       "split0_test_accuracy                                          0.651737\n",
       "split1_test_accuracy                                          0.652241\n",
       "split2_test_accuracy                                          0.656878\n",
       "split3_test_accuracy                                          0.653014\n",
       "split4_test_accuracy                                          0.652241\n",
       "mean_test_accuracy                                            0.653222\n",
       "std_test_accuracy                                           0.00187281\n",
       "rank_test_accuracy                                                   1\n",
       "split0_train_accuracy                                         0.680255\n",
       "split1_train_accuracy                                         0.677999\n",
       "split2_train_accuracy                                         0.681476\n",
       "split3_train_accuracy                                         0.682248\n",
       "split4_train_accuracy                                         0.679737\n",
       "mean_train_accuracy                                           0.680343\n",
       "std_train_accuracy                                          0.00146856"
      ]
     },
     "execution_count": 101,
     "metadata": {},
     "output_type": "execute_result"
    }
   ],
   "source": [
    "best = results_df[results_df['rank_test_roc_auc']==1]\n",
    "best.T"
   ]
  },
  {
   "cell_type": "markdown",
   "metadata": {},
   "source": [
    " "
   ]
  },
  {
   "cell_type": "markdown",
   "metadata": {},
   "source": [
    " "
   ]
  },
  {
   "cell_type": "markdown",
   "metadata": {},
   "source": [
    "## Word2Vec"
   ]
  },
  {
   "cell_type": "markdown",
   "metadata": {},
   "source": [
    "Alternatively, let's train our model using a pre-trained model to better encode the vocabulary"
   ]
  },
  {
   "cell_type": "code",
   "execution_count": 174,
   "metadata": {},
   "outputs": [],
   "source": [
    "# Create Skip Gram model\n",
    "model2 = gensim.models.Word2Vec(train_copy['text'], min_count = 1, vector_size = 100, window = 5, sg = 1)"
   ]
  },
  {
   "cell_type": "code",
   "execution_count": 175,
   "metadata": {},
   "outputs": [
    {
     "name": "stdout",
     "output_type": "stream",
     "text": [
      "Cosine similarity between 'bike' and 'car' - Skip Gram :  0.9956172\n"
     ]
    }
   ],
   "source": [
    "# Print results\n",
    "print(\"Cosine similarity between 'bike' \" +\n",
    "          \"and 'car' - Skip Gram : \",\n",
    "    model2.wv.similarity('bike', 'car'))"
   ]
  },
  {
   "cell_type": "code",
   "execution_count": 187,
   "metadata": {},
   "outputs": [],
   "source": [
    "model = w2v(\n",
    "    sentences = train_copy['text'],\n",
    "    min_count=3,        #Ignores all words with total absolute frequency lower than this\n",
    "    sg = 1,            #Training algorithm: 1 for skip-gram; otherwise CBOW\n",
    "    window=5           #The maximum distance between the current and predicted word within a sentence\n",
    ")       "
   ]
  },
  {
   "cell_type": "markdown",
   "metadata": {},
   "source": [
    "**wv** = his object essentially contains the mapping between words and embeddings. After training, it can be used directly to query those embeddings in various ways. See the module level docstring for examples."
   ]
  },
  {
   "cell_type": "code",
   "execution_count": 188,
   "metadata": {},
   "outputs": [
    {
     "name": "stdout",
     "output_type": "stream",
     "text": [
      "[('long', 0.9982407093048096), ('lava', 0.9981586933135986), ('investigating', 0.9981372356414795), ('blood', 0.9981018304824829), ('song', 0.9980575442314148), ('job', 0.9979773759841919), ('getting', 0.9979763031005859), ('death', 0.9979738593101501), ('hit', 0.9979711174964905), ('game', 0.9979645609855652)]\n"
     ]
    }
   ],
   "source": [
    "print(model.wv.most_similar('car'))"
   ]
  },
  {
   "cell_type": "code",
   "execution_count": 189,
   "metadata": {},
   "outputs": [],
   "source": [
    "'''\n",
    "    get_vector = If you need a single unit-normalized vector for some key\n",
    "'''\n",
    "\n",
    "emb_df = (pd.DataFrame(\n",
    "        [w.wv.get_vector(str(n)) for n in w.wv.key_to_index],\n",
    "        index = w.wv.key_to_index))"
   ]
  },
  {
   "cell_type": "code",
   "execution_count": 195,
   "metadata": {},
   "outputs": [
    {
     "name": "stdout",
     "output_type": "stream",
     "text": [
      "shape (2024, 100)\n"
     ]
    },
    {
     "data": {
      "text/html": [
       "<div>\n",
       "<style scoped>\n",
       "    .dataframe tbody tr th:only-of-type {\n",
       "        vertical-align: middle;\n",
       "    }\n",
       "\n",
       "    .dataframe tbody tr th {\n",
       "        vertical-align: top;\n",
       "    }\n",
       "\n",
       "    .dataframe thead th {\n",
       "        text-align: right;\n",
       "    }\n",
       "</style>\n",
       "<table border=\"1\" class=\"dataframe\">\n",
       "  <thead>\n",
       "    <tr style=\"text-align: right;\">\n",
       "      <th></th>\n",
       "      <th>0</th>\n",
       "      <th>1</th>\n",
       "      <th>2</th>\n",
       "      <th>3</th>\n",
       "      <th>4</th>\n",
       "      <th>5</th>\n",
       "      <th>6</th>\n",
       "      <th>7</th>\n",
       "      <th>8</th>\n",
       "      <th>9</th>\n",
       "      <th>...</th>\n",
       "      <th>90</th>\n",
       "      <th>91</th>\n",
       "      <th>92</th>\n",
       "      <th>93</th>\n",
       "      <th>94</th>\n",
       "      <th>95</th>\n",
       "      <th>96</th>\n",
       "      <th>97</th>\n",
       "      <th>98</th>\n",
       "      <th>99</th>\n",
       "    </tr>\n",
       "  </thead>\n",
       "  <tbody>\n",
       "    <tr>\n",
       "      <th>like</th>\n",
       "      <td>-0.113681</td>\n",
       "      <td>0.134241</td>\n",
       "      <td>0.006612</td>\n",
       "      <td>-0.010704</td>\n",
       "      <td>-0.000495</td>\n",
       "      <td>-0.284202</td>\n",
       "      <td>0.087268</td>\n",
       "      <td>0.353593</td>\n",
       "      <td>-0.095206</td>\n",
       "      <td>0.002423</td>\n",
       "      <td>...</td>\n",
       "      <td>0.058182</td>\n",
       "      <td>0.057969</td>\n",
       "      <td>0.115595</td>\n",
       "      <td>-0.003442</td>\n",
       "      <td>0.199263</td>\n",
       "      <td>0.197927</td>\n",
       "      <td>-0.027787</td>\n",
       "      <td>-0.136296</td>\n",
       "      <td>0.141657</td>\n",
       "      <td>-0.049204</td>\n",
       "    </tr>\n",
       "    <tr>\n",
       "      <th>via</th>\n",
       "      <td>-0.114270</td>\n",
       "      <td>0.132649</td>\n",
       "      <td>0.009238</td>\n",
       "      <td>-0.007977</td>\n",
       "      <td>0.024183</td>\n",
       "      <td>-0.271022</td>\n",
       "      <td>0.077346</td>\n",
       "      <td>0.338589</td>\n",
       "      <td>-0.082301</td>\n",
       "      <td>-0.007006</td>\n",
       "      <td>...</td>\n",
       "      <td>0.052035</td>\n",
       "      <td>0.057265</td>\n",
       "      <td>0.094778</td>\n",
       "      <td>-0.013798</td>\n",
       "      <td>0.174971</td>\n",
       "      <td>0.170763</td>\n",
       "      <td>-0.011275</td>\n",
       "      <td>-0.128311</td>\n",
       "      <td>0.120624</td>\n",
       "      <td>-0.051338</td>\n",
       "    </tr>\n",
       "    <tr>\n",
       "      <th>get</th>\n",
       "      <td>-0.114097</td>\n",
       "      <td>0.136207</td>\n",
       "      <td>-0.007777</td>\n",
       "      <td>-0.018780</td>\n",
       "      <td>0.024138</td>\n",
       "      <td>-0.275817</td>\n",
       "      <td>0.073733</td>\n",
       "      <td>0.355672</td>\n",
       "      <td>-0.099235</td>\n",
       "      <td>0.014538</td>\n",
       "      <td>...</td>\n",
       "      <td>0.048567</td>\n",
       "      <td>0.072083</td>\n",
       "      <td>0.126779</td>\n",
       "      <td>-0.005334</td>\n",
       "      <td>0.200769</td>\n",
       "      <td>0.203337</td>\n",
       "      <td>-0.012130</td>\n",
       "      <td>-0.121978</td>\n",
       "      <td>0.150124</td>\n",
       "      <td>-0.066569</td>\n",
       "    </tr>\n",
       "  </tbody>\n",
       "</table>\n",
       "<p>3 rows × 100 columns</p>\n",
       "</div>"
      ],
      "text/plain": [
       "            0         1         2         3         4         5         6   \\\n",
       "like -0.113681  0.134241  0.006612 -0.010704 -0.000495 -0.284202  0.087268   \n",
       "via  -0.114270  0.132649  0.009238 -0.007977  0.024183 -0.271022  0.077346   \n",
       "get  -0.114097  0.136207 -0.007777 -0.018780  0.024138 -0.275817  0.073733   \n",
       "\n",
       "            7         8         9   ...        90        91        92  \\\n",
       "like  0.353593 -0.095206  0.002423  ...  0.058182  0.057969  0.115595   \n",
       "via   0.338589 -0.082301 -0.007006  ...  0.052035  0.057265  0.094778   \n",
       "get   0.355672 -0.099235  0.014538  ...  0.048567  0.072083  0.126779   \n",
       "\n",
       "            93        94        95        96        97        98        99  \n",
       "like -0.003442  0.199263  0.197927 -0.027787 -0.136296  0.141657 -0.049204  \n",
       "via  -0.013798  0.174971  0.170763 -0.011275 -0.128311  0.120624 -0.051338  \n",
       "get  -0.005334  0.200769  0.203337 -0.012130 -0.121978  0.150124 -0.066569  \n",
       "\n",
       "[3 rows x 100 columns]"
      ]
     },
     "execution_count": 195,
     "metadata": {},
     "output_type": "execute_result"
    }
   ],
   "source": [
    "print(\"shape\", emb_df.shape)\n",
    "emb_df.head(3)"
   ]
  },
  {
   "cell_type": "code",
   "execution_count": 194,
   "metadata": {},
   "outputs": [
    {
     "data": {
      "text/plain": [
       "[]"
      ]
     },
     "execution_count": 194,
     "metadata": {},
     "output_type": "execute_result"
    },
    {
     "data": {
      "text/plain": [
       "<Figure size 432x288 with 0 Axes>"
      ]
     },
     "metadata": {},
     "output_type": "display_data"
    },
    {
     "data": {
      "image/png": "[encoded data removed]",
      "text/plain": [
       "<Figure size 432x288 with 1 Axes>"
      ]
     },
     "metadata": {
      "needs_background": "light"
     },
     "output_type": "display_data"
    }
   ],
   "source": [
    "pca = PCA(n_components=2, random_state=7)\n",
    "pca_mdl = pca.fit_transform(emb_df)\n",
    "\n",
    "emb_df_PCA = (\n",
    "    pd.DataFrame(\n",
    "        pca_mdl,\n",
    "        columns=['x','y'],\n",
    "        index = emb_df.index\n",
    "    )\n",
    ")\n",
    "\n",
    "plt.clf()\n",
    "fig = plt.figure(figsize=(6,4))\n",
    "\n",
    "plt.scatter(\n",
    "    x = emb_df_PCA['x'],\n",
    "    y = emb_df_PCA['y'],\n",
    "    s = 0.4,\n",
    "    color = 'maroon',\n",
    "    alpha = 0.5\n",
    ")\n",
    "\n",
    "plt.xlabel('PCA-1')\n",
    "plt.ylabel('PCA-2')\n",
    "plt.title('PCA Visualization')\n",
    "plt.plot()"
   ]
  },
  {
   "cell_type": "code",
   "execution_count": 197,
   "metadata": {},
   "outputs": [
    {
     "data": {
      "text/html": [
       "<div>\n",
       "<style scoped>\n",
       "    .dataframe tbody tr th:only-of-type {\n",
       "        vertical-align: middle;\n",
       "    }\n",
       "\n",
       "    .dataframe tbody tr th {\n",
       "        vertical-align: top;\n",
       "    }\n",
       "\n",
       "    .dataframe thead th {\n",
       "        text-align: right;\n",
       "    }\n",
       "</style>\n",
       "<table border=\"1\" class=\"dataframe\">\n",
       "  <thead>\n",
       "    <tr style=\"text-align: right;\">\n",
       "      <th></th>\n",
       "      <th>id</th>\n",
       "      <th>keyword</th>\n",
       "      <th>location</th>\n",
       "      <th>text</th>\n",
       "      <th>target</th>\n",
       "      <th>num chars</th>\n",
       "      <th>num special chars</th>\n",
       "      <th>country</th>\n",
       "      <th>country freq</th>\n",
       "      <th>keyword_0</th>\n",
       "      <th>...</th>\n",
       "      <th>leisure</th>\n",
       "      <th>fashionable</th>\n",
       "      <th>tutorial</th>\n",
       "      <th>entering</th>\n",
       "      <th>sand</th>\n",
       "      <th>regarding</th>\n",
       "      <th>belt</th>\n",
       "      <th>chill</th>\n",
       "      <th>racist</th>\n",
       "      <th>hike</th>\n",
       "    </tr>\n",
       "  </thead>\n",
       "  <tbody>\n",
       "    <tr>\n",
       "      <th>0</th>\n",
       "      <td>1</td>\n",
       "      <td>NaN</td>\n",
       "      <td>nan</td>\n",
       "      <td>[earthquake, us]</td>\n",
       "      <td>1</td>\n",
       "      <td>69</td>\n",
       "      <td>1</td>\n",
       "      <td>NAN</td>\n",
       "      <td>0.959149</td>\n",
       "      <td>0</td>\n",
       "      <td>...</td>\n",
       "      <td>-0.040497</td>\n",
       "      <td>-0.029635</td>\n",
       "      <td>-0.026505</td>\n",
       "      <td>-0.037659</td>\n",
       "      <td>-0.035906</td>\n",
       "      <td>-0.025804</td>\n",
       "      <td>-0.047058</td>\n",
       "      <td>-0.028801</td>\n",
       "      <td>-0.038910</td>\n",
       "      <td>-0.026311</td>\n",
       "    </tr>\n",
       "    <tr>\n",
       "      <th>1</th>\n",
       "      <td>4</td>\n",
       "      <td>NaN</td>\n",
       "      <td>nan</td>\n",
       "      <td>[fire, near]</td>\n",
       "      <td>1</td>\n",
       "      <td>38</td>\n",
       "      <td>1</td>\n",
       "      <td>NAN</td>\n",
       "      <td>0.959149</td>\n",
       "      <td>0</td>\n",
       "      <td>...</td>\n",
       "      <td>0.048072</td>\n",
       "      <td>0.019684</td>\n",
       "      <td>0.028122</td>\n",
       "      <td>0.030772</td>\n",
       "      <td>0.044950</td>\n",
       "      <td>0.027938</td>\n",
       "      <td>0.057919</td>\n",
       "      <td>0.033254</td>\n",
       "      <td>0.039047</td>\n",
       "      <td>0.043394</td>\n",
       "    </tr>\n",
       "    <tr>\n",
       "      <th>2</th>\n",
       "      <td>5</td>\n",
       "      <td>NaN</td>\n",
       "      <td>nan</td>\n",
       "      <td>[shelter, place, notified, evacuation, shelter...</td>\n",
       "      <td>1</td>\n",
       "      <td>133</td>\n",
       "      <td>3</td>\n",
       "      <td>NAN</td>\n",
       "      <td>0.959149</td>\n",
       "      <td>0</td>\n",
       "      <td>...</td>\n",
       "      <td>-0.003123</td>\n",
       "      <td>0.002632</td>\n",
       "      <td>0.000734</td>\n",
       "      <td>0.007961</td>\n",
       "      <td>-0.004750</td>\n",
       "      <td>0.002605</td>\n",
       "      <td>-0.004459</td>\n",
       "      <td>0.000416</td>\n",
       "      <td>-0.001208</td>\n",
       "      <td>-0.002411</td>\n",
       "    </tr>\n",
       "    <tr>\n",
       "      <th>3</th>\n",
       "      <td>6</td>\n",
       "      <td>NaN</td>\n",
       "      <td>nan</td>\n",
       "      <td>[people, receive, evacuation]</td>\n",
       "      <td>1</td>\n",
       "      <td>65</td>\n",
       "      <td>2</td>\n",
       "      <td>NAN</td>\n",
       "      <td>0.959149</td>\n",
       "      <td>0</td>\n",
       "      <td>...</td>\n",
       "      <td>-0.005060</td>\n",
       "      <td>-0.011948</td>\n",
       "      <td>0.001408</td>\n",
       "      <td>-0.008373</td>\n",
       "      <td>-0.003066</td>\n",
       "      <td>0.002400</td>\n",
       "      <td>-0.004543</td>\n",
       "      <td>-0.006767</td>\n",
       "      <td>-0.003742</td>\n",
       "      <td>-0.006501</td>\n",
       "    </tr>\n",
       "    <tr>\n",
       "      <th>4</th>\n",
       "      <td>7</td>\n",
       "      <td>NaN</td>\n",
       "      <td>nan</td>\n",
       "      <td>[got, sent, photo, smoke, school]</td>\n",
       "      <td>1</td>\n",
       "      <td>88</td>\n",
       "      <td>2</td>\n",
       "      <td>NAN</td>\n",
       "      <td>0.959149</td>\n",
       "      <td>0</td>\n",
       "      <td>...</td>\n",
       "      <td>0.013722</td>\n",
       "      <td>0.009327</td>\n",
       "      <td>0.004536</td>\n",
       "      <td>-0.003345</td>\n",
       "      <td>0.012458</td>\n",
       "      <td>0.011774</td>\n",
       "      <td>0.006203</td>\n",
       "      <td>0.003652</td>\n",
       "      <td>0.001708</td>\n",
       "      <td>0.003489</td>\n",
       "    </tr>\n",
       "    <tr>\n",
       "      <th>...</th>\n",
       "      <td>...</td>\n",
       "      <td>...</td>\n",
       "      <td>...</td>\n",
       "      <td>...</td>\n",
       "      <td>...</td>\n",
       "      <td>...</td>\n",
       "      <td>...</td>\n",
       "      <td>...</td>\n",
       "      <td>...</td>\n",
       "      <td>...</td>\n",
       "      <td>...</td>\n",
       "      <td>...</td>\n",
       "      <td>...</td>\n",
       "      <td>...</td>\n",
       "      <td>...</td>\n",
       "      <td>...</td>\n",
       "      <td>...</td>\n",
       "      <td>...</td>\n",
       "      <td>...</td>\n",
       "      <td>...</td>\n",
       "      <td>...</td>\n",
       "    </tr>\n",
       "    <tr>\n",
       "      <th>7608</th>\n",
       "      <td>10869</td>\n",
       "      <td>NaN</td>\n",
       "      <td>nan</td>\n",
       "      <td>[giant, holding, bridge, collapse, nearby]</td>\n",
       "      <td>1</td>\n",
       "      <td>83</td>\n",
       "      <td>5</td>\n",
       "      <td>NAN</td>\n",
       "      <td>0.959149</td>\n",
       "      <td>0</td>\n",
       "      <td>...</td>\n",
       "      <td>NaN</td>\n",
       "      <td>NaN</td>\n",
       "      <td>NaN</td>\n",
       "      <td>NaN</td>\n",
       "      <td>NaN</td>\n",
       "      <td>NaN</td>\n",
       "      <td>NaN</td>\n",
       "      <td>NaN</td>\n",
       "      <td>NaN</td>\n",
       "      <td>NaN</td>\n",
       "    </tr>\n",
       "    <tr>\n",
       "      <th>7609</th>\n",
       "      <td>10870</td>\n",
       "      <td>NaN</td>\n",
       "      <td>nan</td>\n",
       "      <td>[aria, control, wild, even, part, state, troub...</td>\n",
       "      <td>1</td>\n",
       "      <td>125</td>\n",
       "      <td>5</td>\n",
       "      <td>NAN</td>\n",
       "      <td>0.959149</td>\n",
       "      <td>0</td>\n",
       "      <td>...</td>\n",
       "      <td>NaN</td>\n",
       "      <td>NaN</td>\n",
       "      <td>NaN</td>\n",
       "      <td>NaN</td>\n",
       "      <td>NaN</td>\n",
       "      <td>NaN</td>\n",
       "      <td>NaN</td>\n",
       "      <td>NaN</td>\n",
       "      <td>NaN</td>\n",
       "      <td>NaN</td>\n",
       "    </tr>\n",
       "    <tr>\n",
       "      <th>7610</th>\n",
       "      <td>10871</td>\n",
       "      <td>NaN</td>\n",
       "      <td>nan</td>\n",
       "      <td>[]</td>\n",
       "      <td>1</td>\n",
       "      <td>65</td>\n",
       "      <td>11</td>\n",
       "      <td>NAN</td>\n",
       "      <td>0.959149</td>\n",
       "      <td>0</td>\n",
       "      <td>...</td>\n",
       "      <td>NaN</td>\n",
       "      <td>NaN</td>\n",
       "      <td>NaN</td>\n",
       "      <td>NaN</td>\n",
       "      <td>NaN</td>\n",
       "      <td>NaN</td>\n",
       "      <td>NaN</td>\n",
       "      <td>NaN</td>\n",
       "      <td>NaN</td>\n",
       "      <td>NaN</td>\n",
       "    </tr>\n",
       "    <tr>\n",
       "      <th>7611</th>\n",
       "      <td>10872</td>\n",
       "      <td>NaN</td>\n",
       "      <td>nan</td>\n",
       "      <td>[investigating, bike, car, bike, rider, seriou...</td>\n",
       "      <td>1</td>\n",
       "      <td>137</td>\n",
       "      <td>5</td>\n",
       "      <td>NAN</td>\n",
       "      <td>0.959149</td>\n",
       "      <td>0</td>\n",
       "      <td>...</td>\n",
       "      <td>NaN</td>\n",
       "      <td>NaN</td>\n",
       "      <td>NaN</td>\n",
       "      <td>NaN</td>\n",
       "      <td>NaN</td>\n",
       "      <td>NaN</td>\n",
       "      <td>NaN</td>\n",
       "      <td>NaN</td>\n",
       "      <td>NaN</td>\n",
       "      <td>NaN</td>\n",
       "    </tr>\n",
       "    <tr>\n",
       "      <th>7612</th>\n",
       "      <td>10873</td>\n",
       "      <td>NaN</td>\n",
       "      <td>nan</td>\n",
       "      <td>[]</td>\n",
       "      <td>1</td>\n",
       "      <td>94</td>\n",
       "      <td>7</td>\n",
       "      <td>NAN</td>\n",
       "      <td>0.959149</td>\n",
       "      <td>0</td>\n",
       "      <td>...</td>\n",
       "      <td>NaN</td>\n",
       "      <td>NaN</td>\n",
       "      <td>NaN</td>\n",
       "      <td>NaN</td>\n",
       "      <td>NaN</td>\n",
       "      <td>NaN</td>\n",
       "      <td>NaN</td>\n",
       "      <td>NaN</td>\n",
       "      <td>NaN</td>\n",
       "      <td>NaN</td>\n",
       "    </tr>\n",
       "  </tbody>\n",
       "</table>\n",
       "<p>7613 rows × 2041 columns</p>\n",
       "</div>"
      ],
      "text/plain": [
       "         id keyword location  \\\n",
       "0         1     NaN      nan   \n",
       "1         4     NaN      nan   \n",
       "2         5     NaN      nan   \n",
       "3         6     NaN      nan   \n",
       "4         7     NaN      nan   \n",
       "...     ...     ...      ...   \n",
       "7608  10869     NaN      nan   \n",
       "7609  10870     NaN      nan   \n",
       "7610  10871     NaN      nan   \n",
       "7611  10872     NaN      nan   \n",
       "7612  10873     NaN      nan   \n",
       "\n",
       "                                                   text  target  num chars  \\\n",
       "0                                      [earthquake, us]       1         69   \n",
       "1                                          [fire, near]       1         38   \n",
       "2     [shelter, place, notified, evacuation, shelter...       1        133   \n",
       "3                         [people, receive, evacuation]       1         65   \n",
       "4                     [got, sent, photo, smoke, school]       1         88   \n",
       "...                                                 ...     ...        ...   \n",
       "7608         [giant, holding, bridge, collapse, nearby]       1         83   \n",
       "7609  [aria, control, wild, even, part, state, troub...       1        125   \n",
       "7610                                                 []       1         65   \n",
       "7611  [investigating, bike, car, bike, rider, seriou...       1        137   \n",
       "7612                                                 []       1         94   \n",
       "\n",
       "      num special chars country  country freq  keyword_0  ...   leisure  \\\n",
       "0                     1     NAN      0.959149          0  ... -0.040497   \n",
       "1                     1     NAN      0.959149          0  ...  0.048072   \n",
       "2                     3     NAN      0.959149          0  ... -0.003123   \n",
       "3                     2     NAN      0.959149          0  ... -0.005060   \n",
       "4                     2     NAN      0.959149          0  ...  0.013722   \n",
       "...                 ...     ...           ...        ...  ...       ...   \n",
       "7608                  5     NAN      0.959149          0  ...       NaN   \n",
       "7609                  5     NAN      0.959149          0  ...       NaN   \n",
       "7610                 11     NAN      0.959149          0  ...       NaN   \n",
       "7611                  5     NAN      0.959149          0  ...       NaN   \n",
       "7612                  7     NAN      0.959149          0  ...       NaN   \n",
       "\n",
       "      fashionable  tutorial  entering      sand  regarding      belt  \\\n",
       "0       -0.029635 -0.026505 -0.037659 -0.035906  -0.025804 -0.047058   \n",
       "1        0.019684  0.028122  0.030772  0.044950   0.027938  0.057919   \n",
       "2        0.002632  0.000734  0.007961 -0.004750   0.002605 -0.004459   \n",
       "3       -0.011948  0.001408 -0.008373 -0.003066   0.002400 -0.004543   \n",
       "4        0.009327  0.004536 -0.003345  0.012458   0.011774  0.006203   \n",
       "...           ...       ...       ...       ...        ...       ...   \n",
       "7608          NaN       NaN       NaN       NaN        NaN       NaN   \n",
       "7609          NaN       NaN       NaN       NaN        NaN       NaN   \n",
       "7610          NaN       NaN       NaN       NaN        NaN       NaN   \n",
       "7611          NaN       NaN       NaN       NaN        NaN       NaN   \n",
       "7612          NaN       NaN       NaN       NaN        NaN       NaN   \n",
       "\n",
       "         chill    racist      hike  \n",
       "0    -0.028801 -0.038910 -0.026311  \n",
       "1     0.033254  0.039047  0.043394  \n",
       "2     0.000416 -0.001208 -0.002411  \n",
       "3    -0.006767 -0.003742 -0.006501  \n",
       "4     0.003652  0.001708  0.003489  \n",
       "...        ...       ...       ...  \n",
       "7608       NaN       NaN       NaN  \n",
       "7609       NaN       NaN       NaN  \n",
       "7610       NaN       NaN       NaN  \n",
       "7611       NaN       NaN       NaN  \n",
       "7612       NaN       NaN       NaN  \n",
       "\n",
       "[7613 rows x 2041 columns]"
      ]
     },
     "execution_count": 197,
     "metadata": {},
     "output_type": "execute_result"
    }
   ],
   "source": [
    "train_copy = pd.concat([train_copy, emb_df.T], axis=1)\n",
    "train_copy"
   ]
  },
  {
   "cell_type": "code",
   "execution_count": 198,
   "metadata": {},
   "outputs": [],
   "source": [
    "xtrain_copy = train_copy.drop(columns=['id', 'keyword', 'location', 'text', 'country', 'target'])"
   ]
  },
  {
   "cell_type": "code",
   "execution_count": 200,
   "metadata": {},
   "outputs": [],
   "source": [
    "ytrain_copy = train_copy['target']"
   ]
  },
  {
   "cell_type": "code",
   "execution_count": null,
   "metadata": {},
   "outputs": [],
   "source": [
    "xtest_copy = train_copy.drop(columns=['id', 'keyword', 'location', 'text', 'country'])\n",
    "\n",
    "#xtest = pd.concat([test_copy, emb_df.T], axis=1) -> não tenho embedding do próprio test set"
   ]
  },
  {
   "cell_type": "markdown",
   "metadata": {},
   "source": [
    " "
   ]
  }
 ],
 "metadata": {
  "kernelspec": {
   "display_name": "Python 3",
   "language": "python",
   "name": "python3"
  },
  "language_info": {
   "codemirror_mode": {
    "name": "ipython",
    "version": 3
   },
   "file_extension": ".py",
   "mimetype": "text/x-python",
   "name": "python",
   "nbconvert_exporter": "python",
   "pygments_lexer": "ipython3",
   "version": "3.8.5"
  }
 },
 "nbformat": 4,
 "nbformat_minor": 4
}
