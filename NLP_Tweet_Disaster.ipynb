{
  "cells": [
    {
      "cell_type": "markdown",
      "metadata": {
        "id": "view-in-github",
        "colab_type": "text"
      },
      "source": [
        "<a href=\"https://colab.research.google.com/github/raissalohanna/DataLab-FinalProject/blob/main/NLP_Tweet_Disaster.ipynb\" target=\"_parent\"><img src=\"https://colab.research.google.com/assets/colab-badge.svg\" alt=\"Open In Colab\"/></a>"
      ]
    },
    {
      "cell_type": "markdown",
      "metadata": {
        "id": "4wx2Ps5rjcr5"
      },
      "source": [
        "# Natural Language Processing: Kaggle's Tweet Disaster competition"
      ]
    },
    {
      "cell_type": "markdown",
      "metadata": {
        "id": "IYvMpjv6jcr7"
      },
      "source": [
        " "
      ]
    },
    {
      "cell_type": "markdown",
      "metadata": {
        "id": "I4WsE_UXjcr8"
      },
      "source": [
        "This project is part of a Kaggle's competition and aims to develop abilities in Natural Language Processing (NLP) problems. Here, the objecive is to predict the occurance of real disasters through the words found in tweets from several places. Available data includes a train set (more detailed information bellow), and a test set. The full submission and final score can be checked at my personal page in Kaggle (to be updated here).\n",
        "\n",
        "This notebook is inspired in some previous work published in Kaggle.\n",
        "\n",
        "*References:*\n",
        "\n",
        "- FeatureExtraction+RandomForestClassifier: https://www.kaggle.com/code/abdulaziz04/featureextraction-randomforestclassifier\n",
        "- EDA+Preprocessing+Emedding+Model: https://www.kaggle.com/code/rakeshku1993/eda-preprocessing-emedding-model"
      ]
    },
    {
      "cell_type": "markdown",
      "metadata": {
        "id": "R02yG6ITjcr9"
      },
      "source": [
        " "
      ]
    },
    {
      "cell_type": "markdown",
      "metadata": {
        "id": "iXZQwRltjcr9"
      },
      "source": [
        "### Importing the data and querying the first infomations"
      ]
    },
    {
      "cell_type": "markdown",
      "metadata": {
        "id": "Eu_-BMLwjcr9"
      },
      "source": [
        "- **id** - a unique identifier for each tweet\n",
        "- **text** - the text of the tweet\n",
        "- **location** - the location the tweet was sent from (may be blank)\n",
        "- **keyword** - a particular keyword from the tweet (may be blank)\n",
        "- **target** - in train.csv only, this denotes whether a tweet is about a real disaster (1) or not (0)"
      ]
    },
    {
      "cell_type": "code",
      "execution_count": null,
      "metadata": {
        "id": "D1mNs6Xnjcr-"
      },
      "outputs": [],
      "source": [
        "#Basic package\n",
        "import pandas as pd\n",
        "\n",
        "# Math and plot packages\n",
        "import numpy as np\n",
        "import seaborn as sns\n",
        "import matplotlib.pyplot as plt\n",
        "from wordcloud import STOPWORDS, WordCloud\n",
        "\n",
        "# Text analysis packages\n",
        "import re\n",
        "import string\n",
        "from nltk.corpus import words\n",
        "from nltk.corpus import stopwords\n",
        "from collections import defaultdict\n",
        "from spellchecker import SpellChecker\n",
        "\n",
        "# Encoders, tokenizers\n",
        "import gensim\n",
        "import nltk\n",
        "from nltk.stem import WordNetLemmatizer\n",
        "from nltk.tokenize import word_tokenize\n",
        "from gensim.models import Word2Vec\n",
        "from category_encoders import BinaryEncoder"
      ]
    },
    {
      "cell_type": "code",
      "execution_count": null,
      "metadata": {
        "id": "8PxXyynZjcr_"
      },
      "outputs": [],
      "source": [
        "train_data = pd.read_csv('/train.csv')\n",
        "test_data =  pd.read_csv('/test.csv')"
      ]
    },
    {
      "cell_type": "code",
      "source": [
        "train_data.shape"
      ],
      "metadata": {
        "colab": {
          "base_uri": "https://localhost:8080/"
        },
        "id": "St-Rq2G12YcJ",
        "outputId": "1cb4a37d-8336-4669-c770-4c6480ca7731"
      },
      "execution_count": 183,
      "outputs": [
        {
          "output_type": "execute_result",
          "data": {
            "text/plain": [
              "(7613, 19)"
            ]
          },
          "metadata": {},
          "execution_count": 183
        }
      ]
    },
    {
      "cell_type": "code",
      "execution_count": null,
      "metadata": {
        "colab": {
          "base_uri": "https://localhost:8080/",
          "height": 204
        },
        "id": "jWkcEQdejcsA",
        "outputId": "a163fbcb-2323-40a0-e4d2-e4b290be9be1"
      },
      "outputs": [
        {
          "output_type": "execute_result",
          "data": {
            "text/plain": [
              "   id keyword location                                               text  \\\n",
              "0   1     NaN      NaN  Our Deeds are the Reason of this #earthquake M...   \n",
              "1   4     NaN      NaN             Forest fire near La Ronge Sask. Canada   \n",
              "2   5     NaN      NaN  All residents asked to 'shelter in place' are ...   \n",
              "3   6     NaN      NaN  13,000 people receive #wildfires evacuation or...   \n",
              "4   7     NaN      NaN  Just got sent this photo from Ruby #Alaska as ...   \n",
              "\n",
              "   target  \n",
              "0       1  \n",
              "1       1  \n",
              "2       1  \n",
              "3       1  \n",
              "4       1  "
            ],
            "text/html": [
              "\n",
              "  <div id=\"df-7dc009fa-c541-4a9c-9a99-6699498c20cd\">\n",
              "    <div class=\"colab-df-container\">\n",
              "      <div>\n",
              "<style scoped>\n",
              "    .dataframe tbody tr th:only-of-type {\n",
              "        vertical-align: middle;\n",
              "    }\n",
              "\n",
              "    .dataframe tbody tr th {\n",
              "        vertical-align: top;\n",
              "    }\n",
              "\n",
              "    .dataframe thead th {\n",
              "        text-align: right;\n",
              "    }\n",
              "</style>\n",
              "<table border=\"1\" class=\"dataframe\">\n",
              "  <thead>\n",
              "    <tr style=\"text-align: right;\">\n",
              "      <th></th>\n",
              "      <th>id</th>\n",
              "      <th>keyword</th>\n",
              "      <th>location</th>\n",
              "      <th>text</th>\n",
              "      <th>target</th>\n",
              "    </tr>\n",
              "  </thead>\n",
              "  <tbody>\n",
              "    <tr>\n",
              "      <th>0</th>\n",
              "      <td>1</td>\n",
              "      <td>NaN</td>\n",
              "      <td>NaN</td>\n",
              "      <td>Our Deeds are the Reason of this #earthquake M...</td>\n",
              "      <td>1</td>\n",
              "    </tr>\n",
              "    <tr>\n",
              "      <th>1</th>\n",
              "      <td>4</td>\n",
              "      <td>NaN</td>\n",
              "      <td>NaN</td>\n",
              "      <td>Forest fire near La Ronge Sask. Canada</td>\n",
              "      <td>1</td>\n",
              "    </tr>\n",
              "    <tr>\n",
              "      <th>2</th>\n",
              "      <td>5</td>\n",
              "      <td>NaN</td>\n",
              "      <td>NaN</td>\n",
              "      <td>All residents asked to 'shelter in place' are ...</td>\n",
              "      <td>1</td>\n",
              "    </tr>\n",
              "    <tr>\n",
              "      <th>3</th>\n",
              "      <td>6</td>\n",
              "      <td>NaN</td>\n",
              "      <td>NaN</td>\n",
              "      <td>13,000 people receive #wildfires evacuation or...</td>\n",
              "      <td>1</td>\n",
              "    </tr>\n",
              "    <tr>\n",
              "      <th>4</th>\n",
              "      <td>7</td>\n",
              "      <td>NaN</td>\n",
              "      <td>NaN</td>\n",
              "      <td>Just got sent this photo from Ruby #Alaska as ...</td>\n",
              "      <td>1</td>\n",
              "    </tr>\n",
              "  </tbody>\n",
              "</table>\n",
              "</div>\n",
              "      <button class=\"colab-df-convert\" onclick=\"convertToInteractive('df-7dc009fa-c541-4a9c-9a99-6699498c20cd')\"\n",
              "              title=\"Convert this dataframe to an interactive table.\"\n",
              "              style=\"display:none;\">\n",
              "        \n",
              "  <svg xmlns=\"http://www.w3.org/2000/svg\" height=\"24px\"viewBox=\"0 0 24 24\"\n",
              "       width=\"24px\">\n",
              "    <path d=\"M0 0h24v24H0V0z\" fill=\"none\"/>\n",
              "    <path d=\"M18.56 5.44l.94 2.06.94-2.06 2.06-.94-2.06-.94-.94-2.06-.94 2.06-2.06.94zm-11 1L8.5 8.5l.94-2.06 2.06-.94-2.06-.94L8.5 2.5l-.94 2.06-2.06.94zm10 10l.94 2.06.94-2.06 2.06-.94-2.06-.94-.94-2.06-.94 2.06-2.06.94z\"/><path d=\"M17.41 7.96l-1.37-1.37c-.4-.4-.92-.59-1.43-.59-.52 0-1.04.2-1.43.59L10.3 9.45l-7.72 7.72c-.78.78-.78 2.05 0 2.83L4 21.41c.39.39.9.59 1.41.59.51 0 1.02-.2 1.41-.59l7.78-7.78 2.81-2.81c.8-.78.8-2.07 0-2.86zM5.41 20L4 18.59l7.72-7.72 1.47 1.35L5.41 20z\"/>\n",
              "  </svg>\n",
              "      </button>\n",
              "      \n",
              "  <style>\n",
              "    .colab-df-container {\n",
              "      display:flex;\n",
              "      flex-wrap:wrap;\n",
              "      gap: 12px;\n",
              "    }\n",
              "\n",
              "    .colab-df-convert {\n",
              "      background-color: #E8F0FE;\n",
              "      border: none;\n",
              "      border-radius: 50%;\n",
              "      cursor: pointer;\n",
              "      display: none;\n",
              "      fill: #1967D2;\n",
              "      height: 32px;\n",
              "      padding: 0 0 0 0;\n",
              "      width: 32px;\n",
              "    }\n",
              "\n",
              "    .colab-df-convert:hover {\n",
              "      background-color: #E2EBFA;\n",
              "      box-shadow: 0px 1px 2px rgba(60, 64, 67, 0.3), 0px 1px 3px 1px rgba(60, 64, 67, 0.15);\n",
              "      fill: #174EA6;\n",
              "    }\n",
              "\n",
              "    [theme=dark] .colab-df-convert {\n",
              "      background-color: #3B4455;\n",
              "      fill: #D2E3FC;\n",
              "    }\n",
              "\n",
              "    [theme=dark] .colab-df-convert:hover {\n",
              "      background-color: #434B5C;\n",
              "      box-shadow: 0px 1px 3px 1px rgba(0, 0, 0, 0.15);\n",
              "      filter: drop-shadow(0px 1px 2px rgba(0, 0, 0, 0.3));\n",
              "      fill: #FFFFFF;\n",
              "    }\n",
              "  </style>\n",
              "\n",
              "      <script>\n",
              "        const buttonEl =\n",
              "          document.querySelector('#df-7dc009fa-c541-4a9c-9a99-6699498c20cd button.colab-df-convert');\n",
              "        buttonEl.style.display =\n",
              "          google.colab.kernel.accessAllowed ? 'block' : 'none';\n",
              "\n",
              "        async function convertToInteractive(key) {\n",
              "          const element = document.querySelector('#df-7dc009fa-c541-4a9c-9a99-6699498c20cd');\n",
              "          const dataTable =\n",
              "            await google.colab.kernel.invokeFunction('convertToInteractive',\n",
              "                                                     [key], {});\n",
              "          if (!dataTable) return;\n",
              "\n",
              "          const docLinkHtml = 'Like what you see? Visit the ' +\n",
              "            '<a target=\"_blank\" href=https://colab.research.google.com/notebooks/data_table.ipynb>data table notebook</a>'\n",
              "            + ' to learn more about interactive tables.';\n",
              "          element.innerHTML = '';\n",
              "          dataTable['output_type'] = 'display_data';\n",
              "          await google.colab.output.renderOutput(dataTable, element);\n",
              "          const docLink = document.createElement('div');\n",
              "          docLink.innerHTML = docLinkHtml;\n",
              "          element.appendChild(docLink);\n",
              "        }\n",
              "      </script>\n",
              "    </div>\n",
              "  </div>\n",
              "  "
            ]
          },
          "metadata": {},
          "execution_count": 5
        }
      ],
      "source": [
        "train_data.head()"
      ]
    },
    {
      "cell_type": "code",
      "source": [
        "test_data.shape"
      ],
      "metadata": {
        "colab": {
          "base_uri": "https://localhost:8080/"
        },
        "id": "ne6mA9vZ2bOp",
        "outputId": "7c12bc29-2884-4fcd-9787-09733c705d51"
      },
      "execution_count": 184,
      "outputs": [
        {
          "output_type": "execute_result",
          "data": {
            "text/plain": [
              "(3263, 18)"
            ]
          },
          "metadata": {},
          "execution_count": 184
        }
      ]
    },
    {
      "cell_type": "code",
      "execution_count": null,
      "metadata": {
        "colab": {
          "base_uri": "https://localhost:8080/",
          "height": 204
        },
        "id": "1NFR_3y9jcsA",
        "outputId": "c8b9eed1-1bd5-4839-b0c3-5e2fbdb15457"
      },
      "outputs": [
        {
          "output_type": "execute_result",
          "data": {
            "text/plain": [
              "   id keyword location                                               text\n",
              "0   0     NaN      NaN                 Just happened a terrible car crash\n",
              "1   2     NaN      NaN  Heard about #earthquake is different cities, s...\n",
              "2   3     NaN      NaN  there is a forest fire at spot pond, geese are...\n",
              "3   9     NaN      NaN           Apocalypse lighting. #Spokane #wildfires\n",
              "4  11     NaN      NaN      Typhoon Soudelor kills 28 in China and Taiwan"
            ],
            "text/html": [
              "\n",
              "  <div id=\"df-d4c49455-b902-4463-b65f-ecbb74edb7c8\">\n",
              "    <div class=\"colab-df-container\">\n",
              "      <div>\n",
              "<style scoped>\n",
              "    .dataframe tbody tr th:only-of-type {\n",
              "        vertical-align: middle;\n",
              "    }\n",
              "\n",
              "    .dataframe tbody tr th {\n",
              "        vertical-align: top;\n",
              "    }\n",
              "\n",
              "    .dataframe thead th {\n",
              "        text-align: right;\n",
              "    }\n",
              "</style>\n",
              "<table border=\"1\" class=\"dataframe\">\n",
              "  <thead>\n",
              "    <tr style=\"text-align: right;\">\n",
              "      <th></th>\n",
              "      <th>id</th>\n",
              "      <th>keyword</th>\n",
              "      <th>location</th>\n",
              "      <th>text</th>\n",
              "    </tr>\n",
              "  </thead>\n",
              "  <tbody>\n",
              "    <tr>\n",
              "      <th>0</th>\n",
              "      <td>0</td>\n",
              "      <td>NaN</td>\n",
              "      <td>NaN</td>\n",
              "      <td>Just happened a terrible car crash</td>\n",
              "    </tr>\n",
              "    <tr>\n",
              "      <th>1</th>\n",
              "      <td>2</td>\n",
              "      <td>NaN</td>\n",
              "      <td>NaN</td>\n",
              "      <td>Heard about #earthquake is different cities, s...</td>\n",
              "    </tr>\n",
              "    <tr>\n",
              "      <th>2</th>\n",
              "      <td>3</td>\n",
              "      <td>NaN</td>\n",
              "      <td>NaN</td>\n",
              "      <td>there is a forest fire at spot pond, geese are...</td>\n",
              "    </tr>\n",
              "    <tr>\n",
              "      <th>3</th>\n",
              "      <td>9</td>\n",
              "      <td>NaN</td>\n",
              "      <td>NaN</td>\n",
              "      <td>Apocalypse lighting. #Spokane #wildfires</td>\n",
              "    </tr>\n",
              "    <tr>\n",
              "      <th>4</th>\n",
              "      <td>11</td>\n",
              "      <td>NaN</td>\n",
              "      <td>NaN</td>\n",
              "      <td>Typhoon Soudelor kills 28 in China and Taiwan</td>\n",
              "    </tr>\n",
              "  </tbody>\n",
              "</table>\n",
              "</div>\n",
              "      <button class=\"colab-df-convert\" onclick=\"convertToInteractive('df-d4c49455-b902-4463-b65f-ecbb74edb7c8')\"\n",
              "              title=\"Convert this dataframe to an interactive table.\"\n",
              "              style=\"display:none;\">\n",
              "        \n",
              "  <svg xmlns=\"http://www.w3.org/2000/svg\" height=\"24px\"viewBox=\"0 0 24 24\"\n",
              "       width=\"24px\">\n",
              "    <path d=\"M0 0h24v24H0V0z\" fill=\"none\"/>\n",
              "    <path d=\"M18.56 5.44l.94 2.06.94-2.06 2.06-.94-2.06-.94-.94-2.06-.94 2.06-2.06.94zm-11 1L8.5 8.5l.94-2.06 2.06-.94-2.06-.94L8.5 2.5l-.94 2.06-2.06.94zm10 10l.94 2.06.94-2.06 2.06-.94-2.06-.94-.94-2.06-.94 2.06-2.06.94z\"/><path d=\"M17.41 7.96l-1.37-1.37c-.4-.4-.92-.59-1.43-.59-.52 0-1.04.2-1.43.59L10.3 9.45l-7.72 7.72c-.78.78-.78 2.05 0 2.83L4 21.41c.39.39.9.59 1.41.59.51 0 1.02-.2 1.41-.59l7.78-7.78 2.81-2.81c.8-.78.8-2.07 0-2.86zM5.41 20L4 18.59l7.72-7.72 1.47 1.35L5.41 20z\"/>\n",
              "  </svg>\n",
              "      </button>\n",
              "      \n",
              "  <style>\n",
              "    .colab-df-container {\n",
              "      display:flex;\n",
              "      flex-wrap:wrap;\n",
              "      gap: 12px;\n",
              "    }\n",
              "\n",
              "    .colab-df-convert {\n",
              "      background-color: #E8F0FE;\n",
              "      border: none;\n",
              "      border-radius: 50%;\n",
              "      cursor: pointer;\n",
              "      display: none;\n",
              "      fill: #1967D2;\n",
              "      height: 32px;\n",
              "      padding: 0 0 0 0;\n",
              "      width: 32px;\n",
              "    }\n",
              "\n",
              "    .colab-df-convert:hover {\n",
              "      background-color: #E2EBFA;\n",
              "      box-shadow: 0px 1px 2px rgba(60, 64, 67, 0.3), 0px 1px 3px 1px rgba(60, 64, 67, 0.15);\n",
              "      fill: #174EA6;\n",
              "    }\n",
              "\n",
              "    [theme=dark] .colab-df-convert {\n",
              "      background-color: #3B4455;\n",
              "      fill: #D2E3FC;\n",
              "    }\n",
              "\n",
              "    [theme=dark] .colab-df-convert:hover {\n",
              "      background-color: #434B5C;\n",
              "      box-shadow: 0px 1px 3px 1px rgba(0, 0, 0, 0.15);\n",
              "      filter: drop-shadow(0px 1px 2px rgba(0, 0, 0, 0.3));\n",
              "      fill: #FFFFFF;\n",
              "    }\n",
              "  </style>\n",
              "\n",
              "      <script>\n",
              "        const buttonEl =\n",
              "          document.querySelector('#df-d4c49455-b902-4463-b65f-ecbb74edb7c8 button.colab-df-convert');\n",
              "        buttonEl.style.display =\n",
              "          google.colab.kernel.accessAllowed ? 'block' : 'none';\n",
              "\n",
              "        async function convertToInteractive(key) {\n",
              "          const element = document.querySelector('#df-d4c49455-b902-4463-b65f-ecbb74edb7c8');\n",
              "          const dataTable =\n",
              "            await google.colab.kernel.invokeFunction('convertToInteractive',\n",
              "                                                     [key], {});\n",
              "          if (!dataTable) return;\n",
              "\n",
              "          const docLinkHtml = 'Like what you see? Visit the ' +\n",
              "            '<a target=\"_blank\" href=https://colab.research.google.com/notebooks/data_table.ipynb>data table notebook</a>'\n",
              "            + ' to learn more about interactive tables.';\n",
              "          element.innerHTML = '';\n",
              "          dataTable['output_type'] = 'display_data';\n",
              "          await google.colab.output.renderOutput(dataTable, element);\n",
              "          const docLink = document.createElement('div');\n",
              "          docLink.innerHTML = docLinkHtml;\n",
              "          element.appendChild(docLink);\n",
              "        }\n",
              "      </script>\n",
              "    </div>\n",
              "  </div>\n",
              "  "
            ]
          },
          "metadata": {},
          "execution_count": 6
        }
      ],
      "source": [
        "test_data.head()"
      ]
    },
    {
      "cell_type": "code",
      "execution_count": null,
      "metadata": {
        "colab": {
          "base_uri": "https://localhost:8080/",
          "height": 346
        },
        "id": "JWs7BBbZjcsB",
        "outputId": "77f5469c-a68e-4edc-b717-28ccc74156d4"
      },
      "outputs": [
        {
          "output_type": "execute_result",
          "data": {
            "text/plain": [
              "Text(0.5, 1.0, 'Test set')"
            ]
          },
          "metadata": {},
          "execution_count": 7
        },
        {
          "output_type": "display_data",
          "data": {
            "text/plain": [
              "<Figure size 864x288 with 2 Axes>"
            ],
            "image/png": "[encoded data removed]"
          },
          "metadata": {
            "needs_background": "light"
          }
        }
      ],
      "source": [
        "# Checking the amount of null information\n",
        "trainNull = train_data.isnull().sum()\n",
        "trainNull_percent = round(trainNull/train_data.shape[0], 3)\n",
        "\n",
        "testNull = test_data.isnull().sum()\n",
        "testNull_percent = round(testNull/test_data.shape[0], 3)\n",
        "\n",
        "labels_train = trainNull.index\n",
        "labels_test = testNull.index\n",
        "width = 0.5\n",
        "\n",
        "# Bar plot\n",
        "fig,(ax1, ax2) = plt.subplots(1,2, figsize=(12,4))\n",
        "fig.suptitle('Normalized null data', y=1.1, weight='bold', size='large')\n",
        "plt.style.use('seaborn-pastel')\n",
        "\n",
        "ax1.bar(labels_train, trainNull_percent, width, color='yellow')\n",
        "ax1.set_title('Train set')\n",
        "ax2.bar(labels_test, testNull_percent, width, color='lightblue')\n",
        "ax2.set_title('Test set')"
      ]
    },
    {
      "cell_type": "code",
      "execution_count": null,
      "metadata": {
        "colab": {
          "base_uri": "https://localhost:8080/",
          "height": 282
        },
        "id": "FIuHtejYjcsB",
        "outputId": "535d5d81-a285-4d91-e4cd-e6dc5265602c"
      },
      "outputs": [
        {
          "output_type": "execute_result",
          "data": {
            "text/plain": [
              "<matplotlib.axes._subplots.AxesSubplot at 0x7f5a68b2de10>"
            ]
          },
          "metadata": {},
          "execution_count": 8
        },
        {
          "output_type": "display_data",
          "data": {
            "text/plain": [
              "<Figure size 432x288 with 1 Axes>"
            ],
            "image/png": "[encoded data removed]"
          },
          "metadata": {
            "needs_background": "light"
          }
        }
      ],
      "source": [
        "#Checking the balance between target classes\n",
        "#(1 = real disaster, 0 = no disaster)\n",
        "\n",
        "train_data['target'].value_counts(normalize=True).plot.barh(color='black')"
      ]
    },
    {
      "cell_type": "code",
      "execution_count": null,
      "metadata": {
        "colab": {
          "base_uri": "https://localhost:8080/",
          "height": 424
        },
        "id": "zbXPXWyzjcsC",
        "outputId": "028acd2f-a56d-41a7-8dd4-a4dfc9ce9bc3"
      },
      "outputs": [
        {
          "output_type": "execute_result",
          "data": {
            "text/plain": [
              "Text(0.5, 1.0, 'Test set')"
            ]
          },
          "metadata": {},
          "execution_count": 9
        },
        {
          "output_type": "display_data",
          "data": {
            "text/plain": [
              "<Figure size 864x288 with 2 Axes>"
            ],
            "image/png": "[encoded data removed]"
          },
          "metadata": {
            "needs_background": "light"
          }
        }
      ],
      "source": [
        "fig2,(ax1, ax2) = plt.subplots(1,2, figsize=(12,4))\n",
        "fig2.suptitle('TOP 15 locations', y=1.1, weight='bold', size='large')\n",
        "plt.style.use('seaborn-pastel')\n",
        "\n",
        "ax1 = train_data['location'].value_counts()[:15].plot.bar(ax=ax1, color='lightcoral')\n",
        "ax1.set_title('Train set')\n",
        "ax2 = test_data['location'].value_counts()[:15].plot.bar(ax=ax2)\n",
        "ax2.set_title('Test set')"
      ]
    },
    {
      "cell_type": "code",
      "execution_count": null,
      "metadata": {
        "colab": {
          "base_uri": "https://localhost:8080/"
        },
        "id": "FIFqaAaWjcsC",
        "outputId": "b06bfd60-bf92-4bc2-e9ba-a29028253d0c"
      },
      "outputs": [
        {
          "output_type": "execute_result",
          "data": {
            "text/plain": [
              "USA                    104\n",
              "New York                71\n",
              "United States           50\n",
              "London                  45\n",
              "Canada                  29\n",
              "                      ... \n",
              "MontrÌ©al, QuÌ©bec       1\n",
              "Montreal                 1\n",
              "ÌÏT: 6.4682,3.18287      1\n",
              "Live4Heed??              1\n",
              "Lincoln                  1\n",
              "Name: location, Length: 3341, dtype: int64"
            ]
          },
          "metadata": {},
          "execution_count": 10
        }
      ],
      "source": [
        "train_data.location.value_counts()"
      ]
    },
    {
      "cell_type": "code",
      "execution_count": null,
      "metadata": {
        "colab": {
          "base_uri": "https://localhost:8080/",
          "height": 549
        },
        "id": "RmyppDKpjcsD",
        "outputId": "4c5b65a0-aedc-4446-b56e-4a1f001d59b6"
      },
      "outputs": [
        {
          "output_type": "display_data",
          "data": {
            "text/plain": [
              "<Figure size 360x504 with 2 Axes>"
            ],
            "image/png": "[encoded data removed]"
          },
          "metadata": {
            "needs_background": "light"
          }
        }
      ],
      "source": [
        "fig2,(ax1, ax2) = plt.subplots(2,1, figsize=(5,7))\n",
        "fig2.tight_layout()\n",
        "fig2.suptitle('TOP 15 Keywords', y=1.05, weight='bold', size='large')\n",
        "plt.style.use('seaborn-pastel')\n",
        "\n",
        "\n",
        "ax1 = train_data['keyword'].value_counts(normalize=True)[:15].sort_values().plot(kind=\"barh\",\n",
        "                                                                                 color='lightcoral',\n",
        "                                                                                 fontsize=10,\n",
        "                                                                                 title='Train set',\n",
        "                                                                                 ax=ax1)\n",
        "\n",
        "ax2 = test_data['keyword'].value_counts(normalize=True)[:15].sort_values().plot(kind=\"barh\",\n",
        "                                                                                 fontsize=10,\n",
        "                                                                                 title='Test set',\n",
        "                                                                                 ax=ax2)"
      ]
    },
    {
      "cell_type": "code",
      "execution_count": null,
      "metadata": {
        "colab": {
          "base_uri": "https://localhost:8080/",
          "height": 317
        },
        "id": "xtr1GzB3jcsD",
        "outputId": "ed755f42-2267-410a-b984-ccb3a5cb5b4e"
      },
      "outputs": [
        {
          "output_type": "execute_result",
          "data": {
            "text/plain": [
              "<matplotlib.legend.Legend at 0x7f5a65fa7050>"
            ]
          },
          "metadata": {},
          "execution_count": 12
        },
        {
          "output_type": "display_data",
          "data": {
            "text/plain": [
              "<Figure size 432x288 with 1 Axes>"
            ],
            "image/png": "[encoded data removed]"
          },
          "metadata": {
            "needs_background": "light"
          }
        }
      ],
      "source": [
        "fig3,ax = plt.subplots() \n",
        "fig3.figsize=(12,4)\n",
        "fig3.suptitle('Tweets length', y=1, weight='bold', size='large')\n",
        "\n",
        "ax = train_data.query(\"target==1\")[\"text\"].str.len().plot(kind=\"hist\",\n",
        "                                                           color=\"orange\",\n",
        "                                                           ax=ax)\n",
        "\n",
        "ax = train_data.query(\"target==0\")[\"text\"].str.len().plot(kind=\"hist\",\n",
        "                                                           color=\"gray\",\n",
        "                                                           alpha=0.5,\n",
        "                                                           ax=ax)\n",
        "ax.set_yscale('log')\n",
        "ax.legend(['Disaster', 'Non-disaster'])"
      ]
    },
    {
      "cell_type": "code",
      "execution_count": null,
      "metadata": {
        "colab": {
          "base_uri": "https://localhost:8080/",
          "height": 317
        },
        "id": "Zez7ZkBqjcsE",
        "outputId": "ee199ac3-c07d-4720-b22f-56b828fd3ae3"
      },
      "outputs": [
        {
          "output_type": "execute_result",
          "data": {
            "text/plain": [
              "<matplotlib.legend.Legend at 0x7f5a65fd5850>"
            ]
          },
          "metadata": {},
          "execution_count": 13
        },
        {
          "output_type": "display_data",
          "data": {
            "text/plain": [
              "<Figure size 432x288 with 1 Axes>"
            ],
            "image/png": "[encoded data removed]"
          },
          "metadata": {
            "needs_background": "light"
          }
        }
      ],
      "source": [
        "fig4,ax = plt.subplots()\n",
        "fig4.figsize=(12,4)\n",
        "fig4.suptitle('Number of Words in each tweet', y=1, weight='bold', size='large')\n",
        "ax.set_title('Train Data', y=1, weight='light', size='large')\n",
        "\n",
        "ax = train_data.query(\"target==1\").text.map(lambda x: len(x.split())).plot(kind=\"kde\",\n",
        "                                                                            color=\"orange\",\n",
        "                                                                            ax=ax)\n",
        "\n",
        "ax = train_data.query(\"target==0\").text.map(lambda x: len(x.split())).plot(kind=\"kde\",\n",
        "                                                                            color=\"gray\",\n",
        "                                                                            ax=ax)\n",
        "ax.legend(['Disaster', 'Non-disaster'])"
      ]
    },
    {
      "cell_type": "code",
      "execution_count": null,
      "metadata": {
        "colab": {
          "base_uri": "https://localhost:8080/",
          "height": 325
        },
        "id": "PNu-tdftjcsE",
        "outputId": "14cb3967-5eec-49b5-ef51-0aa6b4195fda"
      },
      "outputs": [
        {
          "output_type": "execute_result",
          "data": {
            "text/plain": [
              "<matplotlib.legend.Legend at 0x7f5a65d979d0>"
            ]
          },
          "metadata": {},
          "execution_count": 14
        },
        {
          "output_type": "display_data",
          "data": {
            "text/plain": [
              "<Figure size 432x288 with 1 Axes>"
            ],
            "image/png": "[encoded data removed]"
          },
          "metadata": {
            "needs_background": "light"
          }
        }
      ],
      "source": [
        "fig5, ax = plt.subplots()\n",
        "fig5.figsize=(12,5)\n",
        "fig5.suptitle('Average word length in each tweet', weight='bold')\n",
        "\n",
        "each_words_len = train_data.query(\"target==1\").text.str.split().map(lambda x: [len(i) for i in x])\n",
        "sns.histplot(each_words_len.map(lambda x: np.mean(x)), kde=True, ax=ax, color=\"orange\", label='Disaster');\n",
        "\n",
        "each_words_len = train_data.query(\"target==0\").text.str.split().map(lambda x: [len(i) for i in x])\n",
        "sns.histplot(each_words_len.map(lambda x: np.mean(x)), kde=True, ax=ax, color='gray', alpha=0.3,  label='Non-disaster');\n",
        "ax.legend(loc='right')"
      ]
    },
    {
      "cell_type": "code",
      "execution_count": null,
      "metadata": {
        "colab": {
          "base_uri": "https://localhost:8080/",
          "height": 35
        },
        "id": "jukx3hGejcsE",
        "outputId": "2202c395-f90a-4d80-cac7-c8f85e5eb062"
      },
      "outputs": [
        {
          "output_type": "execute_result",
          "data": {
            "text/plain": [
              "'!\"#$%&\\'()*+,-./:;<=>?@[\\\\]^_`{|}~'"
            ],
            "application/vnd.google.colaboratory.intrinsic+json": {
              "type": "string"
            }
          },
          "metadata": {},
          "execution_count": 15
        }
      ],
      "source": [
        "string.punctuation"
      ]
    },
    {
      "cell_type": "code",
      "execution_count": null,
      "metadata": {
        "id": "BOnXkxhpjcsF"
      },
      "outputs": [],
      "source": [
        "def plot_punctuations(df, target):\n",
        "    \n",
        "    punctations_dict = defaultdict(int)\n",
        "    \n",
        "    for idx, text in df[df[\"target\"]==target].text.iteritems():\n",
        "        for token in text.split():\n",
        "            if token in string.punctuation:\n",
        "                punctations_dict[token] +=1   \n",
        "\n",
        "    return dict(sorted(punctations_dict.items(), key=lambda x: x[1], reverse=True))\n",
        "\n",
        "\n",
        "dt_punctuations = plot_punctuations(train_data, target=1)\n",
        "ndt_punctuations = plot_punctuations(train_data, target=0)"
      ]
    },
    {
      "cell_type": "code",
      "execution_count": null,
      "metadata": {
        "colab": {
          "base_uri": "https://localhost:8080/",
          "height": 295
        },
        "id": "oUCwtnnrjcsF",
        "outputId": "9cf61767-379f-471a-f867-274edd2ad8e8"
      },
      "outputs": [
        {
          "output_type": "display_data",
          "data": {
            "text/plain": [
              "<Figure size 432x288 with 1 Axes>"
            ],
            "image/png": "[encoded data removed]"
          },
          "metadata": {
            "needs_background": "light"
          }
        }
      ],
      "source": [
        "fig6, ax = plt.subplots()\n",
        "fig6.figsize=(12,5)\n",
        "fig6.suptitle('Punctuation items distribution', weight='bold')\n",
        "\n",
        "x1, y1 = zip(*dt_punctuations.items())\n",
        "ax.bar(x1, y1, color=\"orange\", alpha=0.9, label=\"Disaster tweets\")\n",
        "\n",
        "x2, y2 = zip(*ndt_punctuations.items())\n",
        "ax.bar(x2, y2, color=\"gray\", alpha=0.4, label=\"Non-Disaster tweets\")\n",
        "ax.legend()\n",
        "ax.set_yscale('log')"
      ]
    },
    {
      "cell_type": "code",
      "source": [
        "import nltk\n",
        "nltk.download('stopwords')"
      ],
      "metadata": {
        "colab": {
          "base_uri": "https://localhost:8080/"
        },
        "id": "TVcPQ_HjlWV-",
        "outputId": "55d630bf-663d-4222-9a64-cf95ab3dbc23"
      },
      "execution_count": null,
      "outputs": [
        {
          "output_type": "stream",
          "name": "stderr",
          "text": [
            "[nltk_data] Downloading package stopwords to /root/nltk_data...\n",
            "[nltk_data]   Package stopwords is already up-to-date!\n"
          ]
        },
        {
          "output_type": "execute_result",
          "data": {
            "text/plain": [
              "True"
            ]
          },
          "metadata": {},
          "execution_count": 18
        }
      ]
    },
    {
      "cell_type": "code",
      "execution_count": null,
      "metadata": {
        "id": "LKSZDTy_jcsF"
      },
      "outputs": [],
      "source": [
        "stop_words= set(stopwords.words(\"english\"))\n",
        "\n",
        "# updating the stopwords considering the following list\n",
        "stop_words.update(['https', 'http', 'amp', 'CO', 't', 'u', 'new', \"I'm\", \"would\"])\n",
        "\n",
        "wc = WordCloud(width=800,\n",
        "               height=400,\n",
        "               max_words=200,\n",
        "               stopwords=stop_words,\n",
        "               background_color= \"black\", \n",
        "               colormap=\"Paired\",\n",
        "               max_font_size=150)"
      ]
    },
    {
      "cell_type": "markdown",
      "metadata": {
        "id": "n-6I9HDpjcsF"
      },
      "source": [
        "In order to plot de the word cloud, we will use the method **plt.imshow**. According to matplotlib documentation: *Display data as an image, i.e., on a 2D regular raster. The input may either be actual RGB(A) data, or 2D scalar data, which will be rendered as a pseudocolor image.*"
      ]
    },
    {
      "cell_type": "code",
      "execution_count": null,
      "metadata": {
        "colab": {
          "base_uri": "https://localhost:8080/",
          "height": 657
        },
        "id": "ITyFIaP1jcsG",
        "outputId": "5201851c-97df-41d8-c9c4-4f7214065d99"
      },
      "outputs": [
        {
          "output_type": "stream",
          "name": "stdout",
          "text": [
            "\u001b[1m\n",
            "Word Cloud for Disaster Tweets\u001b[0m\n"
          ]
        },
        {
          "output_type": "display_data",
          "data": {
            "text/plain": [
              "<Figure size 864x360 with 1 Axes>"
            ],
            "image/png": "[encoded data removed]"
          },
          "metadata": {
            "needs_background": "light"
          }
        },
        {
          "output_type": "stream",
          "name": "stdout",
          "text": [
            "\u001b[1m\n",
            "Word Cloud for Non-Disaster Tweets\u001b[0m\n"
          ]
        },
        {
          "output_type": "display_data",
          "data": {
            "text/plain": [
              "<Figure size 864x360 with 1 Axes>"
            ],
            "image/png": "[encoded data removed]"
          },
          "metadata": {
            "needs_background": "light"
          }
        }
      ],
      "source": [
        "disaster_tweets = (train_data.query(\"target==1\").text).str.cat(sep=\" \")  # str.cat -- string concatenation\n",
        "\n",
        "non_disaster_tweets = (train_data.query(\"target==0\").text).str.cat(sep=\" \")\n",
        "\n",
        "print('\\033[1m'\"\\nWord Cloud for Disaster Tweets\"'\\033[0m')\n",
        "wc.generate(disaster_tweets)\n",
        "plt.figure(figsize=(12, 5))\n",
        "plt.imshow(wc, interpolation='bilinear')\n",
        "plt.axis('off')\n",
        "plt.show()\n",
        "\n",
        "print('\\033[1m'\"\\nWord Cloud for Non-Disaster Tweets\"'\\033[0m')\n",
        "wc.generate(non_disaster_tweets)\n",
        "plt.figure(figsize=(12, 5))\n",
        "plt.imshow(wc, interpolation='bilinear')\n",
        "plt.axis('off')\n",
        "plt.show()"
      ]
    },
    {
      "cell_type": "markdown",
      "metadata": {
        "id": "Q8TXpQudjcsG"
      },
      "source": [
        " "
      ]
    },
    {
      "cell_type": "markdown",
      "metadata": {
        "id": "6iPMZ6i1jcsG"
      },
      "source": [
        "### Feature Engineering"
      ]
    },
    {
      "cell_type": "markdown",
      "metadata": {
        "id": "spsdn-LAjcsG"
      },
      "source": [
        "**FEATURE 1:** tweet length (in number of chars)"
      ]
    },
    {
      "cell_type": "code",
      "execution_count": null,
      "metadata": {
        "id": "xZVYV4RHjcsG"
      },
      "outputs": [],
      "source": [
        "train_data['num chars'] = train_data[\"text\"].str.len().values\n",
        "test_data['num chars']  = test_data[\"text\"].str.len().values"
      ]
    },
    {
      "cell_type": "code",
      "execution_count": null,
      "metadata": {
        "colab": {
          "base_uri": "https://localhost:8080/",
          "height": 111
        },
        "id": "RgpX1yXtjcsH",
        "outputId": "aedd4fb9-6c85-4693-b859-e00ec4c9c5e3"
      },
      "outputs": [
        {
          "output_type": "execute_result",
          "data": {
            "text/plain": [
              "   id keyword location                                               text  \\\n",
              "0   1     NaN      NaN  Our Deeds are the Reason of this #earthquake M...   \n",
              "1   4     NaN      NaN             Forest fire near La Ronge Sask. Canada   \n",
              "\n",
              "   target  num chars  \n",
              "0       1         69  \n",
              "1       1         38  "
            ],
            "text/html": [
              "\n",
              "  <div id=\"df-dd2ba442-364e-4b2e-92dd-2dea441317ca\">\n",
              "    <div class=\"colab-df-container\">\n",
              "      <div>\n",
              "<style scoped>\n",
              "    .dataframe tbody tr th:only-of-type {\n",
              "        vertical-align: middle;\n",
              "    }\n",
              "\n",
              "    .dataframe tbody tr th {\n",
              "        vertical-align: top;\n",
              "    }\n",
              "\n",
              "    .dataframe thead th {\n",
              "        text-align: right;\n",
              "    }\n",
              "</style>\n",
              "<table border=\"1\" class=\"dataframe\">\n",
              "  <thead>\n",
              "    <tr style=\"text-align: right;\">\n",
              "      <th></th>\n",
              "      <th>id</th>\n",
              "      <th>keyword</th>\n",
              "      <th>location</th>\n",
              "      <th>text</th>\n",
              "      <th>target</th>\n",
              "      <th>num chars</th>\n",
              "    </tr>\n",
              "  </thead>\n",
              "  <tbody>\n",
              "    <tr>\n",
              "      <th>0</th>\n",
              "      <td>1</td>\n",
              "      <td>NaN</td>\n",
              "      <td>NaN</td>\n",
              "      <td>Our Deeds are the Reason of this #earthquake M...</td>\n",
              "      <td>1</td>\n",
              "      <td>69</td>\n",
              "    </tr>\n",
              "    <tr>\n",
              "      <th>1</th>\n",
              "      <td>4</td>\n",
              "      <td>NaN</td>\n",
              "      <td>NaN</td>\n",
              "      <td>Forest fire near La Ronge Sask. Canada</td>\n",
              "      <td>1</td>\n",
              "      <td>38</td>\n",
              "    </tr>\n",
              "  </tbody>\n",
              "</table>\n",
              "</div>\n",
              "      <button class=\"colab-df-convert\" onclick=\"convertToInteractive('df-dd2ba442-364e-4b2e-92dd-2dea441317ca')\"\n",
              "              title=\"Convert this dataframe to an interactive table.\"\n",
              "              style=\"display:none;\">\n",
              "        \n",
              "  <svg xmlns=\"http://www.w3.org/2000/svg\" height=\"24px\"viewBox=\"0 0 24 24\"\n",
              "       width=\"24px\">\n",
              "    <path d=\"M0 0h24v24H0V0z\" fill=\"none\"/>\n",
              "    <path d=\"M18.56 5.44l.94 2.06.94-2.06 2.06-.94-2.06-.94-.94-2.06-.94 2.06-2.06.94zm-11 1L8.5 8.5l.94-2.06 2.06-.94-2.06-.94L8.5 2.5l-.94 2.06-2.06.94zm10 10l.94 2.06.94-2.06 2.06-.94-2.06-.94-.94-2.06-.94 2.06-2.06.94z\"/><path d=\"M17.41 7.96l-1.37-1.37c-.4-.4-.92-.59-1.43-.59-.52 0-1.04.2-1.43.59L10.3 9.45l-7.72 7.72c-.78.78-.78 2.05 0 2.83L4 21.41c.39.39.9.59 1.41.59.51 0 1.02-.2 1.41-.59l7.78-7.78 2.81-2.81c.8-.78.8-2.07 0-2.86zM5.41 20L4 18.59l7.72-7.72 1.47 1.35L5.41 20z\"/>\n",
              "  </svg>\n",
              "      </button>\n",
              "      \n",
              "  <style>\n",
              "    .colab-df-container {\n",
              "      display:flex;\n",
              "      flex-wrap:wrap;\n",
              "      gap: 12px;\n",
              "    }\n",
              "\n",
              "    .colab-df-convert {\n",
              "      background-color: #E8F0FE;\n",
              "      border: none;\n",
              "      border-radius: 50%;\n",
              "      cursor: pointer;\n",
              "      display: none;\n",
              "      fill: #1967D2;\n",
              "      height: 32px;\n",
              "      padding: 0 0 0 0;\n",
              "      width: 32px;\n",
              "    }\n",
              "\n",
              "    .colab-df-convert:hover {\n",
              "      background-color: #E2EBFA;\n",
              "      box-shadow: 0px 1px 2px rgba(60, 64, 67, 0.3), 0px 1px 3px 1px rgba(60, 64, 67, 0.15);\n",
              "      fill: #174EA6;\n",
              "    }\n",
              "\n",
              "    [theme=dark] .colab-df-convert {\n",
              "      background-color: #3B4455;\n",
              "      fill: #D2E3FC;\n",
              "    }\n",
              "\n",
              "    [theme=dark] .colab-df-convert:hover {\n",
              "      background-color: #434B5C;\n",
              "      box-shadow: 0px 1px 3px 1px rgba(0, 0, 0, 0.15);\n",
              "      filter: drop-shadow(0px 1px 2px rgba(0, 0, 0, 0.3));\n",
              "      fill: #FFFFFF;\n",
              "    }\n",
              "  </style>\n",
              "\n",
              "      <script>\n",
              "        const buttonEl =\n",
              "          document.querySelector('#df-dd2ba442-364e-4b2e-92dd-2dea441317ca button.colab-df-convert');\n",
              "        buttonEl.style.display =\n",
              "          google.colab.kernel.accessAllowed ? 'block' : 'none';\n",
              "\n",
              "        async function convertToInteractive(key) {\n",
              "          const element = document.querySelector('#df-dd2ba442-364e-4b2e-92dd-2dea441317ca');\n",
              "          const dataTable =\n",
              "            await google.colab.kernel.invokeFunction('convertToInteractive',\n",
              "                                                     [key], {});\n",
              "          if (!dataTable) return;\n",
              "\n",
              "          const docLinkHtml = 'Like what you see? Visit the ' +\n",
              "            '<a target=\"_blank\" href=https://colab.research.google.com/notebooks/data_table.ipynb>data table notebook</a>'\n",
              "            + ' to learn more about interactive tables.';\n",
              "          element.innerHTML = '';\n",
              "          dataTable['output_type'] = 'display_data';\n",
              "          await google.colab.output.renderOutput(dataTable, element);\n",
              "          const docLink = document.createElement('div');\n",
              "          docLink.innerHTML = docLinkHtml;\n",
              "          element.appendChild(docLink);\n",
              "        }\n",
              "      </script>\n",
              "    </div>\n",
              "  </div>\n",
              "  "
            ]
          },
          "metadata": {},
          "execution_count": 22
        }
      ],
      "source": [
        "train_data.head(2)"
      ]
    },
    {
      "cell_type": "code",
      "execution_count": null,
      "metadata": {
        "colab": {
          "base_uri": "https://localhost:8080/",
          "height": 111
        },
        "id": "jAqyV5zUjcsH",
        "outputId": "0f69e15f-ea20-4b64-a75d-ef88a8311895"
      },
      "outputs": [
        {
          "output_type": "execute_result",
          "data": {
            "text/plain": [
              "   id keyword location                                               text  \\\n",
              "0   0     NaN      NaN                 Just happened a terrible car crash   \n",
              "1   2     NaN      NaN  Heard about #earthquake is different cities, s...   \n",
              "\n",
              "   num chars  \n",
              "0         34  \n",
              "1         64  "
            ],
            "text/html": [
              "\n",
              "  <div id=\"df-e6c6a03e-c9dc-4e53-a8cc-f131d21c804f\">\n",
              "    <div class=\"colab-df-container\">\n",
              "      <div>\n",
              "<style scoped>\n",
              "    .dataframe tbody tr th:only-of-type {\n",
              "        vertical-align: middle;\n",
              "    }\n",
              "\n",
              "    .dataframe tbody tr th {\n",
              "        vertical-align: top;\n",
              "    }\n",
              "\n",
              "    .dataframe thead th {\n",
              "        text-align: right;\n",
              "    }\n",
              "</style>\n",
              "<table border=\"1\" class=\"dataframe\">\n",
              "  <thead>\n",
              "    <tr style=\"text-align: right;\">\n",
              "      <th></th>\n",
              "      <th>id</th>\n",
              "      <th>keyword</th>\n",
              "      <th>location</th>\n",
              "      <th>text</th>\n",
              "      <th>num chars</th>\n",
              "    </tr>\n",
              "  </thead>\n",
              "  <tbody>\n",
              "    <tr>\n",
              "      <th>0</th>\n",
              "      <td>0</td>\n",
              "      <td>NaN</td>\n",
              "      <td>NaN</td>\n",
              "      <td>Just happened a terrible car crash</td>\n",
              "      <td>34</td>\n",
              "    </tr>\n",
              "    <tr>\n",
              "      <th>1</th>\n",
              "      <td>2</td>\n",
              "      <td>NaN</td>\n",
              "      <td>NaN</td>\n",
              "      <td>Heard about #earthquake is different cities, s...</td>\n",
              "      <td>64</td>\n",
              "    </tr>\n",
              "  </tbody>\n",
              "</table>\n",
              "</div>\n",
              "      <button class=\"colab-df-convert\" onclick=\"convertToInteractive('df-e6c6a03e-c9dc-4e53-a8cc-f131d21c804f')\"\n",
              "              title=\"Convert this dataframe to an interactive table.\"\n",
              "              style=\"display:none;\">\n",
              "        \n",
              "  <svg xmlns=\"http://www.w3.org/2000/svg\" height=\"24px\"viewBox=\"0 0 24 24\"\n",
              "       width=\"24px\">\n",
              "    <path d=\"M0 0h24v24H0V0z\" fill=\"none\"/>\n",
              "    <path d=\"M18.56 5.44l.94 2.06.94-2.06 2.06-.94-2.06-.94-.94-2.06-.94 2.06-2.06.94zm-11 1L8.5 8.5l.94-2.06 2.06-.94-2.06-.94L8.5 2.5l-.94 2.06-2.06.94zm10 10l.94 2.06.94-2.06 2.06-.94-2.06-.94-.94-2.06-.94 2.06-2.06.94z\"/><path d=\"M17.41 7.96l-1.37-1.37c-.4-.4-.92-.59-1.43-.59-.52 0-1.04.2-1.43.59L10.3 9.45l-7.72 7.72c-.78.78-.78 2.05 0 2.83L4 21.41c.39.39.9.59 1.41.59.51 0 1.02-.2 1.41-.59l7.78-7.78 2.81-2.81c.8-.78.8-2.07 0-2.86zM5.41 20L4 18.59l7.72-7.72 1.47 1.35L5.41 20z\"/>\n",
              "  </svg>\n",
              "      </button>\n",
              "      \n",
              "  <style>\n",
              "    .colab-df-container {\n",
              "      display:flex;\n",
              "      flex-wrap:wrap;\n",
              "      gap: 12px;\n",
              "    }\n",
              "\n",
              "    .colab-df-convert {\n",
              "      background-color: #E8F0FE;\n",
              "      border: none;\n",
              "      border-radius: 50%;\n",
              "      cursor: pointer;\n",
              "      display: none;\n",
              "      fill: #1967D2;\n",
              "      height: 32px;\n",
              "      padding: 0 0 0 0;\n",
              "      width: 32px;\n",
              "    }\n",
              "\n",
              "    .colab-df-convert:hover {\n",
              "      background-color: #E2EBFA;\n",
              "      box-shadow: 0px 1px 2px rgba(60, 64, 67, 0.3), 0px 1px 3px 1px rgba(60, 64, 67, 0.15);\n",
              "      fill: #174EA6;\n",
              "    }\n",
              "\n",
              "    [theme=dark] .colab-df-convert {\n",
              "      background-color: #3B4455;\n",
              "      fill: #D2E3FC;\n",
              "    }\n",
              "\n",
              "    [theme=dark] .colab-df-convert:hover {\n",
              "      background-color: #434B5C;\n",
              "      box-shadow: 0px 1px 3px 1px rgba(0, 0, 0, 0.15);\n",
              "      filter: drop-shadow(0px 1px 2px rgba(0, 0, 0, 0.3));\n",
              "      fill: #FFFFFF;\n",
              "    }\n",
              "  </style>\n",
              "\n",
              "      <script>\n",
              "        const buttonEl =\n",
              "          document.querySelector('#df-e6c6a03e-c9dc-4e53-a8cc-f131d21c804f button.colab-df-convert');\n",
              "        buttonEl.style.display =\n",
              "          google.colab.kernel.accessAllowed ? 'block' : 'none';\n",
              "\n",
              "        async function convertToInteractive(key) {\n",
              "          const element = document.querySelector('#df-e6c6a03e-c9dc-4e53-a8cc-f131d21c804f');\n",
              "          const dataTable =\n",
              "            await google.colab.kernel.invokeFunction('convertToInteractive',\n",
              "                                                     [key], {});\n",
              "          if (!dataTable) return;\n",
              "\n",
              "          const docLinkHtml = 'Like what you see? Visit the ' +\n",
              "            '<a target=\"_blank\" href=https://colab.research.google.com/notebooks/data_table.ipynb>data table notebook</a>'\n",
              "            + ' to learn more about interactive tables.';\n",
              "          element.innerHTML = '';\n",
              "          dataTable['output_type'] = 'display_data';\n",
              "          await google.colab.output.renderOutput(dataTable, element);\n",
              "          const docLink = document.createElement('div');\n",
              "          docLink.innerHTML = docLinkHtml;\n",
              "          element.appendChild(docLink);\n",
              "        }\n",
              "      </script>\n",
              "    </div>\n",
              "  </div>\n",
              "  "
            ]
          },
          "metadata": {},
          "execution_count": 23
        }
      ],
      "source": [
        "test_data.head(2)"
      ]
    },
    {
      "cell_type": "markdown",
      "metadata": {
        "id": "EFPko54mjcsH"
      },
      "source": [
        " "
      ]
    },
    {
      "cell_type": "markdown",
      "metadata": {
        "id": "vEF-BWX9jcsH"
      },
      "source": [
        "**FEATURE 2:** number of special chars"
      ]
    },
    {
      "cell_type": "code",
      "execution_count": null,
      "metadata": {
        "id": "GcTs_IqqjcsH"
      },
      "outputs": [],
      "source": [
        "def count_special_chars(df):\n",
        "    \n",
        "    '''\n",
        "    Uses regex to identify special chars in text. \n",
        "    [^a-zA-Z0-9\\s] means: anything in the interval [] that is NOT (^): [a-z] or [A-Z] or [0-9] or \\s (space)\n",
        "    \n",
        "    Parameters:\n",
        "        df: Dataset\n",
        "    Returns: \n",
        "        A list with the amount of special chars for each example of the dataset\n",
        "    \n",
        "    '''\n",
        "    special_chars=[]\n",
        "    \n",
        "    for text in df['text']:\n",
        "        special_chars.append(len(re.findall(r'[^a-zA-Z0-9\\s]', text)))\n",
        "    \n",
        "    return special_chars"
      ]
    },
    {
      "cell_type": "code",
      "execution_count": null,
      "metadata": {
        "id": "1D9GWeOujcsH"
      },
      "outputs": [],
      "source": [
        "train_data['num special chars'] = count_special_chars(train_data)\n",
        "test_data['num special chars']  =  count_special_chars(test_data)"
      ]
    },
    {
      "cell_type": "code",
      "execution_count": null,
      "metadata": {
        "colab": {
          "base_uri": "https://localhost:8080/",
          "height": 142
        },
        "id": "sQkoZkVFjcsI",
        "outputId": "6d23935f-053d-40e6-9ce6-5542878fed8f"
      },
      "outputs": [
        {
          "output_type": "execute_result",
          "data": {
            "text/plain": [
              "   id keyword location                                               text  \\\n",
              "0   1     NaN      NaN  Our Deeds are the Reason of this #earthquake M...   \n",
              "1   4     NaN      NaN             Forest fire near La Ronge Sask. Canada   \n",
              "2   5     NaN      NaN  All residents asked to 'shelter in place' are ...   \n",
              "\n",
              "   target  num chars  num special chars  \n",
              "0       1         69                  1  \n",
              "1       1         38                  1  \n",
              "2       1        133                  3  "
            ],
            "text/html": [
              "\n",
              "  <div id=\"df-d73384ef-5ea4-4f4d-9bdb-5f999c624b11\">\n",
              "    <div class=\"colab-df-container\">\n",
              "      <div>\n",
              "<style scoped>\n",
              "    .dataframe tbody tr th:only-of-type {\n",
              "        vertical-align: middle;\n",
              "    }\n",
              "\n",
              "    .dataframe tbody tr th {\n",
              "        vertical-align: top;\n",
              "    }\n",
              "\n",
              "    .dataframe thead th {\n",
              "        text-align: right;\n",
              "    }\n",
              "</style>\n",
              "<table border=\"1\" class=\"dataframe\">\n",
              "  <thead>\n",
              "    <tr style=\"text-align: right;\">\n",
              "      <th></th>\n",
              "      <th>id</th>\n",
              "      <th>keyword</th>\n",
              "      <th>location</th>\n",
              "      <th>text</th>\n",
              "      <th>target</th>\n",
              "      <th>num chars</th>\n",
              "      <th>num special chars</th>\n",
              "    </tr>\n",
              "  </thead>\n",
              "  <tbody>\n",
              "    <tr>\n",
              "      <th>0</th>\n",
              "      <td>1</td>\n",
              "      <td>NaN</td>\n",
              "      <td>NaN</td>\n",
              "      <td>Our Deeds are the Reason of this #earthquake M...</td>\n",
              "      <td>1</td>\n",
              "      <td>69</td>\n",
              "      <td>1</td>\n",
              "    </tr>\n",
              "    <tr>\n",
              "      <th>1</th>\n",
              "      <td>4</td>\n",
              "      <td>NaN</td>\n",
              "      <td>NaN</td>\n",
              "      <td>Forest fire near La Ronge Sask. Canada</td>\n",
              "      <td>1</td>\n",
              "      <td>38</td>\n",
              "      <td>1</td>\n",
              "    </tr>\n",
              "    <tr>\n",
              "      <th>2</th>\n",
              "      <td>5</td>\n",
              "      <td>NaN</td>\n",
              "      <td>NaN</td>\n",
              "      <td>All residents asked to 'shelter in place' are ...</td>\n",
              "      <td>1</td>\n",
              "      <td>133</td>\n",
              "      <td>3</td>\n",
              "    </tr>\n",
              "  </tbody>\n",
              "</table>\n",
              "</div>\n",
              "      <button class=\"colab-df-convert\" onclick=\"convertToInteractive('df-d73384ef-5ea4-4f4d-9bdb-5f999c624b11')\"\n",
              "              title=\"Convert this dataframe to an interactive table.\"\n",
              "              style=\"display:none;\">\n",
              "        \n",
              "  <svg xmlns=\"http://www.w3.org/2000/svg\" height=\"24px\"viewBox=\"0 0 24 24\"\n",
              "       width=\"24px\">\n",
              "    <path d=\"M0 0h24v24H0V0z\" fill=\"none\"/>\n",
              "    <path d=\"M18.56 5.44l.94 2.06.94-2.06 2.06-.94-2.06-.94-.94-2.06-.94 2.06-2.06.94zm-11 1L8.5 8.5l.94-2.06 2.06-.94-2.06-.94L8.5 2.5l-.94 2.06-2.06.94zm10 10l.94 2.06.94-2.06 2.06-.94-2.06-.94-.94-2.06-.94 2.06-2.06.94z\"/><path d=\"M17.41 7.96l-1.37-1.37c-.4-.4-.92-.59-1.43-.59-.52 0-1.04.2-1.43.59L10.3 9.45l-7.72 7.72c-.78.78-.78 2.05 0 2.83L4 21.41c.39.39.9.59 1.41.59.51 0 1.02-.2 1.41-.59l7.78-7.78 2.81-2.81c.8-.78.8-2.07 0-2.86zM5.41 20L4 18.59l7.72-7.72 1.47 1.35L5.41 20z\"/>\n",
              "  </svg>\n",
              "      </button>\n",
              "      \n",
              "  <style>\n",
              "    .colab-df-container {\n",
              "      display:flex;\n",
              "      flex-wrap:wrap;\n",
              "      gap: 12px;\n",
              "    }\n",
              "\n",
              "    .colab-df-convert {\n",
              "      background-color: #E8F0FE;\n",
              "      border: none;\n",
              "      border-radius: 50%;\n",
              "      cursor: pointer;\n",
              "      display: none;\n",
              "      fill: #1967D2;\n",
              "      height: 32px;\n",
              "      padding: 0 0 0 0;\n",
              "      width: 32px;\n",
              "    }\n",
              "\n",
              "    .colab-df-convert:hover {\n",
              "      background-color: #E2EBFA;\n",
              "      box-shadow: 0px 1px 2px rgba(60, 64, 67, 0.3), 0px 1px 3px 1px rgba(60, 64, 67, 0.15);\n",
              "      fill: #174EA6;\n",
              "    }\n",
              "\n",
              "    [theme=dark] .colab-df-convert {\n",
              "      background-color: #3B4455;\n",
              "      fill: #D2E3FC;\n",
              "    }\n",
              "\n",
              "    [theme=dark] .colab-df-convert:hover {\n",
              "      background-color: #434B5C;\n",
              "      box-shadow: 0px 1px 3px 1px rgba(0, 0, 0, 0.15);\n",
              "      filter: drop-shadow(0px 1px 2px rgba(0, 0, 0, 0.3));\n",
              "      fill: #FFFFFF;\n",
              "    }\n",
              "  </style>\n",
              "\n",
              "      <script>\n",
              "        const buttonEl =\n",
              "          document.querySelector('#df-d73384ef-5ea4-4f4d-9bdb-5f999c624b11 button.colab-df-convert');\n",
              "        buttonEl.style.display =\n",
              "          google.colab.kernel.accessAllowed ? 'block' : 'none';\n",
              "\n",
              "        async function convertToInteractive(key) {\n",
              "          const element = document.querySelector('#df-d73384ef-5ea4-4f4d-9bdb-5f999c624b11');\n",
              "          const dataTable =\n",
              "            await google.colab.kernel.invokeFunction('convertToInteractive',\n",
              "                                                     [key], {});\n",
              "          if (!dataTable) return;\n",
              "\n",
              "          const docLinkHtml = 'Like what you see? Visit the ' +\n",
              "            '<a target=\"_blank\" href=https://colab.research.google.com/notebooks/data_table.ipynb>data table notebook</a>'\n",
              "            + ' to learn more about interactive tables.';\n",
              "          element.innerHTML = '';\n",
              "          dataTable['output_type'] = 'display_data';\n",
              "          await google.colab.output.renderOutput(dataTable, element);\n",
              "          const docLink = document.createElement('div');\n",
              "          docLink.innerHTML = docLinkHtml;\n",
              "          element.appendChild(docLink);\n",
              "        }\n",
              "      </script>\n",
              "    </div>\n",
              "  </div>\n",
              "  "
            ]
          },
          "metadata": {},
          "execution_count": 26
        }
      ],
      "source": [
        "train_data.head(3)"
      ]
    },
    {
      "cell_type": "code",
      "execution_count": null,
      "metadata": {
        "colab": {
          "base_uri": "https://localhost:8080/",
          "height": 142
        },
        "id": "8pA9HiCMjcsI",
        "outputId": "deaa6c57-3893-4b38-d2d9-4bc8f912d148"
      },
      "outputs": [
        {
          "output_type": "execute_result",
          "data": {
            "text/plain": [
              "   id keyword location                                               text  \\\n",
              "0   0     NaN      NaN                 Just happened a terrible car crash   \n",
              "1   2     NaN      NaN  Heard about #earthquake is different cities, s...   \n",
              "2   3     NaN      NaN  there is a forest fire at spot pond, geese are...   \n",
              "\n",
              "   num chars  num special chars  \n",
              "0         34                  0  \n",
              "1         64                  3  \n",
              "2         96                  2  "
            ],
            "text/html": [
              "\n",
              "  <div id=\"df-ca5437a9-35aa-4702-a005-266a7d7094ab\">\n",
              "    <div class=\"colab-df-container\">\n",
              "      <div>\n",
              "<style scoped>\n",
              "    .dataframe tbody tr th:only-of-type {\n",
              "        vertical-align: middle;\n",
              "    }\n",
              "\n",
              "    .dataframe tbody tr th {\n",
              "        vertical-align: top;\n",
              "    }\n",
              "\n",
              "    .dataframe thead th {\n",
              "        text-align: right;\n",
              "    }\n",
              "</style>\n",
              "<table border=\"1\" class=\"dataframe\">\n",
              "  <thead>\n",
              "    <tr style=\"text-align: right;\">\n",
              "      <th></th>\n",
              "      <th>id</th>\n",
              "      <th>keyword</th>\n",
              "      <th>location</th>\n",
              "      <th>text</th>\n",
              "      <th>num chars</th>\n",
              "      <th>num special chars</th>\n",
              "    </tr>\n",
              "  </thead>\n",
              "  <tbody>\n",
              "    <tr>\n",
              "      <th>0</th>\n",
              "      <td>0</td>\n",
              "      <td>NaN</td>\n",
              "      <td>NaN</td>\n",
              "      <td>Just happened a terrible car crash</td>\n",
              "      <td>34</td>\n",
              "      <td>0</td>\n",
              "    </tr>\n",
              "    <tr>\n",
              "      <th>1</th>\n",
              "      <td>2</td>\n",
              "      <td>NaN</td>\n",
              "      <td>NaN</td>\n",
              "      <td>Heard about #earthquake is different cities, s...</td>\n",
              "      <td>64</td>\n",
              "      <td>3</td>\n",
              "    </tr>\n",
              "    <tr>\n",
              "      <th>2</th>\n",
              "      <td>3</td>\n",
              "      <td>NaN</td>\n",
              "      <td>NaN</td>\n",
              "      <td>there is a forest fire at spot pond, geese are...</td>\n",
              "      <td>96</td>\n",
              "      <td>2</td>\n",
              "    </tr>\n",
              "  </tbody>\n",
              "</table>\n",
              "</div>\n",
              "      <button class=\"colab-df-convert\" onclick=\"convertToInteractive('df-ca5437a9-35aa-4702-a005-266a7d7094ab')\"\n",
              "              title=\"Convert this dataframe to an interactive table.\"\n",
              "              style=\"display:none;\">\n",
              "        \n",
              "  <svg xmlns=\"http://www.w3.org/2000/svg\" height=\"24px\"viewBox=\"0 0 24 24\"\n",
              "       width=\"24px\">\n",
              "    <path d=\"M0 0h24v24H0V0z\" fill=\"none\"/>\n",
              "    <path d=\"M18.56 5.44l.94 2.06.94-2.06 2.06-.94-2.06-.94-.94-2.06-.94 2.06-2.06.94zm-11 1L8.5 8.5l.94-2.06 2.06-.94-2.06-.94L8.5 2.5l-.94 2.06-2.06.94zm10 10l.94 2.06.94-2.06 2.06-.94-2.06-.94-.94-2.06-.94 2.06-2.06.94z\"/><path d=\"M17.41 7.96l-1.37-1.37c-.4-.4-.92-.59-1.43-.59-.52 0-1.04.2-1.43.59L10.3 9.45l-7.72 7.72c-.78.78-.78 2.05 0 2.83L4 21.41c.39.39.9.59 1.41.59.51 0 1.02-.2 1.41-.59l7.78-7.78 2.81-2.81c.8-.78.8-2.07 0-2.86zM5.41 20L4 18.59l7.72-7.72 1.47 1.35L5.41 20z\"/>\n",
              "  </svg>\n",
              "      </button>\n",
              "      \n",
              "  <style>\n",
              "    .colab-df-container {\n",
              "      display:flex;\n",
              "      flex-wrap:wrap;\n",
              "      gap: 12px;\n",
              "    }\n",
              "\n",
              "    .colab-df-convert {\n",
              "      background-color: #E8F0FE;\n",
              "      border: none;\n",
              "      border-radius: 50%;\n",
              "      cursor: pointer;\n",
              "      display: none;\n",
              "      fill: #1967D2;\n",
              "      height: 32px;\n",
              "      padding: 0 0 0 0;\n",
              "      width: 32px;\n",
              "    }\n",
              "\n",
              "    .colab-df-convert:hover {\n",
              "      background-color: #E2EBFA;\n",
              "      box-shadow: 0px 1px 2px rgba(60, 64, 67, 0.3), 0px 1px 3px 1px rgba(60, 64, 67, 0.15);\n",
              "      fill: #174EA6;\n",
              "    }\n",
              "\n",
              "    [theme=dark] .colab-df-convert {\n",
              "      background-color: #3B4455;\n",
              "      fill: #D2E3FC;\n",
              "    }\n",
              "\n",
              "    [theme=dark] .colab-df-convert:hover {\n",
              "      background-color: #434B5C;\n",
              "      box-shadow: 0px 1px 3px 1px rgba(0, 0, 0, 0.15);\n",
              "      filter: drop-shadow(0px 1px 2px rgba(0, 0, 0, 0.3));\n",
              "      fill: #FFFFFF;\n",
              "    }\n",
              "  </style>\n",
              "\n",
              "      <script>\n",
              "        const buttonEl =\n",
              "          document.querySelector('#df-ca5437a9-35aa-4702-a005-266a7d7094ab button.colab-df-convert');\n",
              "        buttonEl.style.display =\n",
              "          google.colab.kernel.accessAllowed ? 'block' : 'none';\n",
              "\n",
              "        async function convertToInteractive(key) {\n",
              "          const element = document.querySelector('#df-ca5437a9-35aa-4702-a005-266a7d7094ab');\n",
              "          const dataTable =\n",
              "            await google.colab.kernel.invokeFunction('convertToInteractive',\n",
              "                                                     [key], {});\n",
              "          if (!dataTable) return;\n",
              "\n",
              "          const docLinkHtml = 'Like what you see? Visit the ' +\n",
              "            '<a target=\"_blank\" href=https://colab.research.google.com/notebooks/data_table.ipynb>data table notebook</a>'\n",
              "            + ' to learn more about interactive tables.';\n",
              "          element.innerHTML = '';\n",
              "          dataTable['output_type'] = 'display_data';\n",
              "          await google.colab.output.renderOutput(dataTable, element);\n",
              "          const docLink = document.createElement('div');\n",
              "          docLink.innerHTML = docLinkHtml;\n",
              "          element.appendChild(docLink);\n",
              "        }\n",
              "      </script>\n",
              "    </div>\n",
              "  </div>\n",
              "  "
            ]
          },
          "metadata": {},
          "execution_count": 27
        }
      ],
      "source": [
        "test_data.head(3)"
      ]
    },
    {
      "cell_type": "markdown",
      "metadata": {
        "id": "JWfI9LVsjcsI"
      },
      "source": [
        "**FEATURE 3:** number of words in each tweet"
      ]
    },
    {
      "cell_type": "code",
      "execution_count": null,
      "metadata": {
        "id": "60N38d-9jcsI"
      },
      "outputs": [],
      "source": [
        "train_data['num words'] = train_data[\"text\"].map(lambda x: len(x.split()))\n",
        "test_data['num words']  = test_data[\"text\"].map(lambda x: len(x.split()))"
      ]
    },
    {
      "cell_type": "code",
      "execution_count": null,
      "metadata": {
        "colab": {
          "base_uri": "https://localhost:8080/",
          "height": 142
        },
        "id": "0EFaCFW7jcsJ",
        "outputId": "55791b54-25c8-4250-dd30-3e386158ebbf"
      },
      "outputs": [
        {
          "output_type": "execute_result",
          "data": {
            "text/plain": [
              "   id keyword location                                               text  \\\n",
              "0   1     NaN      NaN  Our Deeds are the Reason of this #earthquake M...   \n",
              "1   4     NaN      NaN             Forest fire near La Ronge Sask. Canada   \n",
              "2   5     NaN      NaN  All residents asked to 'shelter in place' are ...   \n",
              "\n",
              "   target  num chars  num special chars  num words  \n",
              "0       1         69                  1         13  \n",
              "1       1         38                  1          7  \n",
              "2       1        133                  3         22  "
            ],
            "text/html": [
              "\n",
              "  <div id=\"df-4d686438-a34f-49fc-9cfd-9cd5c0bdeef9\">\n",
              "    <div class=\"colab-df-container\">\n",
              "      <div>\n",
              "<style scoped>\n",
              "    .dataframe tbody tr th:only-of-type {\n",
              "        vertical-align: middle;\n",
              "    }\n",
              "\n",
              "    .dataframe tbody tr th {\n",
              "        vertical-align: top;\n",
              "    }\n",
              "\n",
              "    .dataframe thead th {\n",
              "        text-align: right;\n",
              "    }\n",
              "</style>\n",
              "<table border=\"1\" class=\"dataframe\">\n",
              "  <thead>\n",
              "    <tr style=\"text-align: right;\">\n",
              "      <th></th>\n",
              "      <th>id</th>\n",
              "      <th>keyword</th>\n",
              "      <th>location</th>\n",
              "      <th>text</th>\n",
              "      <th>target</th>\n",
              "      <th>num chars</th>\n",
              "      <th>num special chars</th>\n",
              "      <th>num words</th>\n",
              "    </tr>\n",
              "  </thead>\n",
              "  <tbody>\n",
              "    <tr>\n",
              "      <th>0</th>\n",
              "      <td>1</td>\n",
              "      <td>NaN</td>\n",
              "      <td>NaN</td>\n",
              "      <td>Our Deeds are the Reason of this #earthquake M...</td>\n",
              "      <td>1</td>\n",
              "      <td>69</td>\n",
              "      <td>1</td>\n",
              "      <td>13</td>\n",
              "    </tr>\n",
              "    <tr>\n",
              "      <th>1</th>\n",
              "      <td>4</td>\n",
              "      <td>NaN</td>\n",
              "      <td>NaN</td>\n",
              "      <td>Forest fire near La Ronge Sask. Canada</td>\n",
              "      <td>1</td>\n",
              "      <td>38</td>\n",
              "      <td>1</td>\n",
              "      <td>7</td>\n",
              "    </tr>\n",
              "    <tr>\n",
              "      <th>2</th>\n",
              "      <td>5</td>\n",
              "      <td>NaN</td>\n",
              "      <td>NaN</td>\n",
              "      <td>All residents asked to 'shelter in place' are ...</td>\n",
              "      <td>1</td>\n",
              "      <td>133</td>\n",
              "      <td>3</td>\n",
              "      <td>22</td>\n",
              "    </tr>\n",
              "  </tbody>\n",
              "</table>\n",
              "</div>\n",
              "      <button class=\"colab-df-convert\" onclick=\"convertToInteractive('df-4d686438-a34f-49fc-9cfd-9cd5c0bdeef9')\"\n",
              "              title=\"Convert this dataframe to an interactive table.\"\n",
              "              style=\"display:none;\">\n",
              "        \n",
              "  <svg xmlns=\"http://www.w3.org/2000/svg\" height=\"24px\"viewBox=\"0 0 24 24\"\n",
              "       width=\"24px\">\n",
              "    <path d=\"M0 0h24v24H0V0z\" fill=\"none\"/>\n",
              "    <path d=\"M18.56 5.44l.94 2.06.94-2.06 2.06-.94-2.06-.94-.94-2.06-.94 2.06-2.06.94zm-11 1L8.5 8.5l.94-2.06 2.06-.94-2.06-.94L8.5 2.5l-.94 2.06-2.06.94zm10 10l.94 2.06.94-2.06 2.06-.94-2.06-.94-.94-2.06-.94 2.06-2.06.94z\"/><path d=\"M17.41 7.96l-1.37-1.37c-.4-.4-.92-.59-1.43-.59-.52 0-1.04.2-1.43.59L10.3 9.45l-7.72 7.72c-.78.78-.78 2.05 0 2.83L4 21.41c.39.39.9.59 1.41.59.51 0 1.02-.2 1.41-.59l7.78-7.78 2.81-2.81c.8-.78.8-2.07 0-2.86zM5.41 20L4 18.59l7.72-7.72 1.47 1.35L5.41 20z\"/>\n",
              "  </svg>\n",
              "      </button>\n",
              "      \n",
              "  <style>\n",
              "    .colab-df-container {\n",
              "      display:flex;\n",
              "      flex-wrap:wrap;\n",
              "      gap: 12px;\n",
              "    }\n",
              "\n",
              "    .colab-df-convert {\n",
              "      background-color: #E8F0FE;\n",
              "      border: none;\n",
              "      border-radius: 50%;\n",
              "      cursor: pointer;\n",
              "      display: none;\n",
              "      fill: #1967D2;\n",
              "      height: 32px;\n",
              "      padding: 0 0 0 0;\n",
              "      width: 32px;\n",
              "    }\n",
              "\n",
              "    .colab-df-convert:hover {\n",
              "      background-color: #E2EBFA;\n",
              "      box-shadow: 0px 1px 2px rgba(60, 64, 67, 0.3), 0px 1px 3px 1px rgba(60, 64, 67, 0.15);\n",
              "      fill: #174EA6;\n",
              "    }\n",
              "\n",
              "    [theme=dark] .colab-df-convert {\n",
              "      background-color: #3B4455;\n",
              "      fill: #D2E3FC;\n",
              "    }\n",
              "\n",
              "    [theme=dark] .colab-df-convert:hover {\n",
              "      background-color: #434B5C;\n",
              "      box-shadow: 0px 1px 3px 1px rgba(0, 0, 0, 0.15);\n",
              "      filter: drop-shadow(0px 1px 2px rgba(0, 0, 0, 0.3));\n",
              "      fill: #FFFFFF;\n",
              "    }\n",
              "  </style>\n",
              "\n",
              "      <script>\n",
              "        const buttonEl =\n",
              "          document.querySelector('#df-4d686438-a34f-49fc-9cfd-9cd5c0bdeef9 button.colab-df-convert');\n",
              "        buttonEl.style.display =\n",
              "          google.colab.kernel.accessAllowed ? 'block' : 'none';\n",
              "\n",
              "        async function convertToInteractive(key) {\n",
              "          const element = document.querySelector('#df-4d686438-a34f-49fc-9cfd-9cd5c0bdeef9');\n",
              "          const dataTable =\n",
              "            await google.colab.kernel.invokeFunction('convertToInteractive',\n",
              "                                                     [key], {});\n",
              "          if (!dataTable) return;\n",
              "\n",
              "          const docLinkHtml = 'Like what you see? Visit the ' +\n",
              "            '<a target=\"_blank\" href=https://colab.research.google.com/notebooks/data_table.ipynb>data table notebook</a>'\n",
              "            + ' to learn more about interactive tables.';\n",
              "          element.innerHTML = '';\n",
              "          dataTable['output_type'] = 'display_data';\n",
              "          await google.colab.output.renderOutput(dataTable, element);\n",
              "          const docLink = document.createElement('div');\n",
              "          docLink.innerHTML = docLinkHtml;\n",
              "          element.appendChild(docLink);\n",
              "        }\n",
              "      </script>\n",
              "    </div>\n",
              "  </div>\n",
              "  "
            ]
          },
          "metadata": {},
          "execution_count": 29
        }
      ],
      "source": [
        "train_data.head(3)"
      ]
    },
    {
      "cell_type": "code",
      "execution_count": null,
      "metadata": {
        "colab": {
          "base_uri": "https://localhost:8080/",
          "height": 142
        },
        "id": "aOZgdlYujcsJ",
        "outputId": "f5a02813-628a-4423-a9ca-dad2a55809d2"
      },
      "outputs": [
        {
          "output_type": "execute_result",
          "data": {
            "text/plain": [
              "   id keyword location                                               text  \\\n",
              "0   0     NaN      NaN                 Just happened a terrible car crash   \n",
              "1   2     NaN      NaN  Heard about #earthquake is different cities, s...   \n",
              "2   3     NaN      NaN  there is a forest fire at spot pond, geese are...   \n",
              "\n",
              "   num chars  num special chars  num words  \n",
              "0         34                  0          6  \n",
              "1         64                  3          9  \n",
              "2         96                  2         19  "
            ],
            "text/html": [
              "\n",
              "  <div id=\"df-3a6c3d6e-e62c-45ac-9c35-c45e54c337b5\">\n",
              "    <div class=\"colab-df-container\">\n",
              "      <div>\n",
              "<style scoped>\n",
              "    .dataframe tbody tr th:only-of-type {\n",
              "        vertical-align: middle;\n",
              "    }\n",
              "\n",
              "    .dataframe tbody tr th {\n",
              "        vertical-align: top;\n",
              "    }\n",
              "\n",
              "    .dataframe thead th {\n",
              "        text-align: right;\n",
              "    }\n",
              "</style>\n",
              "<table border=\"1\" class=\"dataframe\">\n",
              "  <thead>\n",
              "    <tr style=\"text-align: right;\">\n",
              "      <th></th>\n",
              "      <th>id</th>\n",
              "      <th>keyword</th>\n",
              "      <th>location</th>\n",
              "      <th>text</th>\n",
              "      <th>num chars</th>\n",
              "      <th>num special chars</th>\n",
              "      <th>num words</th>\n",
              "    </tr>\n",
              "  </thead>\n",
              "  <tbody>\n",
              "    <tr>\n",
              "      <th>0</th>\n",
              "      <td>0</td>\n",
              "      <td>NaN</td>\n",
              "      <td>NaN</td>\n",
              "      <td>Just happened a terrible car crash</td>\n",
              "      <td>34</td>\n",
              "      <td>0</td>\n",
              "      <td>6</td>\n",
              "    </tr>\n",
              "    <tr>\n",
              "      <th>1</th>\n",
              "      <td>2</td>\n",
              "      <td>NaN</td>\n",
              "      <td>NaN</td>\n",
              "      <td>Heard about #earthquake is different cities, s...</td>\n",
              "      <td>64</td>\n",
              "      <td>3</td>\n",
              "      <td>9</td>\n",
              "    </tr>\n",
              "    <tr>\n",
              "      <th>2</th>\n",
              "      <td>3</td>\n",
              "      <td>NaN</td>\n",
              "      <td>NaN</td>\n",
              "      <td>there is a forest fire at spot pond, geese are...</td>\n",
              "      <td>96</td>\n",
              "      <td>2</td>\n",
              "      <td>19</td>\n",
              "    </tr>\n",
              "  </tbody>\n",
              "</table>\n",
              "</div>\n",
              "      <button class=\"colab-df-convert\" onclick=\"convertToInteractive('df-3a6c3d6e-e62c-45ac-9c35-c45e54c337b5')\"\n",
              "              title=\"Convert this dataframe to an interactive table.\"\n",
              "              style=\"display:none;\">\n",
              "        \n",
              "  <svg xmlns=\"http://www.w3.org/2000/svg\" height=\"24px\"viewBox=\"0 0 24 24\"\n",
              "       width=\"24px\">\n",
              "    <path d=\"M0 0h24v24H0V0z\" fill=\"none\"/>\n",
              "    <path d=\"M18.56 5.44l.94 2.06.94-2.06 2.06-.94-2.06-.94-.94-2.06-.94 2.06-2.06.94zm-11 1L8.5 8.5l.94-2.06 2.06-.94-2.06-.94L8.5 2.5l-.94 2.06-2.06.94zm10 10l.94 2.06.94-2.06 2.06-.94-2.06-.94-.94-2.06-.94 2.06-2.06.94z\"/><path d=\"M17.41 7.96l-1.37-1.37c-.4-.4-.92-.59-1.43-.59-.52 0-1.04.2-1.43.59L10.3 9.45l-7.72 7.72c-.78.78-.78 2.05 0 2.83L4 21.41c.39.39.9.59 1.41.59.51 0 1.02-.2 1.41-.59l7.78-7.78 2.81-2.81c.8-.78.8-2.07 0-2.86zM5.41 20L4 18.59l7.72-7.72 1.47 1.35L5.41 20z\"/>\n",
              "  </svg>\n",
              "      </button>\n",
              "      \n",
              "  <style>\n",
              "    .colab-df-container {\n",
              "      display:flex;\n",
              "      flex-wrap:wrap;\n",
              "      gap: 12px;\n",
              "    }\n",
              "\n",
              "    .colab-df-convert {\n",
              "      background-color: #E8F0FE;\n",
              "      border: none;\n",
              "      border-radius: 50%;\n",
              "      cursor: pointer;\n",
              "      display: none;\n",
              "      fill: #1967D2;\n",
              "      height: 32px;\n",
              "      padding: 0 0 0 0;\n",
              "      width: 32px;\n",
              "    }\n",
              "\n",
              "    .colab-df-convert:hover {\n",
              "      background-color: #E2EBFA;\n",
              "      box-shadow: 0px 1px 2px rgba(60, 64, 67, 0.3), 0px 1px 3px 1px rgba(60, 64, 67, 0.15);\n",
              "      fill: #174EA6;\n",
              "    }\n",
              "\n",
              "    [theme=dark] .colab-df-convert {\n",
              "      background-color: #3B4455;\n",
              "      fill: #D2E3FC;\n",
              "    }\n",
              "\n",
              "    [theme=dark] .colab-df-convert:hover {\n",
              "      background-color: #434B5C;\n",
              "      box-shadow: 0px 1px 3px 1px rgba(0, 0, 0, 0.15);\n",
              "      filter: drop-shadow(0px 1px 2px rgba(0, 0, 0, 0.3));\n",
              "      fill: #FFFFFF;\n",
              "    }\n",
              "  </style>\n",
              "\n",
              "      <script>\n",
              "        const buttonEl =\n",
              "          document.querySelector('#df-3a6c3d6e-e62c-45ac-9c35-c45e54c337b5 button.colab-df-convert');\n",
              "        buttonEl.style.display =\n",
              "          google.colab.kernel.accessAllowed ? 'block' : 'none';\n",
              "\n",
              "        async function convertToInteractive(key) {\n",
              "          const element = document.querySelector('#df-3a6c3d6e-e62c-45ac-9c35-c45e54c337b5');\n",
              "          const dataTable =\n",
              "            await google.colab.kernel.invokeFunction('convertToInteractive',\n",
              "                                                     [key], {});\n",
              "          if (!dataTable) return;\n",
              "\n",
              "          const docLinkHtml = 'Like what you see? Visit the ' +\n",
              "            '<a target=\"_blank\" href=https://colab.research.google.com/notebooks/data_table.ipynb>data table notebook</a>'\n",
              "            + ' to learn more about interactive tables.';\n",
              "          element.innerHTML = '';\n",
              "          dataTable['output_type'] = 'display_data';\n",
              "          await google.colab.output.renderOutput(dataTable, element);\n",
              "          const docLink = document.createElement('div');\n",
              "          docLink.innerHTML = docLinkHtml;\n",
              "          element.appendChild(docLink);\n",
              "        }\n",
              "      </script>\n",
              "    </div>\n",
              "  </div>\n",
              "  "
            ]
          },
          "metadata": {},
          "execution_count": 30
        }
      ],
      "source": [
        "test_data.head(3)"
      ]
    },
    {
      "cell_type": "markdown",
      "metadata": {
        "id": "1igEsMYbjcsJ"
      },
      "source": [
        "**FEATURE 4:** average word length"
      ]
    },
    {
      "cell_type": "code",
      "execution_count": null,
      "metadata": {
        "id": "KEH0wixCjcsJ"
      },
      "outputs": [],
      "source": [
        "def average_word_length(text):\n",
        "    \n",
        "    '''Reads each sentence and creates a list with word lenghts. Following, it returns the mean of the \n",
        "    list values'''\n",
        "    \n",
        "    spl_text = text.split()\n",
        "    each_words_len = list(map(lambda x: len(x), spl_text))\n",
        "    mean = round(sum(each_words_len)/len(each_words_len), 2)\n",
        "    \n",
        "    return mean"
      ]
    },
    {
      "cell_type": "code",
      "execution_count": null,
      "metadata": {
        "id": "3r5dFPWtjcsJ"
      },
      "outputs": [],
      "source": [
        "train_data['average word length'] = train_data[\"text\"].apply(lambda x: average_word_length(x))\n",
        "test_data['average word length']  = test_data[\"text\"].apply(lambda x: average_word_length(x))"
      ]
    },
    {
      "cell_type": "code",
      "execution_count": null,
      "metadata": {
        "colab": {
          "base_uri": "https://localhost:8080/",
          "height": 142
        },
        "id": "Kk4DoKIajcsJ",
        "outputId": "f8defd9e-baca-4a7d-a7da-cdb36ce715cb"
      },
      "outputs": [
        {
          "output_type": "execute_result",
          "data": {
            "text/plain": [
              "   id keyword location                                               text  \\\n",
              "0   1     NaN      NaN  Our Deeds are the Reason of this #earthquake M...   \n",
              "1   4     NaN      NaN             Forest fire near La Ronge Sask. Canada   \n",
              "2   5     NaN      NaN  All residents asked to 'shelter in place' are ...   \n",
              "\n",
              "   target  num chars  num special chars  num words  average word length  \n",
              "0       1         69                  1         13                 4.38  \n",
              "1       1         38                  1          7                 4.57  \n",
              "2       1        133                  3         22                 5.09  "
            ],
            "text/html": [
              "\n",
              "  <div id=\"df-9c7416b1-ea5f-4c5e-8585-b1b9ac992182\">\n",
              "    <div class=\"colab-df-container\">\n",
              "      <div>\n",
              "<style scoped>\n",
              "    .dataframe tbody tr th:only-of-type {\n",
              "        vertical-align: middle;\n",
              "    }\n",
              "\n",
              "    .dataframe tbody tr th {\n",
              "        vertical-align: top;\n",
              "    }\n",
              "\n",
              "    .dataframe thead th {\n",
              "        text-align: right;\n",
              "    }\n",
              "</style>\n",
              "<table border=\"1\" class=\"dataframe\">\n",
              "  <thead>\n",
              "    <tr style=\"text-align: right;\">\n",
              "      <th></th>\n",
              "      <th>id</th>\n",
              "      <th>keyword</th>\n",
              "      <th>location</th>\n",
              "      <th>text</th>\n",
              "      <th>target</th>\n",
              "      <th>num chars</th>\n",
              "      <th>num special chars</th>\n",
              "      <th>num words</th>\n",
              "      <th>average word length</th>\n",
              "    </tr>\n",
              "  </thead>\n",
              "  <tbody>\n",
              "    <tr>\n",
              "      <th>0</th>\n",
              "      <td>1</td>\n",
              "      <td>NaN</td>\n",
              "      <td>NaN</td>\n",
              "      <td>Our Deeds are the Reason of this #earthquake M...</td>\n",
              "      <td>1</td>\n",
              "      <td>69</td>\n",
              "      <td>1</td>\n",
              "      <td>13</td>\n",
              "      <td>4.38</td>\n",
              "    </tr>\n",
              "    <tr>\n",
              "      <th>1</th>\n",
              "      <td>4</td>\n",
              "      <td>NaN</td>\n",
              "      <td>NaN</td>\n",
              "      <td>Forest fire near La Ronge Sask. Canada</td>\n",
              "      <td>1</td>\n",
              "      <td>38</td>\n",
              "      <td>1</td>\n",
              "      <td>7</td>\n",
              "      <td>4.57</td>\n",
              "    </tr>\n",
              "    <tr>\n",
              "      <th>2</th>\n",
              "      <td>5</td>\n",
              "      <td>NaN</td>\n",
              "      <td>NaN</td>\n",
              "      <td>All residents asked to 'shelter in place' are ...</td>\n",
              "      <td>1</td>\n",
              "      <td>133</td>\n",
              "      <td>3</td>\n",
              "      <td>22</td>\n",
              "      <td>5.09</td>\n",
              "    </tr>\n",
              "  </tbody>\n",
              "</table>\n",
              "</div>\n",
              "      <button class=\"colab-df-convert\" onclick=\"convertToInteractive('df-9c7416b1-ea5f-4c5e-8585-b1b9ac992182')\"\n",
              "              title=\"Convert this dataframe to an interactive table.\"\n",
              "              style=\"display:none;\">\n",
              "        \n",
              "  <svg xmlns=\"http://www.w3.org/2000/svg\" height=\"24px\"viewBox=\"0 0 24 24\"\n",
              "       width=\"24px\">\n",
              "    <path d=\"M0 0h24v24H0V0z\" fill=\"none\"/>\n",
              "    <path d=\"M18.56 5.44l.94 2.06.94-2.06 2.06-.94-2.06-.94-.94-2.06-.94 2.06-2.06.94zm-11 1L8.5 8.5l.94-2.06 2.06-.94-2.06-.94L8.5 2.5l-.94 2.06-2.06.94zm10 10l.94 2.06.94-2.06 2.06-.94-2.06-.94-.94-2.06-.94 2.06-2.06.94z\"/><path d=\"M17.41 7.96l-1.37-1.37c-.4-.4-.92-.59-1.43-.59-.52 0-1.04.2-1.43.59L10.3 9.45l-7.72 7.72c-.78.78-.78 2.05 0 2.83L4 21.41c.39.39.9.59 1.41.59.51 0 1.02-.2 1.41-.59l7.78-7.78 2.81-2.81c.8-.78.8-2.07 0-2.86zM5.41 20L4 18.59l7.72-7.72 1.47 1.35L5.41 20z\"/>\n",
              "  </svg>\n",
              "      </button>\n",
              "      \n",
              "  <style>\n",
              "    .colab-df-container {\n",
              "      display:flex;\n",
              "      flex-wrap:wrap;\n",
              "      gap: 12px;\n",
              "    }\n",
              "\n",
              "    .colab-df-convert {\n",
              "      background-color: #E8F0FE;\n",
              "      border: none;\n",
              "      border-radius: 50%;\n",
              "      cursor: pointer;\n",
              "      display: none;\n",
              "      fill: #1967D2;\n",
              "      height: 32px;\n",
              "      padding: 0 0 0 0;\n",
              "      width: 32px;\n",
              "    }\n",
              "\n",
              "    .colab-df-convert:hover {\n",
              "      background-color: #E2EBFA;\n",
              "      box-shadow: 0px 1px 2px rgba(60, 64, 67, 0.3), 0px 1px 3px 1px rgba(60, 64, 67, 0.15);\n",
              "      fill: #174EA6;\n",
              "    }\n",
              "\n",
              "    [theme=dark] .colab-df-convert {\n",
              "      background-color: #3B4455;\n",
              "      fill: #D2E3FC;\n",
              "    }\n",
              "\n",
              "    [theme=dark] .colab-df-convert:hover {\n",
              "      background-color: #434B5C;\n",
              "      box-shadow: 0px 1px 3px 1px rgba(0, 0, 0, 0.15);\n",
              "      filter: drop-shadow(0px 1px 2px rgba(0, 0, 0, 0.3));\n",
              "      fill: #FFFFFF;\n",
              "    }\n",
              "  </style>\n",
              "\n",
              "      <script>\n",
              "        const buttonEl =\n",
              "          document.querySelector('#df-9c7416b1-ea5f-4c5e-8585-b1b9ac992182 button.colab-df-convert');\n",
              "        buttonEl.style.display =\n",
              "          google.colab.kernel.accessAllowed ? 'block' : 'none';\n",
              "\n",
              "        async function convertToInteractive(key) {\n",
              "          const element = document.querySelector('#df-9c7416b1-ea5f-4c5e-8585-b1b9ac992182');\n",
              "          const dataTable =\n",
              "            await google.colab.kernel.invokeFunction('convertToInteractive',\n",
              "                                                     [key], {});\n",
              "          if (!dataTable) return;\n",
              "\n",
              "          const docLinkHtml = 'Like what you see? Visit the ' +\n",
              "            '<a target=\"_blank\" href=https://colab.research.google.com/notebooks/data_table.ipynb>data table notebook</a>'\n",
              "            + ' to learn more about interactive tables.';\n",
              "          element.innerHTML = '';\n",
              "          dataTable['output_type'] = 'display_data';\n",
              "          await google.colab.output.renderOutput(dataTable, element);\n",
              "          const docLink = document.createElement('div');\n",
              "          docLink.innerHTML = docLinkHtml;\n",
              "          element.appendChild(docLink);\n",
              "        }\n",
              "      </script>\n",
              "    </div>\n",
              "  </div>\n",
              "  "
            ]
          },
          "metadata": {},
          "execution_count": 33
        }
      ],
      "source": [
        "train_data.head(3)"
      ]
    },
    {
      "cell_type": "code",
      "execution_count": null,
      "metadata": {
        "colab": {
          "base_uri": "https://localhost:8080/",
          "height": 142
        },
        "id": "n41OUI5gjcsK",
        "outputId": "582182dd-7c49-4ef3-e2d1-bd5a152611e9"
      },
      "outputs": [
        {
          "output_type": "execute_result",
          "data": {
            "text/plain": [
              "   id keyword location                                               text  \\\n",
              "0   0     NaN      NaN                 Just happened a terrible car crash   \n",
              "1   2     NaN      NaN  Heard about #earthquake is different cities, s...   \n",
              "2   3     NaN      NaN  there is a forest fire at spot pond, geese are...   \n",
              "\n",
              "   num chars  num special chars  num words  average word length  \n",
              "0         34                  0          6                 4.83  \n",
              "1         64                  3          9                 6.22  \n",
              "2         96                  2         19                 4.11  "
            ],
            "text/html": [
              "\n",
              "  <div id=\"df-a0ae78c8-2d7a-4cbb-9a10-5d3abb3ff9f0\">\n",
              "    <div class=\"colab-df-container\">\n",
              "      <div>\n",
              "<style scoped>\n",
              "    .dataframe tbody tr th:only-of-type {\n",
              "        vertical-align: middle;\n",
              "    }\n",
              "\n",
              "    .dataframe tbody tr th {\n",
              "        vertical-align: top;\n",
              "    }\n",
              "\n",
              "    .dataframe thead th {\n",
              "        text-align: right;\n",
              "    }\n",
              "</style>\n",
              "<table border=\"1\" class=\"dataframe\">\n",
              "  <thead>\n",
              "    <tr style=\"text-align: right;\">\n",
              "      <th></th>\n",
              "      <th>id</th>\n",
              "      <th>keyword</th>\n",
              "      <th>location</th>\n",
              "      <th>text</th>\n",
              "      <th>num chars</th>\n",
              "      <th>num special chars</th>\n",
              "      <th>num words</th>\n",
              "      <th>average word length</th>\n",
              "    </tr>\n",
              "  </thead>\n",
              "  <tbody>\n",
              "    <tr>\n",
              "      <th>0</th>\n",
              "      <td>0</td>\n",
              "      <td>NaN</td>\n",
              "      <td>NaN</td>\n",
              "      <td>Just happened a terrible car crash</td>\n",
              "      <td>34</td>\n",
              "      <td>0</td>\n",
              "      <td>6</td>\n",
              "      <td>4.83</td>\n",
              "    </tr>\n",
              "    <tr>\n",
              "      <th>1</th>\n",
              "      <td>2</td>\n",
              "      <td>NaN</td>\n",
              "      <td>NaN</td>\n",
              "      <td>Heard about #earthquake is different cities, s...</td>\n",
              "      <td>64</td>\n",
              "      <td>3</td>\n",
              "      <td>9</td>\n",
              "      <td>6.22</td>\n",
              "    </tr>\n",
              "    <tr>\n",
              "      <th>2</th>\n",
              "      <td>3</td>\n",
              "      <td>NaN</td>\n",
              "      <td>NaN</td>\n",
              "      <td>there is a forest fire at spot pond, geese are...</td>\n",
              "      <td>96</td>\n",
              "      <td>2</td>\n",
              "      <td>19</td>\n",
              "      <td>4.11</td>\n",
              "    </tr>\n",
              "  </tbody>\n",
              "</table>\n",
              "</div>\n",
              "      <button class=\"colab-df-convert\" onclick=\"convertToInteractive('df-a0ae78c8-2d7a-4cbb-9a10-5d3abb3ff9f0')\"\n",
              "              title=\"Convert this dataframe to an interactive table.\"\n",
              "              style=\"display:none;\">\n",
              "        \n",
              "  <svg xmlns=\"http://www.w3.org/2000/svg\" height=\"24px\"viewBox=\"0 0 24 24\"\n",
              "       width=\"24px\">\n",
              "    <path d=\"M0 0h24v24H0V0z\" fill=\"none\"/>\n",
              "    <path d=\"M18.56 5.44l.94 2.06.94-2.06 2.06-.94-2.06-.94-.94-2.06-.94 2.06-2.06.94zm-11 1L8.5 8.5l.94-2.06 2.06-.94-2.06-.94L8.5 2.5l-.94 2.06-2.06.94zm10 10l.94 2.06.94-2.06 2.06-.94-2.06-.94-.94-2.06-.94 2.06-2.06.94z\"/><path d=\"M17.41 7.96l-1.37-1.37c-.4-.4-.92-.59-1.43-.59-.52 0-1.04.2-1.43.59L10.3 9.45l-7.72 7.72c-.78.78-.78 2.05 0 2.83L4 21.41c.39.39.9.59 1.41.59.51 0 1.02-.2 1.41-.59l7.78-7.78 2.81-2.81c.8-.78.8-2.07 0-2.86zM5.41 20L4 18.59l7.72-7.72 1.47 1.35L5.41 20z\"/>\n",
              "  </svg>\n",
              "      </button>\n",
              "      \n",
              "  <style>\n",
              "    .colab-df-container {\n",
              "      display:flex;\n",
              "      flex-wrap:wrap;\n",
              "      gap: 12px;\n",
              "    }\n",
              "\n",
              "    .colab-df-convert {\n",
              "      background-color: #E8F0FE;\n",
              "      border: none;\n",
              "      border-radius: 50%;\n",
              "      cursor: pointer;\n",
              "      display: none;\n",
              "      fill: #1967D2;\n",
              "      height: 32px;\n",
              "      padding: 0 0 0 0;\n",
              "      width: 32px;\n",
              "    }\n",
              "\n",
              "    .colab-df-convert:hover {\n",
              "      background-color: #E2EBFA;\n",
              "      box-shadow: 0px 1px 2px rgba(60, 64, 67, 0.3), 0px 1px 3px 1px rgba(60, 64, 67, 0.15);\n",
              "      fill: #174EA6;\n",
              "    }\n",
              "\n",
              "    [theme=dark] .colab-df-convert {\n",
              "      background-color: #3B4455;\n",
              "      fill: #D2E3FC;\n",
              "    }\n",
              "\n",
              "    [theme=dark] .colab-df-convert:hover {\n",
              "      background-color: #434B5C;\n",
              "      box-shadow: 0px 1px 3px 1px rgba(0, 0, 0, 0.15);\n",
              "      filter: drop-shadow(0px 1px 2px rgba(0, 0, 0, 0.3));\n",
              "      fill: #FFFFFF;\n",
              "    }\n",
              "  </style>\n",
              "\n",
              "      <script>\n",
              "        const buttonEl =\n",
              "          document.querySelector('#df-a0ae78c8-2d7a-4cbb-9a10-5d3abb3ff9f0 button.colab-df-convert');\n",
              "        buttonEl.style.display =\n",
              "          google.colab.kernel.accessAllowed ? 'block' : 'none';\n",
              "\n",
              "        async function convertToInteractive(key) {\n",
              "          const element = document.querySelector('#df-a0ae78c8-2d7a-4cbb-9a10-5d3abb3ff9f0');\n",
              "          const dataTable =\n",
              "            await google.colab.kernel.invokeFunction('convertToInteractive',\n",
              "                                                     [key], {});\n",
              "          if (!dataTable) return;\n",
              "\n",
              "          const docLinkHtml = 'Like what you see? Visit the ' +\n",
              "            '<a target=\"_blank\" href=https://colab.research.google.com/notebooks/data_table.ipynb>data table notebook</a>'\n",
              "            + ' to learn more about interactive tables.';\n",
              "          element.innerHTML = '';\n",
              "          dataTable['output_type'] = 'display_data';\n",
              "          await google.colab.output.renderOutput(dataTable, element);\n",
              "          const docLink = document.createElement('div');\n",
              "          docLink.innerHTML = docLinkHtml;\n",
              "          element.appendChild(docLink);\n",
              "        }\n",
              "      </script>\n",
              "    </div>\n",
              "  </div>\n",
              "  "
            ]
          },
          "metadata": {},
          "execution_count": 34
        }
      ],
      "source": [
        "test_data.head(3)"
      ]
    },
    {
      "cell_type": "markdown",
      "metadata": {
        "id": "nFu3KJYMjcsK"
      },
      "source": [
        "**FEATURE 5:** country location"
      ]
    },
    {
      "cell_type": "code",
      "execution_count": null,
      "metadata": {
        "id": "IP-jfxvAjcsK"
      },
      "outputs": [],
      "source": [
        "def split_location_countries(df):\n",
        "    \n",
        "    countries=[]\n",
        "    location=[]\n",
        "    \n",
        "    for item in df['location'].astype(str).values:\n",
        "        countries.append(item.split(',')[-1])\n",
        "        location.append(item.split(',')[0])\n",
        "        \n",
        "    df['country']  = countries\n",
        "    df['location'] = location\n",
        "    \n",
        "    assert len(countries)==df.shape[0]\n",
        "    assert len(countries)==df.shape[0]\n",
        "        \n",
        "    return df"
      ]
    },
    {
      "cell_type": "code",
      "execution_count": null,
      "metadata": {
        "id": "w8epOGoYjcsK"
      },
      "outputs": [],
      "source": [
        "train_data = split_location_countries(train_data)\n",
        "test_data  = split_location_countries(test_data)"
      ]
    },
    {
      "cell_type": "code",
      "execution_count": null,
      "metadata": {
        "id": "dHIBfLjqjcsK"
      },
      "outputs": [],
      "source": [
        "def remove_special_chars(text):\n",
        "    \n",
        "    '''\n",
        "    The function removes any char that is not a word character (uppercase or lowercase) and replaces it for\n",
        "    a simple blank space.\n",
        "    The regular expression [^a-zA-Z] matches any char that is NOT(^) a word (like special chars, space or\n",
        "    numbers).\n",
        "    '''\n",
        "    \n",
        "    return re.sub(r\"[^a-zA-Z]\", \" \", text)"
      ]
    },
    {
      "cell_type": "code",
      "execution_count": null,
      "metadata": {
        "id": "yXGq7YWxjcsK"
      },
      "outputs": [],
      "source": [
        "train_data['location'] = train_data.location.apply(lambda x: remove_special_chars(x))\n",
        "test_data['location']  = test_data.location.apply(lambda x: remove_special_chars(x))\n",
        "train_data['country'] = train_data.location.apply(lambda x: remove_special_chars(x))\n",
        "test_data['country']  = test_data.location.apply(lambda x: remove_special_chars(x))"
      ]
    },
    {
      "cell_type": "code",
      "execution_count": null,
      "metadata": {
        "colab": {
          "base_uri": "https://localhost:8080/"
        },
        "id": "68JrNA6RjcsL",
        "outputId": "255454a1-ef9c-4fdb-c6e3-a2e073dd7ca7"
      },
      "outputs": [
        {
          "output_type": "execute_result",
          "data": {
            "text/plain": [
              "nan                       2533\n",
              "USA                        108\n",
              "New York                    95\n",
              "London                      70\n",
              "United States               50\n",
              "                          ... \n",
              "  T                          1\n",
              "Live Heed                    1\n",
              "Waco                         1\n",
              "North Port                   1\n",
              " NewcastleuponTyne  UK       1\n",
              "Name: country, Length: 2863, dtype: int64"
            ]
          },
          "metadata": {},
          "execution_count": 39
        }
      ],
      "source": [
        "train_data.country.value_counts()"
      ]
    },
    {
      "cell_type": "code",
      "execution_count": null,
      "metadata": {
        "colab": {
          "base_uri": "https://localhost:8080/"
        },
        "id": "6NakAGu-jcsL",
        "outputId": "6fa9cdaa-8456-479b-9d8e-916fb72a0a1c"
      },
      "outputs": [
        {
          "output_type": "execute_result",
          "data": {
            "text/plain": [
              "nan                       2533\n",
              "USA                        108\n",
              "New York                    95\n",
              "London                      70\n",
              "United States               50\n",
              "                          ... \n",
              "  T                          1\n",
              "Live Heed                    1\n",
              "Waco                         1\n",
              "North Port                   1\n",
              " NewcastleuponTyne  UK       1\n",
              "Name: location, Length: 2863, dtype: int64"
            ]
          },
          "metadata": {},
          "execution_count": 40
        }
      ],
      "source": [
        "train_data.location.value_counts()"
      ]
    },
    {
      "cell_type": "markdown",
      "metadata": {
        "id": "4rJpFvoKjcsL"
      },
      "source": [
        "Importing a table with most important cities in the world to standardize the countries notation"
      ]
    },
    {
      "cell_type": "code",
      "execution_count": null,
      "metadata": {
        "colab": {
          "base_uri": "https://localhost:8080/",
          "height": 142
        },
        "id": "uZyOJgT8jcsL",
        "outputId": "a9666865-7114-4b6d-b505-0449b07f6720"
      },
      "outputs": [
        {
          "output_type": "execute_result",
          "data": {
            "text/plain": [
              "      city city_ascii      lat       lng    country iso2 iso3 admin_name  \\\n",
              "0    Tokyo      tokyo  35.6839  139.7744      Japan   JP  JPN      Tōkyō   \n",
              "1  Jakarta    jakarta  -6.2146  106.8451  Indonesia   ID  IDN    Jakarta   \n",
              "2    Delhi      delhi  28.6667   77.2167      India   IN  IND      Delhi   \n",
              "\n",
              "   capital  population          id  \n",
              "0  primary  39105000.0  1392685764  \n",
              "1  primary  35362000.0  1360771077  \n",
              "2    admin  31870000.0  1356872604  "
            ],
            "text/html": [
              "\n",
              "  <div id=\"df-dbaed68d-2f0d-4502-9ee0-09d45d088e50\">\n",
              "    <div class=\"colab-df-container\">\n",
              "      <div>\n",
              "<style scoped>\n",
              "    .dataframe tbody tr th:only-of-type {\n",
              "        vertical-align: middle;\n",
              "    }\n",
              "\n",
              "    .dataframe tbody tr th {\n",
              "        vertical-align: top;\n",
              "    }\n",
              "\n",
              "    .dataframe thead th {\n",
              "        text-align: right;\n",
              "    }\n",
              "</style>\n",
              "<table border=\"1\" class=\"dataframe\">\n",
              "  <thead>\n",
              "    <tr style=\"text-align: right;\">\n",
              "      <th></th>\n",
              "      <th>city</th>\n",
              "      <th>city_ascii</th>\n",
              "      <th>lat</th>\n",
              "      <th>lng</th>\n",
              "      <th>country</th>\n",
              "      <th>iso2</th>\n",
              "      <th>iso3</th>\n",
              "      <th>admin_name</th>\n",
              "      <th>capital</th>\n",
              "      <th>population</th>\n",
              "      <th>id</th>\n",
              "    </tr>\n",
              "  </thead>\n",
              "  <tbody>\n",
              "    <tr>\n",
              "      <th>0</th>\n",
              "      <td>Tokyo</td>\n",
              "      <td>tokyo</td>\n",
              "      <td>35.6839</td>\n",
              "      <td>139.7744</td>\n",
              "      <td>Japan</td>\n",
              "      <td>JP</td>\n",
              "      <td>JPN</td>\n",
              "      <td>Tōkyō</td>\n",
              "      <td>primary</td>\n",
              "      <td>39105000.0</td>\n",
              "      <td>1392685764</td>\n",
              "    </tr>\n",
              "    <tr>\n",
              "      <th>1</th>\n",
              "      <td>Jakarta</td>\n",
              "      <td>jakarta</td>\n",
              "      <td>-6.2146</td>\n",
              "      <td>106.8451</td>\n",
              "      <td>Indonesia</td>\n",
              "      <td>ID</td>\n",
              "      <td>IDN</td>\n",
              "      <td>Jakarta</td>\n",
              "      <td>primary</td>\n",
              "      <td>35362000.0</td>\n",
              "      <td>1360771077</td>\n",
              "    </tr>\n",
              "    <tr>\n",
              "      <th>2</th>\n",
              "      <td>Delhi</td>\n",
              "      <td>delhi</td>\n",
              "      <td>28.6667</td>\n",
              "      <td>77.2167</td>\n",
              "      <td>India</td>\n",
              "      <td>IN</td>\n",
              "      <td>IND</td>\n",
              "      <td>Delhi</td>\n",
              "      <td>admin</td>\n",
              "      <td>31870000.0</td>\n",
              "      <td>1356872604</td>\n",
              "    </tr>\n",
              "  </tbody>\n",
              "</table>\n",
              "</div>\n",
              "      <button class=\"colab-df-convert\" onclick=\"convertToInteractive('df-dbaed68d-2f0d-4502-9ee0-09d45d088e50')\"\n",
              "              title=\"Convert this dataframe to an interactive table.\"\n",
              "              style=\"display:none;\">\n",
              "        \n",
              "  <svg xmlns=\"http://www.w3.org/2000/svg\" height=\"24px\"viewBox=\"0 0 24 24\"\n",
              "       width=\"24px\">\n",
              "    <path d=\"M0 0h24v24H0V0z\" fill=\"none\"/>\n",
              "    <path d=\"M18.56 5.44l.94 2.06.94-2.06 2.06-.94-2.06-.94-.94-2.06-.94 2.06-2.06.94zm-11 1L8.5 8.5l.94-2.06 2.06-.94-2.06-.94L8.5 2.5l-.94 2.06-2.06.94zm10 10l.94 2.06.94-2.06 2.06-.94-2.06-.94-.94-2.06-.94 2.06-2.06.94z\"/><path d=\"M17.41 7.96l-1.37-1.37c-.4-.4-.92-.59-1.43-.59-.52 0-1.04.2-1.43.59L10.3 9.45l-7.72 7.72c-.78.78-.78 2.05 0 2.83L4 21.41c.39.39.9.59 1.41.59.51 0 1.02-.2 1.41-.59l7.78-7.78 2.81-2.81c.8-.78.8-2.07 0-2.86zM5.41 20L4 18.59l7.72-7.72 1.47 1.35L5.41 20z\"/>\n",
              "  </svg>\n",
              "      </button>\n",
              "      \n",
              "  <style>\n",
              "    .colab-df-container {\n",
              "      display:flex;\n",
              "      flex-wrap:wrap;\n",
              "      gap: 12px;\n",
              "    }\n",
              "\n",
              "    .colab-df-convert {\n",
              "      background-color: #E8F0FE;\n",
              "      border: none;\n",
              "      border-radius: 50%;\n",
              "      cursor: pointer;\n",
              "      display: none;\n",
              "      fill: #1967D2;\n",
              "      height: 32px;\n",
              "      padding: 0 0 0 0;\n",
              "      width: 32px;\n",
              "    }\n",
              "\n",
              "    .colab-df-convert:hover {\n",
              "      background-color: #E2EBFA;\n",
              "      box-shadow: 0px 1px 2px rgba(60, 64, 67, 0.3), 0px 1px 3px 1px rgba(60, 64, 67, 0.15);\n",
              "      fill: #174EA6;\n",
              "    }\n",
              "\n",
              "    [theme=dark] .colab-df-convert {\n",
              "      background-color: #3B4455;\n",
              "      fill: #D2E3FC;\n",
              "    }\n",
              "\n",
              "    [theme=dark] .colab-df-convert:hover {\n",
              "      background-color: #434B5C;\n",
              "      box-shadow: 0px 1px 3px 1px rgba(0, 0, 0, 0.15);\n",
              "      filter: drop-shadow(0px 1px 2px rgba(0, 0, 0, 0.3));\n",
              "      fill: #FFFFFF;\n",
              "    }\n",
              "  </style>\n",
              "\n",
              "      <script>\n",
              "        const buttonEl =\n",
              "          document.querySelector('#df-dbaed68d-2f0d-4502-9ee0-09d45d088e50 button.colab-df-convert');\n",
              "        buttonEl.style.display =\n",
              "          google.colab.kernel.accessAllowed ? 'block' : 'none';\n",
              "\n",
              "        async function convertToInteractive(key) {\n",
              "          const element = document.querySelector('#df-dbaed68d-2f0d-4502-9ee0-09d45d088e50');\n",
              "          const dataTable =\n",
              "            await google.colab.kernel.invokeFunction('convertToInteractive',\n",
              "                                                     [key], {});\n",
              "          if (!dataTable) return;\n",
              "\n",
              "          const docLinkHtml = 'Like what you see? Visit the ' +\n",
              "            '<a target=\"_blank\" href=https://colab.research.google.com/notebooks/data_table.ipynb>data table notebook</a>'\n",
              "            + ' to learn more about interactive tables.';\n",
              "          element.innerHTML = '';\n",
              "          dataTable['output_type'] = 'display_data';\n",
              "          await google.colab.output.renderOutput(dataTable, element);\n",
              "          const docLink = document.createElement('div');\n",
              "          docLink.innerHTML = docLinkHtml;\n",
              "          element.appendChild(docLink);\n",
              "        }\n",
              "      </script>\n",
              "    </div>\n",
              "  </div>\n",
              "  "
            ]
          },
          "metadata": {},
          "execution_count": 41
        }
      ],
      "source": [
        "cities = pd.read_csv('/worldcities.csv')\n",
        "cities['city_ascii'] = cities['city_ascii'].str.lower()\n",
        "cities.head(3)"
      ]
    },
    {
      "cell_type": "code",
      "execution_count": null,
      "metadata": {
        "id": "tQv7pncGjcsL"
      },
      "outputs": [],
      "source": [
        "columns = ['location', 'country']\n",
        "for column in columns:\n",
        "    train_data[column] = train_data[column].str.lower()\n",
        "    test_data[column]  = test_data[column].str.lower()"
      ]
    },
    {
      "cell_type": "code",
      "execution_count": null,
      "metadata": {
        "id": "vPppdc96jcsM"
      },
      "outputs": [],
      "source": [
        "def discover_country_from_city(df, column, cities_df):\n",
        "    \n",
        "    '''\n",
        "    Splits the location field and searches for the name of cities to find their respective country\n",
        "    '''\n",
        "     \n",
        "    index=0\n",
        "    for item in df[column]:\n",
        "        \n",
        "        for new_item in item.split():\n",
        "            if (new_item != 'nan') and (new_item in cities_df['city_ascii'].values):\n",
        "                df.loc[index, 'country'] = cities_df[cities_df['city_ascii']==new_item].iso2.values[0]\n",
        "        else:\n",
        "            pass\n",
        "        \n",
        "        index+=1\n",
        "    \n",
        "    return df"
      ]
    },
    {
      "cell_type": "code",
      "execution_count": null,
      "metadata": {
        "id": "bwhhJXFOjcsM"
      },
      "outputs": [],
      "source": [
        "for colum in columns:\n",
        "    train_data = discover_country_from_city(train_data, column, cities)\n",
        "    test_data  = discover_country_from_city(test_data, column, cities)"
      ]
    },
    {
      "cell_type": "code",
      "execution_count": null,
      "metadata": {
        "colab": {
          "base_uri": "https://localhost:8080/"
        },
        "id": "5GlLeWqujcsM",
        "outputId": "8319a573-4814-49a6-a01d-2d26f1c53649"
      },
      "outputs": [
        {
          "output_type": "execute_result",
          "data": {
            "text/plain": [
              "nan                       2533\n",
              "US                        1349\n",
              "GB                         287\n",
              "JP                         152\n",
              "CA                         134\n",
              "                          ... \n",
              "hickville                    1\n",
              "valle del sol                1\n",
              "in my studio                 1\n",
              "bod                          1\n",
              " newcastleupontyne  uk       1\n",
              "Name: country, Length: 1567, dtype: int64"
            ]
          },
          "metadata": {},
          "execution_count": 45
        }
      ],
      "source": [
        "train_data.country.value_counts()"
      ]
    },
    {
      "cell_type": "code",
      "execution_count": null,
      "metadata": {
        "colab": {
          "base_uri": "https://localhost:8080/",
          "height": 268
        },
        "id": "J_MLONk5jcsM",
        "outputId": "5451abd5-95e2-468e-d232-7bb55102bf84"
      },
      "outputs": [
        {
          "output_type": "execute_result",
          "data": {
            "text/plain": [
              "      id   keyword       location  \\\n",
              "500  725  attacked        lealman   \n",
              "501  726  attacked    los angeles   \n",
              "502  727  attacked  san francisco   \n",
              "503  728  attacked     gdjb  asot   \n",
              "\n",
              "                                                  text  target  num chars  \\\n",
              "500  Christian Attacked by Muslims at the Temple Mo...       1        122   \n",
              "501  @envw98 @NickCoCoFree @JulieDiCaro @jdabe80 Wh...       0        136   \n",
              "502  Kelly Osbourne attacked for racist Donald Trum...       1        103   \n",
              "503  @eunice_njoki aiii she needs to chill and answ...       0         89   \n",
              "\n",
              "     num special chars  num words  average word length      country  \n",
              "500                  9         18                 5.83           US  \n",
              "501                  7         21                 5.48  los angeles  \n",
              "502                  5         14                 6.43           ML  \n",
              "503                  3         15                 5.00   gdjb  asot  "
            ],
            "text/html": [
              "\n",
              "  <div id=\"df-367a538a-ce89-48f5-84cc-e7da7ce6ea57\">\n",
              "    <div class=\"colab-df-container\">\n",
              "      <div>\n",
              "<style scoped>\n",
              "    .dataframe tbody tr th:only-of-type {\n",
              "        vertical-align: middle;\n",
              "    }\n",
              "\n",
              "    .dataframe tbody tr th {\n",
              "        vertical-align: top;\n",
              "    }\n",
              "\n",
              "    .dataframe thead th {\n",
              "        text-align: right;\n",
              "    }\n",
              "</style>\n",
              "<table border=\"1\" class=\"dataframe\">\n",
              "  <thead>\n",
              "    <tr style=\"text-align: right;\">\n",
              "      <th></th>\n",
              "      <th>id</th>\n",
              "      <th>keyword</th>\n",
              "      <th>location</th>\n",
              "      <th>text</th>\n",
              "      <th>target</th>\n",
              "      <th>num chars</th>\n",
              "      <th>num special chars</th>\n",
              "      <th>num words</th>\n",
              "      <th>average word length</th>\n",
              "      <th>country</th>\n",
              "    </tr>\n",
              "  </thead>\n",
              "  <tbody>\n",
              "    <tr>\n",
              "      <th>500</th>\n",
              "      <td>725</td>\n",
              "      <td>attacked</td>\n",
              "      <td>lealman</td>\n",
              "      <td>Christian Attacked by Muslims at the Temple Mo...</td>\n",
              "      <td>1</td>\n",
              "      <td>122</td>\n",
              "      <td>9</td>\n",
              "      <td>18</td>\n",
              "      <td>5.83</td>\n",
              "      <td>US</td>\n",
              "    </tr>\n",
              "    <tr>\n",
              "      <th>501</th>\n",
              "      <td>726</td>\n",
              "      <td>attacked</td>\n",
              "      <td>los angeles</td>\n",
              "      <td>@envw98 @NickCoCoFree @JulieDiCaro @jdabe80 Wh...</td>\n",
              "      <td>0</td>\n",
              "      <td>136</td>\n",
              "      <td>7</td>\n",
              "      <td>21</td>\n",
              "      <td>5.48</td>\n",
              "      <td>los angeles</td>\n",
              "    </tr>\n",
              "    <tr>\n",
              "      <th>502</th>\n",
              "      <td>727</td>\n",
              "      <td>attacked</td>\n",
              "      <td>san francisco</td>\n",
              "      <td>Kelly Osbourne attacked for racist Donald Trum...</td>\n",
              "      <td>1</td>\n",
              "      <td>103</td>\n",
              "      <td>5</td>\n",
              "      <td>14</td>\n",
              "      <td>6.43</td>\n",
              "      <td>ML</td>\n",
              "    </tr>\n",
              "    <tr>\n",
              "      <th>503</th>\n",
              "      <td>728</td>\n",
              "      <td>attacked</td>\n",
              "      <td>gdjb  asot</td>\n",
              "      <td>@eunice_njoki aiii she needs to chill and answ...</td>\n",
              "      <td>0</td>\n",
              "      <td>89</td>\n",
              "      <td>3</td>\n",
              "      <td>15</td>\n",
              "      <td>5.00</td>\n",
              "      <td>gdjb  asot</td>\n",
              "    </tr>\n",
              "  </tbody>\n",
              "</table>\n",
              "</div>\n",
              "      <button class=\"colab-df-convert\" onclick=\"convertToInteractive('df-367a538a-ce89-48f5-84cc-e7da7ce6ea57')\"\n",
              "              title=\"Convert this dataframe to an interactive table.\"\n",
              "              style=\"display:none;\">\n",
              "        \n",
              "  <svg xmlns=\"http://www.w3.org/2000/svg\" height=\"24px\"viewBox=\"0 0 24 24\"\n",
              "       width=\"24px\">\n",
              "    <path d=\"M0 0h24v24H0V0z\" fill=\"none\"/>\n",
              "    <path d=\"M18.56 5.44l.94 2.06.94-2.06 2.06-.94-2.06-.94-.94-2.06-.94 2.06-2.06.94zm-11 1L8.5 8.5l.94-2.06 2.06-.94-2.06-.94L8.5 2.5l-.94 2.06-2.06.94zm10 10l.94 2.06.94-2.06 2.06-.94-2.06-.94-.94-2.06-.94 2.06-2.06.94z\"/><path d=\"M17.41 7.96l-1.37-1.37c-.4-.4-.92-.59-1.43-.59-.52 0-1.04.2-1.43.59L10.3 9.45l-7.72 7.72c-.78.78-.78 2.05 0 2.83L4 21.41c.39.39.9.59 1.41.59.51 0 1.02-.2 1.41-.59l7.78-7.78 2.81-2.81c.8-.78.8-2.07 0-2.86zM5.41 20L4 18.59l7.72-7.72 1.47 1.35L5.41 20z\"/>\n",
              "  </svg>\n",
              "      </button>\n",
              "      \n",
              "  <style>\n",
              "    .colab-df-container {\n",
              "      display:flex;\n",
              "      flex-wrap:wrap;\n",
              "      gap: 12px;\n",
              "    }\n",
              "\n",
              "    .colab-df-convert {\n",
              "      background-color: #E8F0FE;\n",
              "      border: none;\n",
              "      border-radius: 50%;\n",
              "      cursor: pointer;\n",
              "      display: none;\n",
              "      fill: #1967D2;\n",
              "      height: 32px;\n",
              "      padding: 0 0 0 0;\n",
              "      width: 32px;\n",
              "    }\n",
              "\n",
              "    .colab-df-convert:hover {\n",
              "      background-color: #E2EBFA;\n",
              "      box-shadow: 0px 1px 2px rgba(60, 64, 67, 0.3), 0px 1px 3px 1px rgba(60, 64, 67, 0.15);\n",
              "      fill: #174EA6;\n",
              "    }\n",
              "\n",
              "    [theme=dark] .colab-df-convert {\n",
              "      background-color: #3B4455;\n",
              "      fill: #D2E3FC;\n",
              "    }\n",
              "\n",
              "    [theme=dark] .colab-df-convert:hover {\n",
              "      background-color: #434B5C;\n",
              "      box-shadow: 0px 1px 3px 1px rgba(0, 0, 0, 0.15);\n",
              "      filter: drop-shadow(0px 1px 2px rgba(0, 0, 0, 0.3));\n",
              "      fill: #FFFFFF;\n",
              "    }\n",
              "  </style>\n",
              "\n",
              "      <script>\n",
              "        const buttonEl =\n",
              "          document.querySelector('#df-367a538a-ce89-48f5-84cc-e7da7ce6ea57 button.colab-df-convert');\n",
              "        buttonEl.style.display =\n",
              "          google.colab.kernel.accessAllowed ? 'block' : 'none';\n",
              "\n",
              "        async function convertToInteractive(key) {\n",
              "          const element = document.querySelector('#df-367a538a-ce89-48f5-84cc-e7da7ce6ea57');\n",
              "          const dataTable =\n",
              "            await google.colab.kernel.invokeFunction('convertToInteractive',\n",
              "                                                     [key], {});\n",
              "          if (!dataTable) return;\n",
              "\n",
              "          const docLinkHtml = 'Like what you see? Visit the ' +\n",
              "            '<a target=\"_blank\" href=https://colab.research.google.com/notebooks/data_table.ipynb>data table notebook</a>'\n",
              "            + ' to learn more about interactive tables.';\n",
              "          element.innerHTML = '';\n",
              "          dataTable['output_type'] = 'display_data';\n",
              "          await google.colab.output.renderOutput(dataTable, element);\n",
              "          const docLink = document.createElement('div');\n",
              "          docLink.innerHTML = docLinkHtml;\n",
              "          element.appendChild(docLink);\n",
              "        }\n",
              "      </script>\n",
              "    </div>\n",
              "  </div>\n",
              "  "
            ]
          },
          "metadata": {},
          "execution_count": 46
        }
      ],
      "source": [
        "train_data[500:504]"
      ]
    },
    {
      "cell_type": "markdown",
      "metadata": {
        "id": "CNERMZYkjcsM"
      },
      "source": [
        "Cities with double names are affected when we split the location field. To solve it, let's search for the full name of the cities"
      ]
    },
    {
      "cell_type": "code",
      "execution_count": null,
      "metadata": {
        "id": "FLeBQiIwjcsM"
      },
      "outputs": [],
      "source": [
        "def discover_country_from_city_v2(df, column, cities_df):\n",
        "    \n",
        "    '''\n",
        "    Uses the location field **with no splitting** and searches for the name of cities to find their \n",
        "    respective country\n",
        "    '''\n",
        "     \n",
        "    index=0\n",
        "    \n",
        "    for item in df[column]:\n",
        "        \n",
        "        if (item != 'nan') and (item in cities_df['city_ascii'].values):\n",
        "                df.loc[index, 'country'] = cities_df[cities_df['city_ascii']==item].iso2.values[0]\n",
        "        else:\n",
        "            pass\n",
        "        \n",
        "        index+=1\n",
        "    \n",
        "    return df"
      ]
    },
    {
      "cell_type": "code",
      "execution_count": null,
      "metadata": {
        "id": "LF49STCdjcsM"
      },
      "outputs": [],
      "source": [
        "for column in columns:\n",
        "    train_data = discover_country_from_city_v2(train_data, column, cities)\n",
        "    test_data  = discover_country_from_city_v2(test_data, column, cities)"
      ]
    },
    {
      "cell_type": "code",
      "execution_count": null,
      "metadata": {
        "colab": {
          "base_uri": "https://localhost:8080/"
        },
        "id": "NQrkdNq8jcsN",
        "outputId": "20671772-eb21-457f-c5a9-0a510e09fb87"
      },
      "outputs": [
        {
          "output_type": "execute_result",
          "data": {
            "text/plain": [
              "nan                         2533\n",
              "US                          1540\n",
              "GB                           290\n",
              "JP                           152\n",
              "CA                           135\n",
              "                            ... \n",
              "                               1\n",
              "silesia                        1\n",
              "hickville                      1\n",
              "valle del sol                  1\n",
              " newcastleupontyne  uk         1\n",
              "Name: country, Length: 1503, dtype: int64"
            ]
          },
          "metadata": {},
          "execution_count": 49
        }
      ],
      "source": [
        "train_data.country.value_counts()"
      ]
    },
    {
      "cell_type": "code",
      "execution_count": null,
      "metadata": {
        "colab": {
          "base_uri": "https://localhost:8080/",
          "height": 268
        },
        "id": "tV3GxYMbjcsN",
        "outputId": "3a11bb17-066a-47fc-9a08-12946635f666"
      },
      "outputs": [
        {
          "output_type": "execute_result",
          "data": {
            "text/plain": [
              "      id   keyword       location  \\\n",
              "500  725  attacked        lealman   \n",
              "501  726  attacked    los angeles   \n",
              "502  727  attacked  san francisco   \n",
              "503  728  attacked     gdjb  asot   \n",
              "\n",
              "                                                  text  target  num chars  \\\n",
              "500  Christian Attacked by Muslims at the Temple Mo...       1        122   \n",
              "501  @envw98 @NickCoCoFree @JulieDiCaro @jdabe80 Wh...       0        136   \n",
              "502  Kelly Osbourne attacked for racist Donald Trum...       1        103   \n",
              "503  @eunice_njoki aiii she needs to chill and answ...       0         89   \n",
              "\n",
              "     num special chars  num words  average word length      country  \n",
              "500                  9         18                 5.83           US  \n",
              "501                  7         21                 5.48           US  \n",
              "502                  5         14                 6.43           US  \n",
              "503                  3         15                 5.00   gdjb  asot  "
            ],
            "text/html": [
              "\n",
              "  <div id=\"df-756655ce-6079-4e77-be73-9b3080280a7f\">\n",
              "    <div class=\"colab-df-container\">\n",
              "      <div>\n",
              "<style scoped>\n",
              "    .dataframe tbody tr th:only-of-type {\n",
              "        vertical-align: middle;\n",
              "    }\n",
              "\n",
              "    .dataframe tbody tr th {\n",
              "        vertical-align: top;\n",
              "    }\n",
              "\n",
              "    .dataframe thead th {\n",
              "        text-align: right;\n",
              "    }\n",
              "</style>\n",
              "<table border=\"1\" class=\"dataframe\">\n",
              "  <thead>\n",
              "    <tr style=\"text-align: right;\">\n",
              "      <th></th>\n",
              "      <th>id</th>\n",
              "      <th>keyword</th>\n",
              "      <th>location</th>\n",
              "      <th>text</th>\n",
              "      <th>target</th>\n",
              "      <th>num chars</th>\n",
              "      <th>num special chars</th>\n",
              "      <th>num words</th>\n",
              "      <th>average word length</th>\n",
              "      <th>country</th>\n",
              "    </tr>\n",
              "  </thead>\n",
              "  <tbody>\n",
              "    <tr>\n",
              "      <th>500</th>\n",
              "      <td>725</td>\n",
              "      <td>attacked</td>\n",
              "      <td>lealman</td>\n",
              "      <td>Christian Attacked by Muslims at the Temple Mo...</td>\n",
              "      <td>1</td>\n",
              "      <td>122</td>\n",
              "      <td>9</td>\n",
              "      <td>18</td>\n",
              "      <td>5.83</td>\n",
              "      <td>US</td>\n",
              "    </tr>\n",
              "    <tr>\n",
              "      <th>501</th>\n",
              "      <td>726</td>\n",
              "      <td>attacked</td>\n",
              "      <td>los angeles</td>\n",
              "      <td>@envw98 @NickCoCoFree @JulieDiCaro @jdabe80 Wh...</td>\n",
              "      <td>0</td>\n",
              "      <td>136</td>\n",
              "      <td>7</td>\n",
              "      <td>21</td>\n",
              "      <td>5.48</td>\n",
              "      <td>US</td>\n",
              "    </tr>\n",
              "    <tr>\n",
              "      <th>502</th>\n",
              "      <td>727</td>\n",
              "      <td>attacked</td>\n",
              "      <td>san francisco</td>\n",
              "      <td>Kelly Osbourne attacked for racist Donald Trum...</td>\n",
              "      <td>1</td>\n",
              "      <td>103</td>\n",
              "      <td>5</td>\n",
              "      <td>14</td>\n",
              "      <td>6.43</td>\n",
              "      <td>US</td>\n",
              "    </tr>\n",
              "    <tr>\n",
              "      <th>503</th>\n",
              "      <td>728</td>\n",
              "      <td>attacked</td>\n",
              "      <td>gdjb  asot</td>\n",
              "      <td>@eunice_njoki aiii she needs to chill and answ...</td>\n",
              "      <td>0</td>\n",
              "      <td>89</td>\n",
              "      <td>3</td>\n",
              "      <td>15</td>\n",
              "      <td>5.00</td>\n",
              "      <td>gdjb  asot</td>\n",
              "    </tr>\n",
              "  </tbody>\n",
              "</table>\n",
              "</div>\n",
              "      <button class=\"colab-df-convert\" onclick=\"convertToInteractive('df-756655ce-6079-4e77-be73-9b3080280a7f')\"\n",
              "              title=\"Convert this dataframe to an interactive table.\"\n",
              "              style=\"display:none;\">\n",
              "        \n",
              "  <svg xmlns=\"http://www.w3.org/2000/svg\" height=\"24px\"viewBox=\"0 0 24 24\"\n",
              "       width=\"24px\">\n",
              "    <path d=\"M0 0h24v24H0V0z\" fill=\"none\"/>\n",
              "    <path d=\"M18.56 5.44l.94 2.06.94-2.06 2.06-.94-2.06-.94-.94-2.06-.94 2.06-2.06.94zm-11 1L8.5 8.5l.94-2.06 2.06-.94-2.06-.94L8.5 2.5l-.94 2.06-2.06.94zm10 10l.94 2.06.94-2.06 2.06-.94-2.06-.94-.94-2.06-.94 2.06-2.06.94z\"/><path d=\"M17.41 7.96l-1.37-1.37c-.4-.4-.92-.59-1.43-.59-.52 0-1.04.2-1.43.59L10.3 9.45l-7.72 7.72c-.78.78-.78 2.05 0 2.83L4 21.41c.39.39.9.59 1.41.59.51 0 1.02-.2 1.41-.59l7.78-7.78 2.81-2.81c.8-.78.8-2.07 0-2.86zM5.41 20L4 18.59l7.72-7.72 1.47 1.35L5.41 20z\"/>\n",
              "  </svg>\n",
              "      </button>\n",
              "      \n",
              "  <style>\n",
              "    .colab-df-container {\n",
              "      display:flex;\n",
              "      flex-wrap:wrap;\n",
              "      gap: 12px;\n",
              "    }\n",
              "\n",
              "    .colab-df-convert {\n",
              "      background-color: #E8F0FE;\n",
              "      border: none;\n",
              "      border-radius: 50%;\n",
              "      cursor: pointer;\n",
              "      display: none;\n",
              "      fill: #1967D2;\n",
              "      height: 32px;\n",
              "      padding: 0 0 0 0;\n",
              "      width: 32px;\n",
              "    }\n",
              "\n",
              "    .colab-df-convert:hover {\n",
              "      background-color: #E2EBFA;\n",
              "      box-shadow: 0px 1px 2px rgba(60, 64, 67, 0.3), 0px 1px 3px 1px rgba(60, 64, 67, 0.15);\n",
              "      fill: #174EA6;\n",
              "    }\n",
              "\n",
              "    [theme=dark] .colab-df-convert {\n",
              "      background-color: #3B4455;\n",
              "      fill: #D2E3FC;\n",
              "    }\n",
              "\n",
              "    [theme=dark] .colab-df-convert:hover {\n",
              "      background-color: #434B5C;\n",
              "      box-shadow: 0px 1px 3px 1px rgba(0, 0, 0, 0.15);\n",
              "      filter: drop-shadow(0px 1px 2px rgba(0, 0, 0, 0.3));\n",
              "      fill: #FFFFFF;\n",
              "    }\n",
              "  </style>\n",
              "\n",
              "      <script>\n",
              "        const buttonEl =\n",
              "          document.querySelector('#df-756655ce-6079-4e77-be73-9b3080280a7f button.colab-df-convert');\n",
              "        buttonEl.style.display =\n",
              "          google.colab.kernel.accessAllowed ? 'block' : 'none';\n",
              "\n",
              "        async function convertToInteractive(key) {\n",
              "          const element = document.querySelector('#df-756655ce-6079-4e77-be73-9b3080280a7f');\n",
              "          const dataTable =\n",
              "            await google.colab.kernel.invokeFunction('convertToInteractive',\n",
              "                                                     [key], {});\n",
              "          if (!dataTable) return;\n",
              "\n",
              "          const docLinkHtml = 'Like what you see? Visit the ' +\n",
              "            '<a target=\"_blank\" href=https://colab.research.google.com/notebooks/data_table.ipynb>data table notebook</a>'\n",
              "            + ' to learn more about interactive tables.';\n",
              "          element.innerHTML = '';\n",
              "          dataTable['output_type'] = 'display_data';\n",
              "          await google.colab.output.renderOutput(dataTable, element);\n",
              "          const docLink = document.createElement('div');\n",
              "          docLink.innerHTML = docLinkHtml;\n",
              "          element.appendChild(docLink);\n",
              "        }\n",
              "      </script>\n",
              "    </div>\n",
              "  </div>\n",
              "  "
            ]
          },
          "metadata": {},
          "execution_count": 50
        }
      ],
      "source": [
        "train_data[500:504]"
      ]
    },
    {
      "cell_type": "markdown",
      "metadata": {
        "id": "fYaHTWOLjcsN"
      },
      "source": [
        "As we have a huge presence of US locations, let us import a USA database with states and main cities"
      ]
    },
    {
      "cell_type": "code",
      "execution_count": null,
      "metadata": {
        "id": "wzjd74fDjcsN"
      },
      "outputs": [],
      "source": [
        "usa_data = pd.read_csv('/USAData.csv')"
      ]
    },
    {
      "cell_type": "code",
      "execution_count": null,
      "metadata": {
        "colab": {
          "base_uri": "https://localhost:8080/",
          "height": 204
        },
        "id": "GsjOaIsrjcsN",
        "outputId": "15db69c1-0eb5-4b8d-e5ad-2cf326d6371a"
      },
      "outputs": [
        {
          "output_type": "execute_result",
          "data": {
            "text/plain": [
              "   rank           name usps  pop2022  pop2010  growth  density  aland_sqmi  \\\n",
              "0     1  new york city   ny  8930002  8175133  0.0923    29729     300.381   \n",
              "1     2    los angeles   ca  3919973  3792621  0.0336     8359     468.956   \n",
              "2     3        chicago   il  2756546  2695598  0.0226    12124     227.369   \n",
              "3     4        houston   tx  2345606  2099451  0.1172     3664     640.194   \n",
              "4     5        phoenix   az  1640641  1445632  0.1349     3169     517.673   \n",
              "\n",
              "        State  \n",
              "0    new york  \n",
              "1  california  \n",
              "2    illinois  \n",
              "3       texas  \n",
              "4     arizona  "
            ],
            "text/html": [
              "\n",
              "  <div id=\"df-6a89fa40-6f2a-4a28-aa89-5b3520383e25\">\n",
              "    <div class=\"colab-df-container\">\n",
              "      <div>\n",
              "<style scoped>\n",
              "    .dataframe tbody tr th:only-of-type {\n",
              "        vertical-align: middle;\n",
              "    }\n",
              "\n",
              "    .dataframe tbody tr th {\n",
              "        vertical-align: top;\n",
              "    }\n",
              "\n",
              "    .dataframe thead th {\n",
              "        text-align: right;\n",
              "    }\n",
              "</style>\n",
              "<table border=\"1\" class=\"dataframe\">\n",
              "  <thead>\n",
              "    <tr style=\"text-align: right;\">\n",
              "      <th></th>\n",
              "      <th>rank</th>\n",
              "      <th>name</th>\n",
              "      <th>usps</th>\n",
              "      <th>pop2022</th>\n",
              "      <th>pop2010</th>\n",
              "      <th>growth</th>\n",
              "      <th>density</th>\n",
              "      <th>aland_sqmi</th>\n",
              "      <th>State</th>\n",
              "    </tr>\n",
              "  </thead>\n",
              "  <tbody>\n",
              "    <tr>\n",
              "      <th>0</th>\n",
              "      <td>1</td>\n",
              "      <td>new york city</td>\n",
              "      <td>ny</td>\n",
              "      <td>8930002</td>\n",
              "      <td>8175133</td>\n",
              "      <td>0.0923</td>\n",
              "      <td>29729</td>\n",
              "      <td>300.381</td>\n",
              "      <td>new york</td>\n",
              "    </tr>\n",
              "    <tr>\n",
              "      <th>1</th>\n",
              "      <td>2</td>\n",
              "      <td>los angeles</td>\n",
              "      <td>ca</td>\n",
              "      <td>3919973</td>\n",
              "      <td>3792621</td>\n",
              "      <td>0.0336</td>\n",
              "      <td>8359</td>\n",
              "      <td>468.956</td>\n",
              "      <td>california</td>\n",
              "    </tr>\n",
              "    <tr>\n",
              "      <th>2</th>\n",
              "      <td>3</td>\n",
              "      <td>chicago</td>\n",
              "      <td>il</td>\n",
              "      <td>2756546</td>\n",
              "      <td>2695598</td>\n",
              "      <td>0.0226</td>\n",
              "      <td>12124</td>\n",
              "      <td>227.369</td>\n",
              "      <td>illinois</td>\n",
              "    </tr>\n",
              "    <tr>\n",
              "      <th>3</th>\n",
              "      <td>4</td>\n",
              "      <td>houston</td>\n",
              "      <td>tx</td>\n",
              "      <td>2345606</td>\n",
              "      <td>2099451</td>\n",
              "      <td>0.1172</td>\n",
              "      <td>3664</td>\n",
              "      <td>640.194</td>\n",
              "      <td>texas</td>\n",
              "    </tr>\n",
              "    <tr>\n",
              "      <th>4</th>\n",
              "      <td>5</td>\n",
              "      <td>phoenix</td>\n",
              "      <td>az</td>\n",
              "      <td>1640641</td>\n",
              "      <td>1445632</td>\n",
              "      <td>0.1349</td>\n",
              "      <td>3169</td>\n",
              "      <td>517.673</td>\n",
              "      <td>arizona</td>\n",
              "    </tr>\n",
              "  </tbody>\n",
              "</table>\n",
              "</div>\n",
              "      <button class=\"colab-df-convert\" onclick=\"convertToInteractive('df-6a89fa40-6f2a-4a28-aa89-5b3520383e25')\"\n",
              "              title=\"Convert this dataframe to an interactive table.\"\n",
              "              style=\"display:none;\">\n",
              "        \n",
              "  <svg xmlns=\"http://www.w3.org/2000/svg\" height=\"24px\"viewBox=\"0 0 24 24\"\n",
              "       width=\"24px\">\n",
              "    <path d=\"M0 0h24v24H0V0z\" fill=\"none\"/>\n",
              "    <path d=\"M18.56 5.44l.94 2.06.94-2.06 2.06-.94-2.06-.94-.94-2.06-.94 2.06-2.06.94zm-11 1L8.5 8.5l.94-2.06 2.06-.94-2.06-.94L8.5 2.5l-.94 2.06-2.06.94zm10 10l.94 2.06.94-2.06 2.06-.94-2.06-.94-.94-2.06-.94 2.06-2.06.94z\"/><path d=\"M17.41 7.96l-1.37-1.37c-.4-.4-.92-.59-1.43-.59-.52 0-1.04.2-1.43.59L10.3 9.45l-7.72 7.72c-.78.78-.78 2.05 0 2.83L4 21.41c.39.39.9.59 1.41.59.51 0 1.02-.2 1.41-.59l7.78-7.78 2.81-2.81c.8-.78.8-2.07 0-2.86zM5.41 20L4 18.59l7.72-7.72 1.47 1.35L5.41 20z\"/>\n",
              "  </svg>\n",
              "      </button>\n",
              "      \n",
              "  <style>\n",
              "    .colab-df-container {\n",
              "      display:flex;\n",
              "      flex-wrap:wrap;\n",
              "      gap: 12px;\n",
              "    }\n",
              "\n",
              "    .colab-df-convert {\n",
              "      background-color: #E8F0FE;\n",
              "      border: none;\n",
              "      border-radius: 50%;\n",
              "      cursor: pointer;\n",
              "      display: none;\n",
              "      fill: #1967D2;\n",
              "      height: 32px;\n",
              "      padding: 0 0 0 0;\n",
              "      width: 32px;\n",
              "    }\n",
              "\n",
              "    .colab-df-convert:hover {\n",
              "      background-color: #E2EBFA;\n",
              "      box-shadow: 0px 1px 2px rgba(60, 64, 67, 0.3), 0px 1px 3px 1px rgba(60, 64, 67, 0.15);\n",
              "      fill: #174EA6;\n",
              "    }\n",
              "\n",
              "    [theme=dark] .colab-df-convert {\n",
              "      background-color: #3B4455;\n",
              "      fill: #D2E3FC;\n",
              "    }\n",
              "\n",
              "    [theme=dark] .colab-df-convert:hover {\n",
              "      background-color: #434B5C;\n",
              "      box-shadow: 0px 1px 3px 1px rgba(0, 0, 0, 0.15);\n",
              "      filter: drop-shadow(0px 1px 2px rgba(0, 0, 0, 0.3));\n",
              "      fill: #FFFFFF;\n",
              "    }\n",
              "  </style>\n",
              "\n",
              "      <script>\n",
              "        const buttonEl =\n",
              "          document.querySelector('#df-6a89fa40-6f2a-4a28-aa89-5b3520383e25 button.colab-df-convert');\n",
              "        buttonEl.style.display =\n",
              "          google.colab.kernel.accessAllowed ? 'block' : 'none';\n",
              "\n",
              "        async function convertToInteractive(key) {\n",
              "          const element = document.querySelector('#df-6a89fa40-6f2a-4a28-aa89-5b3520383e25');\n",
              "          const dataTable =\n",
              "            await google.colab.kernel.invokeFunction('convertToInteractive',\n",
              "                                                     [key], {});\n",
              "          if (!dataTable) return;\n",
              "\n",
              "          const docLinkHtml = 'Like what you see? Visit the ' +\n",
              "            '<a target=\"_blank\" href=https://colab.research.google.com/notebooks/data_table.ipynb>data table notebook</a>'\n",
              "            + ' to learn more about interactive tables.';\n",
              "          element.innerHTML = '';\n",
              "          dataTable['output_type'] = 'display_data';\n",
              "          await google.colab.output.renderOutput(dataTable, element);\n",
              "          const docLink = document.createElement('div');\n",
              "          docLink.innerHTML = docLinkHtml;\n",
              "          element.appendChild(docLink);\n",
              "        }\n",
              "      </script>\n",
              "    </div>\n",
              "  </div>\n",
              "  "
            ]
          },
          "metadata": {},
          "execution_count": 52
        }
      ],
      "source": [
        "usa_columns = ['name', 'usps', 'State']\n",
        "for column in usa_columns:\n",
        "    usa_data[column] = usa_data[column].str.lower()\n",
        "\n",
        "usa_data.head()"
      ]
    },
    {
      "cell_type": "code",
      "execution_count": null,
      "metadata": {
        "id": "9rI_hK64jcsN"
      },
      "outputs": [],
      "source": [
        "def find_USA_locations(df, column, cities_df):\n",
        "    \n",
        "    '''\n",
        "    Finds USA locations and replace them by 'US' name in country field\n",
        "    '''\n",
        "    \n",
        "    index=0\n",
        "    usa_columns = ['State', 'usps', 'name']\n",
        "    \n",
        "    for item in df[column]:\n",
        "        \n",
        "        if item in ['new york', 'united states']:\n",
        "            df.loc[index, 'country'] = 'US'\n",
        "        \n",
        "        else:\n",
        "            for usa_column in usa_columns:\n",
        "                if item in cities_df[usa_column].values:\n",
        "                    df.loc[index, 'country'] = 'US'\n",
        "                    df.loc[index, 'location']= item\n",
        "                \n",
        "                else:\n",
        "                    pass\n",
        "        \n",
        "        index+=1\n",
        "    \n",
        "    return df"
      ]
    },
    {
      "cell_type": "code",
      "execution_count": null,
      "metadata": {
        "id": "8eh9vGgPjcsO"
      },
      "outputs": [],
      "source": [
        "for column in columns:\n",
        "    train_data = find_USA_locations(train_data, column, usa_data)\n",
        "    test_data  = find_USA_locations(test_data, column, usa_data)"
      ]
    },
    {
      "cell_type": "code",
      "execution_count": null,
      "metadata": {
        "colab": {
          "base_uri": "https://localhost:8080/"
        },
        "id": "4BVevJLOjcsO",
        "outputId": "307f32a1-1620-4db1-fe76-40d03be22572"
      },
      "outputs": [
        {
          "output_type": "execute_result",
          "data": {
            "text/plain": [
              "nan                       2533\n",
              "US                        1833\n",
              "GB                         281\n",
              "JP                         152\n",
              "CA                         122\n",
              "                          ... \n",
              "silesia                      1\n",
              "hickville                    1\n",
              "valle del sol                1\n",
              "in my studio                 1\n",
              " newcastleupontyne  uk       1\n",
              "Name: country, Length: 1456, dtype: int64"
            ]
          },
          "metadata": {},
          "execution_count": 55
        }
      ],
      "source": [
        "train_data.country.value_counts()"
      ]
    },
    {
      "cell_type": "code",
      "execution_count": null,
      "metadata": {
        "id": "w0kowW8ejcsO"
      },
      "outputs": [],
      "source": [
        "def find_USA_locations_v2(df, column, cities_df):\n",
        "    \n",
        "    '''\n",
        "    Splits the entries to find US locations\n",
        "    '''\n",
        "     \n",
        "    index=0\n",
        "    usa_columns = ['State', 'usps', 'name']\n",
        "    for item in df[column]:\n",
        "        \n",
        "        for new_item in item.split():\n",
        "            for usa_column in usa_columns:\n",
        "                if new_item in cities_df[usa_column].values:\n",
        "                    df.loc[index, 'country'] = 'US'\n",
        "        else:\n",
        "            pass\n",
        "        \n",
        "        index+=1\n",
        "    \n",
        "    return df"
      ]
    },
    {
      "cell_type": "code",
      "execution_count": null,
      "metadata": {
        "id": "r0idCc1FjcsO"
      },
      "outputs": [],
      "source": [
        "for column in columns:\n",
        "    train_data = find_USA_locations_v2(train_data, column, usa_data)\n",
        "    test_data  = find_USA_locations_v2(test_data, column, usa_data)"
      ]
    },
    {
      "cell_type": "code",
      "execution_count": null,
      "metadata": {
        "colab": {
          "base_uri": "https://localhost:8080/"
        },
        "id": "gHSUvTmTjcsO",
        "outputId": "6ba7a70a-c407-4cbe-e772-04bfabea6f98"
      },
      "outputs": [
        {
          "output_type": "execute_result",
          "data": {
            "text/plain": [
              "nan                          2533\n",
              "US                           2048\n",
              "GB                            272\n",
              "JP                            138\n",
              "CA                            112\n",
              "                             ... \n",
              "paname city                     1\n",
              "k  ln                           1\n",
              "bikini bottom                   1\n",
              "sharkatraz bindle s cleft       1\n",
              " newcastleupontyne  uk          1\n",
              "Name: country, Length: 1341, dtype: int64"
            ]
          },
          "metadata": {},
          "execution_count": 58
        }
      ],
      "source": [
        "train_data.country.value_counts()"
      ]
    },
    {
      "cell_type": "markdown",
      "metadata": {
        "id": "rz--VRZ1jcsO"
      },
      "source": [
        " "
      ]
    },
    {
      "cell_type": "markdown",
      "metadata": {
        "id": "UzXZcsCcjcsO"
      },
      "source": [
        " "
      ]
    },
    {
      "cell_type": "markdown",
      "metadata": {
        "id": "cFy-SzmqjcsP"
      },
      "source": [
        "As our Cities database does not comprise all countries in the world, let us import a last, but complete country dataset and search for remaining entries..."
      ]
    },
    {
      "cell_type": "code",
      "execution_count": null,
      "metadata": {
        "id": "FnsIXgBxjcsP"
      },
      "outputs": [],
      "source": [
        "countries = pd.read_csv('/All countries.csv')"
      ]
    },
    {
      "cell_type": "code",
      "execution_count": null,
      "metadata": {
        "id": "YOeFNX9pjcsP"
      },
      "outputs": [],
      "source": [
        "countries['country'] = countries['country'].str.lower()\n",
        "countries['abbreviation'] = countries['abbreviation'].str.lower()"
      ]
    },
    {
      "cell_type": "code",
      "execution_count": null,
      "metadata": {
        "colab": {
          "base_uri": "https://localhost:8080/",
          "height": 204
        },
        "id": "qiBMFgxujcsP",
        "outputId": "6ec55bc4-3ddb-49be-a0cf-088349619c73"
      },
      "outputs": [
        {
          "output_type": "execute_result",
          "data": {
            "text/plain": [
              "  abbreviation         country\n",
              "0           af     afghanistan\n",
              "1           ax   aland islands\n",
              "2           al         albania\n",
              "3           dz         algeria\n",
              "4           as  american samoa"
            ],
            "text/html": [
              "\n",
              "  <div id=\"df-3dacf676-bad5-46c5-9aa1-11ccb4e39e18\">\n",
              "    <div class=\"colab-df-container\">\n",
              "      <div>\n",
              "<style scoped>\n",
              "    .dataframe tbody tr th:only-of-type {\n",
              "        vertical-align: middle;\n",
              "    }\n",
              "\n",
              "    .dataframe tbody tr th {\n",
              "        vertical-align: top;\n",
              "    }\n",
              "\n",
              "    .dataframe thead th {\n",
              "        text-align: right;\n",
              "    }\n",
              "</style>\n",
              "<table border=\"1\" class=\"dataframe\">\n",
              "  <thead>\n",
              "    <tr style=\"text-align: right;\">\n",
              "      <th></th>\n",
              "      <th>abbreviation</th>\n",
              "      <th>country</th>\n",
              "    </tr>\n",
              "  </thead>\n",
              "  <tbody>\n",
              "    <tr>\n",
              "      <th>0</th>\n",
              "      <td>af</td>\n",
              "      <td>afghanistan</td>\n",
              "    </tr>\n",
              "    <tr>\n",
              "      <th>1</th>\n",
              "      <td>ax</td>\n",
              "      <td>aland islands</td>\n",
              "    </tr>\n",
              "    <tr>\n",
              "      <th>2</th>\n",
              "      <td>al</td>\n",
              "      <td>albania</td>\n",
              "    </tr>\n",
              "    <tr>\n",
              "      <th>3</th>\n",
              "      <td>dz</td>\n",
              "      <td>algeria</td>\n",
              "    </tr>\n",
              "    <tr>\n",
              "      <th>4</th>\n",
              "      <td>as</td>\n",
              "      <td>american samoa</td>\n",
              "    </tr>\n",
              "  </tbody>\n",
              "</table>\n",
              "</div>\n",
              "      <button class=\"colab-df-convert\" onclick=\"convertToInteractive('df-3dacf676-bad5-46c5-9aa1-11ccb4e39e18')\"\n",
              "              title=\"Convert this dataframe to an interactive table.\"\n",
              "              style=\"display:none;\">\n",
              "        \n",
              "  <svg xmlns=\"http://www.w3.org/2000/svg\" height=\"24px\"viewBox=\"0 0 24 24\"\n",
              "       width=\"24px\">\n",
              "    <path d=\"M0 0h24v24H0V0z\" fill=\"none\"/>\n",
              "    <path d=\"M18.56 5.44l.94 2.06.94-2.06 2.06-.94-2.06-.94-.94-2.06-.94 2.06-2.06.94zm-11 1L8.5 8.5l.94-2.06 2.06-.94-2.06-.94L8.5 2.5l-.94 2.06-2.06.94zm10 10l.94 2.06.94-2.06 2.06-.94-2.06-.94-.94-2.06-.94 2.06-2.06.94z\"/><path d=\"M17.41 7.96l-1.37-1.37c-.4-.4-.92-.59-1.43-.59-.52 0-1.04.2-1.43.59L10.3 9.45l-7.72 7.72c-.78.78-.78 2.05 0 2.83L4 21.41c.39.39.9.59 1.41.59.51 0 1.02-.2 1.41-.59l7.78-7.78 2.81-2.81c.8-.78.8-2.07 0-2.86zM5.41 20L4 18.59l7.72-7.72 1.47 1.35L5.41 20z\"/>\n",
              "  </svg>\n",
              "      </button>\n",
              "      \n",
              "  <style>\n",
              "    .colab-df-container {\n",
              "      display:flex;\n",
              "      flex-wrap:wrap;\n",
              "      gap: 12px;\n",
              "    }\n",
              "\n",
              "    .colab-df-convert {\n",
              "      background-color: #E8F0FE;\n",
              "      border: none;\n",
              "      border-radius: 50%;\n",
              "      cursor: pointer;\n",
              "      display: none;\n",
              "      fill: #1967D2;\n",
              "      height: 32px;\n",
              "      padding: 0 0 0 0;\n",
              "      width: 32px;\n",
              "    }\n",
              "\n",
              "    .colab-df-convert:hover {\n",
              "      background-color: #E2EBFA;\n",
              "      box-shadow: 0px 1px 2px rgba(60, 64, 67, 0.3), 0px 1px 3px 1px rgba(60, 64, 67, 0.15);\n",
              "      fill: #174EA6;\n",
              "    }\n",
              "\n",
              "    [theme=dark] .colab-df-convert {\n",
              "      background-color: #3B4455;\n",
              "      fill: #D2E3FC;\n",
              "    }\n",
              "\n",
              "    [theme=dark] .colab-df-convert:hover {\n",
              "      background-color: #434B5C;\n",
              "      box-shadow: 0px 1px 3px 1px rgba(0, 0, 0, 0.15);\n",
              "      filter: drop-shadow(0px 1px 2px rgba(0, 0, 0, 0.3));\n",
              "      fill: #FFFFFF;\n",
              "    }\n",
              "  </style>\n",
              "\n",
              "      <script>\n",
              "        const buttonEl =\n",
              "          document.querySelector('#df-3dacf676-bad5-46c5-9aa1-11ccb4e39e18 button.colab-df-convert');\n",
              "        buttonEl.style.display =\n",
              "          google.colab.kernel.accessAllowed ? 'block' : 'none';\n",
              "\n",
              "        async function convertToInteractive(key) {\n",
              "          const element = document.querySelector('#df-3dacf676-bad5-46c5-9aa1-11ccb4e39e18');\n",
              "          const dataTable =\n",
              "            await google.colab.kernel.invokeFunction('convertToInteractive',\n",
              "                                                     [key], {});\n",
              "          if (!dataTable) return;\n",
              "\n",
              "          const docLinkHtml = 'Like what you see? Visit the ' +\n",
              "            '<a target=\"_blank\" href=https://colab.research.google.com/notebooks/data_table.ipynb>data table notebook</a>'\n",
              "            + ' to learn more about interactive tables.';\n",
              "          element.innerHTML = '';\n",
              "          dataTable['output_type'] = 'display_data';\n",
              "          await google.colab.output.renderOutput(dataTable, element);\n",
              "          const docLink = document.createElement('div');\n",
              "          docLink.innerHTML = docLinkHtml;\n",
              "          element.appendChild(docLink);\n",
              "        }\n",
              "      </script>\n",
              "    </div>\n",
              "  </div>\n",
              "  "
            ]
          },
          "metadata": {},
          "execution_count": 61
        }
      ],
      "source": [
        "countries.head()"
      ]
    },
    {
      "cell_type": "code",
      "execution_count": null,
      "metadata": {
        "colab": {
          "base_uri": "https://localhost:8080/"
        },
        "id": "sxZG4CmMjcsP",
        "outputId": "44a7e6bb-22bc-4122-cf61-f3bca82d1372"
      },
      "outputs": [
        {
          "output_type": "execute_result",
          "data": {
            "text/plain": [
              "True"
            ]
          },
          "metadata": {},
          "execution_count": 62
        }
      ],
      "source": [
        "'us' in countries['abbreviation'].values"
      ]
    },
    {
      "cell_type": "code",
      "execution_count": null,
      "metadata": {
        "id": "edJ2uBLIjcsP"
      },
      "outputs": [],
      "source": [
        "def search_remaining_countries(df, column, countries_df):\n",
        "    '''\n",
        "    Splits the entries to find US locations\n",
        "    '''\n",
        "     \n",
        "    index=0\n",
        "    for item in df[column]:\n",
        "        \n",
        "        if item in countries_df['country'].values:\n",
        "            df.loc[index, 'country'] = countries_df[countries_df['country']==item].abbreviation.values[0]\n",
        "        \n",
        "        else:\n",
        "            pass\n",
        "        \n",
        "        index+=1\n",
        "    \n",
        "    return df"
      ]
    },
    {
      "cell_type": "code",
      "execution_count": null,
      "metadata": {
        "id": "n1HC_rGSjcsP"
      },
      "outputs": [],
      "source": [
        "train_data = search_remaining_countries(train_data, 'country', countries)\n",
        "test_data  = search_remaining_countries(test_data, 'country', countries)"
      ]
    },
    {
      "cell_type": "code",
      "source": [
        "train_data['country'].value_counts()"
      ],
      "metadata": {
        "colab": {
          "base_uri": "https://localhost:8080/"
        },
        "id": "fgWkPtcS4g3m",
        "outputId": "2e75bb6e-bce1-4a1d-a541-07e559b7d16b"
      },
      "execution_count": null,
      "outputs": [
        {
          "output_type": "execute_result",
          "data": {
            "text/plain": [
              "nan                          2533\n",
              "US                           2048\n",
              "GB                            272\n",
              "JP                            138\n",
              "CA                            112\n",
              "                             ... \n",
              "paname city                     1\n",
              "k  ln                           1\n",
              "bikini bottom                   1\n",
              "sharkatraz bindle s cleft       1\n",
              " newcastleupontyne  uk          1\n",
              "Name: country, Length: 1340, dtype: int64"
            ]
          },
          "metadata": {},
          "execution_count": 65
        }
      ]
    },
    {
      "cell_type": "markdown",
      "metadata": {
        "id": "Pt1JHxM9jcsQ"
      },
      "source": [
        "As we achieved less variation in ['country'] data than in the original ['location'] field, let us work with ['country'] feature from now on. \n",
        "\n",
        "To standardize it, the entries with **len(country)>3** and those which does not match any real country abbreviation will be tagged as NaN, as their location is mostly fake and brings no relevant information"
      ]
    },
    {
      "cell_type": "code",
      "execution_count": null,
      "metadata": {
        "id": "O9uscmwqjcsQ"
      },
      "outputs": [],
      "source": [
        "def replace_with_nan_v1(df):\n",
        "    \n",
        "    '''This version 1 (v1) replaces entries with len()>3 for 'nan' values'''\n",
        "    \n",
        "    \n",
        "    df['country']= np.where(df.country.str.len()>3, 'nan', df['country'])\n",
        "    \n",
        "    return df"
      ]
    },
    {
      "cell_type": "code",
      "execution_count": null,
      "metadata": {
        "id": "9ReB8bEgjcsQ"
      },
      "outputs": [],
      "source": [
        "train_data = replace_with_nan_v1(train_data)\n",
        "test_data  = replace_with_nan_v1(test_data)"
      ]
    },
    {
      "cell_type": "code",
      "execution_count": null,
      "metadata": {
        "id": "Eo_G_fZmjcsR"
      },
      "outputs": [],
      "source": [
        "train_data['country'] = train_data['country'].str.upper()\n",
        "test_data['country']  = test_data['country'].str.upper()"
      ]
    },
    {
      "cell_type": "code",
      "execution_count": null,
      "metadata": {
        "colab": {
          "base_uri": "https://localhost:8080/"
        },
        "id": "Lov_z5SAjcsR",
        "outputId": "54a39005-c993-4521-9147-aaac2addeea7"
      },
      "outputs": [
        {
          "output_type": "execute_result",
          "data": {
            "text/plain": [
              "NAN    4017\n",
              "US     2059\n",
              "GB      287\n",
              "CA      145\n",
              "JP      142\n",
              "       ... \n",
              "PDX       1\n",
              "AB        1\n",
              "ZW        1\n",
              "DFW       1\n",
              "BF        1\n",
              "Name: country, Length: 145, dtype: int64"
            ]
          },
          "metadata": {},
          "execution_count": 69
        }
      ],
      "source": [
        "train_data.country.value_counts()"
      ]
    },
    {
      "cell_type": "code",
      "execution_count": null,
      "metadata": {
        "colab": {
          "base_uri": "https://localhost:8080/",
          "height": 305
        },
        "id": "qhq-8SvpjcsR",
        "outputId": "d5f020d0-e931-47d0-87df-44c76f4384b1"
      },
      "outputs": [
        {
          "output_type": "stream",
          "name": "stdout",
          "text": [
            "NaN values: 4017\n"
          ]
        },
        {
          "output_type": "execute_result",
          "data": {
            "text/plain": [
              "<matplotlib.axes._subplots.AxesSubplot at 0x7f5a64a66a50>"
            ]
          },
          "metadata": {},
          "execution_count": 70
        },
        {
          "output_type": "display_data",
          "data": {
            "text/plain": [
              "<Figure size 432x288 with 1 Axes>"
            ],
            "image/png": "[encoded data removed]"
          },
          "metadata": {
            "needs_background": "light"
          }
        }
      ],
      "source": [
        "print(\"NaN values:\", train_data.country.value_counts()[0])\n",
        "train_data.country.value_counts()[1:16].plot.bar()"
      ]
    },
    {
      "cell_type": "markdown",
      "metadata": {
        "id": "4jwqCK1FjcsT"
      },
      "source": [
        "*Text cleaning and tokenizing*"
      ]
    },
    {
      "cell_type": "code",
      "execution_count": null,
      "metadata": {
        "id": "LcHhXNfHjcsT"
      },
      "outputs": [],
      "source": [
        "train_data['text']  = train_data['text'].apply(lambda x : remove_special_chars(x))\n",
        "test_data['text']   = test_data['text'].apply(lambda x : remove_special_chars(x))"
      ]
    },
    {
      "cell_type": "code",
      "execution_count": null,
      "metadata": {
        "colab": {
          "base_uri": "https://localhost:8080/"
        },
        "id": "SxOf4YF6jcsT",
        "outputId": "dc8c81af-a714-473c-c172-c2381349b974"
      },
      "outputs": [
        {
          "output_type": "execute_result",
          "data": {
            "text/plain": [
              "0       Our Deeds are the Reason of this  earthquake M...\n",
              "1                  Forest fire near La Ronge Sask  Canada\n",
              "2       All residents asked to  shelter in place  are ...\n",
              "3              people receive  wildfires evacuation or...\n",
              "4       Just got sent this photo from Ruby  Alaska as ...\n",
              "                              ...                        \n",
              "7608    Two giant cranes holding a bridge collapse int...\n",
              "7609     aria ahrary  TheTawniest The out of control w...\n",
              "7610    M            UTC   km S of Volcano Hawaii  htt...\n",
              "7611    Police investigating after an e bike collided ...\n",
              "7612    The Latest  More Homes Razed by Northern Calif...\n",
              "Name: text, Length: 7613, dtype: object"
            ]
          },
          "metadata": {},
          "execution_count": 72
        }
      ],
      "source": [
        "train_data.text"
      ]
    },
    {
      "cell_type": "markdown",
      "metadata": {
        "id": "dnyQ-QshjcsT"
      },
      "source": [
        "*Methods for stopwords*"
      ]
    },
    {
      "cell_type": "code",
      "execution_count": null,
      "metadata": {
        "id": "v684FatKjcsT"
      },
      "outputs": [],
      "source": [
        "import spacy\n",
        "en = spacy.load('en_core_web_sm')\n",
        "import gensim\n",
        "from gensim.parsing.preprocessing import remove_stopwords, STOPWORDS\n",
        "from sklearn.feature_extraction.text import ENGLISH_STOP_WORDS"
      ]
    },
    {
      "cell_type": "code",
      "execution_count": null,
      "metadata": {
        "colab": {
          "base_uri": "https://localhost:8080/",
          "height": 320
        },
        "id": "qgITzIJ1jcsU",
        "outputId": "b593b2bc-9e8e-455e-a94f-de5cceb991ed"
      },
      "outputs": [
        {
          "output_type": "execute_result",
          "data": {
            "text/plain": [
              "Text(0.5, 1.1, 'Stopwords packages - Size comparison')"
            ]
          },
          "metadata": {},
          "execution_count": 74
        },
        {
          "output_type": "display_data",
          "data": {
            "text/plain": [
              "<Figure size 432x288 with 1 Axes>"
            ],
            "image/png": "[encoded data removed]"
          },
          "metadata": {
            "needs_background": "light"
          }
        }
      ],
      "source": [
        "#NLTK\n",
        "sw_nltk = stopwords.words('english')\n",
        "nltk_size = len(sw_nltk)\n",
        "\n",
        "#SKLEARN\n",
        "sklearn_size = len(ENGLISH_STOP_WORDS)\n",
        "\n",
        "#GENSIM\n",
        "gensim_size = len(STOPWORDS)\n",
        "\n",
        "#SPACY\n",
        "sw_spacy = en.Defaults.stop_words\n",
        "spacy_size = len(sw_spacy)\n",
        "\n",
        "x_values = [nltk_size, sklearn_size, spacy_size, gensim_size]\n",
        "labels = ['NLTK', 'SKLearn', 'SpaCy', 'Gensim']\n",
        "width = 0.5\n",
        "\n",
        "# Bar plot\n",
        "fig7,ax = plt.subplots()\n",
        "fig7.figsize=(12,4)\n",
        "\n",
        "ax.bar(labels, x_values, width, color='gray')\n",
        "ax.set_title('Stopwords packages - Size comparison', y=1.1, weight='bold', size='large')"
      ]
    },
    {
      "cell_type": "code",
      "execution_count": null,
      "metadata": {
        "id": "d0OUoGxwjcsU"
      },
      "outputs": [],
      "source": [
        "spell = SpellChecker()\n",
        "\n",
        "def correct_spellings(text):\n",
        "    \n",
        "    '''Corrects mispelling words'''\n",
        "    \n",
        "    corrected_text = []\n",
        "    misspelled_words = spell.unknown(text.split())\n",
        "    \n",
        "    for word in text.split():\n",
        "        if word in misspelled_words:\n",
        "            corrected_text.append(spell.correction(word))\n",
        "        else:\n",
        "            corrected_text.append(word)\n",
        "            \n",
        "    return \" \".join(corrected_text)"
      ]
    },
    {
      "cell_type": "code",
      "execution_count": null,
      "metadata": {
        "id": "ojEg_5u2jcsU"
      },
      "outputs": [],
      "source": [
        "train_data['text']  = train_data['text'].apply(lambda x : correct_spellings(x))\n",
        "test_data['text']   = test_data['text'].apply(lambda x : correct_spellings(x))"
      ]
    },
    {
      "cell_type": "code",
      "execution_count": null,
      "metadata": {
        "id": "aKZDxueSjcsU"
      },
      "outputs": [],
      "source": [
        "train_data['text'] = train_data['text'].str.lower()\n",
        "test_data['text']  = test_data['text'].str.lower()"
      ]
    },
    {
      "cell_type": "code",
      "execution_count": null,
      "metadata": {
        "id": "9vqAOMPYjcsV"
      },
      "outputs": [],
      "source": [
        "def gensim_with_lemmantizer(text):\n",
        "    \n",
        "    '''Removes stop words and non-English vocabulary using Gensim package and performs lemmatization'''\n",
        "    \n",
        "    # Remove stopwords\n",
        "    clean_text = remove_stopwords(text)\n",
        "        \n",
        "    # setting English vocabulary\n",
        "    english_vocab = set(w.lower() for w in words.words())\n",
        "    \n",
        "    # Removing non-English vocabulary\n",
        "    clean_text = word_tokenize(clean_text)\n",
        "    tokens = [word for word in clean_text if word in english_vocab]\n",
        "    \n",
        "    # Tokenize and Lemmatizing\n",
        "    lemmatizer = WordNetLemmatizer()\n",
        "    clean_tokens = []\n",
        "    \n",
        "    for token in tokens:\n",
        "        clean_tokens.append(lemmatizer.lemmatize(token).lower().strip())\n",
        "     \n",
        "    return \" \".join(clean_tokens)"
      ]
    },
    {
      "cell_type": "code",
      "source": [
        "import nltk\n",
        "nltk.download('omw-1.4')"
      ],
      "metadata": {
        "colab": {
          "base_uri": "https://localhost:8080/"
        },
        "id": "dIWZGDw2t-EI",
        "outputId": "7c7854c4-0ed5-49e4-c752-a742ecac7416"
      },
      "execution_count": null,
      "outputs": [
        {
          "output_type": "stream",
          "name": "stderr",
          "text": [
            "[nltk_data] Downloading package omw-1.4 to /root/nltk_data...\n",
            "[nltk_data]   Package omw-1.4 is already up-to-date!\n"
          ]
        },
        {
          "output_type": "execute_result",
          "data": {
            "text/plain": [
              "True"
            ]
          },
          "metadata": {},
          "execution_count": 79
        }
      ]
    },
    {
      "cell_type": "code",
      "execution_count": null,
      "metadata": {
        "id": "iV6Hcz3JjcsV"
      },
      "outputs": [],
      "source": [
        "train_data['text']  = train_data['text'].apply(lambda x : gensim_with_lemmantizer(x))\n",
        "test_data['text']   = test_data['text'].apply(lambda x : gensim_with_lemmantizer(x))"
      ]
    },
    {
      "cell_type": "code",
      "execution_count": null,
      "metadata": {
        "colab": {
          "base_uri": "https://localhost:8080/",
          "height": 186
        },
        "id": "IJpIUpTKjcsV",
        "outputId": "e80c29eb-cdc0-42f3-9d66-1d21faf5c9bf"
      },
      "outputs": [
        {
          "output_type": "execute_result",
          "data": {
            "text/plain": [
              "   id keyword location                                             text  \\\n",
              "0   1     NaN      nan                  reason earthquake allah forgive   \n",
              "1   4     NaN      nan                            forest near la canada   \n",
              "2   5     NaN      nan  shelter place notified evacuation shelter place   \n",
              "\n",
              "   target  num chars  num special chars  num words  average word length  \\\n",
              "0       1         69                  1         13                 4.38   \n",
              "1       1         38                  1          7                 4.57   \n",
              "2       1        133                  3         22                 5.09   \n",
              "\n",
              "  country  \n",
              "0     NAN  \n",
              "1     NAN  \n",
              "2     NAN  "
            ],
            "text/html": [
              "\n",
              "  <div id=\"df-3030b6fb-cccc-4d93-a9a8-7f4e45ff9ee6\">\n",
              "    <div class=\"colab-df-container\">\n",
              "      <div>\n",
              "<style scoped>\n",
              "    .dataframe tbody tr th:only-of-type {\n",
              "        vertical-align: middle;\n",
              "    }\n",
              "\n",
              "    .dataframe tbody tr th {\n",
              "        vertical-align: top;\n",
              "    }\n",
              "\n",
              "    .dataframe thead th {\n",
              "        text-align: right;\n",
              "    }\n",
              "</style>\n",
              "<table border=\"1\" class=\"dataframe\">\n",
              "  <thead>\n",
              "    <tr style=\"text-align: right;\">\n",
              "      <th></th>\n",
              "      <th>id</th>\n",
              "      <th>keyword</th>\n",
              "      <th>location</th>\n",
              "      <th>text</th>\n",
              "      <th>target</th>\n",
              "      <th>num chars</th>\n",
              "      <th>num special chars</th>\n",
              "      <th>num words</th>\n",
              "      <th>average word length</th>\n",
              "      <th>country</th>\n",
              "    </tr>\n",
              "  </thead>\n",
              "  <tbody>\n",
              "    <tr>\n",
              "      <th>0</th>\n",
              "      <td>1</td>\n",
              "      <td>NaN</td>\n",
              "      <td>nan</td>\n",
              "      <td>reason earthquake allah forgive</td>\n",
              "      <td>1</td>\n",
              "      <td>69</td>\n",
              "      <td>1</td>\n",
              "      <td>13</td>\n",
              "      <td>4.38</td>\n",
              "      <td>NAN</td>\n",
              "    </tr>\n",
              "    <tr>\n",
              "      <th>1</th>\n",
              "      <td>4</td>\n",
              "      <td>NaN</td>\n",
              "      <td>nan</td>\n",
              "      <td>forest near la canada</td>\n",
              "      <td>1</td>\n",
              "      <td>38</td>\n",
              "      <td>1</td>\n",
              "      <td>7</td>\n",
              "      <td>4.57</td>\n",
              "      <td>NAN</td>\n",
              "    </tr>\n",
              "    <tr>\n",
              "      <th>2</th>\n",
              "      <td>5</td>\n",
              "      <td>NaN</td>\n",
              "      <td>nan</td>\n",
              "      <td>shelter place notified evacuation shelter place</td>\n",
              "      <td>1</td>\n",
              "      <td>133</td>\n",
              "      <td>3</td>\n",
              "      <td>22</td>\n",
              "      <td>5.09</td>\n",
              "      <td>NAN</td>\n",
              "    </tr>\n",
              "  </tbody>\n",
              "</table>\n",
              "</div>\n",
              "      <button class=\"colab-df-convert\" onclick=\"convertToInteractive('df-3030b6fb-cccc-4d93-a9a8-7f4e45ff9ee6')\"\n",
              "              title=\"Convert this dataframe to an interactive table.\"\n",
              "              style=\"display:none;\">\n",
              "        \n",
              "  <svg xmlns=\"http://www.w3.org/2000/svg\" height=\"24px\"viewBox=\"0 0 24 24\"\n",
              "       width=\"24px\">\n",
              "    <path d=\"M0 0h24v24H0V0z\" fill=\"none\"/>\n",
              "    <path d=\"M18.56 5.44l.94 2.06.94-2.06 2.06-.94-2.06-.94-.94-2.06-.94 2.06-2.06.94zm-11 1L8.5 8.5l.94-2.06 2.06-.94-2.06-.94L8.5 2.5l-.94 2.06-2.06.94zm10 10l.94 2.06.94-2.06 2.06-.94-2.06-.94-.94-2.06-.94 2.06-2.06.94z\"/><path d=\"M17.41 7.96l-1.37-1.37c-.4-.4-.92-.59-1.43-.59-.52 0-1.04.2-1.43.59L10.3 9.45l-7.72 7.72c-.78.78-.78 2.05 0 2.83L4 21.41c.39.39.9.59 1.41.59.51 0 1.02-.2 1.41-.59l7.78-7.78 2.81-2.81c.8-.78.8-2.07 0-2.86zM5.41 20L4 18.59l7.72-7.72 1.47 1.35L5.41 20z\"/>\n",
              "  </svg>\n",
              "      </button>\n",
              "      \n",
              "  <style>\n",
              "    .colab-df-container {\n",
              "      display:flex;\n",
              "      flex-wrap:wrap;\n",
              "      gap: 12px;\n",
              "    }\n",
              "\n",
              "    .colab-df-convert {\n",
              "      background-color: #E8F0FE;\n",
              "      border: none;\n",
              "      border-radius: 50%;\n",
              "      cursor: pointer;\n",
              "      display: none;\n",
              "      fill: #1967D2;\n",
              "      height: 32px;\n",
              "      padding: 0 0 0 0;\n",
              "      width: 32px;\n",
              "    }\n",
              "\n",
              "    .colab-df-convert:hover {\n",
              "      background-color: #E2EBFA;\n",
              "      box-shadow: 0px 1px 2px rgba(60, 64, 67, 0.3), 0px 1px 3px 1px rgba(60, 64, 67, 0.15);\n",
              "      fill: #174EA6;\n",
              "    }\n",
              "\n",
              "    [theme=dark] .colab-df-convert {\n",
              "      background-color: #3B4455;\n",
              "      fill: #D2E3FC;\n",
              "    }\n",
              "\n",
              "    [theme=dark] .colab-df-convert:hover {\n",
              "      background-color: #434B5C;\n",
              "      box-shadow: 0px 1px 3px 1px rgba(0, 0, 0, 0.15);\n",
              "      filter: drop-shadow(0px 1px 2px rgba(0, 0, 0, 0.3));\n",
              "      fill: #FFFFFF;\n",
              "    }\n",
              "  </style>\n",
              "\n",
              "      <script>\n",
              "        const buttonEl =\n",
              "          document.querySelector('#df-3030b6fb-cccc-4d93-a9a8-7f4e45ff9ee6 button.colab-df-convert');\n",
              "        buttonEl.style.display =\n",
              "          google.colab.kernel.accessAllowed ? 'block' : 'none';\n",
              "\n",
              "        async function convertToInteractive(key) {\n",
              "          const element = document.querySelector('#df-3030b6fb-cccc-4d93-a9a8-7f4e45ff9ee6');\n",
              "          const dataTable =\n",
              "            await google.colab.kernel.invokeFunction('convertToInteractive',\n",
              "                                                     [key], {});\n",
              "          if (!dataTable) return;\n",
              "\n",
              "          const docLinkHtml = 'Like what you see? Visit the ' +\n",
              "            '<a target=\"_blank\" href=https://colab.research.google.com/notebooks/data_table.ipynb>data table notebook</a>'\n",
              "            + ' to learn more about interactive tables.';\n",
              "          element.innerHTML = '';\n",
              "          dataTable['output_type'] = 'display_data';\n",
              "          await google.colab.output.renderOutput(dataTable, element);\n",
              "          const docLink = document.createElement('div');\n",
              "          docLink.innerHTML = docLinkHtml;\n",
              "          element.appendChild(docLink);\n",
              "        }\n",
              "      </script>\n",
              "    </div>\n",
              "  </div>\n",
              "  "
            ]
          },
          "metadata": {},
          "execution_count": 81
        }
      ],
      "source": [
        "train_data.head(3)"
      ]
    },
    {
      "cell_type": "markdown",
      "metadata": {
        "id": "zaW-qnD_jcsU"
      },
      "source": [
        "Creating a backup for future use"
      ]
    },
    {
      "cell_type": "code",
      "execution_count": null,
      "metadata": {
        "id": "76ITcWsajcsU"
      },
      "outputs": [],
      "source": [
        "# Backup\n",
        "train_copy = train_data.copy()\n",
        "test_copy  = test_data.copy()"
      ]
    },
    {
      "cell_type": "markdown",
      "metadata": {
        "id": "08mjcX-XjcsV"
      },
      "source": [
        "### Training some ML models"
      ]
    },
    {
      "cell_type": "markdown",
      "metadata": {
        "id": "uJO0Y6dHjcsV"
      },
      "source": [
        "Now, let us try some different ML algorithms using different combinations of encodings.\n",
        "\n",
        "**Version 1 (v1) set:** \n",
        "\n",
        "- 'keywords': binary encoding\n",
        "- 'contry': frequency encoding\n",
        "- 'texts': TF-IDF encoding"
      ]
    },
    {
      "cell_type": "markdown",
      "source": [
        "*Country encoding*"
      ],
      "metadata": {
        "id": "I_U_fyV6yV2Q"
      }
    },
    {
      "cell_type": "code",
      "execution_count": null,
      "metadata": {
        "id": "BDVCoZDijcsS"
      },
      "outputs": [],
      "source": [
        "# Group it by type, find the size of each type, and divide by total event\n",
        "\n",
        "# Train data (\"fit_transform\")\n",
        "country_train_freq = train_data.groupby(\"country\").size()/len(train_data)\n",
        "train_data['country freq'] = train_data['country'].map(country_train_freq) \n",
        "\n",
        "# Test data (\"transform\")\n",
        "test_data['country freq'] = test_data['country'].map(country_train_freq) "
      ]
    },
    {
      "cell_type": "code",
      "execution_count": null,
      "metadata": {
        "id": "ZcIbxl8JjcsS"
      },
      "outputs": [],
      "source": [
        "# Some countries may not appear in the test set. Let us fulfill them with 0 values\n",
        "countries_id = list(set(test_data['country'].values).difference(set(country_train_freq.index)))\n",
        "values = [0]*len(countries_id)\n",
        "\n",
        "assert len(countries_id)==len(values)\n",
        "\n",
        "exceptions = dict(zip(countries_id, values))"
      ]
    },
    {
      "cell_type": "code",
      "execution_count": null,
      "metadata": {
        "id": "kjVLxX3yjcsS"
      },
      "outputs": [],
      "source": [
        "# Correcting these cases one by one..\n",
        "test_data['country freq'] = test_data['country freq'].map(exceptions)"
      ]
    },
    {
      "cell_type": "markdown",
      "source": [
        "*Keywords encoding*"
      ],
      "metadata": {
        "id": "222_McV-yZ50"
      }
    },
    {
      "cell_type": "code",
      "execution_count": null,
      "metadata": {
        "id": "oJmwPXSkjcsc"
      },
      "outputs": [],
      "source": [
        "train_data['keyword'] = np.where(train_data['keyword'].isnull()==True, 'NA', train_data['keyword'])\n",
        "test_data['keyword']  = np.where(test_data['keyword'].isnull()==True, 'NA', test_data['keyword'])"
      ]
    },
    {
      "cell_type": "code",
      "execution_count": null,
      "metadata": {
        "id": "ZF_h5j3xjcsd"
      },
      "outputs": [],
      "source": [
        "train_data['keyword']  = train_data['keyword'].apply(lambda x : remove_special_chars(x))\n",
        "test_data['keyword']   = test_data['keyword'].apply(lambda x : remove_special_chars(x))"
      ]
    },
    {
      "cell_type": "code",
      "execution_count": null,
      "metadata": {
        "id": "iWV2AWVdjcsS"
      },
      "outputs": [],
      "source": [
        "def binary_encoder(df, column):\n",
        "    \n",
        "    be = BinaryEncoder(cols=[column])\n",
        "    newdata = be.fit_transform(df[column])\n",
        "    \n",
        "    assert newdata.shape[0]==df.shape[0]\n",
        "    \n",
        "    df = pd.concat([df, newdata], axis=1)\n",
        "    \n",
        "    return df"
      ]
    },
    {
      "cell_type": "code",
      "execution_count": null,
      "metadata": {
        "id": "VQTXSQanjcsS"
      },
      "outputs": [],
      "source": [
        "train_data = binary_encoder(train_data, 'keyword')\n",
        "test_data  = binary_encoder(test_data, 'keyword')"
      ]
    },
    {
      "cell_type": "markdown",
      "source": [
        "*Text encoding*"
      ],
      "metadata": {
        "id": "HrHC0j_GzB_B"
      }
    },
    {
      "cell_type": "code",
      "execution_count": null,
      "metadata": {
        "id": "r82roNFcjcsW"
      },
      "outputs": [],
      "source": [
        "from sklearn.feature_extraction.text import TfidfVectorizer\n",
        "\n",
        "def tfidf_vectorizer(df_train, df_test):\n",
        "        \n",
        "    vectorizer = TfidfVectorizer(tokenizer=word_tokenize, token_pattern=None)\n",
        "    \n",
        "    # For Train Set\n",
        "    train_texts = vectorizer.fit_transform(df_train['text'])\n",
        "    train_texts = pd.DataFrame(train_texts.toarray(), columns=vectorizer.get_feature_names_out())\n",
        "    df_train = pd.concat([df_train, train_texts], axis=1)\n",
        "\n",
        "    # For Test Set\n",
        "    test_texts  = vectorizer.transform(df_test['text'])\n",
        "    test_texts = pd.DataFrame(test_texts.toarray(), columns=vectorizer.get_feature_names_out())\n",
        "    df_test = pd.concat([df_test, test_texts], axis=1)\n",
        "    \n",
        "    return df_train, df_test"
      ]
    },
    {
      "cell_type": "code",
      "source": [
        "xtrain_v1, xtest_v1 = tfidf_vectorizer(train_data, test_data)"
      ],
      "metadata": {
        "id": "n0iH3ZMVHU66"
      },
      "execution_count": null,
      "outputs": []
    },
    {
      "cell_type": "code",
      "execution_count": null,
      "metadata": {
        "id": "bgWgRMgPjcsW"
      },
      "outputs": [],
      "source": [
        "xtrain_v1 = xtrain_v1.drop(columns=['id', 'keyword', 'location', 'text', 'country', 'target'])\n",
        "xtest_v1 = xtest_v1.drop(columns=['id', 'keyword', 'location', 'text', 'country'])\n",
        "ytrain = train_data['target']"
      ]
    },
    {
      "cell_type": "code",
      "source": [
        "xtrain_v1.head(3)"
      ],
      "metadata": {
        "colab": {
          "base_uri": "https://localhost:8080/",
          "height": 269
        },
        "id": "ZKHaXzzaLeih",
        "outputId": "fcb369ef-b842-4515-80cd-45e01d4ca1bf"
      },
      "execution_count": null,
      "outputs": [
        {
          "output_type": "execute_result",
          "data": {
            "text/plain": [
              "   num chars  num special chars  num words  average word length  country freq  \\\n",
              "0         69                  1         13                 4.38       0.52765   \n",
              "1         38                  1          7                 4.57       0.52765   \n",
              "2        133                  3         22                 5.09       0.52765   \n",
              "\n",
              "   keyword_0  keyword_1  keyword_2  keyword_3  keyword_4  ...  zionism  \\\n",
              "0          0          0          0          0          0  ...      0.0   \n",
              "1          0          0          0          0          0  ...      0.0   \n",
              "2          0          0          0          0          0  ...      0.0   \n",
              "\n",
              "   zionist  zip  zipper   zo  zodiac  zombie  zone  zoo  zoom  \n",
              "0      0.0  0.0     0.0  0.0     0.0     0.0   0.0  0.0   0.0  \n",
              "1      0.0  0.0     0.0  0.0     0.0     0.0   0.0  0.0   0.0  \n",
              "2      0.0  0.0     0.0  0.0     0.0     0.0   0.0  0.0   0.0  \n",
              "\n",
              "[3 rows x 7191 columns]"
            ],
            "text/html": [
              "\n",
              "  <div id=\"df-43d2a9ab-56d0-45ac-8bcb-2d161ca5e38c\">\n",
              "    <div class=\"colab-df-container\">\n",
              "      <div>\n",
              "<style scoped>\n",
              "    .dataframe tbody tr th:only-of-type {\n",
              "        vertical-align: middle;\n",
              "    }\n",
              "\n",
              "    .dataframe tbody tr th {\n",
              "        vertical-align: top;\n",
              "    }\n",
              "\n",
              "    .dataframe thead th {\n",
              "        text-align: right;\n",
              "    }\n",
              "</style>\n",
              "<table border=\"1\" class=\"dataframe\">\n",
              "  <thead>\n",
              "    <tr style=\"text-align: right;\">\n",
              "      <th></th>\n",
              "      <th>num chars</th>\n",
              "      <th>num special chars</th>\n",
              "      <th>num words</th>\n",
              "      <th>average word length</th>\n",
              "      <th>country freq</th>\n",
              "      <th>keyword_0</th>\n",
              "      <th>keyword_1</th>\n",
              "      <th>keyword_2</th>\n",
              "      <th>keyword_3</th>\n",
              "      <th>keyword_4</th>\n",
              "      <th>...</th>\n",
              "      <th>zionism</th>\n",
              "      <th>zionist</th>\n",
              "      <th>zip</th>\n",
              "      <th>zipper</th>\n",
              "      <th>zo</th>\n",
              "      <th>zodiac</th>\n",
              "      <th>zombie</th>\n",
              "      <th>zone</th>\n",
              "      <th>zoo</th>\n",
              "      <th>zoom</th>\n",
              "    </tr>\n",
              "  </thead>\n",
              "  <tbody>\n",
              "    <tr>\n",
              "      <th>0</th>\n",
              "      <td>69</td>\n",
              "      <td>1</td>\n",
              "      <td>13</td>\n",
              "      <td>4.38</td>\n",
              "      <td>0.52765</td>\n",
              "      <td>0</td>\n",
              "      <td>0</td>\n",
              "      <td>0</td>\n",
              "      <td>0</td>\n",
              "      <td>0</td>\n",
              "      <td>...</td>\n",
              "      <td>0.0</td>\n",
              "      <td>0.0</td>\n",
              "      <td>0.0</td>\n",
              "      <td>0.0</td>\n",
              "      <td>0.0</td>\n",
              "      <td>0.0</td>\n",
              "      <td>0.0</td>\n",
              "      <td>0.0</td>\n",
              "      <td>0.0</td>\n",
              "      <td>0.0</td>\n",
              "    </tr>\n",
              "    <tr>\n",
              "      <th>1</th>\n",
              "      <td>38</td>\n",
              "      <td>1</td>\n",
              "      <td>7</td>\n",
              "      <td>4.57</td>\n",
              "      <td>0.52765</td>\n",
              "      <td>0</td>\n",
              "      <td>0</td>\n",
              "      <td>0</td>\n",
              "      <td>0</td>\n",
              "      <td>0</td>\n",
              "      <td>...</td>\n",
              "      <td>0.0</td>\n",
              "      <td>0.0</td>\n",
              "      <td>0.0</td>\n",
              "      <td>0.0</td>\n",
              "      <td>0.0</td>\n",
              "      <td>0.0</td>\n",
              "      <td>0.0</td>\n",
              "      <td>0.0</td>\n",
              "      <td>0.0</td>\n",
              "      <td>0.0</td>\n",
              "    </tr>\n",
              "    <tr>\n",
              "      <th>2</th>\n",
              "      <td>133</td>\n",
              "      <td>3</td>\n",
              "      <td>22</td>\n",
              "      <td>5.09</td>\n",
              "      <td>0.52765</td>\n",
              "      <td>0</td>\n",
              "      <td>0</td>\n",
              "      <td>0</td>\n",
              "      <td>0</td>\n",
              "      <td>0</td>\n",
              "      <td>...</td>\n",
              "      <td>0.0</td>\n",
              "      <td>0.0</td>\n",
              "      <td>0.0</td>\n",
              "      <td>0.0</td>\n",
              "      <td>0.0</td>\n",
              "      <td>0.0</td>\n",
              "      <td>0.0</td>\n",
              "      <td>0.0</td>\n",
              "      <td>0.0</td>\n",
              "      <td>0.0</td>\n",
              "    </tr>\n",
              "  </tbody>\n",
              "</table>\n",
              "<p>3 rows × 7191 columns</p>\n",
              "</div>\n",
              "      <button class=\"colab-df-convert\" onclick=\"convertToInteractive('df-43d2a9ab-56d0-45ac-8bcb-2d161ca5e38c')\"\n",
              "              title=\"Convert this dataframe to an interactive table.\"\n",
              "              style=\"display:none;\">\n",
              "        \n",
              "  <svg xmlns=\"http://www.w3.org/2000/svg\" height=\"24px\"viewBox=\"0 0 24 24\"\n",
              "       width=\"24px\">\n",
              "    <path d=\"M0 0h24v24H0V0z\" fill=\"none\"/>\n",
              "    <path d=\"M18.56 5.44l.94 2.06.94-2.06 2.06-.94-2.06-.94-.94-2.06-.94 2.06-2.06.94zm-11 1L8.5 8.5l.94-2.06 2.06-.94-2.06-.94L8.5 2.5l-.94 2.06-2.06.94zm10 10l.94 2.06.94-2.06 2.06-.94-2.06-.94-.94-2.06-.94 2.06-2.06.94z\"/><path d=\"M17.41 7.96l-1.37-1.37c-.4-.4-.92-.59-1.43-.59-.52 0-1.04.2-1.43.59L10.3 9.45l-7.72 7.72c-.78.78-.78 2.05 0 2.83L4 21.41c.39.39.9.59 1.41.59.51 0 1.02-.2 1.41-.59l7.78-7.78 2.81-2.81c.8-.78.8-2.07 0-2.86zM5.41 20L4 18.59l7.72-7.72 1.47 1.35L5.41 20z\"/>\n",
              "  </svg>\n",
              "      </button>\n",
              "      \n",
              "  <style>\n",
              "    .colab-df-container {\n",
              "      display:flex;\n",
              "      flex-wrap:wrap;\n",
              "      gap: 12px;\n",
              "    }\n",
              "\n",
              "    .colab-df-convert {\n",
              "      background-color: #E8F0FE;\n",
              "      border: none;\n",
              "      border-radius: 50%;\n",
              "      cursor: pointer;\n",
              "      display: none;\n",
              "      fill: #1967D2;\n",
              "      height: 32px;\n",
              "      padding: 0 0 0 0;\n",
              "      width: 32px;\n",
              "    }\n",
              "\n",
              "    .colab-df-convert:hover {\n",
              "      background-color: #E2EBFA;\n",
              "      box-shadow: 0px 1px 2px rgba(60, 64, 67, 0.3), 0px 1px 3px 1px rgba(60, 64, 67, 0.15);\n",
              "      fill: #174EA6;\n",
              "    }\n",
              "\n",
              "    [theme=dark] .colab-df-convert {\n",
              "      background-color: #3B4455;\n",
              "      fill: #D2E3FC;\n",
              "    }\n",
              "\n",
              "    [theme=dark] .colab-df-convert:hover {\n",
              "      background-color: #434B5C;\n",
              "      box-shadow: 0px 1px 3px 1px rgba(0, 0, 0, 0.15);\n",
              "      filter: drop-shadow(0px 1px 2px rgba(0, 0, 0, 0.3));\n",
              "      fill: #FFFFFF;\n",
              "    }\n",
              "  </style>\n",
              "\n",
              "      <script>\n",
              "        const buttonEl =\n",
              "          document.querySelector('#df-43d2a9ab-56d0-45ac-8bcb-2d161ca5e38c button.colab-df-convert');\n",
              "        buttonEl.style.display =\n",
              "          google.colab.kernel.accessAllowed ? 'block' : 'none';\n",
              "\n",
              "        async function convertToInteractive(key) {\n",
              "          const element = document.querySelector('#df-43d2a9ab-56d0-45ac-8bcb-2d161ca5e38c');\n",
              "          const dataTable =\n",
              "            await google.colab.kernel.invokeFunction('convertToInteractive',\n",
              "                                                     [key], {});\n",
              "          if (!dataTable) return;\n",
              "\n",
              "          const docLinkHtml = 'Like what you see? Visit the ' +\n",
              "            '<a target=\"_blank\" href=https://colab.research.google.com/notebooks/data_table.ipynb>data table notebook</a>'\n",
              "            + ' to learn more about interactive tables.';\n",
              "          element.innerHTML = '';\n",
              "          dataTable['output_type'] = 'display_data';\n",
              "          await google.colab.output.renderOutput(dataTable, element);\n",
              "          const docLink = document.createElement('div');\n",
              "          docLink.innerHTML = docLinkHtml;\n",
              "          element.appendChild(docLink);\n",
              "        }\n",
              "      </script>\n",
              "    </div>\n",
              "  </div>\n",
              "  "
            ]
          },
          "metadata": {},
          "execution_count": 93
        }
      ]
    },
    {
      "cell_type": "markdown",
      "source": [
        "*Model training*"
      ],
      "metadata": {
        "id": "rMkfqWbiy9MS"
      }
    },
    {
      "cell_type": "code",
      "execution_count": null,
      "metadata": {
        "id": "Tc7tnfu6jcsV"
      },
      "outputs": [],
      "source": [
        "# Pre processing\n",
        "from sklearn.preprocessing import StandardScaler\n",
        "from sklearn.model_selection import train_test_split\n",
        "\n",
        "# Metrics\n",
        "from sklearn import metrics\n",
        "from sklearn.metrics import roc_auc_score, accuracy_score, make_scorer\n",
        "\n",
        "# Pipeline\n",
        "from sklearn.pipeline import Pipeline\n",
        "from sklearn.model_selection import GridSearchCV\n",
        "from sklearn.model_selection import RepeatedKFold\n",
        "\n",
        "# Methods\n",
        "from lightgbm import LGBMClassifier\n",
        "from sklearn.linear_model import LogisticRegression\n",
        "from sklearn.ensemble import RandomForestClassifier"
      ]
    },
    {
      "cell_type": "code",
      "execution_count": null,
      "metadata": {
        "id": "yygEmcCRjcsW"
      },
      "outputs": [],
      "source": [
        "#Setting pipelines\n",
        "\n",
        "#Logistic Regression\n",
        "pipe_LR = Pipeline([('scalar', StandardScaler()), \n",
        "                    ('LR', LogisticRegression(max_iter=10000, tol=0.1, solver='saga'))])\n",
        "\n",
        "#RandomForest\n",
        "pipe_RF = Pipeline([(\"RF\", RandomForestClassifier())])\n",
        "\n",
        "#LGBM\n",
        "pipe_LGBM = Pipeline([(\"LGBM\", LGBMClassifier())])\n",
        "\n",
        "pipelines = [pipe_LR, pipe_RF, pipe_LGBM]"
      ]
    },
    {
      "cell_type": "code",
      "execution_count": null,
      "metadata": {
        "id": "2pwMOQebjcsW"
      },
      "outputs": [],
      "source": [
        "#Setting parameters\n",
        "\n",
        "#Logistic Regression\n",
        "param_LR = {\"LR__C\": [0.01, 0.1, 1],\n",
        "            \"LR__penalty\":['l1','l2']}\n",
        "\n",
        "#RandomForest\n",
        "param_RF = {\"RF__n_estimators\": [100, 150, 200],\n",
        "            \"RF__max_depth\":[7, 10, 15]}\n",
        "                   \n",
        "#LGBM\n",
        "param_LGBM = {\"LGBM__n_estimators\": [50, 75, 100],\n",
        "              \"LGBM__learning_rate\":[0.001, 0.01, 0.1],\n",
        "              \"LGBM__max_depth\": [3, 5, 10]} \n",
        "\n",
        "parameters = [param_LR, param_RF, param_LGBM]"
      ]
    },
    {
      "cell_type": "code",
      "execution_count": null,
      "metadata": {
        "id": "o5ITfVdsjcsW"
      },
      "outputs": [],
      "source": [
        "#Dictionary of models\n",
        "models_dict = {0: 'Logistic Regression',\n",
        "          1: 'Random Forest',\n",
        "          2: 'Light GBM'}\n",
        "\n",
        "#Scores to be evaluated\n",
        "scoring_list = [\"roc_auc\", \"accuracy\"]\n",
        "\n",
        "#List of Grid Search results\n",
        "searches_v1 = [0]*len(models_dict)"
      ]
    },
    {
      "cell_type": "code",
      "execution_count": null,
      "metadata": {
        "colab": {
          "base_uri": "https://localhost:8080/"
        },
        "id": "zKc6I3x-jcsX",
        "outputId": "ad47d20d-7db9-4374-860a-c77340d9caa0"
      },
      "outputs": [
        {
          "output_type": "stream",
          "name": "stdout",
          "text": [
            "------ Train, Validation and Test sets info ------\n",
            "X train size: (6471, 7191)\n",
            "Y train size: (6471,)\n",
            "X validation size: (1142, 7191)\n",
            "Y validation size: (1142,)\n",
            "X test size: (3263, 7192)\n",
            "Fitting 5 folds for each of 6 candidates, totalling 30 fits\n",
            "------ Grid Search results for: Logistic Regression  ------\n",
            "Best parameter (CV score=0.821):\n",
            "Best parameters:  {'LR__C': 0.1, 'LR__penalty': 'l1'}\n",
            "Best index:  2\n",
            "Best estimator:  Pipeline(steps=[('scalar', StandardScaler()),\n",
            "                ('LR',\n",
            "                 LogisticRegression(C=0.1, max_iter=10000, penalty='l1',\n",
            "                                    solver='saga', tol=0.1))])\n",
            "---------------------------------------------\n",
            "Fitting 5 folds for each of 9 candidates, totalling 45 fits\n",
            "------ Grid Search results for: Random Forest  ------\n",
            "Best parameter (CV score=0.796):\n",
            "Best parameters:  {'RF__max_depth': 15, 'RF__n_estimators': 200}\n",
            "Best index:  8\n",
            "Best estimator:  Pipeline(steps=[('RF', RandomForestClassifier(max_depth=15, n_estimators=200))])\n",
            "---------------------------------------------\n",
            "Fitting 5 folds for each of 27 candidates, totalling 135 fits\n"
          ]
        },
        {
          "output_type": "stream",
          "name": "stderr",
          "text": [
            "/usr/local/lib/python3.7/dist-packages/joblib/externals/loky/process_executor.py:705: UserWarning: A worker stopped while some jobs were given to the executor. This can be caused by a too short worker timeout or by a memory leak.\n",
            "  \"timeout or by a memory leak.\", UserWarning\n"
          ]
        },
        {
          "output_type": "stream",
          "name": "stdout",
          "text": [
            "------ Grid Search results for: Light GBM  ------\n",
            "Best parameter (CV score=0.824):\n",
            "Best parameters:  {'LGBM__learning_rate': 0.1, 'LGBM__max_depth': 10, 'LGBM__n_estimators': 100}\n",
            "Best index:  26\n",
            "Best estimator:  Pipeline(steps=[('LGBM', LGBMClassifier(max_depth=10))])\n",
            "---------------------------------------------\n"
          ]
        }
      ],
      "source": [
        "# Spitting datasets\n",
        "xtrain_v1, xvalid_v1, ytrain, yvalid_v1 = train_test_split(xtrain_v1, ytrain, test_size=0.15, random_state=42)\n",
        "\n",
        "# Printing data sets info\n",
        "print('------ Train, Validation and Test sets info ------')\n",
        "print('X train size:', xtrain_v1.shape)\n",
        "print('Y train size:', ytrain.shape)\n",
        "print('X validation size:', xvalid_v1.shape)\n",
        "print('Y validation size:', yvalid_v1.shape)\n",
        "print('X test size:', xtest_v1.shape)\n",
        "\n",
        "\n",
        "# set the Grid search CV\n",
        "for model in range(len(pipelines)):\n",
        "    searches_v1[model] = GridSearchCV(estimator = pipelines[model], \n",
        "                             param_grid = parameters[model], \n",
        "                             n_jobs = 2, \n",
        "                             scoring = scoring_list,\n",
        "                             refit = 'roc_auc',\n",
        "                             verbose = 2,\n",
        "                             return_train_score = True,\n",
        "                             cv = 5\n",
        "                            )\n",
        "    \n",
        "    searches_v1[model].fit(xtrain_v1, ytrain)\n",
        "\n",
        "    # Printing grid search info\n",
        "    print('------ Grid Search results for:', models_dict[model],' ------')\n",
        "    print(\"Best parameter (CV score=%0.3f):\" % searches_v1[model].best_score_)\n",
        "    print(\"Best parameters: \", searches_v1[model].best_params_)\n",
        "    print(\"Best index: \", searches_v1[model].best_index_)\n",
        "    print(\"Best estimator: \", searches_v1[model].best_estimator_)\n",
        "    print('---------------------------------------------')"
      ]
    },
    {
      "cell_type": "code",
      "source": [
        "#results_v1 = searches[model].cv_results_\n",
        "#method_v1 = searches[model].best_estimator_"
      ],
      "metadata": {
        "id": "DG23GF2aSovo"
      },
      "execution_count": null,
      "outputs": []
    },
    {
      "cell_type": "code",
      "source": [
        "searches_v1[0].best_score_"
      ],
      "metadata": {
        "colab": {
          "base_uri": "https://localhost:8080/"
        },
        "id": "WM7AOaUcSQq5",
        "outputId": "0132b958-657b-4619-b0ef-230c80abc78e"
      },
      "execution_count": null,
      "outputs": [
        {
          "output_type": "execute_result",
          "data": {
            "text/plain": [
              "0.8212944331488174"
            ]
          },
          "metadata": {},
          "execution_count": 100
        }
      ]
    },
    {
      "cell_type": "markdown",
      "metadata": {
        "id": "HL8VH-cdTQo_"
      },
      "source": [
        "**Version 2 (v1) set:** \n",
        "\n",
        "- 'keywords': binary encoding\n",
        "- 'contry': frequency encoding\n",
        "- 'texts': SpaCy encoding"
      ]
    },
    {
      "cell_type": "markdown",
      "source": [
        "*Text encoding*"
      ],
      "metadata": {
        "id": "bFGmvhKVzMXu"
      }
    },
    {
      "cell_type": "code",
      "execution_count": null,
      "metadata": {
        "id": "HWg-Q3VRjcsZ"
      },
      "outputs": [],
      "source": [
        "from sklearn.base import BaseEstimator, TransformerMixin\n",
        "\n",
        "class WordVectorTransformer(TransformerMixin,BaseEstimator):\n",
        "    def __init__(self, model=\"en_core_web_md\"):\n",
        "        self.model = model\n",
        "\n",
        "    def fit(self,X,y=None):\n",
        "        return self\n",
        "\n",
        "    def transform(self,X):\n",
        "        nlp = spacy.load(self.model)\n",
        "        return np.concatenate([nlp(doc).vector.reshape(1,-1) for doc in X])"
      ]
    },
    {
      "cell_type": "code",
      "source": [
        "def spacy_transform(df_train, df_test, feature):\n",
        "  transformer = WordVectorTransformer()\n",
        "  \n",
        "  #encoding\n",
        "  train_arr = transformer.fit_transform(df_train[feature])\n",
        "  test_arr  = transformer.fit_transform(df_test[feature])\n",
        "\n",
        "  #converting to DataFrame\n",
        "  df_train_txt = pd.DataFrame(train_arr, columns =['txt'+str(i) for i in range(1,301)])\n",
        "  df_test_txt  = pd.DataFrame(test_arr, columns =['txt'+str(i) for i in range(1,301)])\n",
        "\n",
        "  df_train = pd.concat([df_train, df_train_txt], axis=1)\n",
        "  df_test =  pd.concat([df_test, df_test_txt], axis=1)\n",
        "\n",
        "  return df_train, df_test"
      ],
      "metadata": {
        "id": "LBYgrHFBahXt"
      },
      "execution_count": null,
      "outputs": []
    },
    {
      "cell_type": "code",
      "execution_count": null,
      "metadata": {
        "id": "r5snL5fbjcsZ"
      },
      "outputs": [],
      "source": [
        "xtrain_v2, xtest_v2 = spacy_transform(train_data, test_data, 'text')"
      ]
    },
    {
      "cell_type": "code",
      "execution_count": null,
      "metadata": {
        "id": "HlqFebdajcsa"
      },
      "outputs": [],
      "source": [
        "xtrain_v2 = xtrain_v2.drop(columns=['id', 'keyword', 'location', 'text', 'country', 'target'])\n",
        "xtest_v2 = xtest_v2.drop(columns=['id', 'keyword', 'location', 'text', 'country'])\n",
        "ytrain = train_data['target']"
      ]
    },
    {
      "cell_type": "code",
      "execution_count": null,
      "metadata": {
        "colab": {
          "base_uri": "https://localhost:8080/",
          "height": 269
        },
        "id": "syBtcYAtjcsa",
        "outputId": "6ee5472b-e7f1-42b3-dc7a-9be71ca68995"
      },
      "outputs": [
        {
          "output_type": "execute_result",
          "data": {
            "text/plain": [
              "   num chars  num special chars  num words  average word length  country freq  \\\n",
              "0         69                  1         13                 4.38       0.52765   \n",
              "1         38                  1          7                 4.57       0.52765   \n",
              "2        133                  3         22                 5.09       0.52765   \n",
              "\n",
              "   keyword_0  keyword_1  keyword_2  keyword_3  keyword_4  ...    txt291  \\\n",
              "0          0          0          0          0          0  ...  3.753675   \n",
              "1          0          0          0          0          0  ... -1.024685   \n",
              "2          0          0          0          0          0  ... -0.725623   \n",
              "\n",
              "     txt292    txt293    txt294    txt295    txt296    txt297    txt298  \\\n",
              "0 -0.973575  0.807835 -0.427525 -0.404525  1.622118  1.224605 -0.881025   \n",
              "1  2.021043  4.444325  1.457075  0.132725  1.300485  1.729575 -0.197270   \n",
              "2 -1.385352  0.817780  2.724800 -4.064633 -0.608247 -1.015070 -1.789082   \n",
              "\n",
              "     txt299    txt300  \n",
              "0 -2.046537  1.265052  \n",
              "1 -0.915400 -2.731612  \n",
              "2  0.803580  0.772050  \n",
              "\n",
              "[3 rows x 313 columns]"
            ],
            "text/html": [
              "\n",
              "  <div id=\"df-90a35863-908c-437c-8a94-c71e98496514\">\n",
              "    <div class=\"colab-df-container\">\n",
              "      <div>\n",
              "<style scoped>\n",
              "    .dataframe tbody tr th:only-of-type {\n",
              "        vertical-align: middle;\n",
              "    }\n",
              "\n",
              "    .dataframe tbody tr th {\n",
              "        vertical-align: top;\n",
              "    }\n",
              "\n",
              "    .dataframe thead th {\n",
              "        text-align: right;\n",
              "    }\n",
              "</style>\n",
              "<table border=\"1\" class=\"dataframe\">\n",
              "  <thead>\n",
              "    <tr style=\"text-align: right;\">\n",
              "      <th></th>\n",
              "      <th>num chars</th>\n",
              "      <th>num special chars</th>\n",
              "      <th>num words</th>\n",
              "      <th>average word length</th>\n",
              "      <th>country freq</th>\n",
              "      <th>keyword_0</th>\n",
              "      <th>keyword_1</th>\n",
              "      <th>keyword_2</th>\n",
              "      <th>keyword_3</th>\n",
              "      <th>keyword_4</th>\n",
              "      <th>...</th>\n",
              "      <th>txt291</th>\n",
              "      <th>txt292</th>\n",
              "      <th>txt293</th>\n",
              "      <th>txt294</th>\n",
              "      <th>txt295</th>\n",
              "      <th>txt296</th>\n",
              "      <th>txt297</th>\n",
              "      <th>txt298</th>\n",
              "      <th>txt299</th>\n",
              "      <th>txt300</th>\n",
              "    </tr>\n",
              "  </thead>\n",
              "  <tbody>\n",
              "    <tr>\n",
              "      <th>0</th>\n",
              "      <td>69</td>\n",
              "      <td>1</td>\n",
              "      <td>13</td>\n",
              "      <td>4.38</td>\n",
              "      <td>0.52765</td>\n",
              "      <td>0</td>\n",
              "      <td>0</td>\n",
              "      <td>0</td>\n",
              "      <td>0</td>\n",
              "      <td>0</td>\n",
              "      <td>...</td>\n",
              "      <td>3.753675</td>\n",
              "      <td>-0.973575</td>\n",
              "      <td>0.807835</td>\n",
              "      <td>-0.427525</td>\n",
              "      <td>-0.404525</td>\n",
              "      <td>1.622118</td>\n",
              "      <td>1.224605</td>\n",
              "      <td>-0.881025</td>\n",
              "      <td>-2.046537</td>\n",
              "      <td>1.265052</td>\n",
              "    </tr>\n",
              "    <tr>\n",
              "      <th>1</th>\n",
              "      <td>38</td>\n",
              "      <td>1</td>\n",
              "      <td>7</td>\n",
              "      <td>4.57</td>\n",
              "      <td>0.52765</td>\n",
              "      <td>0</td>\n",
              "      <td>0</td>\n",
              "      <td>0</td>\n",
              "      <td>0</td>\n",
              "      <td>0</td>\n",
              "      <td>...</td>\n",
              "      <td>-1.024685</td>\n",
              "      <td>2.021043</td>\n",
              "      <td>4.444325</td>\n",
              "      <td>1.457075</td>\n",
              "      <td>0.132725</td>\n",
              "      <td>1.300485</td>\n",
              "      <td>1.729575</td>\n",
              "      <td>-0.197270</td>\n",
              "      <td>-0.915400</td>\n",
              "      <td>-2.731612</td>\n",
              "    </tr>\n",
              "    <tr>\n",
              "      <th>2</th>\n",
              "      <td>133</td>\n",
              "      <td>3</td>\n",
              "      <td>22</td>\n",
              "      <td>5.09</td>\n",
              "      <td>0.52765</td>\n",
              "      <td>0</td>\n",
              "      <td>0</td>\n",
              "      <td>0</td>\n",
              "      <td>0</td>\n",
              "      <td>0</td>\n",
              "      <td>...</td>\n",
              "      <td>-0.725623</td>\n",
              "      <td>-1.385352</td>\n",
              "      <td>0.817780</td>\n",
              "      <td>2.724800</td>\n",
              "      <td>-4.064633</td>\n",
              "      <td>-0.608247</td>\n",
              "      <td>-1.015070</td>\n",
              "      <td>-1.789082</td>\n",
              "      <td>0.803580</td>\n",
              "      <td>0.772050</td>\n",
              "    </tr>\n",
              "  </tbody>\n",
              "</table>\n",
              "<p>3 rows × 313 columns</p>\n",
              "</div>\n",
              "      <button class=\"colab-df-convert\" onclick=\"convertToInteractive('df-90a35863-908c-437c-8a94-c71e98496514')\"\n",
              "              title=\"Convert this dataframe to an interactive table.\"\n",
              "              style=\"display:none;\">\n",
              "        \n",
              "  <svg xmlns=\"http://www.w3.org/2000/svg\" height=\"24px\"viewBox=\"0 0 24 24\"\n",
              "       width=\"24px\">\n",
              "    <path d=\"M0 0h24v24H0V0z\" fill=\"none\"/>\n",
              "    <path d=\"M18.56 5.44l.94 2.06.94-2.06 2.06-.94-2.06-.94-.94-2.06-.94 2.06-2.06.94zm-11 1L8.5 8.5l.94-2.06 2.06-.94-2.06-.94L8.5 2.5l-.94 2.06-2.06.94zm10 10l.94 2.06.94-2.06 2.06-.94-2.06-.94-.94-2.06-.94 2.06-2.06.94z\"/><path d=\"M17.41 7.96l-1.37-1.37c-.4-.4-.92-.59-1.43-.59-.52 0-1.04.2-1.43.59L10.3 9.45l-7.72 7.72c-.78.78-.78 2.05 0 2.83L4 21.41c.39.39.9.59 1.41.59.51 0 1.02-.2 1.41-.59l7.78-7.78 2.81-2.81c.8-.78.8-2.07 0-2.86zM5.41 20L4 18.59l7.72-7.72 1.47 1.35L5.41 20z\"/>\n",
              "  </svg>\n",
              "      </button>\n",
              "      \n",
              "  <style>\n",
              "    .colab-df-container {\n",
              "      display:flex;\n",
              "      flex-wrap:wrap;\n",
              "      gap: 12px;\n",
              "    }\n",
              "\n",
              "    .colab-df-convert {\n",
              "      background-color: #E8F0FE;\n",
              "      border: none;\n",
              "      border-radius: 50%;\n",
              "      cursor: pointer;\n",
              "      display: none;\n",
              "      fill: #1967D2;\n",
              "      height: 32px;\n",
              "      padding: 0 0 0 0;\n",
              "      width: 32px;\n",
              "    }\n",
              "\n",
              "    .colab-df-convert:hover {\n",
              "      background-color: #E2EBFA;\n",
              "      box-shadow: 0px 1px 2px rgba(60, 64, 67, 0.3), 0px 1px 3px 1px rgba(60, 64, 67, 0.15);\n",
              "      fill: #174EA6;\n",
              "    }\n",
              "\n",
              "    [theme=dark] .colab-df-convert {\n",
              "      background-color: #3B4455;\n",
              "      fill: #D2E3FC;\n",
              "    }\n",
              "\n",
              "    [theme=dark] .colab-df-convert:hover {\n",
              "      background-color: #434B5C;\n",
              "      box-shadow: 0px 1px 3px 1px rgba(0, 0, 0, 0.15);\n",
              "      filter: drop-shadow(0px 1px 2px rgba(0, 0, 0, 0.3));\n",
              "      fill: #FFFFFF;\n",
              "    }\n",
              "  </style>\n",
              "\n",
              "      <script>\n",
              "        const buttonEl =\n",
              "          document.querySelector('#df-90a35863-908c-437c-8a94-c71e98496514 button.colab-df-convert');\n",
              "        buttonEl.style.display =\n",
              "          google.colab.kernel.accessAllowed ? 'block' : 'none';\n",
              "\n",
              "        async function convertToInteractive(key) {\n",
              "          const element = document.querySelector('#df-90a35863-908c-437c-8a94-c71e98496514');\n",
              "          const dataTable =\n",
              "            await google.colab.kernel.invokeFunction('convertToInteractive',\n",
              "                                                     [key], {});\n",
              "          if (!dataTable) return;\n",
              "\n",
              "          const docLinkHtml = 'Like what you see? Visit the ' +\n",
              "            '<a target=\"_blank\" href=https://colab.research.google.com/notebooks/data_table.ipynb>data table notebook</a>'\n",
              "            + ' to learn more about interactive tables.';\n",
              "          element.innerHTML = '';\n",
              "          dataTable['output_type'] = 'display_data';\n",
              "          await google.colab.output.renderOutput(dataTable, element);\n",
              "          const docLink = document.createElement('div');\n",
              "          docLink.innerHTML = docLinkHtml;\n",
              "          element.appendChild(docLink);\n",
              "        }\n",
              "      </script>\n",
              "    </div>\n",
              "  </div>\n",
              "  "
            ]
          },
          "metadata": {},
          "execution_count": 105
        }
      ],
      "source": [
        "xtrain_v2.head(3)"
      ]
    },
    {
      "cell_type": "markdown",
      "source": [
        "*Model training*"
      ],
      "metadata": {
        "id": "2L8WtTYBzRnm"
      }
    },
    {
      "cell_type": "code",
      "source": [
        "#List of Grid Search results\n",
        "searches_v2 = [0]*len(models_dict)"
      ],
      "metadata": {
        "id": "bXEZgG18aRr6"
      },
      "execution_count": null,
      "outputs": []
    },
    {
      "cell_type": "code",
      "execution_count": 191,
      "metadata": {
        "colab": {
          "base_uri": "https://localhost:8080/"
        },
        "outputId": "16007207-c14e-451f-edc8-f7f5f8c71ae2",
        "id": "eCELyYXpZQ5L"
      },
      "outputs": [
        {
          "output_type": "stream",
          "name": "stdout",
          "text": [
            "------ Train, Validation and Test sets info ------\n",
            "X train size: (5500, 313)\n",
            "Y train size: (5500,)\n",
            "X validation size: (971, 313)\n",
            "Y validation size: (971,)\n",
            "X test size: (3263, 313)\n",
            "Fitting 5 folds for each of 6 candidates, totalling 30 fits\n",
            "------ Grid Search results for: Logistic Regression  ------\n",
            "Best parameter (CV score=0.822):\n",
            "Best parameters:  {'LR__C': 1, 'LR__penalty': 'l1'}\n",
            "Best index:  4\n",
            "Best estimator:  Pipeline(steps=[('scalar', StandardScaler()),\n",
            "                ('LR',\n",
            "                 LogisticRegression(C=1, max_iter=10000, penalty='l1',\n",
            "                                    solver='saga', tol=0.1))])\n",
            "---------------------------------------------\n",
            "Fitting 5 folds for each of 9 candidates, totalling 45 fits\n",
            "------ Grid Search results for: Random Forest  ------\n",
            "Best parameter (CV score=0.812):\n",
            "Best parameters:  {'RF__max_depth': 10, 'RF__n_estimators': 150}\n",
            "Best index:  4\n",
            "Best estimator:  Pipeline(steps=[('RF', RandomForestClassifier(max_depth=10, n_estimators=150))])\n",
            "---------------------------------------------\n",
            "Fitting 5 folds for each of 27 candidates, totalling 135 fits\n",
            "------ Grid Search results for: Light GBM  ------\n",
            "Best parameter (CV score=0.824):\n",
            "Best parameters:  {'LGBM__learning_rate': 0.1, 'LGBM__max_depth': 10, 'LGBM__n_estimators': 100}\n",
            "Best index:  26\n",
            "Best estimator:  Pipeline(steps=[('LGBM', LGBMClassifier(max_depth=10))])\n",
            "---------------------------------------------\n"
          ]
        }
      ],
      "source": [
        "# Spitting datasets\n",
        "xtrain_v2, xvalid_v2, ytrain, yvalid_v2 = train_test_split(xtrain_v2, ytrain, test_size=0.15, random_state=42)\n",
        "\n",
        "# Printing data sets info\n",
        "print('------ Train, Validation and Test sets info ------')\n",
        "print('X train size:', xtrain_v2.shape)\n",
        "print('Y train size:', ytrain.shape)\n",
        "print('X validation size:', xvalid_v2.shape)\n",
        "print('Y validation size:', yvalid_v2.shape)\n",
        "print('X test size:', xtest_v2.shape)\n",
        "\n",
        "\n",
        "# set the Grid search CV\n",
        "for model in range(len(pipelines)):\n",
        "    searches_v2[model] = GridSearchCV(estimator = pipelines[model], \n",
        "                             param_grid = parameters[model], \n",
        "                             n_jobs = 2, \n",
        "                             scoring = scoring_list,\n",
        "                             refit = 'roc_auc',\n",
        "                             verbose = 2,\n",
        "                             return_train_score = True,\n",
        "                             cv = 5\n",
        "                            )\n",
        "    \n",
        "    searches_v2[model].fit(xtrain_v2, ytrain)\n",
        "\n",
        "    # Printing grid search info\n",
        "    print('------ Grid Search results for:', models_dict[model],' ------')\n",
        "    print(\"Best parameter (CV score=%0.3f):\" % searches_v2[model].best_score_)\n",
        "    print(\"Best parameters: \", searches_v2[model].best_params_)\n",
        "    print(\"Best index: \", searches_v2[model].best_index_)\n",
        "    print(\"Best estimator: \", searches_v2[model].best_estimator_)\n",
        "    print('---------------------------------------------')"
      ]
    },
    {
      "cell_type": "markdown",
      "metadata": {
        "id": "R1llvsJQncvs"
      },
      "source": [
        "**Version 3 (v3) set:** \n",
        "\n",
        "- 'keywords': SpaCy encoding\n",
        "- 'country': frequency encoding\n",
        "- 'texts': SpaCy encoding"
      ]
    },
    {
      "cell_type": "markdown",
      "source": [
        "*Keyword encoding*"
      ],
      "metadata": {
        "id": "KPHxkex3zaFi"
      }
    },
    {
      "cell_type": "code",
      "source": [
        "xtrain_v3, xtest_v3 = spacy_transform(train_data, test_data, 'keyword')"
      ],
      "metadata": {
        "id": "HwqJyD2Gob1y"
      },
      "execution_count": 185,
      "outputs": []
    },
    {
      "cell_type": "markdown",
      "source": [
        "*Text encoding*"
      ],
      "metadata": {
        "id": "FeZK1Hqnzdgp"
      }
    },
    {
      "cell_type": "code",
      "source": [
        "xtrain_v3, xtest_v3 = spacy_transform(xtrain_v3, xtest_v3, 'text')"
      ],
      "metadata": {
        "id": "8Sa_SjWF0-RU"
      },
      "execution_count": 186,
      "outputs": []
    },
    {
      "cell_type": "code",
      "source": [
        "xtrain_v3 = xtrain_v3.drop(columns= ['id', 'keyword', 'location', 'text', 'country', 'target'])\n",
        "xtest_v3 = xtest_v3.drop(columns= ['id', 'keyword', 'location', 'text', 'country'])\n",
        "ytrain = train_data['target']"
      ],
      "metadata": {
        "id": "sUTreK6WpGVc"
      },
      "execution_count": 187,
      "outputs": []
    },
    {
      "cell_type": "code",
      "execution_count": 188,
      "metadata": {
        "colab": {
          "base_uri": "https://localhost:8080/"
        },
        "id": "pLABTDBnjcsd",
        "outputId": "d41434ea-f5c7-4700-8b76-7ddb426408ce"
      },
      "outputs": [
        {
          "output_type": "execute_result",
          "data": {
            "text/plain": [
              "(7613, 613)"
            ]
          },
          "metadata": {},
          "execution_count": 188
        }
      ],
      "source": [
        "xtrain_v3.shape"
      ]
    },
    {
      "cell_type": "markdown",
      "source": [
        "*Model training*"
      ],
      "metadata": {
        "id": "O-nYnfqz1Bmm"
      }
    },
    {
      "cell_type": "code",
      "source": [
        "#List of Grid Search results\n",
        "searches_v3 = [0]*len(models_dict)"
      ],
      "metadata": {
        "id": "Rrt2UNRvpQgL"
      },
      "execution_count": 189,
      "outputs": []
    },
    {
      "cell_type": "code",
      "execution_count": 190,
      "metadata": {
        "colab": {
          "base_uri": "https://localhost:8080/"
        },
        "outputId": "2515f03c-eb6f-4933-dced-4370728cf4f0",
        "id": "G2AzWlJMpXDo"
      },
      "outputs": [
        {
          "output_type": "stream",
          "name": "stdout",
          "text": [
            "------ Train, Validation and Test sets info ------\n",
            "X train size: (6471, 613)\n",
            "Y train size: (6471,)\n",
            "X validation size: (1142, 613)\n",
            "Y validation size: (1142,)\n",
            "X test size: (3263, 613)\n",
            "Fitting 5 folds for each of 6 candidates, totalling 30 fits\n",
            "------ Grid Search results for: Logistic Regression  ------\n",
            "Best parameter (CV score=0.844):\n",
            "Best parameters:  {'LR__C': 1, 'LR__penalty': 'l1'}\n",
            "Best index:  4\n",
            "Best estimator:  Pipeline(steps=[('scalar', StandardScaler()),\n",
            "                ('LR',\n",
            "                 LogisticRegression(C=1, max_iter=10000, penalty='l1',\n",
            "                                    solver='saga', tol=0.1))])\n",
            "---------------------------------------------\n",
            "Fitting 5 folds for each of 9 candidates, totalling 45 fits\n",
            "------ Grid Search results for: Random Forest  ------\n",
            "Best parameter (CV score=0.844):\n",
            "Best parameters:  {'RF__max_depth': 10, 'RF__n_estimators': 200}\n",
            "Best index:  5\n",
            "Best estimator:  Pipeline(steps=[('RF', RandomForestClassifier(max_depth=10, n_estimators=200))])\n",
            "---------------------------------------------\n",
            "Fitting 5 folds for each of 27 candidates, totalling 135 fits\n",
            "------ Grid Search results for: Light GBM  ------\n",
            "Best parameter (CV score=0.851):\n",
            "Best parameters:  {'LGBM__learning_rate': 0.1, 'LGBM__max_depth': 5, 'LGBM__n_estimators': 100}\n",
            "Best index:  23\n",
            "Best estimator:  Pipeline(steps=[('LGBM', LGBMClassifier(max_depth=5))])\n",
            "---------------------------------------------\n"
          ]
        }
      ],
      "source": [
        "# Spitting datasets\n",
        "xtrain_v3, xvalid_v3, ytrain, yvalid_v3 = train_test_split(xtrain_v3, ytrain, test_size=0.15, random_state=42)\n",
        "\n",
        "# Printing data sets info\n",
        "print('------ Train, Validation and Test sets info ------')\n",
        "print('X train size:', xtrain_v3.shape)\n",
        "print('Y train size:', ytrain.shape)\n",
        "print('X validation size:', xvalid_v3.shape)\n",
        "print('Y validation size:', yvalid_v3.shape)\n",
        "print('X test size:', xtest_v3.shape)\n",
        "\n",
        "\n",
        "# set the Grid search CV\n",
        "for model in range(len(pipelines)):\n",
        "    searches_v3[model] = GridSearchCV(estimator = pipelines[model], \n",
        "                             param_grid = parameters[model], \n",
        "                             n_jobs = 2, \n",
        "                             scoring = scoring_list,\n",
        "                             refit = 'roc_auc',\n",
        "                             verbose = 2,\n",
        "                             return_train_score = True,\n",
        "                             cv = 5\n",
        "                            )\n",
        "    \n",
        "    searches_v3[model].fit(xtrain_v3, ytrain)\n",
        "\n",
        "    # Printing grid search info\n",
        "    print('------ Grid Search results for:', models_dict[model],' ------')\n",
        "    print(\"Best parameter (CV score=%0.3f):\" % searches_v3[model].best_score_)\n",
        "    print(\"Best parameters: \", searches_v3[model].best_params_)\n",
        "    print(\"Best index: \", searches_v3[model].best_index_)\n",
        "    print(\"Best estimator: \", searches_v3[model].best_estimator_)\n",
        "    print('---------------------------------------------')"
      ]
    },
    {
      "cell_type": "markdown",
      "metadata": {
        "id": "O9XQx6mpp5Lv"
      },
      "source": [
        "**Version 4 (v4) set:** \n",
        "\n",
        "- 'keywords': SpaCy encoding\n",
        "- 'contry': SpaCy encoding\n",
        "- 'texts': SpaCy encoding"
      ]
    },
    {
      "cell_type": "markdown",
      "source": [
        "*Country encoding*"
      ],
      "metadata": {
        "id": "n0Gj-vyRXyc8"
      }
    },
    {
      "cell_type": "code",
      "source": [
        "xtrain_v4, xtest_v4 = spacy_transform(train_data, test_data, 'country')"
      ],
      "metadata": {
        "id": "mzC6DhV1qC87"
      },
      "execution_count": null,
      "outputs": []
    },
    {
      "cell_type": "markdown",
      "source": [
        "*Keyword encoding*"
      ],
      "metadata": {
        "id": "mY5u38b3X65T"
      }
    },
    {
      "cell_type": "code",
      "source": [
        "xtrain_v4, xtest_v4 = spacy_transform(xtrain_v4, xtest_v4, 'keyword')"
      ],
      "metadata": {
        "id": "0GzK5jsHX65T"
      },
      "execution_count": null,
      "outputs": []
    },
    {
      "cell_type": "markdown",
      "source": [
        "*Text encoding*"
      ],
      "metadata": {
        "id": "voz1wsADX65U"
      }
    },
    {
      "cell_type": "code",
      "source": [
        "xtrain_v4, xtest_v4 = spacy_transform(xtrain_v4, xtest_v4, 'text')"
      ],
      "metadata": {
        "id": "dmrjIGOgX65U"
      },
      "execution_count": null,
      "outputs": []
    },
    {
      "cell_type": "code",
      "execution_count": null,
      "metadata": {
        "id": "xyJyQPlJjcse"
      },
      "outputs": [],
      "source": [
        "xtrain_v4 = xtrain_v4.drop(columns=['id', 'keyword', 'location', 'text', 'country', 'target','country freq'])\n",
        "xtest_v4 = xtest_v4.drop(columns=['id', 'keyword', 'location', 'text', 'country', 'country freq'])\n",
        "ytrain = train_data['target']"
      ]
    },
    {
      "cell_type": "code",
      "execution_count": null,
      "metadata": {
        "colab": {
          "base_uri": "https://localhost:8080/",
          "height": 269
        },
        "id": "_oRlYwP4jcse",
        "outputId": "7fa7caf7-5525-432b-9d6b-aa9a72cb0a43"
      },
      "outputs": [
        {
          "output_type": "execute_result",
          "data": {
            "text/plain": [
              "   num chars  num special chars  num words  average word length  keyword_0  \\\n",
              "0         69                  1         13                 4.38          0   \n",
              "1         38                  1          7                 4.57          0   \n",
              "2        133                  3         22                 5.09          0   \n",
              "\n",
              "   keyword_1  keyword_2  keyword_3  keyword_4  keyword_5  ...    txt291  \\\n",
              "0          0          0          0          0          0  ...  3.753675   \n",
              "1          0          0          0          0          0  ... -1.024685   \n",
              "2          0          0          0          0          0  ... -0.725623   \n",
              "\n",
              "     txt292    txt293    txt294    txt295    txt296    txt297    txt298  \\\n",
              "0 -0.973575  0.807835 -0.427525 -0.404525  1.622118  1.224605 -0.881025   \n",
              "1  2.021043  4.444325  1.457075  0.132725  1.300485  1.729575 -0.197270   \n",
              "2 -1.385352  0.817780  2.724800 -4.064633 -0.608247 -1.015070 -1.789082   \n",
              "\n",
              "     txt299    txt300  \n",
              "0 -2.046537  1.265052  \n",
              "1 -0.915400 -2.731612  \n",
              "2  0.803580  0.772050  \n",
              "\n",
              "[3 rows x 912 columns]"
            ],
            "text/html": [
              "\n",
              "  <div id=\"df-e9b943b5-043b-4dd1-8077-27386237a16d\">\n",
              "    <div class=\"colab-df-container\">\n",
              "      <div>\n",
              "<style scoped>\n",
              "    .dataframe tbody tr th:only-of-type {\n",
              "        vertical-align: middle;\n",
              "    }\n",
              "\n",
              "    .dataframe tbody tr th {\n",
              "        vertical-align: top;\n",
              "    }\n",
              "\n",
              "    .dataframe thead th {\n",
              "        text-align: right;\n",
              "    }\n",
              "</style>\n",
              "<table border=\"1\" class=\"dataframe\">\n",
              "  <thead>\n",
              "    <tr style=\"text-align: right;\">\n",
              "      <th></th>\n",
              "      <th>num chars</th>\n",
              "      <th>num special chars</th>\n",
              "      <th>num words</th>\n",
              "      <th>average word length</th>\n",
              "      <th>keyword_0</th>\n",
              "      <th>keyword_1</th>\n",
              "      <th>keyword_2</th>\n",
              "      <th>keyword_3</th>\n",
              "      <th>keyword_4</th>\n",
              "      <th>keyword_5</th>\n",
              "      <th>...</th>\n",
              "      <th>txt291</th>\n",
              "      <th>txt292</th>\n",
              "      <th>txt293</th>\n",
              "      <th>txt294</th>\n",
              "      <th>txt295</th>\n",
              "      <th>txt296</th>\n",
              "      <th>txt297</th>\n",
              "      <th>txt298</th>\n",
              "      <th>txt299</th>\n",
              "      <th>txt300</th>\n",
              "    </tr>\n",
              "  </thead>\n",
              "  <tbody>\n",
              "    <tr>\n",
              "      <th>0</th>\n",
              "      <td>69</td>\n",
              "      <td>1</td>\n",
              "      <td>13</td>\n",
              "      <td>4.38</td>\n",
              "      <td>0</td>\n",
              "      <td>0</td>\n",
              "      <td>0</td>\n",
              "      <td>0</td>\n",
              "      <td>0</td>\n",
              "      <td>0</td>\n",
              "      <td>...</td>\n",
              "      <td>3.753675</td>\n",
              "      <td>-0.973575</td>\n",
              "      <td>0.807835</td>\n",
              "      <td>-0.427525</td>\n",
              "      <td>-0.404525</td>\n",
              "      <td>1.622118</td>\n",
              "      <td>1.224605</td>\n",
              "      <td>-0.881025</td>\n",
              "      <td>-2.046537</td>\n",
              "      <td>1.265052</td>\n",
              "    </tr>\n",
              "    <tr>\n",
              "      <th>1</th>\n",
              "      <td>38</td>\n",
              "      <td>1</td>\n",
              "      <td>7</td>\n",
              "      <td>4.57</td>\n",
              "      <td>0</td>\n",
              "      <td>0</td>\n",
              "      <td>0</td>\n",
              "      <td>0</td>\n",
              "      <td>0</td>\n",
              "      <td>0</td>\n",
              "      <td>...</td>\n",
              "      <td>-1.024685</td>\n",
              "      <td>2.021043</td>\n",
              "      <td>4.444325</td>\n",
              "      <td>1.457075</td>\n",
              "      <td>0.132725</td>\n",
              "      <td>1.300485</td>\n",
              "      <td>1.729575</td>\n",
              "      <td>-0.197270</td>\n",
              "      <td>-0.915400</td>\n",
              "      <td>-2.731612</td>\n",
              "    </tr>\n",
              "    <tr>\n",
              "      <th>2</th>\n",
              "      <td>133</td>\n",
              "      <td>3</td>\n",
              "      <td>22</td>\n",
              "      <td>5.09</td>\n",
              "      <td>0</td>\n",
              "      <td>0</td>\n",
              "      <td>0</td>\n",
              "      <td>0</td>\n",
              "      <td>0</td>\n",
              "      <td>0</td>\n",
              "      <td>...</td>\n",
              "      <td>-0.725623</td>\n",
              "      <td>-1.385352</td>\n",
              "      <td>0.817780</td>\n",
              "      <td>2.724800</td>\n",
              "      <td>-4.064633</td>\n",
              "      <td>-0.608247</td>\n",
              "      <td>-1.015070</td>\n",
              "      <td>-1.789082</td>\n",
              "      <td>0.803580</td>\n",
              "      <td>0.772050</td>\n",
              "    </tr>\n",
              "  </tbody>\n",
              "</table>\n",
              "<p>3 rows × 912 columns</p>\n",
              "</div>\n",
              "      <button class=\"colab-df-convert\" onclick=\"convertToInteractive('df-e9b943b5-043b-4dd1-8077-27386237a16d')\"\n",
              "              title=\"Convert this dataframe to an interactive table.\"\n",
              "              style=\"display:none;\">\n",
              "        \n",
              "  <svg xmlns=\"http://www.w3.org/2000/svg\" height=\"24px\"viewBox=\"0 0 24 24\"\n",
              "       width=\"24px\">\n",
              "    <path d=\"M0 0h24v24H0V0z\" fill=\"none\"/>\n",
              "    <path d=\"M18.56 5.44l.94 2.06.94-2.06 2.06-.94-2.06-.94-.94-2.06-.94 2.06-2.06.94zm-11 1L8.5 8.5l.94-2.06 2.06-.94-2.06-.94L8.5 2.5l-.94 2.06-2.06.94zm10 10l.94 2.06.94-2.06 2.06-.94-2.06-.94-.94-2.06-.94 2.06-2.06.94z\"/><path d=\"M17.41 7.96l-1.37-1.37c-.4-.4-.92-.59-1.43-.59-.52 0-1.04.2-1.43.59L10.3 9.45l-7.72 7.72c-.78.78-.78 2.05 0 2.83L4 21.41c.39.39.9.59 1.41.59.51 0 1.02-.2 1.41-.59l7.78-7.78 2.81-2.81c.8-.78.8-2.07 0-2.86zM5.41 20L4 18.59l7.72-7.72 1.47 1.35L5.41 20z\"/>\n",
              "  </svg>\n",
              "      </button>\n",
              "      \n",
              "  <style>\n",
              "    .colab-df-container {\n",
              "      display:flex;\n",
              "      flex-wrap:wrap;\n",
              "      gap: 12px;\n",
              "    }\n",
              "\n",
              "    .colab-df-convert {\n",
              "      background-color: #E8F0FE;\n",
              "      border: none;\n",
              "      border-radius: 50%;\n",
              "      cursor: pointer;\n",
              "      display: none;\n",
              "      fill: #1967D2;\n",
              "      height: 32px;\n",
              "      padding: 0 0 0 0;\n",
              "      width: 32px;\n",
              "    }\n",
              "\n",
              "    .colab-df-convert:hover {\n",
              "      background-color: #E2EBFA;\n",
              "      box-shadow: 0px 1px 2px rgba(60, 64, 67, 0.3), 0px 1px 3px 1px rgba(60, 64, 67, 0.15);\n",
              "      fill: #174EA6;\n",
              "    }\n",
              "\n",
              "    [theme=dark] .colab-df-convert {\n",
              "      background-color: #3B4455;\n",
              "      fill: #D2E3FC;\n",
              "    }\n",
              "\n",
              "    [theme=dark] .colab-df-convert:hover {\n",
              "      background-color: #434B5C;\n",
              "      box-shadow: 0px 1px 3px 1px rgba(0, 0, 0, 0.15);\n",
              "      filter: drop-shadow(0px 1px 2px rgba(0, 0, 0, 0.3));\n",
              "      fill: #FFFFFF;\n",
              "    }\n",
              "  </style>\n",
              "\n",
              "      <script>\n",
              "        const buttonEl =\n",
              "          document.querySelector('#df-e9b943b5-043b-4dd1-8077-27386237a16d button.colab-df-convert');\n",
              "        buttonEl.style.display =\n",
              "          google.colab.kernel.accessAllowed ? 'block' : 'none';\n",
              "\n",
              "        async function convertToInteractive(key) {\n",
              "          const element = document.querySelector('#df-e9b943b5-043b-4dd1-8077-27386237a16d');\n",
              "          const dataTable =\n",
              "            await google.colab.kernel.invokeFunction('convertToInteractive',\n",
              "                                                     [key], {});\n",
              "          if (!dataTable) return;\n",
              "\n",
              "          const docLinkHtml = 'Like what you see? Visit the ' +\n",
              "            '<a target=\"_blank\" href=https://colab.research.google.com/notebooks/data_table.ipynb>data table notebook</a>'\n",
              "            + ' to learn more about interactive tables.';\n",
              "          element.innerHTML = '';\n",
              "          dataTable['output_type'] = 'display_data';\n",
              "          await google.colab.output.renderOutput(dataTable, element);\n",
              "          const docLink = document.createElement('div');\n",
              "          docLink.innerHTML = docLinkHtml;\n",
              "          element.appendChild(docLink);\n",
              "        }\n",
              "      </script>\n",
              "    </div>\n",
              "  </div>\n",
              "  "
            ]
          },
          "metadata": {},
          "execution_count": 121
        }
      ],
      "source": [
        "xtrain_v4.head(3)"
      ]
    },
    {
      "cell_type": "code",
      "execution_count": null,
      "metadata": {
        "colab": {
          "base_uri": "https://localhost:8080/"
        },
        "id": "31rASPAEjcsf",
        "outputId": "984e78bc-0995-4262-fdc0-a0e10ded92cf"
      },
      "outputs": [
        {
          "output_type": "stream",
          "name": "stdout",
          "text": [
            "------ Train, Validation and Test sets info ------\n",
            "X train size: (5500, 912)\n",
            "Y train size: (5500,)\n",
            "X validation size: (971, 912)\n",
            "Y validation size: (971,)\n",
            "X test size: (3263, 912)\n",
            "Fitting 5 folds for each of 27 candidates, totalling 135 fits\n",
            "------ Grid Search results for: Light GBM ----------\n",
            "Best parameter (CV score=0.841):\n",
            "Best parameters:  {'LGBM__learning_rate': 0.1, 'LGBM__max_depth': 10, 'LGBM__n_estimators': 100}\n",
            "Best index:  26\n",
            "Best estimator:  Pipeline(steps=[('LGBM', LGBMClassifier(max_depth=10))])\n"
          ]
        }
      ],
      "source": [
        "# Splitting datasets\n",
        "xtrain_v4, xvalid_v4, ytrain, yvalid_v4 = train_test_split(xtrain_v4, ytrain, test_size=0.15, random_state=42)\n",
        "\n",
        "# Printing data sets info\n",
        "print('------ Train, Validation and Test sets info ------')\n",
        "print('X train size:', xtrain_v4.shape)\n",
        "print('Y train size:', ytrain.shape)\n",
        "print('X validation size:', xvalid_v4.shape)\n",
        "print('Y validation size:', yvalid_v4.shape)\n",
        "print('X test size:', xtest_v4.shape)\n",
        "\n",
        "# initiate the ML model using Gini Impurity algorithm (default)\n",
        "pipe = Pipeline([(\"LGBM\", LGBMClassifier())])\n",
        "param_grid = {\"LGBM__n_estimators\": [50, 75, 100],\n",
        "              \"LGBM__learning_rate\":[0.001, 0.01, 0.1],\n",
        "              \"LGBM__max_depth\": [3, 5, 10]\n",
        "             }\n",
        "\n",
        "# set the Grid search CV\n",
        "search_v4 = GridSearchCV(pipe, \n",
        "                      param_grid, \n",
        "                      n_jobs=2, \n",
        "                      scoring=scoring_list,\n",
        "                      refit='roc_auc',\n",
        "                      verbose=2,\n",
        "                      return_train_score=True,\n",
        "                      cv=5\n",
        "                     )\n",
        "\n",
        "search_v4.fit(xtrain_v4, ytrain)\n",
        "results_v4 = search_v4.cv_results_\n",
        "method_v4 = search_v4.best_estimator_\n",
        "\n",
        "# Printing grid search info\n",
        "print('------ Grid Search results for: Light GBM ----------')\n",
        "print(\"Best parameter (CV score=%0.3f):\" % search_v4.best_score_)\n",
        "print(\"Best parameters: \", search_v4.best_params_)\n",
        "print(\"Best index: \", search_v4.best_index_)\n",
        "print(\"Best estimator: \", search_v4.best_estimator_)"
      ]
    },
    {
      "cell_type": "markdown",
      "source": [
        "## Metrics"
      ],
      "metadata": {
        "id": "5EMth7m8cYBV"
      }
    },
    {
      "cell_type": "markdown",
      "source": [
        "*Resume*"
      ],
      "metadata": {
        "id": "o0sgbXkKepUt"
      }
    },
    {
      "cell_type": "code",
      "source": [
        "versions = {0: {'text': 'TF-IDF',\n",
        "                   'keywords': 'binary',\n",
        "                   'country': 'frequency'},\n",
        "            1: {'text': 'SpaCy',\n",
        "                   'keywords': 'binary',\n",
        "                   'country': 'frequency'},\n",
        "            2: {'text': 'SpaCy',\n",
        "                   'keywords': 'SpaCy',\n",
        "                   'country': 'frequency'},\n",
        "            3: {'text': 'SpaCy',\n",
        "                   'keywords': 'SpaCy',\n",
        "                   'country': 'SpaCy'}}\n",
        "                   \n",
        "versions = pd.DataFrame.from_dict(versions).T\n",
        "versions"
      ],
      "metadata": {
        "colab": {
          "base_uri": "https://localhost:8080/",
          "height": 173
        },
        "id": "cxTE6hGzen5M",
        "outputId": "fd129f0a-f9da-47d0-c652-0118b0e66ac8"
      },
      "execution_count": null,
      "outputs": [
        {
          "output_type": "execute_result",
          "data": {
            "text/plain": [
              "     text keywords    country\n",
              "0  TF-IDF   binary  frequency\n",
              "1   SpaCy   binary  frequency\n",
              "2   SpaCy    SpaCy  frequency\n",
              "3   SpaCy    SpaCy      SpaCy"
            ],
            "text/html": [
              "\n",
              "  <div id=\"df-a51bcba0-139e-4453-a9f2-ef5cbce6d760\">\n",
              "    <div class=\"colab-df-container\">\n",
              "      <div>\n",
              "<style scoped>\n",
              "    .dataframe tbody tr th:only-of-type {\n",
              "        vertical-align: middle;\n",
              "    }\n",
              "\n",
              "    .dataframe tbody tr th {\n",
              "        vertical-align: top;\n",
              "    }\n",
              "\n",
              "    .dataframe thead th {\n",
              "        text-align: right;\n",
              "    }\n",
              "</style>\n",
              "<table border=\"1\" class=\"dataframe\">\n",
              "  <thead>\n",
              "    <tr style=\"text-align: right;\">\n",
              "      <th></th>\n",
              "      <th>text</th>\n",
              "      <th>keywords</th>\n",
              "      <th>country</th>\n",
              "    </tr>\n",
              "  </thead>\n",
              "  <tbody>\n",
              "    <tr>\n",
              "      <th>0</th>\n",
              "      <td>TF-IDF</td>\n",
              "      <td>binary</td>\n",
              "      <td>frequency</td>\n",
              "    </tr>\n",
              "    <tr>\n",
              "      <th>1</th>\n",
              "      <td>SpaCy</td>\n",
              "      <td>binary</td>\n",
              "      <td>frequency</td>\n",
              "    </tr>\n",
              "    <tr>\n",
              "      <th>2</th>\n",
              "      <td>SpaCy</td>\n",
              "      <td>SpaCy</td>\n",
              "      <td>frequency</td>\n",
              "    </tr>\n",
              "    <tr>\n",
              "      <th>3</th>\n",
              "      <td>SpaCy</td>\n",
              "      <td>SpaCy</td>\n",
              "      <td>SpaCy</td>\n",
              "    </tr>\n",
              "  </tbody>\n",
              "</table>\n",
              "</div>\n",
              "      <button class=\"colab-df-convert\" onclick=\"convertToInteractive('df-a51bcba0-139e-4453-a9f2-ef5cbce6d760')\"\n",
              "              title=\"Convert this dataframe to an interactive table.\"\n",
              "              style=\"display:none;\">\n",
              "        \n",
              "  <svg xmlns=\"http://www.w3.org/2000/svg\" height=\"24px\"viewBox=\"0 0 24 24\"\n",
              "       width=\"24px\">\n",
              "    <path d=\"M0 0h24v24H0V0z\" fill=\"none\"/>\n",
              "    <path d=\"M18.56 5.44l.94 2.06.94-2.06 2.06-.94-2.06-.94-.94-2.06-.94 2.06-2.06.94zm-11 1L8.5 8.5l.94-2.06 2.06-.94-2.06-.94L8.5 2.5l-.94 2.06-2.06.94zm10 10l.94 2.06.94-2.06 2.06-.94-2.06-.94-.94-2.06-.94 2.06-2.06.94z\"/><path d=\"M17.41 7.96l-1.37-1.37c-.4-.4-.92-.59-1.43-.59-.52 0-1.04.2-1.43.59L10.3 9.45l-7.72 7.72c-.78.78-.78 2.05 0 2.83L4 21.41c.39.39.9.59 1.41.59.51 0 1.02-.2 1.41-.59l7.78-7.78 2.81-2.81c.8-.78.8-2.07 0-2.86zM5.41 20L4 18.59l7.72-7.72 1.47 1.35L5.41 20z\"/>\n",
              "  </svg>\n",
              "      </button>\n",
              "      \n",
              "  <style>\n",
              "    .colab-df-container {\n",
              "      display:flex;\n",
              "      flex-wrap:wrap;\n",
              "      gap: 12px;\n",
              "    }\n",
              "\n",
              "    .colab-df-convert {\n",
              "      background-color: #E8F0FE;\n",
              "      border: none;\n",
              "      border-radius: 50%;\n",
              "      cursor: pointer;\n",
              "      display: none;\n",
              "      fill: #1967D2;\n",
              "      height: 32px;\n",
              "      padding: 0 0 0 0;\n",
              "      width: 32px;\n",
              "    }\n",
              "\n",
              "    .colab-df-convert:hover {\n",
              "      background-color: #E2EBFA;\n",
              "      box-shadow: 0px 1px 2px rgba(60, 64, 67, 0.3), 0px 1px 3px 1px rgba(60, 64, 67, 0.15);\n",
              "      fill: #174EA6;\n",
              "    }\n",
              "\n",
              "    [theme=dark] .colab-df-convert {\n",
              "      background-color: #3B4455;\n",
              "      fill: #D2E3FC;\n",
              "    }\n",
              "\n",
              "    [theme=dark] .colab-df-convert:hover {\n",
              "      background-color: #434B5C;\n",
              "      box-shadow: 0px 1px 3px 1px rgba(0, 0, 0, 0.15);\n",
              "      filter: drop-shadow(0px 1px 2px rgba(0, 0, 0, 0.3));\n",
              "      fill: #FFFFFF;\n",
              "    }\n",
              "  </style>\n",
              "\n",
              "      <script>\n",
              "        const buttonEl =\n",
              "          document.querySelector('#df-a51bcba0-139e-4453-a9f2-ef5cbce6d760 button.colab-df-convert');\n",
              "        buttonEl.style.display =\n",
              "          google.colab.kernel.accessAllowed ? 'block' : 'none';\n",
              "\n",
              "        async function convertToInteractive(key) {\n",
              "          const element = document.querySelector('#df-a51bcba0-139e-4453-a9f2-ef5cbce6d760');\n",
              "          const dataTable =\n",
              "            await google.colab.kernel.invokeFunction('convertToInteractive',\n",
              "                                                     [key], {});\n",
              "          if (!dataTable) return;\n",
              "\n",
              "          const docLinkHtml = 'Like what you see? Visit the ' +\n",
              "            '<a target=\"_blank\" href=https://colab.research.google.com/notebooks/data_table.ipynb>data table notebook</a>'\n",
              "            + ' to learn more about interactive tables.';\n",
              "          element.innerHTML = '';\n",
              "          dataTable['output_type'] = 'display_data';\n",
              "          await google.colab.output.renderOutput(dataTable, element);\n",
              "          const docLink = document.createElement('div');\n",
              "          docLink.innerHTML = docLinkHtml;\n",
              "          element.appendChild(docLink);\n",
              "        }\n",
              "      </script>\n",
              "    </div>\n",
              "  </div>\n",
              "  "
            ]
          },
          "metadata": {},
          "execution_count": 154
        }
      ]
    },
    {
      "cell_type": "code",
      "source": [
        "best_models = {'LR': [searches_v1[0].best_score_, searches_v2[0].best_score_, searches_v3[0].best_score_, '-'],\n",
        "               'RF': [searches_v1[1].best_score_, searches_v2[1].best_score_, searches_v3[1].best_score_, '-'],\n",
        "               'LGBM': [searches_v1[2].best_score_, searches_v2[2].best_score_, searches_v3[2].best_score_, search_v4.best_score_],\n",
        "               }\n",
        "\n",
        "best_models = pd.DataFrame.from_dict(best_models)\n",
        "best_models"
      ],
      "metadata": {
        "colab": {
          "base_uri": "https://localhost:8080/",
          "height": 173
        },
        "id": "_iQnAjsHhi9U",
        "outputId": "dff987bf-ee63-4c78-89c1-bd3c496acd6e"
      },
      "execution_count": null,
      "outputs": [
        {
          "output_type": "execute_result",
          "data": {
            "text/plain": [
              "         LR        RF      LGBM\n",
              "0  0.821294  0.795816  0.823595\n",
              "1  0.823485  0.796081  0.823595\n",
              "2  0.820207   0.79395  0.823595\n",
              "3         -         -  0.841476"
            ],
            "text/html": [
              "\n",
              "  <div id=\"df-0e6d415c-8357-4591-9423-5bdf97ae3b9e\">\n",
              "    <div class=\"colab-df-container\">\n",
              "      <div>\n",
              "<style scoped>\n",
              "    .dataframe tbody tr th:only-of-type {\n",
              "        vertical-align: middle;\n",
              "    }\n",
              "\n",
              "    .dataframe tbody tr th {\n",
              "        vertical-align: top;\n",
              "    }\n",
              "\n",
              "    .dataframe thead th {\n",
              "        text-align: right;\n",
              "    }\n",
              "</style>\n",
              "<table border=\"1\" class=\"dataframe\">\n",
              "  <thead>\n",
              "    <tr style=\"text-align: right;\">\n",
              "      <th></th>\n",
              "      <th>LR</th>\n",
              "      <th>RF</th>\n",
              "      <th>LGBM</th>\n",
              "    </tr>\n",
              "  </thead>\n",
              "  <tbody>\n",
              "    <tr>\n",
              "      <th>0</th>\n",
              "      <td>0.821294</td>\n",
              "      <td>0.795816</td>\n",
              "      <td>0.823595</td>\n",
              "    </tr>\n",
              "    <tr>\n",
              "      <th>1</th>\n",
              "      <td>0.823485</td>\n",
              "      <td>0.796081</td>\n",
              "      <td>0.823595</td>\n",
              "    </tr>\n",
              "    <tr>\n",
              "      <th>2</th>\n",
              "      <td>0.820207</td>\n",
              "      <td>0.79395</td>\n",
              "      <td>0.823595</td>\n",
              "    </tr>\n",
              "    <tr>\n",
              "      <th>3</th>\n",
              "      <td>-</td>\n",
              "      <td>-</td>\n",
              "      <td>0.841476</td>\n",
              "    </tr>\n",
              "  </tbody>\n",
              "</table>\n",
              "</div>\n",
              "      <button class=\"colab-df-convert\" onclick=\"convertToInteractive('df-0e6d415c-8357-4591-9423-5bdf97ae3b9e')\"\n",
              "              title=\"Convert this dataframe to an interactive table.\"\n",
              "              style=\"display:none;\">\n",
              "        \n",
              "  <svg xmlns=\"http://www.w3.org/2000/svg\" height=\"24px\"viewBox=\"0 0 24 24\"\n",
              "       width=\"24px\">\n",
              "    <path d=\"M0 0h24v24H0V0z\" fill=\"none\"/>\n",
              "    <path d=\"M18.56 5.44l.94 2.06.94-2.06 2.06-.94-2.06-.94-.94-2.06-.94 2.06-2.06.94zm-11 1L8.5 8.5l.94-2.06 2.06-.94-2.06-.94L8.5 2.5l-.94 2.06-2.06.94zm10 10l.94 2.06.94-2.06 2.06-.94-2.06-.94-.94-2.06-.94 2.06-2.06.94z\"/><path d=\"M17.41 7.96l-1.37-1.37c-.4-.4-.92-.59-1.43-.59-.52 0-1.04.2-1.43.59L10.3 9.45l-7.72 7.72c-.78.78-.78 2.05 0 2.83L4 21.41c.39.39.9.59 1.41.59.51 0 1.02-.2 1.41-.59l7.78-7.78 2.81-2.81c.8-.78.8-2.07 0-2.86zM5.41 20L4 18.59l7.72-7.72 1.47 1.35L5.41 20z\"/>\n",
              "  </svg>\n",
              "      </button>\n",
              "      \n",
              "  <style>\n",
              "    .colab-df-container {\n",
              "      display:flex;\n",
              "      flex-wrap:wrap;\n",
              "      gap: 12px;\n",
              "    }\n",
              "\n",
              "    .colab-df-convert {\n",
              "      background-color: #E8F0FE;\n",
              "      border: none;\n",
              "      border-radius: 50%;\n",
              "      cursor: pointer;\n",
              "      display: none;\n",
              "      fill: #1967D2;\n",
              "      height: 32px;\n",
              "      padding: 0 0 0 0;\n",
              "      width: 32px;\n",
              "    }\n",
              "\n",
              "    .colab-df-convert:hover {\n",
              "      background-color: #E2EBFA;\n",
              "      box-shadow: 0px 1px 2px rgba(60, 64, 67, 0.3), 0px 1px 3px 1px rgba(60, 64, 67, 0.15);\n",
              "      fill: #174EA6;\n",
              "    }\n",
              "\n",
              "    [theme=dark] .colab-df-convert {\n",
              "      background-color: #3B4455;\n",
              "      fill: #D2E3FC;\n",
              "    }\n",
              "\n",
              "    [theme=dark] .colab-df-convert:hover {\n",
              "      background-color: #434B5C;\n",
              "      box-shadow: 0px 1px 3px 1px rgba(0, 0, 0, 0.15);\n",
              "      filter: drop-shadow(0px 1px 2px rgba(0, 0, 0, 0.3));\n",
              "      fill: #FFFFFF;\n",
              "    }\n",
              "  </style>\n",
              "\n",
              "      <script>\n",
              "        const buttonEl =\n",
              "          document.querySelector('#df-0e6d415c-8357-4591-9423-5bdf97ae3b9e button.colab-df-convert');\n",
              "        buttonEl.style.display =\n",
              "          google.colab.kernel.accessAllowed ? 'block' : 'none';\n",
              "\n",
              "        async function convertToInteractive(key) {\n",
              "          const element = document.querySelector('#df-0e6d415c-8357-4591-9423-5bdf97ae3b9e');\n",
              "          const dataTable =\n",
              "            await google.colab.kernel.invokeFunction('convertToInteractive',\n",
              "                                                     [key], {});\n",
              "          if (!dataTable) return;\n",
              "\n",
              "          const docLinkHtml = 'Like what you see? Visit the ' +\n",
              "            '<a target=\"_blank\" href=https://colab.research.google.com/notebooks/data_table.ipynb>data table notebook</a>'\n",
              "            + ' to learn more about interactive tables.';\n",
              "          element.innerHTML = '';\n",
              "          dataTable['output_type'] = 'display_data';\n",
              "          await google.colab.output.renderOutput(dataTable, element);\n",
              "          const docLink = document.createElement('div');\n",
              "          docLink.innerHTML = docLinkHtml;\n",
              "          element.appendChild(docLink);\n",
              "        }\n",
              "      </script>\n",
              "    </div>\n",
              "  </div>\n",
              "  "
            ]
          },
          "metadata": {},
          "execution_count": 153
        }
      ]
    },
    {
      "cell_type": "code",
      "source": [
        "final_table = pd.concat([versions, best_models], axis=1)\n",
        "final_table['version'] = ['v1', 'v2', 'v3', 'v4']\n",
        "final_table = final_table[['version', 'text', 'keywords', 'country', 'LR', 'RF', 'LGBM']]\n",
        "final_table"
      ],
      "metadata": {
        "colab": {
          "base_uri": "https://localhost:8080/",
          "height": 173
        },
        "id": "B4lXBoLEigsP",
        "outputId": "6df96c42-84ab-471b-f486-80c43423a87a"
      },
      "execution_count": 173,
      "outputs": [
        {
          "output_type": "execute_result",
          "data": {
            "text/plain": [
              "  version    text keywords    country        LR        RF      LGBM\n",
              "0      v1  TF-IDF   binary  frequency  0.821294  0.795816  0.823595\n",
              "1      v2   SpaCy   binary  frequency  0.823485  0.796081  0.823595\n",
              "2      v3   SpaCy    SpaCy  frequency  0.820207   0.79395  0.823595\n",
              "3      v4   SpaCy    SpaCy      SpaCy         -         -  0.841476"
            ],
            "text/html": [
              "\n",
              "  <div id=\"df-cbf1bb67-e950-4dc7-9dbb-c22e75a1f4d9\">\n",
              "    <div class=\"colab-df-container\">\n",
              "      <div>\n",
              "<style scoped>\n",
              "    .dataframe tbody tr th:only-of-type {\n",
              "        vertical-align: middle;\n",
              "    }\n",
              "\n",
              "    .dataframe tbody tr th {\n",
              "        vertical-align: top;\n",
              "    }\n",
              "\n",
              "    .dataframe thead th {\n",
              "        text-align: right;\n",
              "    }\n",
              "</style>\n",
              "<table border=\"1\" class=\"dataframe\">\n",
              "  <thead>\n",
              "    <tr style=\"text-align: right;\">\n",
              "      <th></th>\n",
              "      <th>version</th>\n",
              "      <th>text</th>\n",
              "      <th>keywords</th>\n",
              "      <th>country</th>\n",
              "      <th>LR</th>\n",
              "      <th>RF</th>\n",
              "      <th>LGBM</th>\n",
              "    </tr>\n",
              "  </thead>\n",
              "  <tbody>\n",
              "    <tr>\n",
              "      <th>0</th>\n",
              "      <td>v1</td>\n",
              "      <td>TF-IDF</td>\n",
              "      <td>binary</td>\n",
              "      <td>frequency</td>\n",
              "      <td>0.821294</td>\n",
              "      <td>0.795816</td>\n",
              "      <td>0.823595</td>\n",
              "    </tr>\n",
              "    <tr>\n",
              "      <th>1</th>\n",
              "      <td>v2</td>\n",
              "      <td>SpaCy</td>\n",
              "      <td>binary</td>\n",
              "      <td>frequency</td>\n",
              "      <td>0.823485</td>\n",
              "      <td>0.796081</td>\n",
              "      <td>0.823595</td>\n",
              "    </tr>\n",
              "    <tr>\n",
              "      <th>2</th>\n",
              "      <td>v3</td>\n",
              "      <td>SpaCy</td>\n",
              "      <td>SpaCy</td>\n",
              "      <td>frequency</td>\n",
              "      <td>0.820207</td>\n",
              "      <td>0.79395</td>\n",
              "      <td>0.823595</td>\n",
              "    </tr>\n",
              "    <tr>\n",
              "      <th>3</th>\n",
              "      <td>v4</td>\n",
              "      <td>SpaCy</td>\n",
              "      <td>SpaCy</td>\n",
              "      <td>SpaCy</td>\n",
              "      <td>-</td>\n",
              "      <td>-</td>\n",
              "      <td>0.841476</td>\n",
              "    </tr>\n",
              "  </tbody>\n",
              "</table>\n",
              "</div>\n",
              "      <button class=\"colab-df-convert\" onclick=\"convertToInteractive('df-cbf1bb67-e950-4dc7-9dbb-c22e75a1f4d9')\"\n",
              "              title=\"Convert this dataframe to an interactive table.\"\n",
              "              style=\"display:none;\">\n",
              "        \n",
              "  <svg xmlns=\"http://www.w3.org/2000/svg\" height=\"24px\"viewBox=\"0 0 24 24\"\n",
              "       width=\"24px\">\n",
              "    <path d=\"M0 0h24v24H0V0z\" fill=\"none\"/>\n",
              "    <path d=\"M18.56 5.44l.94 2.06.94-2.06 2.06-.94-2.06-.94-.94-2.06-.94 2.06-2.06.94zm-11 1L8.5 8.5l.94-2.06 2.06-.94-2.06-.94L8.5 2.5l-.94 2.06-2.06.94zm10 10l.94 2.06.94-2.06 2.06-.94-2.06-.94-.94-2.06-.94 2.06-2.06.94z\"/><path d=\"M17.41 7.96l-1.37-1.37c-.4-.4-.92-.59-1.43-.59-.52 0-1.04.2-1.43.59L10.3 9.45l-7.72 7.72c-.78.78-.78 2.05 0 2.83L4 21.41c.39.39.9.59 1.41.59.51 0 1.02-.2 1.41-.59l7.78-7.78 2.81-2.81c.8-.78.8-2.07 0-2.86zM5.41 20L4 18.59l7.72-7.72 1.47 1.35L5.41 20z\"/>\n",
              "  </svg>\n",
              "      </button>\n",
              "      \n",
              "  <style>\n",
              "    .colab-df-container {\n",
              "      display:flex;\n",
              "      flex-wrap:wrap;\n",
              "      gap: 12px;\n",
              "    }\n",
              "\n",
              "    .colab-df-convert {\n",
              "      background-color: #E8F0FE;\n",
              "      border: none;\n",
              "      border-radius: 50%;\n",
              "      cursor: pointer;\n",
              "      display: none;\n",
              "      fill: #1967D2;\n",
              "      height: 32px;\n",
              "      padding: 0 0 0 0;\n",
              "      width: 32px;\n",
              "    }\n",
              "\n",
              "    .colab-df-convert:hover {\n",
              "      background-color: #E2EBFA;\n",
              "      box-shadow: 0px 1px 2px rgba(60, 64, 67, 0.3), 0px 1px 3px 1px rgba(60, 64, 67, 0.15);\n",
              "      fill: #174EA6;\n",
              "    }\n",
              "\n",
              "    [theme=dark] .colab-df-convert {\n",
              "      background-color: #3B4455;\n",
              "      fill: #D2E3FC;\n",
              "    }\n",
              "\n",
              "    [theme=dark] .colab-df-convert:hover {\n",
              "      background-color: #434B5C;\n",
              "      box-shadow: 0px 1px 3px 1px rgba(0, 0, 0, 0.15);\n",
              "      filter: drop-shadow(0px 1px 2px rgba(0, 0, 0, 0.3));\n",
              "      fill: #FFFFFF;\n",
              "    }\n",
              "  </style>\n",
              "\n",
              "      <script>\n",
              "        const buttonEl =\n",
              "          document.querySelector('#df-cbf1bb67-e950-4dc7-9dbb-c22e75a1f4d9 button.colab-df-convert');\n",
              "        buttonEl.style.display =\n",
              "          google.colab.kernel.accessAllowed ? 'block' : 'none';\n",
              "\n",
              "        async function convertToInteractive(key) {\n",
              "          const element = document.querySelector('#df-cbf1bb67-e950-4dc7-9dbb-c22e75a1f4d9');\n",
              "          const dataTable =\n",
              "            await google.colab.kernel.invokeFunction('convertToInteractive',\n",
              "                                                     [key], {});\n",
              "          if (!dataTable) return;\n",
              "\n",
              "          const docLinkHtml = 'Like what you see? Visit the ' +\n",
              "            '<a target=\"_blank\" href=https://colab.research.google.com/notebooks/data_table.ipynb>data table notebook</a>'\n",
              "            + ' to learn more about interactive tables.';\n",
              "          element.innerHTML = '';\n",
              "          dataTable['output_type'] = 'display_data';\n",
              "          await google.colab.output.renderOutput(dataTable, element);\n",
              "          const docLink = document.createElement('div');\n",
              "          docLink.innerHTML = docLinkHtml;\n",
              "          element.appendChild(docLink);\n",
              "        }\n",
              "      </script>\n",
              "    </div>\n",
              "  </div>\n",
              "  "
            ]
          },
          "metadata": {},
          "execution_count": 173
        }
      ]
    },
    {
      "cell_type": "markdown",
      "source": [
        "*ROC curve*"
      ],
      "metadata": {
        "id": "9O7HondCdZg4"
      }
    },
    {
      "cell_type": "code",
      "source": [
        "xtrain_v3.shape"
      ],
      "metadata": {
        "colab": {
          "base_uri": "https://localhost:8080/"
        },
        "id": "sKibPe25u__i",
        "outputId": "bf2f8d3b-7a93-46b5-da6f-2ed32f4d7325"
      },
      "execution_count": 175,
      "outputs": [
        {
          "output_type": "execute_result",
          "data": {
            "text/plain": [
              "(6471, 613)"
            ]
          },
          "metadata": {},
          "execution_count": 175
        }
      ]
    },
    {
      "cell_type": "code",
      "source": [
        "xtest_v3.shape"
      ],
      "metadata": {
        "colab": {
          "base_uri": "https://localhost:8080/"
        },
        "id": "g7Q1J_OL04me",
        "outputId": "5bed2c45-716b-4210-adb2-d319bb8b394a"
      },
      "execution_count": 182,
      "outputs": [
        {
          "output_type": "execute_result",
          "data": {
            "text/plain": [
              "(7613, 614)"
            ]
          },
          "metadata": {},
          "execution_count": 182
        }
      ]
    },
    {
      "cell_type": "code",
      "source": [
        "xvalid_v3.shape"
      ],
      "metadata": {
        "colab": {
          "base_uri": "https://localhost:8080/"
        },
        "id": "u8is86HOvCaG",
        "outputId": "f4e9960a-7e05-47fd-cece-4f422f6815e4"
      },
      "execution_count": 176,
      "outputs": [
        {
          "output_type": "execute_result",
          "data": {
            "text/plain": [
              "(1142, 613)"
            ]
          },
          "metadata": {},
          "execution_count": 176
        }
      ]
    },
    {
      "cell_type": "code",
      "source": [
        "LGBM_v4"
      ],
      "metadata": {
        "colab": {
          "base_uri": "https://localhost:8080/"
        },
        "id": "12a31oNrvLhQ",
        "outputId": "9f4a5408-862b-4604-8baf-b4b64d3462b9"
      },
      "execution_count": 178,
      "outputs": [
        {
          "output_type": "execute_result",
          "data": {
            "text/plain": [
              "Pipeline(steps=[('LGBM', LGBMClassifier(max_depth=10))])"
            ]
          },
          "metadata": {},
          "execution_count": 178
        }
      ]
    },
    {
      "cell_type": "code",
      "source": [
        "#predicting results with the best models\n",
        "LR_v1 = searches_v2[0].best_estimator_\n",
        "LGBM_v3 = searches_v3[2].best_estimator_\n",
        "LGBM_v4 = search_v4.best_estimator_\n",
        "\n",
        "yscore_LR = LR_v1.predict_proba(xvalid_v1)\n",
        "yscore_LGBMv3 = LGBM_v3.predict_proba(xvalid_v3)\n",
        "yscore_LGBMv4 = LGBM_v4.predict_proba(xvalid_v4)"
      ],
      "metadata": {
        "colab": {
          "base_uri": "https://localhost:8080/",
          "height": 683
        },
        "id": "6RMcVf9_s5Vx",
        "outputId": "2d362fb1-bc68-43ac-fbf5-66666a36fb69"
      },
      "execution_count": 192,
      "outputs": [
        {
          "output_type": "stream",
          "name": "stderr",
          "text": [
            "/usr/local/lib/python3.7/dist-packages/sklearn/base.py:493: FutureWarning: The feature names should match those that were passed during fit. Starting version 1.2, an error will be raised.\n",
            "Feature names unseen at fit time:\n",
            "- aa\n",
            "- ab\n",
            "- aba\n",
            "- abandon\n",
            "- abandoned\n",
            "- ...\n",
            "Feature names seen at fit time, yet now missing:\n",
            "- txt1\n",
            "- txt10\n",
            "- txt100\n",
            "- txt101\n",
            "- txt102\n",
            "- ...\n",
            "\n",
            "  warnings.warn(message, FutureWarning)\n"
          ]
        },
        {
          "output_type": "error",
          "ename": "ValueError",
          "evalue": "ignored",
          "traceback": [
            "\u001b[0;31m---------------------------------------------------------------------------\u001b[0m",
            "\u001b[0;31mValueError\u001b[0m                                Traceback (most recent call last)",
            "\u001b[0;32m<ipython-input-192-dad285448ac8>\u001b[0m in \u001b[0;36m<module>\u001b[0;34m\u001b[0m\n\u001b[1;32m      4\u001b[0m \u001b[0mLGBM_v4\u001b[0m \u001b[0;34m=\u001b[0m \u001b[0msearch_v4\u001b[0m\u001b[0;34m.\u001b[0m\u001b[0mbest_estimator_\u001b[0m\u001b[0;34m\u001b[0m\u001b[0;34m\u001b[0m\u001b[0m\n\u001b[1;32m      5\u001b[0m \u001b[0;34m\u001b[0m\u001b[0m\n\u001b[0;32m----> 6\u001b[0;31m \u001b[0myscore_LR\u001b[0m \u001b[0;34m=\u001b[0m \u001b[0mLR_v1\u001b[0m\u001b[0;34m.\u001b[0m\u001b[0mpredict_proba\u001b[0m\u001b[0;34m(\u001b[0m\u001b[0mxvalid_v1\u001b[0m\u001b[0;34m)\u001b[0m\u001b[0;34m\u001b[0m\u001b[0;34m\u001b[0m\u001b[0m\n\u001b[0m\u001b[1;32m      7\u001b[0m \u001b[0myscore_LGBMv3\u001b[0m \u001b[0;34m=\u001b[0m \u001b[0mLGBM_v3\u001b[0m\u001b[0;34m.\u001b[0m\u001b[0mpredict_proba\u001b[0m\u001b[0;34m(\u001b[0m\u001b[0mxvalid_v3\u001b[0m\u001b[0;34m)\u001b[0m\u001b[0;34m\u001b[0m\u001b[0;34m\u001b[0m\u001b[0m\n\u001b[1;32m      8\u001b[0m \u001b[0myscore_LGBMv4\u001b[0m \u001b[0;34m=\u001b[0m \u001b[0mLGBM_v4\u001b[0m\u001b[0;34m.\u001b[0m\u001b[0mpredict_proba\u001b[0m\u001b[0;34m(\u001b[0m\u001b[0mxvalid_v4\u001b[0m\u001b[0;34m)\u001b[0m\u001b[0;34m\u001b[0m\u001b[0;34m\u001b[0m\u001b[0m\n",
            "\u001b[0;32m/usr/local/lib/python3.7/dist-packages/sklearn/utils/metaestimators.py\u001b[0m in \u001b[0;36m<lambda>\u001b[0;34m(*args, **kwargs)\u001b[0m\n\u001b[1;32m    111\u001b[0m \u001b[0;34m\u001b[0m\u001b[0m\n\u001b[1;32m    112\u001b[0m             \u001b[0;31m# lambda, but not partial, allows help() to work with update_wrapper\u001b[0m\u001b[0;34m\u001b[0m\u001b[0;34m\u001b[0m\u001b[0;34m\u001b[0m\u001b[0m\n\u001b[0;32m--> 113\u001b[0;31m             \u001b[0mout\u001b[0m \u001b[0;34m=\u001b[0m \u001b[0;32mlambda\u001b[0m \u001b[0;34m*\u001b[0m\u001b[0margs\u001b[0m\u001b[0;34m,\u001b[0m \u001b[0;34m**\u001b[0m\u001b[0mkwargs\u001b[0m\u001b[0;34m:\u001b[0m \u001b[0mself\u001b[0m\u001b[0;34m.\u001b[0m\u001b[0mfn\u001b[0m\u001b[0;34m(\u001b[0m\u001b[0mobj\u001b[0m\u001b[0;34m,\u001b[0m \u001b[0;34m*\u001b[0m\u001b[0margs\u001b[0m\u001b[0;34m,\u001b[0m \u001b[0;34m**\u001b[0m\u001b[0mkwargs\u001b[0m\u001b[0;34m)\u001b[0m  \u001b[0;31m# noqa\u001b[0m\u001b[0;34m\u001b[0m\u001b[0;34m\u001b[0m\u001b[0m\n\u001b[0m\u001b[1;32m    114\u001b[0m         \u001b[0;32melse\u001b[0m\u001b[0;34m:\u001b[0m\u001b[0;34m\u001b[0m\u001b[0;34m\u001b[0m\u001b[0m\n\u001b[1;32m    115\u001b[0m \u001b[0;34m\u001b[0m\u001b[0m\n",
            "\u001b[0;32m/usr/local/lib/python3.7/dist-packages/sklearn/pipeline.py\u001b[0m in \u001b[0;36mpredict_proba\u001b[0;34m(self, X, **predict_proba_params)\u001b[0m\n\u001b[1;32m    533\u001b[0m         \u001b[0mXt\u001b[0m \u001b[0;34m=\u001b[0m \u001b[0mX\u001b[0m\u001b[0;34m\u001b[0m\u001b[0;34m\u001b[0m\u001b[0m\n\u001b[1;32m    534\u001b[0m         \u001b[0;32mfor\u001b[0m \u001b[0m_\u001b[0m\u001b[0;34m,\u001b[0m \u001b[0mname\u001b[0m\u001b[0;34m,\u001b[0m \u001b[0mtransform\u001b[0m \u001b[0;32min\u001b[0m \u001b[0mself\u001b[0m\u001b[0;34m.\u001b[0m\u001b[0m_iter\u001b[0m\u001b[0;34m(\u001b[0m\u001b[0mwith_final\u001b[0m\u001b[0;34m=\u001b[0m\u001b[0;32mFalse\u001b[0m\u001b[0;34m)\u001b[0m\u001b[0;34m:\u001b[0m\u001b[0;34m\u001b[0m\u001b[0;34m\u001b[0m\u001b[0m\n\u001b[0;32m--> 535\u001b[0;31m             \u001b[0mXt\u001b[0m \u001b[0;34m=\u001b[0m \u001b[0mtransform\u001b[0m\u001b[0;34m.\u001b[0m\u001b[0mtransform\u001b[0m\u001b[0;34m(\u001b[0m\u001b[0mXt\u001b[0m\u001b[0;34m)\u001b[0m\u001b[0;34m\u001b[0m\u001b[0;34m\u001b[0m\u001b[0m\n\u001b[0m\u001b[1;32m    536\u001b[0m         \u001b[0;32mreturn\u001b[0m \u001b[0mself\u001b[0m\u001b[0;34m.\u001b[0m\u001b[0msteps\u001b[0m\u001b[0;34m[\u001b[0m\u001b[0;34m-\u001b[0m\u001b[0;36m1\u001b[0m\u001b[0;34m]\u001b[0m\u001b[0;34m[\u001b[0m\u001b[0;36m1\u001b[0m\u001b[0;34m]\u001b[0m\u001b[0;34m.\u001b[0m\u001b[0mpredict_proba\u001b[0m\u001b[0;34m(\u001b[0m\u001b[0mXt\u001b[0m\u001b[0;34m,\u001b[0m \u001b[0;34m**\u001b[0m\u001b[0mpredict_proba_params\u001b[0m\u001b[0;34m)\u001b[0m\u001b[0;34m\u001b[0m\u001b[0;34m\u001b[0m\u001b[0m\n\u001b[1;32m    537\u001b[0m \u001b[0;34m\u001b[0m\u001b[0m\n",
            "\u001b[0;32m/usr/local/lib/python3.7/dist-packages/sklearn/preprocessing/_data.py\u001b[0m in \u001b[0;36mtransform\u001b[0;34m(self, X, copy)\u001b[0m\n\u001b[1;32m    978\u001b[0m             \u001b[0mestimator\u001b[0m\u001b[0;34m=\u001b[0m\u001b[0mself\u001b[0m\u001b[0;34m,\u001b[0m\u001b[0;34m\u001b[0m\u001b[0;34m\u001b[0m\u001b[0m\n\u001b[1;32m    979\u001b[0m             \u001b[0mdtype\u001b[0m\u001b[0;34m=\u001b[0m\u001b[0mFLOAT_DTYPES\u001b[0m\u001b[0;34m,\u001b[0m\u001b[0;34m\u001b[0m\u001b[0;34m\u001b[0m\u001b[0m\n\u001b[0;32m--> 980\u001b[0;31m             \u001b[0mforce_all_finite\u001b[0m\u001b[0;34m=\u001b[0m\u001b[0;34m\"allow-nan\"\u001b[0m\u001b[0;34m,\u001b[0m\u001b[0;34m\u001b[0m\u001b[0;34m\u001b[0m\u001b[0m\n\u001b[0m\u001b[1;32m    981\u001b[0m         )\n\u001b[1;32m    982\u001b[0m \u001b[0;34m\u001b[0m\u001b[0m\n",
            "\u001b[0;32m/usr/local/lib/python3.7/dist-packages/sklearn/base.py\u001b[0m in \u001b[0;36m_validate_data\u001b[0;34m(self, X, y, reset, validate_separately, **check_params)\u001b[0m\n\u001b[1;32m    583\u001b[0m \u001b[0;34m\u001b[0m\u001b[0m\n\u001b[1;32m    584\u001b[0m         \u001b[0;32mif\u001b[0m \u001b[0;32mnot\u001b[0m \u001b[0mno_val_X\u001b[0m \u001b[0;32mand\u001b[0m \u001b[0mcheck_params\u001b[0m\u001b[0;34m.\u001b[0m\u001b[0mget\u001b[0m\u001b[0;34m(\u001b[0m\u001b[0;34m\"ensure_2d\"\u001b[0m\u001b[0;34m,\u001b[0m \u001b[0;32mTrue\u001b[0m\u001b[0;34m)\u001b[0m\u001b[0;34m:\u001b[0m\u001b[0;34m\u001b[0m\u001b[0;34m\u001b[0m\u001b[0m\n\u001b[0;32m--> 585\u001b[0;31m             \u001b[0mself\u001b[0m\u001b[0;34m.\u001b[0m\u001b[0m_check_n_features\u001b[0m\u001b[0;34m(\u001b[0m\u001b[0mX\u001b[0m\u001b[0;34m,\u001b[0m \u001b[0mreset\u001b[0m\u001b[0;34m=\u001b[0m\u001b[0mreset\u001b[0m\u001b[0;34m)\u001b[0m\u001b[0;34m\u001b[0m\u001b[0;34m\u001b[0m\u001b[0m\n\u001b[0m\u001b[1;32m    586\u001b[0m \u001b[0;34m\u001b[0m\u001b[0m\n\u001b[1;32m    587\u001b[0m         \u001b[0;32mreturn\u001b[0m \u001b[0mout\u001b[0m\u001b[0;34m\u001b[0m\u001b[0;34m\u001b[0m\u001b[0m\n",
            "\u001b[0;32m/usr/local/lib/python3.7/dist-packages/sklearn/base.py\u001b[0m in \u001b[0;36m_check_n_features\u001b[0;34m(self, X, reset)\u001b[0m\n\u001b[1;32m    399\u001b[0m         \u001b[0;32mif\u001b[0m \u001b[0mn_features\u001b[0m \u001b[0;34m!=\u001b[0m \u001b[0mself\u001b[0m\u001b[0;34m.\u001b[0m\u001b[0mn_features_in_\u001b[0m\u001b[0;34m:\u001b[0m\u001b[0;34m\u001b[0m\u001b[0;34m\u001b[0m\u001b[0m\n\u001b[1;32m    400\u001b[0m             raise ValueError(\n\u001b[0;32m--> 401\u001b[0;31m                 \u001b[0;34mf\"X has {n_features} features, but {self.__class__.__name__} \"\u001b[0m\u001b[0;34m\u001b[0m\u001b[0;34m\u001b[0m\u001b[0m\n\u001b[0m\u001b[1;32m    402\u001b[0m                 \u001b[0;34mf\"is expecting {self.n_features_in_} features as input.\"\u001b[0m\u001b[0;34m\u001b[0m\u001b[0;34m\u001b[0m\u001b[0m\n\u001b[1;32m    403\u001b[0m             )\n",
            "\u001b[0;31mValueError\u001b[0m: X has 7191 features, but StandardScaler is expecting 313 features as input."
          ]
        }
      ]
    },
    {
      "cell_type": "code",
      "source": [
        "#Compute ROC curve and ROC area for each class\n",
        "\n",
        "fpr = dict()  #False Positive Rates\n",
        "tpr = dict()  #True Positive Rates\n",
        "roc_auc = dict()\n",
        "\n",
        "# generate a no skill (ns) prediction (majority class) \n",
        "ns_probs = [0 for _ in range(len(yvalid_v3))]\n",
        "\n",
        "# calculate scores\n",
        "ns_auc = roc_auc_score(yvalid_v3, ns_probs)\n",
        "LR_auc = roc_auc_score(y_valid_v2, y_score_LR)\n",
        "RF_auc = roc_auc_score(y_valid, y_score_RF)\n",
        "NB_auc = roc_auc_score(y_valid, y_score_NB)\n",
        "\n",
        "# calculate roc curves\n",
        "ns_fpr, ns_tpr, _ = roc_curve(y_valid, ns_probs)\n",
        "lr_fpr, lr_tpr, _ = roc_curve(y_valid, y_score_LR)\n",
        "rf_fpr, rf_tpr, _ = roc_curve(y_valid, y_score_RF)\n",
        "nb_fpr, nb_tpr, _ = roc_curve(y_valid, y_score_NB)\n",
        "\n",
        "\n",
        "# summarize scores\n",
        "print('Logistic: ROC AUC=%.3f' % (LR_auc))\n",
        "print('Regression: ROC AUC=%.3f' % (RF_auc))\n",
        "print('Naive Bayes: ROC AUC=%.3f' % (NB_auc))"
      ],
      "metadata": {
        "id": "XixjHMBldLu6"
      },
      "execution_count": null,
      "outputs": []
    },
    {
      "cell_type": "code",
      "source": [],
      "metadata": {
        "id": "LMWC1ouqdbvx"
      },
      "execution_count": null,
      "outputs": []
    },
    {
      "cell_type": "code",
      "source": [
        "from matplotlib.gridspec import GridSpec\n",
        "from sklearn.calibration import CalibrationDisplay"
      ],
      "metadata": {
        "id": "vlXSYTbKYEm3"
      },
      "execution_count": null,
      "outputs": []
    },
    {
      "cell_type": "code",
      "source": [
        "import shap "
      ],
      "metadata": {
        "id": "SG0ZXBfMcfVf"
      },
      "execution_count": null,
      "outputs": []
    },
    {
      "cell_type": "code",
      "source": [
        "# Fits the explainer\n",
        "explainer = shap.Explainer(method.predict, xtest)"
      ],
      "metadata": {
        "id": "h6mwAIy9cxiZ"
      },
      "execution_count": null,
      "outputs": []
    },
    {
      "cell_type": "code",
      "source": [
        "# Calculates the SHAP values - It takes some time\n",
        "shap_values = explainer(xtest)"
      ],
      "metadata": {
        "id": "uyY2i9JXcrw8"
      },
      "execution_count": null,
      "outputs": []
    },
    {
      "cell_type": "markdown",
      "source": [
        "*Evaluating the global effect of values*\n",
        "\n",
        "Here the features are ordered from the highest to the lowest effect on the prediction. It takes in account the absolute SHAP value, so it does not matter if the feature affects the prediction in a positive or negative way."
      ],
      "metadata": {
        "id": "-ofz-Q-Uc8RO"
      }
    },
    {
      "cell_type": "code",
      "source": [
        "shap.plots.bar(shap_values)"
      ],
      "metadata": {
        "id": "vic01WUfc0c-"
      },
      "execution_count": null,
      "outputs": []
    },
    {
      "cell_type": "code",
      "source": [
        "shap.summary_plot(shap_values, plot_type='violin')"
      ],
      "metadata": {
        "id": "oCHZQK-zc4CT"
      },
      "execution_count": null,
      "outputs": []
    },
    {
      "cell_type": "code",
      "source": [],
      "metadata": {
        "id": "QZlrUZD9dBcK"
      },
      "execution_count": null,
      "outputs": []
    }
  ],
  "metadata": {
    "kernelspec": {
      "display_name": "Python 3",
      "language": "python",
      "name": "python3"
    },
    "language_info": {
      "codemirror_mode": {
        "name": "ipython",
        "version": 3
      },
      "file_extension": ".py",
      "mimetype": "text/x-python",
      "name": "python",
      "nbconvert_exporter": "python",
      "pygments_lexer": "ipython3",
      "version": "3.8.5"
    },
    "colab": {
      "name": "NLP Tweet Disaster.ipynb",
      "provenance": [],
      "include_colab_link": true
    }
  },
  "nbformat": 4,
  "nbformat_minor": 0
}